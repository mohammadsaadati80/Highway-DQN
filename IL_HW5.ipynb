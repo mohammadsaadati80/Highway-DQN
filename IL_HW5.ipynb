{
  "cells": [
    {
      "cell_type": "markdown",
      "id": "ac1cb838",
      "metadata": {
        "id": "ac1cb838"
      },
      "source": [
        "<br><br>\n",
        "\n",
        "<font color=#191347 ><font>\n",
        "<p style = \"font-family:times;\">\n",
        "    <font size=\"7\">\n",
        "        Interactive Learning \n",
        "    </font>    \n",
        "</p>\n",
        "\n",
        "<br>\n",
        "    \n",
        "<font color=#ed1c24><font>\n",
        "<p style = \"font-family:optima;\">\n",
        "    <font size=\"6\">\n",
        "        Homework #5\n",
        "    </font>    \n",
        "<font color=#000000> <font>\n",
        "</p>\n",
        "\n",
        "> $\\textit{Mohammad Saadati - 810198410}$"
      ]
    },
    {
      "cell_type": "markdown",
      "id": "2ff047b5",
      "metadata": {
        "id": "2ff047b5"
      },
      "source": [
        "# Table of Contents\n",
        "\n",
        "- [Packages](#0)\n",
        "- [Part 1](#1)\n",
        "    - [States, Actions, Reward](#1-1)\n",
        "    - [Continuous & Discrete](#1-2)\n",
        "- [Part 2](#2)\n",
        "    - [Deep Q-Learning](#2-1)\n",
        "    - [Reward](#2-2)\n",
        "    - [Render](#2-3)\n",
        "    - [Hyperparameters](#2-4)\n",
        "- [Part 3](#3)\n",
        "    - [Result](#3-1)\n",
        "- [Part 4](#4)\n",
        "    - [DQN with Prioritized Replay Buffer](#4-1)\n",
        "    - [Reward](#4-2)"
      ]
    },
    {
      "cell_type": "markdown",
      "id": "01beeea4",
      "metadata": {
        "id": "01beeea4"
      },
      "source": [
        "<a name='0'></a>\n",
        "## Packages\n",
        "\n",
        "Run the following cell to load the packages you'll need."
      ]
    },
    {
      "cell_type": "code",
      "execution_count": null,
      "id": "c241c39b",
      "metadata": {
        "colab": {
          "base_uri": "https://localhost:8080/"
        },
        "id": "c241c39b",
        "outputId": "b8735c29-ff03-40b2-d2e2-7078858b24e9"
      },
      "outputs": [
        {
          "output_type": "stream",
          "name": "stdout",
          "text": [
            "Looking in indexes: https://pypi.org/simple, https://us-python.pkg.dev/colab-wheels/public/simple/\n",
            "Requirement already satisfied: gym in /usr/local/lib/python3.8/dist-packages (0.25.2)\n",
            "Requirement already satisfied: gym-notices>=0.0.4 in /usr/local/lib/python3.8/dist-packages (from gym) (0.0.8)\n",
            "Requirement already satisfied: numpy>=1.18.0 in /usr/local/lib/python3.8/dist-packages (from gym) (1.21.6)\n",
            "Requirement already satisfied: importlib-metadata>=4.8.0 in /usr/local/lib/python3.8/dist-packages (from gym) (6.0.0)\n",
            "Requirement already satisfied: cloudpickle>=1.2.0 in /usr/local/lib/python3.8/dist-packages (from gym) (2.2.1)\n",
            "Requirement already satisfied: zipp>=0.5 in /usr/local/lib/python3.8/dist-packages (from importlib-metadata>=4.8.0->gym) (3.12.0)\n",
            "Looking in indexes: https://pypi.org/simple, https://us-python.pkg.dev/colab-wheels/public/simple/\n",
            "Collecting highway-env\n",
            "  Downloading highway_env-1.7.1-py3-none-any.whl (103 kB)\n",
            "\u001b[2K     \u001b[90m━━━━━━━━━━━━━━━━━━━━━━━━━━━━━━━━━━━━━━━\u001b[0m \u001b[32m103.3/103.3 KB\u001b[0m \u001b[31m5.1 MB/s\u001b[0m eta \u001b[36m0:00:00\u001b[0m\n",
            "\u001b[?25hCollecting gym>=0.26\n",
            "  Downloading gym-0.26.2.tar.gz (721 kB)\n",
            "\u001b[2K     \u001b[90m━━━━━━━━━━━━━━━━━━━━━━━━━━━━━━━━━━━━━━\u001b[0m \u001b[32m721.7/721.7 KB\u001b[0m \u001b[31m29.2 MB/s\u001b[0m eta \u001b[36m0:00:00\u001b[0m\n",
            "\u001b[?25h  Installing build dependencies ... \u001b[?25l\u001b[?25hdone\n",
            "  Getting requirements to build wheel ... \u001b[?25l\u001b[?25hdone\n",
            "  Preparing metadata (pyproject.toml) ... \u001b[?25l\u001b[?25hdone\n",
            "Requirement already satisfied: numpy in /usr/local/lib/python3.8/dist-packages (from highway-env) (1.21.6)\n",
            "Requirement already satisfied: matplotlib in /usr/local/lib/python3.8/dist-packages (from highway-env) (3.2.2)\n",
            "Collecting pygame>=2.0.2\n",
            "  Downloading pygame-2.1.2-cp38-cp38-manylinux_2_17_x86_64.manylinux2014_x86_64.whl (21.8 MB)\n",
            "\u001b[2K     \u001b[90m━━━━━━━━━━━━━━━━━━━━━━━━━━━━━━━━━━━━━━━━\u001b[0m \u001b[32m21.8/21.8 MB\u001b[0m \u001b[31m46.2 MB/s\u001b[0m eta \u001b[36m0:00:00\u001b[0m\n",
            "\u001b[?25hRequirement already satisfied: pandas in /usr/local/lib/python3.8/dist-packages (from highway-env) (1.3.5)\n",
            "Requirement already satisfied: scipy in /usr/local/lib/python3.8/dist-packages (from highway-env) (1.7.3)\n",
            "Requirement already satisfied: importlib-metadata>=4.8.0 in /usr/local/lib/python3.8/dist-packages (from gym>=0.26->highway-env) (6.0.0)\n",
            "Requirement already satisfied: gym-notices>=0.0.4 in /usr/local/lib/python3.8/dist-packages (from gym>=0.26->highway-env) (0.0.8)\n",
            "Requirement already satisfied: cloudpickle>=1.2.0 in /usr/local/lib/python3.8/dist-packages (from gym>=0.26->highway-env) (2.2.1)\n",
            "Requirement already satisfied: kiwisolver>=1.0.1 in /usr/local/lib/python3.8/dist-packages (from matplotlib->highway-env) (1.4.4)\n",
            "Requirement already satisfied: cycler>=0.10 in /usr/local/lib/python3.8/dist-packages (from matplotlib->highway-env) (0.11.0)\n",
            "Requirement already satisfied: python-dateutil>=2.1 in /usr/local/lib/python3.8/dist-packages (from matplotlib->highway-env) (2.8.2)\n",
            "Requirement already satisfied: pyparsing!=2.0.4,!=2.1.2,!=2.1.6,>=2.0.1 in /usr/local/lib/python3.8/dist-packages (from matplotlib->highway-env) (3.0.9)\n",
            "Requirement already satisfied: pytz>=2017.3 in /usr/local/lib/python3.8/dist-packages (from pandas->highway-env) (2022.7.1)\n",
            "Requirement already satisfied: zipp>=0.5 in /usr/local/lib/python3.8/dist-packages (from importlib-metadata>=4.8.0->gym>=0.26->highway-env) (3.12.0)\n",
            "Requirement already satisfied: six>=1.5 in /usr/local/lib/python3.8/dist-packages (from python-dateutil>=2.1->matplotlib->highway-env) (1.15.0)\n",
            "Building wheels for collected packages: gym\n",
            "  Building wheel for gym (pyproject.toml) ... \u001b[?25l\u001b[?25hdone\n",
            "  Created wheel for gym: filename=gym-0.26.2-py3-none-any.whl size=827649 sha256=f3b13335244be72b23b1e3a0c41cc80f1a2b81878295ffc189faec1336c5729f\n",
            "  Stored in directory: /root/.cache/pip/wheels/17/79/65/7afedc162d858b02708a3b8f7a6dd5b1000dcd5b0f894f7cc1\n",
            "Successfully built gym\n",
            "Installing collected packages: pygame, gym, highway-env\n",
            "  Attempting uninstall: gym\n",
            "    Found existing installation: gym 0.25.2\n",
            "    Uninstalling gym-0.25.2:\n",
            "      Successfully uninstalled gym-0.25.2\n",
            "Successfully installed gym-0.26.2 highway-env-1.7.1 pygame-2.1.2\n"
          ]
        }
      ],
      "source": [
        "! pip install gym\n",
        "! pip install highway-env\n",
        "import gym\n",
        "import highway_env\n",
        "\n",
        "import time\n",
        "import random\n",
        "from collections import namedtuple, deque\n",
        "import torch.nn as nn\n",
        "import torch.nn.functional as F\n",
        "import numpy as np\n",
        "import torch\n",
        "import torch.optim as optim\n",
        "import matplotlib.pyplot as plt\n",
        "import numpy as np\n",
        "import seaborn as sns\n",
        "import keras\n",
        "from tensorflow.keras import *\n",
        "from tensorflow.keras.utils import *\n",
        "from copy import deepcopy"
      ]
    },
    {
      "cell_type": "code",
      "execution_count": null,
      "id": "IhtGxYu_0eOE",
      "metadata": {
        "id": "IhtGxYu_0eOE"
      },
      "outputs": [],
      "source": [
        "# !pip install pygame \n",
        "\n",
        "# import os\n",
        "# os.environ['SDL_VIDEODRIVER']='dummy'\n",
        "# import pygame\n",
        "# pygame.display.set_mode((640,480))"
      ]
    },
    {
      "cell_type": "markdown",
      "id": "d446a86e",
      "metadata": {
        "id": "d446a86e"
      },
      "source": [
        "<a name='1'></a>\n",
        "# Part 1"
      ]
    },
    {
      "cell_type": "code",
      "execution_count": null,
      "id": "39-12Gfp43ML",
      "metadata": {
        "colab": {
          "base_uri": "https://localhost:8080/"
        },
        "id": "39-12Gfp43ML",
        "outputId": "0395161a-912a-42c0-94a5-b13cd3ce3c32"
      },
      "outputs": [
        {
          "output_type": "stream",
          "name": "stderr",
          "text": [
            "/usr/local/lib/python3.8/dist-packages/gym/utils/passive_env_checker.py:31: UserWarning: \u001b[33mWARN: A Box observation space has an unconventional shape (neither an image, nor a 1D vector). We recommend flattening the observation to have only a 1D vector or use a custom policy to properly process the data. Actual observation shape: (5, 5)\u001b[0m\n",
            "  logger.warn(\n"
          ]
        },
        {
          "output_type": "execute_result",
          "data": {
            "text/plain": [
              "(5, 5)"
            ]
          },
          "metadata": {},
          "execution_count": 3
        }
      ],
      "source": [
        "env = gym.make(\"highway-v0\")\n",
        "state_size = env.observation_space.shape[0]\n",
        "action_size = env.action_space.n\n",
        "state_size, action_size "
      ]
    },
    {
      "cell_type": "markdown",
      "id": "634e18a7",
      "metadata": {
        "id": "634e18a7"
      },
      "source": [
        "<a name='1-1'></a>\n",
        "## States, Actions, Reward"
      ]
    },
    {
      "cell_type": "code",
      "execution_count": null,
      "id": "a4b3b3d1",
      "metadata": {
        "colab": {
          "base_uri": "https://localhost:8080/"
        },
        "id": "a4b3b3d1",
        "outputId": "0b08fc8c-93f6-4c6d-cfc9-e82535ed8209"
      },
      "outputs": [
        {
          "output_type": "execute_result",
          "data": {
            "text/plain": [
              "(array([[ 1.        ,  0.91337574,  0.75      ,  0.3125    ,  0.        ],\n",
              "        [ 1.        ,  0.11083002, -0.25      , -0.01942983,  0.        ],\n",
              "        [ 1.        ,  0.21481097, -0.5       , -0.04137274,  0.        ],\n",
              "        [ 1.        ,  0.32364187, -0.75      , -0.02599965,  0.        ],\n",
              "        [ 1.        ,  0.42045397, -0.75      , -0.02693709,  0.        ]],\n",
              "       dtype=float32),\n",
              " {'speed': 25,\n",
              "  'crashed': False,\n",
              "  'action': 1,\n",
              "  'rewards': {'collision_reward': 0.0,\n",
              "   'right_lane_reward': 1.0,\n",
              "   'high_speed_reward': 0.5,\n",
              "   'on_road_reward': 1.0}})"
            ]
          },
          "metadata": {},
          "execution_count": 4
        }
      ],
      "source": [
        "env.reset()"
      ]
    },
    {
      "cell_type": "code",
      "execution_count": null,
      "id": "nRvwFOWt_PZx",
      "metadata": {
        "id": "nRvwFOWt_PZx"
      },
      "outputs": [],
      "source": [
        "action = env.action_type.actions_indexes[\"IDLE\"]\n",
        "obs, reward, done, truncated, info = env.step(action)"
      ]
    },
    {
      "cell_type": "code",
      "execution_count": null,
      "id": "e3RWMAvb2pL5",
      "metadata": {
        "colab": {
          "base_uri": "https://localhost:8080/"
        },
        "id": "e3RWMAvb2pL5",
        "outputId": "880b2535-b65b-4599-832a-29bf21904624"
      },
      "outputs": [
        {
          "output_type": "execute_result",
          "data": {
            "text/plain": [
              "array([[ 1.        ,  1.        ,  0.75      ,  0.3125    ,  0.        ],\n",
              "       [ 1.        ,  0.10173588, -0.25      , -0.0259383 ,  0.        ],\n",
              "       [ 1.        ,  0.19605842, -0.5       , -0.05235818,  0.        ],\n",
              "       [ 1.        ,  0.29961362, -0.75      , -0.09200355,  0.        ],\n",
              "       [ 1.        ,  0.40786678, -0.75      , -0.03602759,  0.        ]],\n",
              "      dtype=float32)"
            ]
          },
          "metadata": {},
          "execution_count": 6
        }
      ],
      "source": [
        "obs "
      ]
    },
    {
      "cell_type": "code",
      "execution_count": null,
      "id": "x6xSIHZlArjt",
      "metadata": {
        "colab": {
          "base_uri": "https://localhost:8080/"
        },
        "id": "x6xSIHZlArjt",
        "outputId": "a6580f43-2265-4bf9-d653-60cb2eb64384"
      },
      "outputs": [
        {
          "output_type": "execute_result",
          "data": {
            "text/plain": [
              "0.8666666666666667"
            ]
          },
          "metadata": {},
          "execution_count": 7
        }
      ],
      "source": [
        "reward"
      ]
    },
    {
      "cell_type": "code",
      "execution_count": null,
      "id": "hobor0AtAsuU",
      "metadata": {
        "colab": {
          "base_uri": "https://localhost:8080/"
        },
        "id": "hobor0AtAsuU",
        "outputId": "8eb896ab-4d49-484d-8b8a-71c7d45e306b"
      },
      "outputs": [
        {
          "output_type": "execute_result",
          "data": {
            "text/plain": [
              "False"
            ]
          },
          "metadata": {},
          "execution_count": 8
        }
      ],
      "source": [
        "done"
      ]
    },
    {
      "cell_type": "code",
      "execution_count": null,
      "id": "iPPcwIUAAtbc",
      "metadata": {
        "colab": {
          "base_uri": "https://localhost:8080/"
        },
        "id": "iPPcwIUAAtbc",
        "outputId": "b6041e58-32b7-4378-8333-400a5732bfa7"
      },
      "outputs": [
        {
          "output_type": "execute_result",
          "data": {
            "text/plain": [
              "False"
            ]
          },
          "metadata": {},
          "execution_count": 9
        }
      ],
      "source": [
        "truncated"
      ]
    },
    {
      "cell_type": "code",
      "execution_count": null,
      "id": "cisnVh_gAzTJ",
      "metadata": {
        "colab": {
          "base_uri": "https://localhost:8080/"
        },
        "id": "cisnVh_gAzTJ",
        "outputId": "d326a9af-5d04-4735-de48-99710602c94d"
      },
      "outputs": [
        {
          "output_type": "execute_result",
          "data": {
            "text/plain": [
              "{'speed': 25.0,\n",
              " 'crashed': False,\n",
              " 'action': 1,\n",
              " 'rewards': {'collision_reward': 0.0,\n",
              "  'right_lane_reward': 1.0,\n",
              "  'high_speed_reward': 0.5,\n",
              "  'on_road_reward': 1.0}}"
            ]
          },
          "metadata": {},
          "execution_count": 10
        }
      ],
      "source": [
        "info"
      ]
    },
    {
      "cell_type": "markdown",
      "id": "6b222752",
      "metadata": {
        "id": "6b222752"
      },
      "source": [
        "<a name='1-2'></a>\n",
        "## Continuous & Discrete"
      ]
    },
    {
      "cell_type": "code",
      "execution_count": null,
      "id": "a9dfb915",
      "metadata": {
        "colab": {
          "base_uri": "https://localhost:8080/"
        },
        "id": "a9dfb915",
        "outputId": "367beb4a-5ec6-40eb-aafa-284f22cbe5db"
      },
      "outputs": [
        {
          "output_type": "execute_result",
          "data": {
            "text/plain": [
              "Discrete(5)"
            ]
          },
          "metadata": {},
          "execution_count": 11
        }
      ],
      "source": [
        "env.action_space"
      ]
    },
    {
      "cell_type": "code",
      "execution_count": null,
      "id": "aP8bYKAb6W2H",
      "metadata": {
        "colab": {
          "base_uri": "https://localhost:8080/"
        },
        "id": "aP8bYKAb6W2H",
        "outputId": "eff90e54-d9dc-43c9-cddd-25d3e542e3b0"
      },
      "outputs": [
        {
          "output_type": "execute_result",
          "data": {
            "text/plain": [
              "Box(-inf, inf, (5, 5), float32)"
            ]
          },
          "metadata": {},
          "execution_count": 12
        }
      ],
      "source": [
        "env.observation_space"
      ]
    },
    {
      "cell_type": "code",
      "execution_count": null,
      "id": "o_K0rUbi6fii",
      "metadata": {
        "colab": {
          "base_uri": "https://localhost:8080/"
        },
        "id": "o_K0rUbi6fii",
        "outputId": "ae44828a-65d2-4524-dd03-2e57e2bf6211"
      },
      "outputs": [
        {
          "output_type": "execute_result",
          "data": {
            "text/plain": [
              "5"
            ]
          },
          "metadata": {},
          "execution_count": 13
        }
      ],
      "source": [
        "env.observation_space.shape[0]"
      ]
    },
    {
      "cell_type": "markdown",
      "id": "47fefa1f",
      "metadata": {
        "id": "47fefa1f"
      },
      "source": [
        "<a name='2'></a>\n",
        "# Part 2"
      ]
    },
    {
      "cell_type": "code",
      "execution_count": null,
      "id": "11cb9225",
      "metadata": {
        "colab": {
          "base_uri": "https://localhost:8080/"
        },
        "id": "11cb9225",
        "outputId": "7d3c81e9-f9e0-4154-b155-b793229f7cea"
      },
      "outputs": [
        {
          "output_type": "execute_result",
          "data": {
            "text/plain": [
              "device(type='cuda')"
            ]
          },
          "metadata": {},
          "execution_count": 14
        }
      ],
      "source": [
        "device = torch.device(\"cuda\" if torch.cuda.is_available() else \"cpu\")\n",
        "device"
      ]
    },
    {
      "cell_type": "code",
      "execution_count": null,
      "id": "HyqpEEa45feU",
      "metadata": {
        "colab": {
          "base_uri": "https://localhost:8080/"
        },
        "id": "HyqpEEa45feU",
        "outputId": "b697a61d-bf14-4239-deb7-91064de8e4d9",
        "scrolled": true
      },
      "outputs": [
        {
          "output_type": "stream",
          "name": "stdout",
          "text": [
            "Fri Feb  3 08:13:53 2023       \n",
            "+-----------------------------------------------------------------------------+\n",
            "| NVIDIA-SMI 510.47.03    Driver Version: 510.47.03    CUDA Version: 11.6     |\n",
            "|-------------------------------+----------------------+----------------------+\n",
            "| GPU  Name        Persistence-M| Bus-Id        Disp.A | Volatile Uncorr. ECC |\n",
            "| Fan  Temp  Perf  Pwr:Usage/Cap|         Memory-Usage | GPU-Util  Compute M. |\n",
            "|                               |                      |               MIG M. |\n",
            "|===============================+======================+======================|\n",
            "|   0  Tesla T4            Off  | 00000000:00:04.0 Off |                    0 |\n",
            "| N/A   52C    P0    27W /  70W |      3MiB / 15360MiB |      5%      Default |\n",
            "|                               |                      |                  N/A |\n",
            "+-------------------------------+----------------------+----------------------+\n",
            "                                                                               \n",
            "+-----------------------------------------------------------------------------+\n",
            "| Processes:                                                                  |\n",
            "|  GPU   GI   CI        PID   Type   Process name                  GPU Memory |\n",
            "|        ID   ID                                                   Usage      |\n",
            "|=============================================================================|\n",
            "|  No running processes found                                                 |\n",
            "+-----------------------------------------------------------------------------+\n"
          ]
        }
      ],
      "source": [
        "!nvidia-smi"
      ]
    },
    {
      "cell_type": "markdown",
      "id": "1be50a22",
      "metadata": {
        "id": "1be50a22"
      },
      "source": [
        "<a name='2-1'></a>\n",
        "## Deep Q-Learning"
      ]
    },
    {
      "cell_type": "code",
      "execution_count": null,
      "id": "7a7e4427",
      "metadata": {
        "colab": {
          "base_uri": "https://localhost:8080/"
        },
        "id": "7a7e4427",
        "outputId": "0de6bf02-a86b-4306-94de-a2b69f9b3faa"
      },
      "outputs": [
        {
          "output_type": "execute_result",
          "data": {
            "text/plain": [
              "(5, 5)"
            ]
          },
          "metadata": {},
          "execution_count": 16
        }
      ],
      "source": [
        "env = gym.make(\"merge-v0\")\n",
        "state_size = env.observation_space.shape[0]\n",
        "action_size = env.action_space.n\n",
        "state_size, action_size "
      ]
    },
    {
      "cell_type": "code",
      "execution_count": null,
      "id": "nw8brpV17I4P",
      "metadata": {
        "id": "nw8brpV17I4P"
      },
      "outputs": [],
      "source": [
        "Transition = namedtuple('Transition', ('state', 'action', 'next_state', 'reward', 'done'))\n",
        "\n",
        "class ExperienceBuffer():\n",
        "    def __init__(self, capacity) -> None:\n",
        "        self.memory = deque([], maxlen=capacity)\n",
        "        \n",
        "    def __len__(self):\n",
        "        return len(self.memory)\n",
        "    \n",
        "    def store_transition(self, state, action, next_state, reward, done):\n",
        "        self.memory.append(Transition(state, action, next_state, reward, done))\n",
        "\n",
        "    def get_sample(self, batch_size):\n",
        "        return random.sample(self.memory, batch_size) "
      ]
    },
    {
      "cell_type": "code",
      "execution_count": null,
      "id": "MLLrSFB37JG_",
      "metadata": {
        "id": "MLLrSFB37JG_"
      },
      "outputs": [],
      "source": [
        "class DQN(nn.Module):\n",
        "    def __init__(self, state_size, action_size) -> None:\n",
        "        super(DQN, self).__init__()\n",
        "        self.fc1 = nn.Linear(state_size, 512)\n",
        "        self.fc2 = nn.Linear(512, 512)\n",
        "        self.fc3 = nn.Linear(512, 512)\n",
        "        self.fc4 = nn.Linear(512, action_size)\n",
        "\n",
        "    def forward(self, x):\n",
        "        x = F.relu(self.fc1(x))\n",
        "        x = F.relu(self.fc2(x))\n",
        "        x = F.relu(self.fc3(x))\n",
        "        return self.fc4(x)"
      ]
    },
    {
      "cell_type": "code",
      "execution_count": null,
      "id": "f3MIqiyL7JUE",
      "metadata": {
        "id": "f3MIqiyL7JUE"
      },
      "outputs": [],
      "source": [
        "class DeepQLearning():\n",
        "    def __init__(self, state_size, action_size, batch_size, gamma=0.99, buffer_size=25000, alpha=1e-4):\n",
        "        self.state_size = state_size\n",
        "        self.action_size = action_size\n",
        "        self.batch_size = batch_size\n",
        "        self.gamma = gamma\n",
        "        self.experience_buffer = ExperienceBuffer(buffer_size)\n",
        "        self.value_network = DQN(state_size, action_size).to(device)\n",
        "        self.optimizer = optim.Adam(self.value_network.parameters(), lr=alpha)\n",
        "\n",
        "    def choose_action(self, state, epsilon=0.0):\n",
        "        state = torch.from_numpy(state).float().to(device)\n",
        "        if np.random.rand()<epsilon:\n",
        "            return torch.tensor([[np.random.randint(self.action_size)]])\n",
        "        else:\n",
        "            with torch.no_grad():\n",
        "                q_value = self.value_network(state)\n",
        "                return torch.argmax(q_value).view(1, 1) % self.action_size\n",
        "            \n",
        "    def get_sample_experiences(self):\n",
        "        batch = Transition(*zip(*self.experience_buffer.get_sample(self.batch_size)))\n",
        "        batch_state = torch.from_numpy(np.vstack(batch.state)).float().to(device)\n",
        "        batch_action = torch.tensor(np.vstack(batch.action)).long().to(device)\n",
        "        batch_next_state = torch.from_numpy(np.vstack(batch.next_state)).float().to(device)\n",
        "        batch_reward = torch.tensor(np.vstack(batch.reward)).float().to(device)\n",
        "        batch_done = torch.tensor(np.vstack(batch.done)).to(device)\n",
        "        return batch_state, batch_action, batch_next_state, batch_reward, batch_done\n",
        "    \n",
        "    def calculate_q_values(self, batch_state, batch_action, batch_next_state, batch_reward, batch_done):\n",
        "        q_values = self.value_network(batch_state).gather(1, batch_action)\n",
        "        next_q_values = self.value_network(batch_next_state).detach().max(1)[0].unsqueeze(1)\n",
        "        next_q_values = next_q_values[0:len(batch_done)]\n",
        "        next_q_values[batch_done] = 0.0\n",
        "        expected_q_values = batch_reward + (self.gamma * next_q_values)\n",
        "        return q_values, expected_q_values\n",
        "        \n",
        "    def compute_loss(self, q_values, expected_q_values):\n",
        "        loss = F.mse_loss(q_values, expected_q_values)\n",
        "        self.optimizer.zero_grad()\n",
        "        loss.backward()\n",
        "        self.optimizer.step()\n",
        "    \n",
        "    def learn(self):\n",
        "        if len(self.experience_buffer) < self.batch_size:\n",
        "            return\n",
        "        batch_state, batch_action, batch_next_state, batch_reward, batch_done = self.get_sample_experiences()\n",
        "        q_values, expected_q_values = self.calculate_q_values(batch_state, batch_action, batch_next_state, batch_reward, batch_done)\n",
        "        self.compute_loss(q_values, expected_q_values)    \n",
        "\n",
        "    def load(self, fname, device):\n",
        "        self.value_network.load_state_dict(torch.load(fname, map_location=torch.device(device)))"
      ]
    },
    {
      "cell_type": "code",
      "execution_count": null,
      "id": "eYjy7J7r7Jga",
      "metadata": {
        "id": "eYjy7J7r7Jga"
      },
      "outputs": [],
      "source": [
        "def run_DeepQLearning_agent(_batch_size, _agent=None, number_of_episodes=250, epsilon_decay_rate=0.97, reps=10):\n",
        "    epsilon_end = 0.01\n",
        "    optimal_agent = None\n",
        "    state_dict = None\n",
        "    cpp = None\n",
        "\n",
        "    cumulative_rewards = np.zeros((reps,number_of_episodes))\n",
        "    for rep in range(reps):\n",
        "        agent = _agent\n",
        "        if _agent == None:\n",
        "            agent = DeepQLearning(state_size, action_size, batch_size=_batch_size)\n",
        "        epsilon = 1.0\n",
        "        \n",
        "        for episode in range(number_of_episodes):\n",
        "            recent_cumulative_rewards = deque(maxlen=25)\n",
        "            # obs, info = S = env.reset()\n",
        "            state,_ = env.reset()\n",
        "            done = truncated = False\n",
        "            cumulative_reward = 0\n",
        "            while not (done or truncated):\n",
        "                action = agent.choose_action(state, epsilon).item()\n",
        "                obs, reward, done, truncated, info = env.step(action)\n",
        "                next_state, reward = obs, reward\n",
        "                agent.experience_buffer.store_transition(state, action, next_state, reward, done)\n",
        "                agent.learn()\n",
        "                state = next_state\n",
        "                cumulative_reward += reward\n",
        "            \n",
        "            cumulative_rewards[rep][episode]=cumulative_reward\n",
        "            recent_cumulative_rewards.append(cumulative_reward)\n",
        "            epsilon = max(epsilon_end, epsilon_decay_rate*epsilon)\n",
        "            print('\\rEpisode {}\\tAverage Reward: {:.2f}\\tEpsilon: {:.2f}'.format(episode+1, np.mean(recent_cumulative_rewards), epsilon), end=\"\")\n",
        "            if (episode+1) % (number_of_episodes/10) == 0:\n",
        "                print('\\rEpisode {}\\tAverage Reward: {:.2f}\\tEpsilon: {:.2f}'.format(episode+1, np.mean(recent_cumulative_rewards), epsilon))\n",
        "\n",
        "        cpp = 'dqn'+str(_batch_size) +'-checkpoint.pth'\n",
        "        state_dict = agent.value_network.state_dict()\n",
        "        torch.save(agent.value_network.state_dict(), cpp)\n",
        "        optimal_agent = agent\n",
        "\n",
        "    return cumulative_rewards, agent"
      ]
    },
    {
      "cell_type": "markdown",
      "id": "ef9f603e",
      "metadata": {
        "id": "ef9f603e"
      },
      "source": [
        "<a name='2-2'></a>\n",
        "## Reward"
      ]
    },
    {
      "cell_type": "code",
      "source": [
        "crs0, agent0 = run_DeepQLearning_agent(_batch_size=16)"
      ],
      "metadata": {
        "colab": {
          "base_uri": "https://localhost:8080/"
        },
        "id": "pWpZDXgUDdFa",
        "outputId": "5b1765b2-8f9d-41f0-ff91-92fc43380ed0"
      },
      "id": "pWpZDXgUDdFa",
      "execution_count": null,
      "outputs": [
        {
          "output_type": "stream",
          "name": "stdout",
          "text": [
            "Episode 25\tAverage Reward: 10.91\tEpsilon: 0.47\n",
            "Episode 50\tAverage Reward: 10.94\tEpsilon: 0.22\n",
            "Episode 75\tAverage Reward: 11.67\tEpsilon: 0.10\n",
            "Episode 100\tAverage Reward: 14.92\tEpsilon: 0.05\n",
            "Episode 125\tAverage Reward: 11.08\tEpsilon: 0.02\n",
            "Episode 150\tAverage Reward: 11.08\tEpsilon: 0.01\n",
            "Episode 175\tAverage Reward: 14.92\tEpsilon: 0.01\n",
            "Episode 200\tAverage Reward: 14.75\tEpsilon: 0.01\n",
            "Episode 225\tAverage Reward: 14.14\tEpsilon: 0.01\n",
            "Episode 250\tAverage Reward: 10.77\tEpsilon: 0.01\n",
            "Episode 25\tAverage Reward: 9.75\tEpsilon: 0.47\n",
            "Episode 50\tAverage Reward: 11.08\tEpsilon: 0.22\n",
            "Episode 75\tAverage Reward: 11.39\tEpsilon: 0.10\n",
            "Episode 100\tAverage Reward: 10.77\tEpsilon: 0.05\n",
            "Episode 125\tAverage Reward: 10.94\tEpsilon: 0.02\n",
            "Episode 150\tAverage Reward: 10.91\tEpsilon: 0.01\n",
            "Episode 175\tAverage Reward: 10.80\tEpsilon: 0.01\n",
            "Episode 200\tAverage Reward: 11.08\tEpsilon: 0.01\n",
            "Episode 225\tAverage Reward: 14.92\tEpsilon: 0.01\n",
            "Episode 250\tAverage Reward: 14.92\tEpsilon: 0.01\n",
            "Episode 25\tAverage Reward: 10.83\tEpsilon: 0.47\n",
            "Episode 50\tAverage Reward: 14.89\tEpsilon: 0.22\n",
            "Episode 75\tAverage Reward: 11.08\tEpsilon: 0.10\n",
            "Episode 100\tAverage Reward: 11.08\tEpsilon: 0.05\n",
            "Episode 125\tAverage Reward: 11.08\tEpsilon: 0.02\n",
            "Episode 150\tAverage Reward: 11.02\tEpsilon: 0.01\n",
            "Episode 175\tAverage Reward: 10.91\tEpsilon: 0.01\n",
            "Episode 200\tAverage Reward: 11.00\tEpsilon: 0.01\n",
            "Episode 225\tAverage Reward: 11.08\tEpsilon: 0.01\n",
            "Episode 250\tAverage Reward: 10.64\tEpsilon: 0.01\n",
            "Episode 25\tAverage Reward: 11.00\tEpsilon: 0.47\n",
            "Episode 50\tAverage Reward: 11.28\tEpsilon: 0.22\n",
            "Episode 75\tAverage Reward: 13.17\tEpsilon: 0.10\n",
            "Episode 100\tAverage Reward: 11.08\tEpsilon: 0.05\n",
            "Episode 125\tAverage Reward: 10.31\tEpsilon: 0.02\n",
            "Episode 150\tAverage Reward: 11.33\tEpsilon: 0.01\n",
            "Episode 175\tAverage Reward: 14.92\tEpsilon: 0.01\n",
            "Episode 200\tAverage Reward: 14.92\tEpsilon: 0.01\n",
            "Episode 225\tAverage Reward: 11.08\tEpsilon: 0.01\n",
            "Episode 250\tAverage Reward: 11.08\tEpsilon: 0.01\n",
            "Episode 25\tAverage Reward: 11.97\tEpsilon: 0.47\n",
            "Episode 50\tAverage Reward: 12.17\tEpsilon: 0.22\n",
            "Episode 75\tAverage Reward: 11.36\tEpsilon: 0.10\n",
            "Episode 100\tAverage Reward: 11.08\tEpsilon: 0.05\n",
            "Episode 125\tAverage Reward: 11.08\tEpsilon: 0.02\n",
            "Episode 150\tAverage Reward: 10.94\tEpsilon: 0.01\n",
            "Episode 175\tAverage Reward: 10.75\tEpsilon: 0.01\n",
            "Episode 200\tAverage Reward: 10.80\tEpsilon: 0.01\n",
            "Episode 225\tAverage Reward: 10.75\tEpsilon: 0.01\n",
            "Episode 250\tAverage Reward: 11.08\tEpsilon: 0.01\n",
            "Episode 25\tAverage Reward: 6.08\tEpsilon: 0.47\n",
            "Episode 50\tAverage Reward: 10.89\tEpsilon: 0.22\n",
            "Episode 75\tAverage Reward: 11.05\tEpsilon: 0.10\n",
            "Episode 100\tAverage Reward: 14.14\tEpsilon: 0.05\n",
            "Episode 125\tAverage Reward: 11.58\tEpsilon: 0.02\n",
            "Episode 150\tAverage Reward: 10.97\tEpsilon: 0.01\n",
            "Episode 175\tAverage Reward: 14.92\tEpsilon: 0.01\n",
            "Episode 200\tAverage Reward: 11.08\tEpsilon: 0.01\n",
            "Episode 225\tAverage Reward: 11.08\tEpsilon: 0.01\n",
            "Episode 250\tAverage Reward: 14.92\tEpsilon: 0.01\n",
            "Episode 25\tAverage Reward: 14.00\tEpsilon: 0.47\n",
            "Episode 50\tAverage Reward: 14.05\tEpsilon: 0.22\n",
            "Episode 75\tAverage Reward: 14.92\tEpsilon: 0.10\n",
            "Episode 100\tAverage Reward: 10.77\tEpsilon: 0.05\n",
            "Episode 125\tAverage Reward: 14.92\tEpsilon: 0.02\n",
            "Episode 150\tAverage Reward: 11.08\tEpsilon: 0.01\n",
            "Episode 175\tAverage Reward: 13.53\tEpsilon: 0.01\n",
            "Episode 200\tAverage Reward: 14.92\tEpsilon: 0.01\n",
            "Episode 225\tAverage Reward: 11.08\tEpsilon: 0.01\n",
            "Episode 250\tAverage Reward: 14.14\tEpsilon: 0.01\n",
            "Episode 25\tAverage Reward: 5.17\tEpsilon: 0.47\n",
            "Episode 50\tAverage Reward: 11.05\tEpsilon: 0.22\n",
            "Episode 75\tAverage Reward: 10.83\tEpsilon: 0.10\n",
            "Episode 100\tAverage Reward: 10.75\tEpsilon: 0.05\n",
            "Episode 125\tAverage Reward: 10.75\tEpsilon: 0.02\n",
            "Episode 150\tAverage Reward: 11.05\tEpsilon: 0.01\n",
            "Episode 175\tAverage Reward: 10.97\tEpsilon: 0.01\n",
            "Episode 200\tAverage Reward: 14.92\tEpsilon: 0.01\n",
            "Episode 225\tAverage Reward: 14.92\tEpsilon: 0.01\n",
            "Episode 250\tAverage Reward: 11.08\tEpsilon: 0.01\n",
            "Episode 25\tAverage Reward: 10.80\tEpsilon: 0.47\n",
            "Episode 50\tAverage Reward: 14.19\tEpsilon: 0.22\n",
            "Episode 75\tAverage Reward: 11.08\tEpsilon: 0.10\n",
            "Episode 100\tAverage Reward: 10.89\tEpsilon: 0.05\n",
            "Episode 125\tAverage Reward: 14.53\tEpsilon: 0.02\n",
            "Episode 150\tAverage Reward: 9.81\tEpsilon: 0.01\n",
            "Episode 175\tAverage Reward: 11.08\tEpsilon: 0.01\n",
            "Episode 200\tAverage Reward: 14.67\tEpsilon: 0.01\n",
            "Episode 225\tAverage Reward: 14.92\tEpsilon: 0.01\n",
            "Episode 250\tAverage Reward: 10.75\tEpsilon: 0.01\n",
            "Episode 25\tAverage Reward: 12.22\tEpsilon: 0.47\n",
            "Episode 50\tAverage Reward: 10.83\tEpsilon: 0.22\n",
            "Episode 75\tAverage Reward: 10.45\tEpsilon: 0.10\n",
            "Episode 100\tAverage Reward: 14.64\tEpsilon: 0.05\n",
            "Episode 125\tAverage Reward: 14.92\tEpsilon: 0.02\n",
            "Episode 150\tAverage Reward: 13.47\tEpsilon: 0.01\n",
            "Episode 175\tAverage Reward: 14.92\tEpsilon: 0.01\n",
            "Episode 200\tAverage Reward: 14.64\tEpsilon: 0.01\n",
            "Episode 225\tAverage Reward: 14.92\tEpsilon: 0.01\n",
            "Episode 250\tAverage Reward: 10.75\tEpsilon: 0.01\n"
          ]
        }
      ]
    },
    {
      "cell_type": "code",
      "execution_count": null,
      "id": "wEX8pFVy5Se3",
      "metadata": {
        "colab": {
          "base_uri": "https://localhost:8080/"
        },
        "id": "wEX8pFVy5Se3",
        "outputId": "d897f33f-c761-4e2e-bd3c-0dbdcf925546"
      },
      "outputs": [
        {
          "output_type": "stream",
          "name": "stdout",
          "text": [
            "Episode 25\tAverage Reward: 10.97\tEpsilon: 0.47\n",
            "Episode 50\tAverage Reward: 14.44\tEpsilon: 0.22\n",
            "Episode 75\tAverage Reward: 12.89\tEpsilon: 0.10\n",
            "Episode 100\tAverage Reward: 10.75\tEpsilon: 0.05\n",
            "Episode 125\tAverage Reward: 11.05\tEpsilon: 0.02\n",
            "Episode 150\tAverage Reward: 10.58\tEpsilon: 0.01\n",
            "Episode 175\tAverage Reward: 14.25\tEpsilon: 0.01\n",
            "Episode 200\tAverage Reward: 10.75\tEpsilon: 0.01\n",
            "Episode 225\tAverage Reward: 11.02\tEpsilon: 0.01\n",
            "Episode 250\tAverage Reward: 12.86\tEpsilon: 0.01\n",
            "Episode 25\tAverage Reward: 12.55\tEpsilon: 0.47\n",
            "Episode 50\tAverage Reward: 11.08\tEpsilon: 0.22\n",
            "Episode 75\tAverage Reward: 13.19\tEpsilon: 0.10\n",
            "Episode 100\tAverage Reward: 14.14\tEpsilon: 0.05\n",
            "Episode 125\tAverage Reward: 14.92\tEpsilon: 0.02\n",
            "Episode 150\tAverage Reward: 14.97\tEpsilon: 0.01\n",
            "Episode 175\tAverage Reward: 11.08\tEpsilon: 0.01\n",
            "Episode 200\tAverage Reward: 14.25\tEpsilon: 0.01\n",
            "Episode 225\tAverage Reward: 13.08\tEpsilon: 0.01\n",
            "Episode 250\tAverage Reward: 14.92\tEpsilon: 0.01\n",
            "Episode 25\tAverage Reward: 14.28\tEpsilon: 0.47\n",
            "Episode 50\tAverage Reward: 14.94\tEpsilon: 0.22\n",
            "Episode 75\tAverage Reward: 14.92\tEpsilon: 0.10\n",
            "Episode 100\tAverage Reward: 13.83\tEpsilon: 0.05\n",
            "Episode 125\tAverage Reward: 14.92\tEpsilon: 0.02\n",
            "Episode 150\tAverage Reward: 14.92\tEpsilon: 0.01\n",
            "Episode 175\tAverage Reward: 14.92\tEpsilon: 0.01\n",
            "Episode 200\tAverage Reward: 14.72\tEpsilon: 0.01\n",
            "Episode 225\tAverage Reward: 14.92\tEpsilon: 0.01\n",
            "Episode 250\tAverage Reward: 14.92\tEpsilon: 0.01\n",
            "Episode 25\tAverage Reward: 10.91\tEpsilon: 0.47\n",
            "Episode 50\tAverage Reward: 11.05\tEpsilon: 0.22\n",
            "Episode 75\tAverage Reward: 11.08\tEpsilon: 0.10\n",
            "Episode 100\tAverage Reward: 11.08\tEpsilon: 0.05\n",
            "Episode 125\tAverage Reward: 10.75\tEpsilon: 0.02\n",
            "Episode 150\tAverage Reward: 11.08\tEpsilon: 0.01\n",
            "Episode 175\tAverage Reward: 14.92\tEpsilon: 0.01\n",
            "Episode 200\tAverage Reward: 13.64\tEpsilon: 0.01\n",
            "Episode 225\tAverage Reward: 10.97\tEpsilon: 0.01\n",
            "Episode 250\tAverage Reward: 13.47\tEpsilon: 0.01\n",
            "Episode 25\tAverage Reward: 14.75\tEpsilon: 0.47\n",
            "Episode 50\tAverage Reward: 11.00\tEpsilon: 0.22\n",
            "Episode 75\tAverage Reward: 11.69\tEpsilon: 0.10\n",
            "Episode 100\tAverage Reward: 11.08\tEpsilon: 0.05\n",
            "Episode 125\tAverage Reward: 10.64\tEpsilon: 0.02\n",
            "Episode 150\tAverage Reward: 10.91\tEpsilon: 0.01\n",
            "Episode 175\tAverage Reward: 11.08\tEpsilon: 0.01\n",
            "Episode 200\tAverage Reward: 14.92\tEpsilon: 0.01\n",
            "Episode 225\tAverage Reward: 11.08\tEpsilon: 0.01\n",
            "Episode 250\tAverage Reward: 10.86\tEpsilon: 0.01\n",
            "Episode 25\tAverage Reward: 14.75\tEpsilon: 0.47\n",
            "Episode 50\tAverage Reward: 10.28\tEpsilon: 0.22\n",
            "Episode 75\tAverage Reward: 3.83\tEpsilon: 0.10\n",
            "Episode 100\tAverage Reward: 14.55\tEpsilon: 0.05\n",
            "Episode 125\tAverage Reward: 10.75\tEpsilon: 0.02\n",
            "Episode 150\tAverage Reward: 11.08\tEpsilon: 0.01\n",
            "Episode 175\tAverage Reward: 14.92\tEpsilon: 0.01\n",
            "Episode 200\tAverage Reward: 10.72\tEpsilon: 0.01\n",
            "Episode 225\tAverage Reward: 10.75\tEpsilon: 0.01\n",
            "Episode 250\tAverage Reward: 13.64\tEpsilon: 0.01\n",
            "Episode 25\tAverage Reward: 11.00\tEpsilon: 0.47\n",
            "Episode 50\tAverage Reward: 10.75\tEpsilon: 0.22\n",
            "Episode 75\tAverage Reward: 14.28\tEpsilon: 0.10\n",
            "Episode 100\tAverage Reward: 11.08\tEpsilon: 0.05\n",
            "Episode 125\tAverage Reward: 11.08\tEpsilon: 0.02\n",
            "Episode 150\tAverage Reward: 14.92\tEpsilon: 0.01\n",
            "Episode 175\tAverage Reward: 14.89\tEpsilon: 0.01\n",
            "Episode 200\tAverage Reward: 13.47\tEpsilon: 0.01\n",
            "Episode 225\tAverage Reward: 10.89\tEpsilon: 0.01\n",
            "Episode 250\tAverage Reward: 14.72\tEpsilon: 0.01\n",
            "Episode 25\tAverage Reward: 14.83\tEpsilon: 0.47\n",
            "Episode 50\tAverage Reward: 13.08\tEpsilon: 0.22\n",
            "Episode 75\tAverage Reward: 10.75\tEpsilon: 0.10\n",
            "Episode 100\tAverage Reward: 11.08\tEpsilon: 0.05\n",
            "Episode 125\tAverage Reward: 10.75\tEpsilon: 0.02\n",
            "Episode 150\tAverage Reward: 11.08\tEpsilon: 0.01\n",
            "Episode 175\tAverage Reward: 11.08\tEpsilon: 0.01\n",
            "Episode 200\tAverage Reward: 11.08\tEpsilon: 0.01\n",
            "Episode 225\tAverage Reward: 11.08\tEpsilon: 0.01\n",
            "Episode 250\tAverage Reward: 10.80\tEpsilon: 0.01\n",
            "Episode 25\tAverage Reward: 13.72\tEpsilon: 0.47\n",
            "Episode 50\tAverage Reward: 12.17\tEpsilon: 0.22\n",
            "Episode 75\tAverage Reward: 14.25\tEpsilon: 0.10\n",
            "Episode 100\tAverage Reward: 11.08\tEpsilon: 0.05\n",
            "Episode 125\tAverage Reward: 14.89\tEpsilon: 0.02\n",
            "Episode 150\tAverage Reward: 12.33\tEpsilon: 0.01\n",
            "Episode 175\tAverage Reward: 11.08\tEpsilon: 0.01\n",
            "Episode 200\tAverage Reward: 10.75\tEpsilon: 0.01\n",
            "Episode 225\tAverage Reward: 12.94\tEpsilon: 0.01\n",
            "Episode 250\tAverage Reward: 10.69\tEpsilon: 0.01\n",
            "Episode 25\tAverage Reward: 6.94\tEpsilon: 0.47\n",
            "Episode 50\tAverage Reward: 11.14\tEpsilon: 0.22\n",
            "Episode 75\tAverage Reward: 10.31\tEpsilon: 0.10\n",
            "Episode 100\tAverage Reward: 13.53\tEpsilon: 0.05\n",
            "Episode 125\tAverage Reward: 10.75\tEpsilon: 0.02\n",
            "Episode 150\tAverage Reward: 14.92\tEpsilon: 0.01\n",
            "Episode 175\tAverage Reward: 14.30\tEpsilon: 0.01\n",
            "Episode 200\tAverage Reward: 14.55\tEpsilon: 0.01\n",
            "Episode 225\tAverage Reward: 10.83\tEpsilon: 0.01\n",
            "Episode 250\tAverage Reward: 14.92\tEpsilon: 0.01\n"
          ]
        }
      ],
      "source": [
        "crs1, agent1 = run_DeepQLearning_agent(_batch_size=32)"
      ]
    },
    {
      "cell_type": "code",
      "execution_count": null,
      "id": "sSDBuhf77U1H",
      "metadata": {
        "colab": {
          "base_uri": "https://localhost:8080/"
        },
        "id": "sSDBuhf77U1H",
        "outputId": "4498cc4b-a8aa-45c4-df4a-1b0e10608c49"
      },
      "outputs": [
        {
          "output_type": "stream",
          "name": "stdout",
          "text": [
            "Episode 25\tAverage Reward: 11.72\tEpsilon: 0.47\n",
            "Episode 50\tAverage Reward: 10.78\tEpsilon: 0.22\n",
            "Episode 75\tAverage Reward: 10.75\tEpsilon: 0.10\n",
            "Episode 100\tAverage Reward: 11.08\tEpsilon: 0.05\n",
            "Episode 125\tAverage Reward: 11.08\tEpsilon: 0.02\n",
            "Episode 150\tAverage Reward: 10.89\tEpsilon: 0.01\n",
            "Episode 175\tAverage Reward: 11.08\tEpsilon: 0.01\n",
            "Episode 200\tAverage Reward: 11.89\tEpsilon: 0.01\n",
            "Episode 225\tAverage Reward: 11.00\tEpsilon: 0.01\n",
            "Episode 250\tAverage Reward: 11.08\tEpsilon: 0.01\n",
            "Episode 25\tAverage Reward: 10.72\tEpsilon: 0.47\n",
            "Episode 50\tAverage Reward: 10.77\tEpsilon: 0.22\n",
            "Episode 75\tAverage Reward: 14.08\tEpsilon: 0.10\n",
            "Episode 100\tAverage Reward: 8.78\tEpsilon: 0.05\n",
            "Episode 125\tAverage Reward: 11.08\tEpsilon: 0.02\n",
            "Episode 150\tAverage Reward: 10.64\tEpsilon: 0.01\n",
            "Episode 175\tAverage Reward: 11.08\tEpsilon: 0.01\n",
            "Episode 200\tAverage Reward: 14.92\tEpsilon: 0.01\n",
            "Episode 225\tAverage Reward: 11.08\tEpsilon: 0.01\n",
            "Episode 250\tAverage Reward: 10.31\tEpsilon: 0.01\n",
            "Episode 25\tAverage Reward: 10.97\tEpsilon: 0.47\n",
            "Episode 50\tAverage Reward: 10.42\tEpsilon: 0.22\n",
            "Episode 75\tAverage Reward: 11.08\tEpsilon: 0.10\n",
            "Episode 100\tAverage Reward: 10.86\tEpsilon: 0.05\n",
            "Episode 125\tAverage Reward: 14.92\tEpsilon: 0.02\n",
            "Episode 150\tAverage Reward: 14.92\tEpsilon: 0.01\n",
            "Episode 175\tAverage Reward: 14.69\tEpsilon: 0.01\n",
            "Episode 200\tAverage Reward: 14.92\tEpsilon: 0.01\n",
            "Episode 225\tAverage Reward: 10.75\tEpsilon: 0.01\n",
            "Episode 250\tAverage Reward: 14.92\tEpsilon: 0.01\n",
            "Episode 25\tAverage Reward: 13.14\tEpsilon: 0.47\n",
            "Episode 50\tAverage Reward: 4.72\tEpsilon: 0.22\n",
            "Episode 75\tAverage Reward: 11.41\tEpsilon: 0.10\n",
            "Episode 100\tAverage Reward: 14.97\tEpsilon: 0.05\n",
            "Episode 125\tAverage Reward: 11.25\tEpsilon: 0.02\n",
            "Episode 150\tAverage Reward: 14.19\tEpsilon: 0.01\n",
            "Episode 175\tAverage Reward: 14.92\tEpsilon: 0.01\n",
            "Episode 200\tAverage Reward: 14.92\tEpsilon: 0.01\n",
            "Episode 225\tAverage Reward: 14.92\tEpsilon: 0.01\n",
            "Episode 250\tAverage Reward: 14.92\tEpsilon: 0.01\n",
            "Episode 25\tAverage Reward: 10.17\tEpsilon: 0.47\n",
            "Episode 50\tAverage Reward: 10.92\tEpsilon: 0.22\n",
            "Episode 75\tAverage Reward: 10.94\tEpsilon: 0.10\n",
            "Episode 100\tAverage Reward: 10.91\tEpsilon: 0.05\n",
            "Episode 125\tAverage Reward: 11.05\tEpsilon: 0.02\n",
            "Episode 150\tAverage Reward: 11.08\tEpsilon: 0.01\n",
            "Episode 175\tAverage Reward: 10.64\tEpsilon: 0.01\n",
            "Episode 200\tAverage Reward: 14.92\tEpsilon: 0.01\n",
            "Episode 225\tAverage Reward: 11.08\tEpsilon: 0.01\n",
            "Episode 250\tAverage Reward: 10.83\tEpsilon: 0.01\n",
            "Episode 25\tAverage Reward: 12.25\tEpsilon: 0.47\n",
            "Episode 50\tAverage Reward: 11.05\tEpsilon: 0.22\n",
            "Episode 75\tAverage Reward: 11.08\tEpsilon: 0.10\n",
            "Episode 100\tAverage Reward: 11.17\tEpsilon: 0.05\n",
            "Episode 125\tAverage Reward: 14.25\tEpsilon: 0.02\n",
            "Episode 150\tAverage Reward: 11.08\tEpsilon: 0.01\n",
            "Episode 175\tAverage Reward: 11.58\tEpsilon: 0.01\n",
            "Episode 200\tAverage Reward: 13.64\tEpsilon: 0.01\n",
            "Episode 225\tAverage Reward: 11.08\tEpsilon: 0.01\n",
            "Episode 250\tAverage Reward: 11.08\tEpsilon: 0.01\n",
            "Episode 25\tAverage Reward: 13.69\tEpsilon: 0.47\n",
            "Episode 50\tAverage Reward: 11.49\tEpsilon: 0.22\n",
            "Episode 75\tAverage Reward: 12.19\tEpsilon: 0.10\n",
            "Episode 100\tAverage Reward: 14.92\tEpsilon: 0.05\n",
            "Episode 125\tAverage Reward: 14.92\tEpsilon: 0.02\n",
            "Episode 150\tAverage Reward: 13.53\tEpsilon: 0.01\n",
            "Episode 175\tAverage Reward: 13.44\tEpsilon: 0.01\n",
            "Episode 200\tAverage Reward: 14.92\tEpsilon: 0.01\n",
            "Episode 225\tAverage Reward: 14.92\tEpsilon: 0.01\n",
            "Episode 250\tAverage Reward: 11.14\tEpsilon: 0.01\n",
            "Episode 25\tAverage Reward: 11.00\tEpsilon: 0.47\n",
            "Episode 50\tAverage Reward: 3.00\tEpsilon: 0.22\n",
            "Episode 75\tAverage Reward: 14.92\tEpsilon: 0.10\n",
            "Episode 100\tAverage Reward: 14.64\tEpsilon: 0.05\n",
            "Episode 125\tAverage Reward: 12.89\tEpsilon: 0.02\n",
            "Episode 150\tAverage Reward: 11.08\tEpsilon: 0.01\n",
            "Episode 175\tAverage Reward: 14.92\tEpsilon: 0.01\n",
            "Episode 200\tAverage Reward: 11.00\tEpsilon: 0.01\n",
            "Episode 225\tAverage Reward: 14.92\tEpsilon: 0.01\n",
            "Episode 250\tAverage Reward: 14.92\tEpsilon: 0.01\n",
            "Episode 25\tAverage Reward: 9.69\tEpsilon: 0.47\n",
            "Episode 50\tAverage Reward: 11.05\tEpsilon: 0.22\n",
            "Episode 75\tAverage Reward: 10.77\tEpsilon: 0.10\n",
            "Episode 100\tAverage Reward: 14.92\tEpsilon: 0.05\n",
            "Episode 125\tAverage Reward: 14.89\tEpsilon: 0.02\n",
            "Episode 150\tAverage Reward: 11.08\tEpsilon: 0.01\n",
            "Episode 175\tAverage Reward: 14.92\tEpsilon: 0.01\n",
            "Episode 200\tAverage Reward: 11.14\tEpsilon: 0.01\n",
            "Episode 225\tAverage Reward: 14.92\tEpsilon: 0.01\n",
            "Episode 250\tAverage Reward: 11.08\tEpsilon: 0.01\n",
            "Episode 25\tAverage Reward: 11.22\tEpsilon: 0.47\n",
            "Episode 50\tAverage Reward: 13.64\tEpsilon: 0.22\n",
            "Episode 75\tAverage Reward: 11.03\tEpsilon: 0.10\n",
            "Episode 100\tAverage Reward: 14.92\tEpsilon: 0.05\n",
            "Episode 125\tAverage Reward: 11.41\tEpsilon: 0.02\n",
            "Episode 150\tAverage Reward: 11.02\tEpsilon: 0.01\n",
            "Episode 175\tAverage Reward: 13.75\tEpsilon: 0.01\n",
            "Episode 200\tAverage Reward: 14.89\tEpsilon: 0.01\n",
            "Episode 225\tAverage Reward: 11.89\tEpsilon: 0.01\n",
            "Episode 250\tAverage Reward: 14.92\tEpsilon: 0.01\n"
          ]
        }
      ],
      "source": [
        "crs2, agent2 = run_DeepQLearning_agent(_batch_size=64)"
      ]
    },
    {
      "cell_type": "code",
      "execution_count": null,
      "id": "X6WbtDmk7VDe",
      "metadata": {
        "colab": {
          "base_uri": "https://localhost:8080/"
        },
        "id": "X6WbtDmk7VDe",
        "outputId": "32d15685-97a9-4cd4-e0ca-41c705586801"
      },
      "outputs": [
        {
          "output_type": "stream",
          "name": "stdout",
          "text": [
            "Episode 25\tAverage Reward: 10.72\tEpsilon: 0.47\n",
            "Episode 50\tAverage Reward: 11.08\tEpsilon: 0.22\n",
            "Episode 75\tAverage Reward: 6.53\tEpsilon: 0.10\n",
            "Episode 100\tAverage Reward: 13.53\tEpsilon: 0.05\n",
            "Episode 125\tAverage Reward: 11.02\tEpsilon: 0.02\n",
            "Episode 150\tAverage Reward: 11.08\tEpsilon: 0.01\n",
            "Episode 175\tAverage Reward: 14.61\tEpsilon: 0.01\n",
            "Episode 200\tAverage Reward: 11.41\tEpsilon: 0.01\n",
            "Episode 225\tAverage Reward: 11.75\tEpsilon: 0.01\n",
            "Episode 250\tAverage Reward: 14.92\tEpsilon: 0.01\n",
            "Episode 25\tAverage Reward: 13.33\tEpsilon: 0.47\n",
            "Episode 50\tAverage Reward: 12.92\tEpsilon: 0.22\n",
            "Episode 75\tAverage Reward: 11.08\tEpsilon: 0.10\n",
            "Episode 100\tAverage Reward: 12.97\tEpsilon: 0.05\n",
            "Episode 125\tAverage Reward: 14.14\tEpsilon: 0.02\n",
            "Episode 150\tAverage Reward: 14.92\tEpsilon: 0.01\n",
            "Episode 175\tAverage Reward: 14.14\tEpsilon: 0.01\n",
            "Episode 200\tAverage Reward: 14.89\tEpsilon: 0.01\n",
            "Episode 225\tAverage Reward: 12.97\tEpsilon: 0.01\n",
            "Episode 250\tAverage Reward: 14.92\tEpsilon: 0.01\n",
            "Episode 25\tAverage Reward: 11.36\tEpsilon: 0.47\n",
            "Episode 50\tAverage Reward: 9.72\tEpsilon: 0.22\n",
            "Episode 75\tAverage Reward: 10.75\tEpsilon: 0.10\n",
            "Episode 100\tAverage Reward: 10.11\tEpsilon: 0.05\n",
            "Episode 125\tAverage Reward: 14.92\tEpsilon: 0.02\n",
            "Episode 150\tAverage Reward: 10.78\tEpsilon: 0.01\n",
            "Episode 175\tAverage Reward: 10.78\tEpsilon: 0.01\n",
            "Episode 200\tAverage Reward: 10.83\tEpsilon: 0.01\n",
            "Episode 225\tAverage Reward: 14.19\tEpsilon: 0.01\n",
            "Episode 250\tAverage Reward: 13.86\tEpsilon: 0.01\n",
            "Episode 25\tAverage Reward: 7.28\tEpsilon: 0.47\n",
            "Episode 50\tAverage Reward: 11.08\tEpsilon: 0.22\n",
            "Episode 75\tAverage Reward: 14.94\tEpsilon: 0.10\n",
            "Episode 100\tAverage Reward: 11.08\tEpsilon: 0.05\n",
            "Episode 125\tAverage Reward: 13.28\tEpsilon: 0.02\n",
            "Episode 150\tAverage Reward: 11.08\tEpsilon: 0.01\n",
            "Episode 175\tAverage Reward: 14.92\tEpsilon: 0.01\n",
            "Episode 200\tAverage Reward: 11.58\tEpsilon: 0.01\n",
            "Episode 225\tAverage Reward: 10.83\tEpsilon: 0.01\n",
            "Episode 250\tAverage Reward: 14.92\tEpsilon: 0.01\n",
            "Episode 25\tAverage Reward: 12.61\tEpsilon: 0.47\n",
            "Episode 50\tAverage Reward: 10.81\tEpsilon: 0.22\n",
            "Episode 75\tAverage Reward: 11.08\tEpsilon: 0.10\n",
            "Episode 100\tAverage Reward: 11.08\tEpsilon: 0.05\n",
            "Episode 125\tAverage Reward: 10.77\tEpsilon: 0.02\n",
            "Episode 150\tAverage Reward: 11.02\tEpsilon: 0.01\n",
            "Episode 175\tAverage Reward: 14.55\tEpsilon: 0.01\n",
            "Episode 200\tAverage Reward: 10.80\tEpsilon: 0.01\n",
            "Episode 225\tAverage Reward: 11.02\tEpsilon: 0.01\n",
            "Episode 250\tAverage Reward: 14.92\tEpsilon: 0.01\n",
            "Episode 25\tAverage Reward: 11.11\tEpsilon: 0.47\n",
            "Episode 50\tAverage Reward: 12.92\tEpsilon: 0.22\n",
            "Episode 75\tAverage Reward: 13.53\tEpsilon: 0.10\n",
            "Episode 100\tAverage Reward: 14.97\tEpsilon: 0.05\n",
            "Episode 125\tAverage Reward: 14.97\tEpsilon: 0.02\n",
            "Episode 150\tAverage Reward: 14.14\tEpsilon: 0.01\n",
            "Episode 175\tAverage Reward: 14.92\tEpsilon: 0.01\n",
            "Episode 200\tAverage Reward: 14.89\tEpsilon: 0.01\n",
            "Episode 225\tAverage Reward: 12.97\tEpsilon: 0.01\n",
            "Episode 250\tAverage Reward: 14.92\tEpsilon: 0.01\n",
            "Episode 25\tAverage Reward: 14.75\tEpsilon: 0.47\n",
            "Episode 50\tAverage Reward: 10.83\tEpsilon: 0.22\n",
            "Episode 75\tAverage Reward: 11.02\tEpsilon: 0.10\n",
            "Episode 100\tAverage Reward: 10.77\tEpsilon: 0.05\n",
            "Episode 125\tAverage Reward: 14.19\tEpsilon: 0.02\n",
            "Episode 150\tAverage Reward: 10.77\tEpsilon: 0.01\n",
            "Episode 175\tAverage Reward: 14.92\tEpsilon: 0.01\n",
            "Episode 200\tAverage Reward: 14.14\tEpsilon: 0.01\n",
            "Episode 225\tAverage Reward: 10.83\tEpsilon: 0.01\n",
            "Episode 250\tAverage Reward: 10.64\tEpsilon: 0.01\n",
            "Episode 25\tAverage Reward: 10.67\tEpsilon: 0.47\n",
            "Episode 50\tAverage Reward: 10.97\tEpsilon: 0.22\n",
            "Episode 75\tAverage Reward: 14.14\tEpsilon: 0.10\n",
            "Episode 100\tAverage Reward: 11.02\tEpsilon: 0.05\n",
            "Episode 125\tAverage Reward: 11.08\tEpsilon: 0.02\n",
            "Episode 150\tAverage Reward: 10.80\tEpsilon: 0.01\n",
            "Episode 175\tAverage Reward: 14.92\tEpsilon: 0.01\n",
            "Episode 200\tAverage Reward: 11.58\tEpsilon: 0.01\n",
            "Episode 225\tAverage Reward: 14.25\tEpsilon: 0.01\n",
            "Episode 250\tAverage Reward: 14.22\tEpsilon: 0.01\n",
            "Episode 25\tAverage Reward: 10.69\tEpsilon: 0.47\n",
            "Episode 50\tAverage Reward: 10.97\tEpsilon: 0.22\n",
            "Episode 75\tAverage Reward: 11.28\tEpsilon: 0.10\n",
            "Episode 100\tAverage Reward: 11.08\tEpsilon: 0.05\n",
            "Episode 125\tAverage Reward: 11.08\tEpsilon: 0.02\n",
            "Episode 150\tAverage Reward: 10.86\tEpsilon: 0.01\n",
            "Episode 175\tAverage Reward: 11.08\tEpsilon: 0.01\n",
            "Episode 200\tAverage Reward: 10.83\tEpsilon: 0.01\n",
            "Episode 225\tAverage Reward: 9.86\tEpsilon: 0.01\n",
            "Episode 250\tAverage Reward: 11.08\tEpsilon: 0.01\n",
            "Episode 25\tAverage Reward: 10.83\tEpsilon: 0.47\n",
            "Episode 50\tAverage Reward: 11.08\tEpsilon: 0.22\n",
            "Episode 75\tAverage Reward: 10.80\tEpsilon: 0.10\n",
            "Episode 100\tAverage Reward: 13.61\tEpsilon: 0.05\n",
            "Episode 125\tAverage Reward: 11.08\tEpsilon: 0.02\n",
            "Episode 150\tAverage Reward: 11.08\tEpsilon: 0.01\n",
            "Episode 175\tAverage Reward: 14.58\tEpsilon: 0.01\n",
            "Episode 200\tAverage Reward: 14.92\tEpsilon: 0.01\n",
            "Episode 225\tAverage Reward: 14.72\tEpsilon: 0.01\n",
            "Episode 250\tAverage Reward: 15.08\tEpsilon: 0.01\n"
          ]
        }
      ],
      "source": [
        " crs3, agent3 = run_DeepQLearning_agent(_batch_size=128)"
      ]
    },
    {
      "cell_type": "code",
      "source": [
        " crs34, agent34 = run_DeepQLearning_agent(_batch_size=256)"
      ],
      "metadata": {
        "colab": {
          "base_uri": "https://localhost:8080/"
        },
        "id": "R_kxKYOaWD2M",
        "outputId": "c7c22324-42d8-47c2-f885-77697786ad68"
      },
      "id": "R_kxKYOaWD2M",
      "execution_count": null,
      "outputs": [
        {
          "output_type": "stream",
          "name": "stdout",
          "text": [
            "Episode 25\tAverage Reward: 13.94\tEpsilon: 0.47\n",
            "Episode 50\tAverage Reward: 10.86\tEpsilon: 0.22\n",
            "Episode 75\tAverage Reward: 11.02\tEpsilon: 0.10\n",
            "Episode 100\tAverage Reward: 11.08\tEpsilon: 0.05\n",
            "Episode 125\tAverage Reward: 10.64\tEpsilon: 0.02\n",
            "Episode 150\tAverage Reward: 13.47\tEpsilon: 0.01\n",
            "Episode 175\tAverage Reward: 11.52\tEpsilon: 0.01\n",
            "Episode 200\tAverage Reward: 14.92\tEpsilon: 0.01\n",
            "Episode 225\tAverage Reward: 11.58\tEpsilon: 0.01\n",
            "Episode 250\tAverage Reward: 14.19\tEpsilon: 0.01\n",
            "Episode 25\tAverage Reward: 10.72\tEpsilon: 0.47\n",
            "Episode 50\tAverage Reward: 11.08\tEpsilon: 0.22\n",
            "Episode 75\tAverage Reward: 10.23\tEpsilon: 0.10\n",
            "Episode 100\tAverage Reward: 10.73\tEpsilon: 0.05\n",
            "Episode 125\tAverage Reward: 11.00\tEpsilon: 0.02\n",
            "Episode 150\tAverage Reward: 10.97\tEpsilon: 0.01\n",
            "Episode 175\tAverage Reward: 11.08\tEpsilon: 0.01\n",
            "Episode 200\tAverage Reward: 10.50\tEpsilon: 0.01\n",
            "Episode 225\tAverage Reward: 10.97\tEpsilon: 0.01\n",
            "Episode 250\tAverage Reward: 10.80\tEpsilon: 0.01\n",
            "Episode 25\tAverage Reward: 9.98\tEpsilon: 0.47\n",
            "Episode 50\tAverage Reward: 10.97\tEpsilon: 0.22\n",
            "Episode 75\tAverage Reward: 11.05\tEpsilon: 0.10\n",
            "Episode 100\tAverage Reward: 10.94\tEpsilon: 0.05\n",
            "Episode 125\tAverage Reward: 11.08\tEpsilon: 0.02\n",
            "Episode 150\tAverage Reward: 11.58\tEpsilon: 0.01\n",
            "Episode 175\tAverage Reward: 14.92\tEpsilon: 0.01\n",
            "Episode 200\tAverage Reward: 13.58\tEpsilon: 0.01\n",
            "Episode 225\tAverage Reward: 11.08\tEpsilon: 0.01\n",
            "Episode 250\tAverage Reward: 14.97\tEpsilon: 0.01\n",
            "Episode 25\tAverage Reward: 10.97\tEpsilon: 0.47\n",
            "Episode 50\tAverage Reward: 10.97\tEpsilon: 0.22\n",
            "Episode 75\tAverage Reward: 10.64\tEpsilon: 0.10\n",
            "Episode 100\tAverage Reward: 11.08\tEpsilon: 0.05\n",
            "Episode 125\tAverage Reward: 11.08\tEpsilon: 0.02\n",
            "Episode 150\tAverage Reward: 11.39\tEpsilon: 0.01\n",
            "Episode 175\tAverage Reward: 14.42\tEpsilon: 0.01\n",
            "Episode 200\tAverage Reward: 14.30\tEpsilon: 0.01\n",
            "Episode 225\tAverage Reward: 13.47\tEpsilon: 0.01\n",
            "Episode 250\tAverage Reward: 10.75\tEpsilon: 0.01\n",
            "Episode 25\tAverage Reward: 14.00\tEpsilon: 0.47\n",
            "Episode 50\tAverage Reward: 3.83\tEpsilon: 0.22\n",
            "Episode 75\tAverage Reward: 13.44\tEpsilon: 0.10\n",
            "Episode 100\tAverage Reward: 13.39\tEpsilon: 0.05\n",
            "Episode 125\tAverage Reward: 10.75\tEpsilon: 0.02\n",
            "Episode 150\tAverage Reward: 14.92\tEpsilon: 0.01\n",
            "Episode 175\tAverage Reward: 14.89\tEpsilon: 0.01\n",
            "Episode 200\tAverage Reward: 14.92\tEpsilon: 0.01\n",
            "Episode 225\tAverage Reward: 14.25\tEpsilon: 0.01\n",
            "Episode 250\tAverage Reward: 14.92\tEpsilon: 0.01\n",
            "Episode 25\tAverage Reward: 11.28\tEpsilon: 0.47\n",
            "Episode 50\tAverage Reward: 10.69\tEpsilon: 0.22\n",
            "Episode 75\tAverage Reward: 14.97\tEpsilon: 0.10\n",
            "Episode 100\tAverage Reward: 11.78\tEpsilon: 0.05\n",
            "Episode 125\tAverage Reward: 9.83\tEpsilon: 0.02\n",
            "Episode 150\tAverage Reward: 11.14\tEpsilon: 0.01\n",
            "Episode 175\tAverage Reward: 14.92\tEpsilon: 0.01\n",
            "Episode 200\tAverage Reward: 10.91\tEpsilon: 0.01\n",
            "Episode 225\tAverage Reward: 13.64\tEpsilon: 0.01\n",
            "Episode 250\tAverage Reward: 14.97\tEpsilon: 0.01\n",
            "Episode 25\tAverage Reward: 10.83\tEpsilon: 0.47\n",
            "Episode 50\tAverage Reward: 10.83\tEpsilon: 0.22\n",
            "Episode 75\tAverage Reward: 11.30\tEpsilon: 0.10\n",
            "Episode 100\tAverage Reward: 11.08\tEpsilon: 0.05\n",
            "Episode 125\tAverage Reward: 11.08\tEpsilon: 0.02\n",
            "Episode 150\tAverage Reward: 11.00\tEpsilon: 0.01\n",
            "Episode 175\tAverage Reward: 11.05\tEpsilon: 0.01\n",
            "Episode 200\tAverage Reward: 11.58\tEpsilon: 0.01\n",
            "Episode 225\tAverage Reward: 10.83\tEpsilon: 0.01\n",
            "Episode 250\tAverage Reward: 10.89\tEpsilon: 0.01\n",
            "Episode 25\tAverage Reward: 13.92\tEpsilon: 0.47\n",
            "Episode 50\tAverage Reward: 11.05\tEpsilon: 0.22\n",
            "Episode 75\tAverage Reward: 14.64\tEpsilon: 0.10\n",
            "Episode 100\tAverage Reward: 14.92\tEpsilon: 0.05\n",
            "Episode 125\tAverage Reward: 10.86\tEpsilon: 0.02\n",
            "Episode 150\tAverage Reward: 15.03\tEpsilon: 0.01\n",
            "Episode 175\tAverage Reward: 14.92\tEpsilon: 0.01\n",
            "Episode 200\tAverage Reward: 14.89\tEpsilon: 0.01\n",
            "Episode 225\tAverage Reward: 14.92\tEpsilon: 0.01\n",
            "Episode 250\tAverage Reward: 14.64\tEpsilon: 0.01\n",
            "Episode 25\tAverage Reward: 10.86\tEpsilon: 0.47\n",
            "Episode 50\tAverage Reward: 10.80\tEpsilon: 0.22\n",
            "Episode 75\tAverage Reward: 13.47\tEpsilon: 0.10\n",
            "Episode 100\tAverage Reward: 10.64\tEpsilon: 0.05\n",
            "Episode 125\tAverage Reward: 14.92\tEpsilon: 0.02\n",
            "Episode 150\tAverage Reward: 14.92\tEpsilon: 0.01\n",
            "Episode 175\tAverage Reward: 10.80\tEpsilon: 0.01\n",
            "Episode 200\tAverage Reward: 11.08\tEpsilon: 0.01\n",
            "Episode 225\tAverage Reward: 10.91\tEpsilon: 0.01\n",
            "Episode 250\tAverage Reward: 14.92\tEpsilon: 0.01\n",
            "Episode 25\tAverage Reward: 13.03\tEpsilon: 0.47\n",
            "Episode 50\tAverage Reward: 12.47\tEpsilon: 0.22\n",
            "Episode 75\tAverage Reward: 13.22\tEpsilon: 0.10\n",
            "Episode 100\tAverage Reward: 14.92\tEpsilon: 0.05\n",
            "Episode 125\tAverage Reward: 14.92\tEpsilon: 0.02\n",
            "Episode 150\tAverage Reward: 13.03\tEpsilon: 0.01\n",
            "Episode 175\tAverage Reward: 14.14\tEpsilon: 0.01\n",
            "Episode 200\tAverage Reward: 15.08\tEpsilon: 0.01\n",
            "Episode 225\tAverage Reward: 11.58\tEpsilon: 0.01\n",
            "Episode 250\tAverage Reward: 14.92\tEpsilon: 0.01\n"
          ]
        }
      ]
    },
    {
      "cell_type": "code",
      "source": [
        "window_size = 45\n",
        "cr0_ = np.convolve(np.mean(crs0, axis=0), np.ones(window_size)/window_size, mode='valid')\n",
        "cr1_ = np.convolve(np.mean(crs1, axis=0), np.ones(window_size)/window_size, mode='valid')\n",
        "cr2_ = np.convolve(np.mean(crs2, axis=0), np.ones(window_size)/window_size, mode='valid')\n",
        "cr3_ = np.convolve(np.mean(crs3, axis=0), np.ones(window_size)/window_size, mode='valid')\n",
        "cr34_ = np.convolve(np.mean(crs34, axis=0), np.ones(window_size)/window_size, mode='valid')\n",
        "ci0 = 1.96 * np.std(cr0_)/np.sqrt(len(cr0_))\n",
        "ci1 = 1.96 * np.std(cr1_)/np.sqrt(len(cr1_))\n",
        "ci2 = 1.96 * np.std(cr2_)/np.sqrt(len(cr2_))\n",
        "ci3 = 1.96 * np.std(cr3_)/np.sqrt(len(cr3_))\n",
        "ci34 = 1.96 * np.std(cr34_)/np.sqrt(len(cr34_))\n",
        "\n",
        "plt.figure(figsize=(13, 10))\n",
        "plt.title(\"merge-v0 - Batch Size Effect (window size:\"+str(window_size)+\")\")\n",
        "plt.plot(cr0_, label='batch size = 16')\n",
        "plt.plot(cr1_, label='batch size = 32')\n",
        "plt.plot(cr2_, label='batch size = 64')\n",
        "plt.plot(cr3_, label='batch size = 128')\n",
        "plt.plot(cr34_, label='batch size = 256')\n",
        "plt.fill_between(range(len(cr0_)), (cr0_-ci0), (cr0_+ci0), alpha=.3)\n",
        "plt.fill_between(range(len(cr1_)), (cr1_-ci1), (cr1_+ci1), alpha=.3)\n",
        "plt.fill_between(range(len(cr2_)), (cr2_-ci2), (cr2_+ci2), alpha=.3)\n",
        "plt.fill_between(range(len(cr3_)), (cr3_-ci3), (cr3_+ci3), alpha=.3)\n",
        "plt.fill_between(range(len(cr34_)), (cr34_-ci34), (cr34_+ci34), alpha=.3)\n",
        "plt.xlabel(\"Episode\")\n",
        "plt.ylabel('Cummulative Reward')\n",
        "plt.legend()\n",
        "plt.grid()\n",
        "plt.show()"
      ],
      "metadata": {
        "colab": {
          "base_uri": "https://localhost:8080/",
          "height": 621
        },
        "id": "muylypxVGpcO",
        "outputId": "c3565df9-e818-4471-e5de-1c794b73edc1"
      },
      "id": "muylypxVGpcO",
      "execution_count": null,
      "outputs": [
        {
          "output_type": "display_data",
          "data": {
            "text/plain": [
              "<Figure size 936x720 with 1 Axes>"
            ],
            "image/png": "[encoded data removed]"
          },
          "metadata": {
            "needs_background": "light"
          }
        }
      ]
    },
    {
      "cell_type": "code",
      "execution_count": null,
      "id": "m1zsfku14Xrl",
      "metadata": {
        "colab": {
          "base_uri": "https://localhost:8080/",
          "height": 530
        },
        "id": "m1zsfku14Xrl",
        "outputId": "3bb5ea68-8565-491e-af32-411c8d81427d"
      },
      "outputs": [
        {
          "data": {
            "text/plain": [
              "<matplotlib.legend.Legend at 0x7fea60672340>"
            ]
          },
          "execution_count": 29,
          "metadata": {},
          "output_type": "execute_result"
        },
        {
          "data": {
            "image/png": "[encoded data removed]",
            "text/plain": [
              "<Figure size 720x576 with 1 Axes>"
            ]
          },
          "metadata": {
            "needs_background": "light"
          },
          "output_type": "display_data"
        }
      ],
      "source": [
        "window_size = 45\n",
        "cr1_ = np.convolve(np.mean(crs1, axis=0), np.ones(window_size)/window_size, mode='valid')\n",
        "cr2_ = np.convolve(np.mean(crs2, axis=0), np.ones(window_size)/window_size, mode='valid')\n",
        "cr3_ = np.convolve(np.mean(crs3, axis=0), np.ones(window_size)/window_size, mode='valid')\n",
        "ci1 = 1.96 * np.std(cr1_)/np.sqrt(len(cr1_))\n",
        "ci2 = 1.96 * np.std(cr2_)/np.sqrt(len(cr2_))\n",
        "ci3 = 1.96 * np.std(cr3_)/np.sqrt(len(cr3_))\n",
        "\n",
        "plt.figure(figsize=(10, 8))\n",
        "plt.title(\"merge-v0 - Batch Size Effect (window size:\"+str(window_size)+\")\")\n",
        "plt.plot(cr1_, label='batch size = 32')\n",
        "plt.plot(cr2_, label='batch size = 64')\n",
        "plt.plot(cr3_, label='batch size = 128')\n",
        "plt.fill_between(range(len(cr1_)), (cr1_-ci1), (cr1_+ci1), alpha=.3)\n",
        "plt.fill_between(range(len(cr2_)), (cr2_-ci2), (cr2_+ci2), alpha=.3)\n",
        "plt.fill_between(range(len(cr3_)), (cr3_-ci3), (cr3_+ci3), alpha=.3)\n",
        "plt.xlabel(\"Episode\")\n",
        "plt.ylabel(\"Average Reward\")\n",
        "plt.legend()"
      ]
    },
    {
      "cell_type": "markdown",
      "id": "4b8ec34e",
      "metadata": {
        "id": "4b8ec34e"
      },
      "source": [
        "<a name='2-3'></a>\n",
        "## Render"
      ]
    },
    {
      "cell_type": "code",
      "execution_count": null,
      "id": "ISkFJ7_-8x4t",
      "metadata": {
        "colab": {
          "base_uri": "https://localhost:8080/"
        },
        "id": "ISkFJ7_-8x4t",
        "outputId": "98470ba5-158e-446a-c526-0bfeac88195e"
      },
      "outputs": [
        {
          "output_type": "stream",
          "name": "stdout",
          "text": [
            "Episode 25\tAverage Reward: 7.97\tEpsilon: 0.47\n",
            "Episode 50\tAverage Reward: 10.86\tEpsilon: 0.22\n",
            "Episode 75\tAverage Reward: 10.91\tEpsilon: 0.10\n",
            "Episode 100\tAverage Reward: 10.91\tEpsilon: 0.05\n",
            "Episode 125\tAverage Reward: 10.94\tEpsilon: 0.02\n",
            "Episode 150\tAverage Reward: 11.05\tEpsilon: 0.01\n",
            "Episode 175\tAverage Reward: 14.92\tEpsilon: 0.01\n",
            "Episode 200\tAverage Reward: 14.92\tEpsilon: 0.01\n",
            "Episode 225\tAverage Reward: 11.22\tEpsilon: 0.01\n",
            "Episode 250\tAverage Reward: 14.92\tEpsilon: 0.01\n"
          ]
        }
      ],
      "source": [
        "crs6, agent6  = run_DeepQLearning_agent(_batch_size=32, reps=1)"
      ]
    },
    {
      "cell_type": "code",
      "source": [
        "# env = gym.make(\"highway-v0\")\n",
        "!pip install pygame \n",
        "import os\n",
        "os.environ['SDL_VIDEODRIVER']=\"x11\"\n",
        "import pygame\n",
        "pygame.display.set_mode((640,480))"
      ],
      "metadata": {
        "colab": {
          "base_uri": "https://localhost:8080/",
          "height": 235
        },
        "id": "Ry3eFm5b0x9d",
        "outputId": "1829d6e1-36a7-4cbf-cf9b-35477f7c23ff"
      },
      "id": "Ry3eFm5b0x9d",
      "execution_count": null,
      "outputs": [
        {
          "output_type": "stream",
          "name": "stdout",
          "text": [
            "Looking in indexes: https://pypi.org/simple, https://us-python.pkg.dev/colab-wheels/public/simple/\n",
            "Requirement already satisfied: pygame in /usr/local/lib/python3.8/dist-packages (2.1.2)\n"
          ]
        },
        {
          "output_type": "error",
          "ename": "error",
          "evalue": "ignored",
          "traceback": [
            "\u001b[0;31m---------------------------------------------------------------------------\u001b[0m",
            "\u001b[0;31merror\u001b[0m                                     Traceback (most recent call last)",
            "\u001b[0;32m<ipython-input-26-96d4ff8cc398>\u001b[0m in \u001b[0;36m<module>\u001b[0;34m\u001b[0m\n\u001b[1;32m      4\u001b[0m \u001b[0mos\u001b[0m\u001b[0;34m.\u001b[0m\u001b[0menviron\u001b[0m\u001b[0;34m[\u001b[0m\u001b[0;34m'SDL_VIDEODRIVER'\u001b[0m\u001b[0;34m]\u001b[0m\u001b[0;34m=\u001b[0m\u001b[0;34m\"x11\"\u001b[0m\u001b[0;34m\u001b[0m\u001b[0;34m\u001b[0m\u001b[0m\n\u001b[1;32m      5\u001b[0m \u001b[0;32mimport\u001b[0m \u001b[0mpygame\u001b[0m\u001b[0;34m\u001b[0m\u001b[0;34m\u001b[0m\u001b[0m\n\u001b[0;32m----> 6\u001b[0;31m \u001b[0mpygame\u001b[0m\u001b[0;34m.\u001b[0m\u001b[0mdisplay\u001b[0m\u001b[0;34m.\u001b[0m\u001b[0mset_mode\u001b[0m\u001b[0;34m(\u001b[0m\u001b[0;34m(\u001b[0m\u001b[0;36m640\u001b[0m\u001b[0;34m,\u001b[0m\u001b[0;36m480\u001b[0m\u001b[0;34m)\u001b[0m\u001b[0;34m)\u001b[0m\u001b[0;34m\u001b[0m\u001b[0;34m\u001b[0m\u001b[0m\n\u001b[0m",
            "\u001b[0;31merror\u001b[0m: x11 not available"
          ]
        }
      ]
    },
    {
      "cell_type": "code",
      "source": [
        "if os.environ.get('DISPLAY'):\n",
        "    print(\"X11 is available\")"
      ],
      "metadata": {
        "id": "Ut9YzJYb2MJ3"
      },
      "id": "Ut9YzJYb2MJ3",
      "execution_count": null,
      "outputs": []
    },
    {
      "cell_type": "code",
      "source": [
        "# # from gym.wrappers.monitoring import video_recorder\n",
        "# # vid = video_recorder.VideoRecorder(env,path=\"./recording/vid.mp4\")\n",
        "# env = RecordVideo(env, video_folder=\"run\",\n",
        "#               episode_trigger=lambda e: True)  # record all episodes\n",
        "\n",
        "# # Provide the video recorder to the wrapped environment\n",
        "# # so it can send it intermediate simulation frames.\n",
        "# env.unwrapped.set_record_video_wrapper(env)\n",
        "done = truncated = False\n",
        "S, info = env.reset()\n",
        "while not (done or truncated):\n",
        "  env.render()\n",
        "  A = agent6.choose_action(S, 0.1).item()\n",
        "  obs, reward, done, truncated, info = env.step(A)\n",
        "  S = obs\n",
        "env.close()"
      ],
      "metadata": {
        "id": "u-V7hmSZ07JT"
      },
      "id": "u-V7hmSZ07JT",
      "execution_count": null,
      "outputs": []
    },
    {
      "cell_type": "code",
      "execution_count": null,
      "id": "m4rQF26dFuL5",
      "metadata": {
        "colab": {
          "base_uri": "https://localhost:8080/"
        },
        "id": "m4rQF26dFuL5",
        "outputId": "83297267-4279-4cc0-822e-6b81484c7e7b"
      },
      "outputs": [
        {
          "output_type": "stream",
          "name": "stdout",
          "text": [
            "Looking in indexes: https://pypi.org/simple, https://us-python.pkg.dev/colab-wheels/public/simple/\n",
            "Requirement already satisfied: pygame in /usr/local/lib/python3.8/dist-packages (2.1.2)\n"
          ]
        },
        {
          "output_type": "execute_result",
          "data": {
            "text/plain": [
              "<Surface(640x480x32 SW)>"
            ]
          },
          "metadata": {},
          "execution_count": 29
        }
      ],
      "source": [
        "!pip install pygame \n",
        "\n",
        "import os\n",
        "os.environ['SDL_VIDEODRIVER']='dummy'\n",
        "import pygame\n",
        "pygame.display.set_mode((640,480))"
      ]
    },
    {
      "cell_type": "code",
      "execution_count": null,
      "id": "iaho7HIAODhy",
      "metadata": {
        "colab": {
          "base_uri": "https://localhost:8080/",
          "height": 235
        },
        "id": "iaho7HIAODhy",
        "outputId": "e7653c0c-6fca-44fe-d872-24467e136584"
      },
      "outputs": [
        {
          "ename": "NameError",
          "evalue": "ignored",
          "output_type": "error",
          "traceback": [
            "\u001b[0;31m---------------------------------------------------------------------------\u001b[0m",
            "\u001b[0;31mNameError\u001b[0m                                 Traceback (most recent call last)",
            "\u001b[0;32m<ipython-input-30-66d7eea6740c>\u001b[0m in \u001b[0;36m<module>\u001b[0;34m\u001b[0m\n\u001b[1;32m      1\u001b[0m \u001b[0;31m# from gym.wrappers.monitoring import video_recorder\u001b[0m\u001b[0;34m\u001b[0m\u001b[0;34m\u001b[0m\u001b[0;34m\u001b[0m\u001b[0m\n\u001b[1;32m      2\u001b[0m \u001b[0;31m# vid = video_recorder.VideoRecorder(env,path=\"./recording/vid.mp4\")\u001b[0m\u001b[0;34m\u001b[0m\u001b[0;34m\u001b[0m\u001b[0;34m\u001b[0m\u001b[0m\n\u001b[0;32m----> 3\u001b[0;31m env = RecordVideo(env, video_folder=\"run\",\n\u001b[0m\u001b[1;32m      4\u001b[0m               episode_trigger=lambda e: True)  # record all episodes\n\u001b[1;32m      5\u001b[0m \u001b[0;34m\u001b[0m\u001b[0m\n",
            "\u001b[0;31mNameError\u001b[0m: name 'RecordVideo' is not defined"
          ]
        }
      ],
      "source": [
        "# from gym.wrappers.monitoring import video_recorder\n",
        "# vid = video_recorder.VideoRecorder(env,path=\"./recording/vid.mp4\")\n",
        "env = RecordVideo(env, video_folder=\"run\",\n",
        "              episode_trigger=lambda e: True)  # record all episodes\n",
        "\n",
        "# Provide the video recorder to the wrapped environment\n",
        "# so it can send it intermediate simulation frames.\n",
        "env.unwrapped.set_record_video_wrapper(env)\n",
        "done = truncated = False\n",
        "S, info = env.reset()\n",
        "while not (done or truncated):\n",
        "  env.render()\n",
        "  A = agent6.choose_action(S, 0.2).item()\n",
        "  obs, reward, done, truncated, info = env.step(A)\n",
        "  S = obs\n",
        "env.close()\n",
        "\n"
      ]
    },
    {
      "cell_type": "code",
      "execution_count": null,
      "id": "2vhC4BcPJDyT",
      "metadata": {
        "colab": {
          "base_uri": "https://localhost:8080/"
        },
        "id": "2vhC4BcPJDyT",
        "outputId": "0d9a1292-af3f-4621-f195-6f106e4135c4"
      },
      "outputs": [
        {
          "name": "stdout",
          "output_type": "stream",
          "text": [
            "Looking in indexes: https://pypi.org/simple, https://us-python.pkg.dev/colab-wheels/public/simple/\n",
            "Collecting tensorboardx\n",
            "  Downloading tensorboardX-2.5.1-py2.py3-none-any.whl (125 kB)\n",
            "\u001b[2K     \u001b[90m━━━━━━━━━━━━━━━━━━━━━━━━━━━━━━━━━━━━━━━\u001b[0m \u001b[32m125.4/125.4 KB\u001b[0m \u001b[31m9.6 MB/s\u001b[0m eta \u001b[36m0:00:00\u001b[0m\n",
            "\u001b[?25hRequirement already satisfied: gym in /usr/local/lib/python3.8/dist-packages (0.26.2)\n",
            "Requirement already satisfied: pyvirtualdisplay in /usr/local/lib/python3.8/dist-packages (3.0)\n",
            "Requirement already satisfied: numpy in /usr/local/lib/python3.8/dist-packages (from tensorboardx) (1.21.6)\n",
            "Requirement already satisfied: protobuf<=3.20.1,>=3.8.0 in /usr/local/lib/python3.8/dist-packages (from tensorboardx) (3.19.6)\n",
            "Requirement already satisfied: importlib-metadata>=4.8.0 in /usr/local/lib/python3.8/dist-packages (from gym) (6.0.0)\n",
            "Requirement already satisfied: cloudpickle>=1.2.0 in /usr/local/lib/python3.8/dist-packages (from gym) (2.2.0)\n",
            "Requirement already satisfied: gym-notices>=0.0.4 in /usr/local/lib/python3.8/dist-packages (from gym) (0.0.8)\n",
            "Requirement already satisfied: zipp>=0.5 in /usr/local/lib/python3.8/dist-packages (from importlib-metadata>=4.8.0->gym) (3.11.0)\n",
            "Installing collected packages: tensorboardx\n",
            "Successfully installed tensorboardx-2.5.1\n",
            "Reading package lists... Done\n",
            "Building dependency tree       \n",
            "Reading state information... Done\n",
            "python-opengl is already the newest version (3.1.0+dfsg-1).\n",
            "ffmpeg is already the newest version (7:3.4.11-0ubuntu0.1).\n",
            "xvfb is already the newest version (2:1.19.6-1ubuntu4.13).\n",
            "The following package was automatically installed and is no longer required:\n",
            "  libnvidia-common-460\n",
            "Use 'apt autoremove' to remove it.\n",
            "0 upgraded, 0 newly installed, 0 to remove and 21 not upgraded.\n"
          ]
        }
      ],
      "source": [
        "%load_ext tensorboard\n",
        "import sys\n",
        "from tqdm.notebook import trange\n",
        "!pip install tensorboardx gym pyvirtualdisplay\n",
        "!apt-get install -y xvfb python-opengl ffmpeg\n",
        "!git clone https://github.com/eleurent/highway-env.git 2> /dev/null\n",
        "sys.path.insert(0, '/content/highway-env/scripts/')\n",
        "from utils import record_videos, show_videos"
      ]
    },
    {
      "cell_type": "code",
      "execution_count": null,
      "id": "q6mv3FChIh7P",
      "metadata": {
        "colab": {
          "base_uri": "https://localhost:8080/",
          "height": 106
        },
        "id": "q6mv3FChIh7P",
        "outputId": "41f4f97c-f7f3-409c-ef7b-ca83d79646b3"
      },
      "outputs": [
        {
          "name": "stderr",
          "output_type": "stream",
          "text": [
            "/usr/local/lib/python3.8/dist-packages/gym/wrappers/record_video.py:75: UserWarning: \u001b[33mWARN: Overwriting existing videos at /content/videos folder (try specifying a different `video_folder` for the `RecordVideo` wrapper if this is not desired)\u001b[0m\n",
            "  logger.warn(\n",
            "/usr/local/lib/python3.8/dist-packages/gym/wrappers/monitoring/video_recorder.py:59: UserWarning: \u001b[33mWARN: Disabling video recorder because environment <RecordVideo<OrderEnforcing<PassiveEnvChecker<MergeEnv<merge-v0>>>>> was not initialized with any compatible video mode between `rgb_array` and `rgb_array_list`\u001b[0m\n",
            "  logger.warn(\n"
          ]
        },
        {
          "data": {
            "text/html": [],
            "text/plain": [
              "<IPython.core.display.HTML object>"
            ]
          },
          "metadata": {},
          "output_type": "display_data"
        }
      ],
      "source": [
        "done = truncated = False\n",
        "S, info = env.reset()\n",
        "env = record_videos(env)\n",
        "\n",
        "while not (done or truncated):\n",
        "  A = agent6.choose_action(S, 0.2).item()\n",
        "  obs, reward, done, truncated, info = env.step(A)\n",
        "  S = obs\n",
        "  env.render(mode='rgb_array')\n",
        "\n",
        "env.close()\n",
        "show_videos()"
      ]
    },
    {
      "cell_type": "code",
      "execution_count": null,
      "id": "i9BwOQk8JuTQ",
      "metadata": {
        "colab": {
          "base_uri": "https://localhost:8080/"
        },
        "id": "i9BwOQk8JuTQ",
        "outputId": "5d2b0efa-8685-43ea-aa88-c5922c213311"
      },
      "outputs": [
        {
          "name": "stdout",
          "output_type": "stream",
          "text": [
            "Looking in indexes: https://pypi.org/simple, https://us-python.pkg.dev/colab-wheels/public/simple/\n",
            "Requirement already satisfied: gym in /usr/local/lib/python3.8/dist-packages (0.26.2)\n",
            "Requirement already satisfied: pyvirtualdisplay in /usr/local/lib/python3.8/dist-packages (3.0)\n",
            "Requirement already satisfied: numpy>=1.18.0 in /usr/local/lib/python3.8/dist-packages (from gym) (1.21.6)\n",
            "Requirement already satisfied: cloudpickle>=1.2.0 in /usr/local/lib/python3.8/dist-packages (from gym) (2.2.0)\n",
            "Requirement already satisfied: importlib-metadata>=4.8.0 in /usr/local/lib/python3.8/dist-packages (from gym) (6.0.0)\n",
            "Requirement already satisfied: gym-notices>=0.0.4 in /usr/local/lib/python3.8/dist-packages (from gym) (0.0.8)\n",
            "Requirement already satisfied: zipp>=0.5 in /usr/local/lib/python3.8/dist-packages (from importlib-metadata>=4.8.0->gym) (3.11.0)\n",
            "Reading package lists... Done\n",
            "Building dependency tree       \n",
            "Reading state information... Done\n",
            "python-opengl is already the newest version (3.1.0+dfsg-1).\n",
            "ffmpeg is already the newest version (7:3.4.11-0ubuntu0.1).\n",
            "xvfb is already the newest version (2:1.19.6-1ubuntu4.13).\n",
            "The following package was automatically installed and is no longer required:\n",
            "  libnvidia-common-460\n",
            "Use 'apt autoremove' to remove it.\n",
            "0 upgraded, 0 newly installed, 0 to remove and 21 not upgraded.\n"
          ]
        }
      ],
      "source": [
        "!pip install gym pyvirtualdisplay\n",
        "!apt-get install -y xvfb python-opengl ffmpeg\n",
        "\n",
        "from IPython import display as ipythondisplay\n",
        "from pyvirtualdisplay import Display\n",
        "from gym.wrappers import RecordVideo\n",
        "from pathlib import Path\n",
        "import base64\n",
        "from tqdm.notebook import trange\n",
        "\n",
        "display = Display(visible=0, size=(1400, 900))\n",
        "display.start()\n",
        "\n",
        "def show_video():\n",
        "    html = []\n",
        "    for mp4 in Path(\"video\").glob(\"*.mp4\"):\n",
        "        video_b64 = base64.b64encode(mp4.read_bytes())\n",
        "        html.append('''<video alt=\"{}\" autoplay \n",
        "                      loop controls style=\"height: 400px;\">\n",
        "                      <source src=\"data:video/mp4;base64,{}\" type=\"video/mp4\" />\n",
        "                 </video>'''.format(mp4, video_b64.decode('ascii')))\n",
        "    ipythondisplay.display(ipythondisplay.HTML(data=\"<br>\".join(html)))"
      ]
    },
    {
      "cell_type": "code",
      "execution_count": null,
      "id": "VWcC3sl9JteR",
      "metadata": {
        "colab": {
          "base_uri": "https://localhost:8080/",
          "height": 72
        },
        "id": "VWcC3sl9JteR",
        "outputId": "58a827c1-2e22-4a9c-ff5f-0e0fc6127177"
      },
      "outputs": [
        {
          "name": "stderr",
          "output_type": "stream",
          "text": [
            "/usr/local/lib/python3.8/dist-packages/gym/wrappers/monitoring/video_recorder.py:59: UserWarning: \u001b[33mWARN: Disabling video recorder because environment <RecordVideo<RecordVideo<RecordVideo<OrderEnforcing<PassiveEnvChecker<MergeEnv<merge-v0>>>>>>> was not initialized with any compatible video mode between `rgb_array` and `rgb_array_list`\u001b[0m\n",
            "  logger.warn(\n"
          ]
        },
        {
          "data": {
            "text/html": [],
            "text/plain": [
              "<IPython.core.display.HTML object>"
            ]
          },
          "metadata": {},
          "output_type": "display_data"
        }
      ],
      "source": [
        "done = truncated = False\n",
        "S, info = env.reset()\n",
        "env = RecordVideo(env, video_folder='./videos', episode_trigger=lambda e: True)\n",
        "env.unwrapped.set_record_video_wrapper(env)\n",
        "\n",
        "while not (done or truncated):\n",
        "  A = agent6.choose_action(S, 0.2).item()\n",
        "  obs, reward, done, truncated, info = env.step(A)\n",
        "  S = obs\n",
        "  \n",
        "\n",
        "env.close()\n",
        "show_videos()\n",
        "\n"
      ]
    },
    {
      "cell_type": "code",
      "execution_count": null,
      "id": "41hrf1BeHz_e",
      "metadata": {
        "colab": {
          "base_uri": "https://localhost:8080/"
        },
        "id": "41hrf1BeHz_e",
        "outputId": "21a803cb-4861-4c89-e71b-773a23f4ed55"
      },
      "outputs": [
        {
          "data": {
            "text/plain": [
              "<pyvirtualdisplay.display.Display at 0x7f11cc976880>"
            ]
          },
          "execution_count": 44,
          "metadata": {},
          "output_type": "execute_result"
        }
      ],
      "source": [
        "!apt-get install x11-utils > /dev/null 2>&1 \n",
        "!pip install pyglet > /dev/null 2>&1 \n",
        "!apt-get install -y xvfb python-opengl > /dev/null 2>&1\n",
        "!pip install gym pyvirtualdisplay > /dev/null 2>&1\n",
        "import gym\n",
        "import numpy as np\n",
        "import matplotlib.pyplot as plt\n",
        "from IPython import display as ipythondisplay\n",
        "from pyvirtualdisplay import Display\n",
        "display = Display(visible=0, size=(400, 300))\n",
        "display.start()"
      ]
    },
    {
      "cell_type": "code",
      "execution_count": null,
      "id": "FMSiTp0R9Lbc",
      "metadata": {
        "colab": {
          "base_uri": "https://localhost:8080/",
          "height": 135
        },
        "id": "FMSiTp0R9Lbc",
        "outputId": "57d6dd01-560a-40c7-d9ce-5de0f59c242c"
      },
      "outputs": [
        {
          "data": {
            "image/png": "[encoded data removed]",
            "text/plain": [
              "<Figure size 432x288 with 1 Axes>"
            ]
          },
          "metadata": {
            "needs_background": "light"
          },
          "output_type": "display_data"
        }
      ],
      "source": [
        "done = truncated = False\n",
        "S, info = env.reset()\n",
        "prev_screen = env.render(mode='rgb_array')\n",
        "plt.imshow(prev_screen)\n",
        "while not (done or truncated):\n",
        "  A = agent6.choose_action(S, 0.2).item()\n",
        "  obs, reward, done, truncated, info = env.step(A)\n",
        "  S = obs\n",
        "  screen = env.render(mode='rgb_array')\n",
        "  plt.imshow(screen)\n",
        "  ipythondisplay.clear_output(wait=True)\n",
        "  ipythondisplay.display(plt.gcf())\n",
        "ipythondisplay.clear_output(wait=True)\n",
        "env.close()"
      ]
    },
    {
      "cell_type": "markdown",
      "id": "286e484c",
      "metadata": {
        "id": "286e484c"
      },
      "source": [
        "<a name='2-4'></a>\n",
        "## Hyperparameters"
      ]
    },
    {
      "cell_type": "code",
      "execution_count": null,
      "id": "91c9ca77",
      "metadata": {
        "id": "91c9ca77"
      },
      "outputs": [],
      "source": [
        "input = keras.layers.Input(shape=(5))\n",
        "output = keras.layers.Flatten()(input)\n",
        "output = keras.layers.Dense(512, activation='relu')(output)\n",
        "output = keras.layers.Dense(512, activation='relu')(output)\n",
        "output = keras.layers.Dense(512, activation='relu')(output)\n",
        "output = keras.layers.Dense(5, activation='relu')(output)\n",
        "model = keras.models.Model(inputs=input, outputs=output)\n",
        "model.compile(optimizer=optimizers.Adam(learning_rate=1e-4), loss='categorical_crossentropy', metrics=['accuracy'])"
      ]
    },
    {
      "cell_type": "code",
      "execution_count": null,
      "id": "Ga1ngmeFAaR5",
      "metadata": {
        "colab": {
          "base_uri": "https://localhost:8080/"
        },
        "id": "Ga1ngmeFAaR5",
        "outputId": "469be7b4-c589-4ca3-a84b-e8b4ce2d46b6"
      },
      "outputs": [
        {
          "name": "stdout",
          "output_type": "stream",
          "text": [
            "Model: \"model_1\"\n",
            "_________________________________________________________________\n",
            " Layer (type)                Output Shape              Param #   \n",
            "=================================================================\n",
            " input_2 (InputLayer)        [(None, 5)]               0         \n",
            "                                                                 \n",
            " flatten_1 (Flatten)         (None, 5)                 0         \n",
            "                                                                 \n",
            " dense_4 (Dense)             (None, 512)               3072      \n",
            "                                                                 \n",
            " dense_5 (Dense)             (None, 512)               262656    \n",
            "                                                                 \n",
            " dense_6 (Dense)             (None, 512)               262656    \n",
            "                                                                 \n",
            " dense_7 (Dense)             (None, 5)                 2565      \n",
            "                                                                 \n",
            "=================================================================\n",
            "Total params: 530,949\n",
            "Trainable params: 530,949\n",
            "Non-trainable params: 0\n",
            "_________________________________________________________________\n"
          ]
        }
      ],
      "source": [
        "model.summary()"
      ]
    },
    {
      "cell_type": "code",
      "execution_count": null,
      "id": "4z_n2PdlAZvd",
      "metadata": {
        "colab": {
          "base_uri": "https://localhost:8080/",
          "height": 644
        },
        "id": "4z_n2PdlAZvd",
        "outputId": "ba2fc97c-0e6c-46b9-b957-0dbabf50d7da"
      },
      "outputs": [
        {
          "data": {
            "image/png": "[encoded data removed]",
            "text/plain": [
              "<IPython.core.display.Image object>"
            ]
          },
          "execution_count": 36,
          "metadata": {},
          "output_type": "execute_result"
        }
      ],
      "source": [
        "utils.plot_model(model, show_shapes=True, expand_nested=True)"
      ]
    },
    {
      "cell_type": "markdown",
      "id": "77a90d50",
      "metadata": {
        "id": "77a90d50"
      },
      "source": [
        "<a name='3'></a>\n",
        "# Part 3"
      ]
    },
    {
      "cell_type": "code",
      "source": [
        "crs1, agent1 = run_DeepQLearning_agent(_batch_size=32, number_of_episodes=400, epsilon_decay_rate=0.98, reps=1)"
      ],
      "metadata": {
        "id": "7zKD_x2G0pcS"
      },
      "id": "7zKD_x2G0pcS",
      "execution_count": null,
      "outputs": []
    },
    {
      "cell_type": "code",
      "execution_count": null,
      "id": "b57ee3e7",
      "metadata": {
        "colab": {
          "base_uri": "https://localhost:8080/"
        },
        "id": "b57ee3e7",
        "outputId": "e3abc122-2e66-49fb-a027-b1d3506e13ed"
      },
      "outputs": [
        {
          "output_type": "execute_result",
          "data": {
            "text/plain": [
              "(5, 5)"
            ]
          },
          "metadata": {},
          "execution_count": 22
        }
      ],
      "source": [
        "env = gym.make(\"highway-v0\")\n",
        "state_size = env.observation_space.shape[0]\n",
        "action_size = env.action_space.n\n",
        "state_size, action_size "
      ]
    },
    {
      "cell_type": "code",
      "execution_count": null,
      "id": "WXifen5-LvkO",
      "metadata": {
        "colab": {
          "base_uri": "https://localhost:8080/"
        },
        "id": "WXifen5-LvkO",
        "outputId": "98cddf12-364b-4a84-c378-c1b23dbf9e0d"
      },
      "outputs": [
        {
          "output_type": "stream",
          "name": "stdout",
          "text": [
            "Episode 10\tAverage Reward: 4.74\tEpsilon: 0.60\n",
            "Episode 20\tAverage Reward: 1.86\tEpsilon: 0.36\n",
            "Episode 30\tAverage Reward: 12.77\tEpsilon: 0.21\n",
            "Episode 40\tAverage Reward: 4.91\tEpsilon: 0.13\n",
            "Episode 50\tAverage Reward: 28.96\tEpsilon: 0.08\n",
            "Episode 60\tAverage Reward: 6.02\tEpsilon: 0.05\n",
            "Episode 70\tAverage Reward: 28.96\tEpsilon: 0.03\n",
            "Episode 80\tAverage Reward: 29.36\tEpsilon: 0.02\n",
            "Episode 90\tAverage Reward: 27.58\tEpsilon: 0.01\n",
            "Episode 100\tAverage Reward: 31.23\tEpsilon: 0.01\n",
            "Episode 10\tAverage Reward: 25.96\tEpsilon: 0.60\n",
            "Episode 20\tAverage Reward: 26.10\tEpsilon: 0.36\n",
            "Episode 30\tAverage Reward: 10.75\tEpsilon: 0.21\n",
            "Episode 40\tAverage Reward: 25.20\tEpsilon: 0.13\n",
            "Episode 50\tAverage Reward: 30.24\tEpsilon: 0.08\n",
            "Episode 60\tAverage Reward: 29.47\tEpsilon: 0.05\n",
            "Episode 70\tAverage Reward: 8.59\tEpsilon: 0.03\n",
            "Episode 80\tAverage Reward: 29.36\tEpsilon: 0.02\n",
            "Episode 90\tAverage Reward: 12.71\tEpsilon: 0.01\n",
            "Episode 100\tAverage Reward: 11.20\tEpsilon: 0.01\n",
            "Episode 10\tAverage Reward: 11.77\tEpsilon: 0.60\n",
            "Episode 20\tAverage Reward: 30.40\tEpsilon: 0.36\n",
            "Episode 30\tAverage Reward: 31.44\tEpsilon: 0.21\n",
            "Episode 40\tAverage Reward: 27.27\tEpsilon: 0.13\n",
            "Episode 50\tAverage Reward: 28.96\tEpsilon: 0.08\n",
            "Episode 60\tAverage Reward: 27.29\tEpsilon: 0.05\n",
            "Episode 70\tAverage Reward: 27.72\tEpsilon: 0.03\n",
            "Episode 80\tAverage Reward: 18.31\tEpsilon: 0.02\n",
            "Episode 90\tAverage Reward: 27.58\tEpsilon: 0.01\n",
            "Episode 100\tAverage Reward: 27.98\tEpsilon: 0.01\n"
          ]
        }
      ],
      "source": [
        "start = time.time()\n",
        "crs4, agent4 = run_DeepQLearning_agent(_batch_size=32, number_of_episodes=100, epsilon_decay_rate=0.95, reps=3)\n",
        "end = time.time()"
      ]
    },
    {
      "cell_type": "code",
      "source": [
        "print(\"highway-v0 with random weight learning time: \", (end - start)/60)"
      ],
      "metadata": {
        "colab": {
          "base_uri": "https://localhost:8080/"
        },
        "id": "jLm6LewEBKpw",
        "outputId": "6d4afb20-2b2d-4e60-eadb-ddc09bf1bedf"
      },
      "id": "jLm6LewEBKpw",
      "execution_count": null,
      "outputs": [
        {
          "output_type": "stream",
          "name": "stdout",
          "text": [
            "highway-v0 with random weight learning time:  70.42721764246623\n"
          ]
        }
      ]
    },
    {
      "cell_type": "code",
      "execution_count": null,
      "id": "dl078NwnaKn_",
      "metadata": {
        "colab": {
          "base_uri": "https://localhost:8080/"
        },
        "id": "dl078NwnaKn_",
        "outputId": "fa267e0f-f5d3-46a9-90b2-b49679ff0652"
      },
      "outputs": [
        {
          "name": "stdout",
          "output_type": "stream",
          "text": [
            "highway-v0 with random weight learning time:  68.41666666666667\n"
          ]
        }
      ],
      "source": [
        "print(\"highway-v0 with random weight learning time: \", (end - start)/60)"
      ]
    },
    {
      "cell_type": "code",
      "execution_count": null,
      "id": "d6a5b2be",
      "metadata": {
        "colab": {
          "base_uri": "https://localhost:8080/"
        },
        "id": "d6a5b2be",
        "outputId": "49ce5516-dd6a-4b81-c929-84eb975b6ed8"
      },
      "outputs": [
        {
          "output_type": "stream",
          "name": "stdout",
          "text": [
            "Episode 10\tAverage Reward: 11.90\tEpsilon: 0.60\n",
            "Episode 20\tAverage Reward: 8.31\tEpsilon: 0.36\n",
            "Episode 30\tAverage Reward: 13.04\tEpsilon: 0.21\n",
            "Episode 40\tAverage Reward: 27.81\tEpsilon: 0.13\n",
            "Episode 50\tAverage Reward: 26.96\tEpsilon: 0.08\n",
            "Episode 60\tAverage Reward: 28.47\tEpsilon: 0.05\n",
            "Episode 70\tAverage Reward: 26.69\tEpsilon: 0.03\n",
            "Episode 80\tAverage Reward: 12.77\tEpsilon: 0.02\n",
            "Episode 90\tAverage Reward: 26.69\tEpsilon: 0.01\n",
            "Episode 100\tAverage Reward: 2.85\tEpsilon: 0.01\n",
            "Episode 10\tAverage Reward: 8.00\tEpsilon: 0.60\n",
            "Episode 20\tAverage Reward: 29.59\tEpsilon: 0.36\n",
            "Episode 30\tAverage Reward: 27.78\tEpsilon: 0.21\n",
            "Episode 40\tAverage Reward: 29.76\tEpsilon: 0.13\n",
            "Episode 50\tAverage Reward: 20.37\tEpsilon: 0.08\n",
            "Episode 60\tAverage Reward: 28.47\tEpsilon: 0.05\n",
            "Episode 70\tAverage Reward: 22.51\tEpsilon: 0.03\n",
            "Episode 80\tAverage Reward: 19.43\tEpsilon: 0.02\n",
            "Episode 90\tAverage Reward: 29.36\tEpsilon: 0.01\n",
            "Episode 100\tAverage Reward: 4.31\tEpsilon: 0.01\n",
            "Episode 10\tAverage Reward: 17.82\tEpsilon: 0.60\n",
            "Episode 20\tAverage Reward: 25.93\tEpsilon: 0.36\n",
            "Episode 30\tAverage Reward: 14.27\tEpsilon: 0.21\n",
            "Episode 40\tAverage Reward: 28.05\tEpsilon: 0.13\n",
            "Episode 50\tAverage Reward: 7.87\tEpsilon: 0.08\n",
            "Episode 60\tAverage Reward: 27.04\tEpsilon: 0.05\n",
            "Episode 70\tAverage Reward: 9.31\tEpsilon: 0.03\n",
            "Episode 80\tAverage Reward: 28.47\tEpsilon: 0.02\n",
            "Episode 90\tAverage Reward: 20.11\tEpsilon: 0.01\n",
            "Episode 100\tAverage Reward: 2.04\tEpsilon: 0.01\n"
          ]
        }
      ],
      "source": [
        "start = time.time()\n",
        "crs5, agent5 = run_DeepQLearning_agent(_batch_size=32, _agent=agent1, number_of_episodes=100, epsilon_decay_rate=0.95, reps=3)\n",
        "end = time.time()"
      ]
    },
    {
      "cell_type": "code",
      "source": [
        "print(\"highway-v0 with trained weight learning time: \", (end - start)/60)"
      ],
      "metadata": {
        "colab": {
          "base_uri": "https://localhost:8080/"
        },
        "id": "OACt1MN1Mj-G",
        "outputId": "5320359d-7f06-4417-aa3e-6e2a5bb709ce"
      },
      "id": "OACt1MN1Mj-G",
      "execution_count": null,
      "outputs": [
        {
          "output_type": "stream",
          "name": "stdout",
          "text": [
            "highway-v0 with trained weight learning time:  67.91883157889048\n"
          ]
        }
      ]
    },
    {
      "cell_type": "code",
      "execution_count": null,
      "id": "uGESII4vbyO8",
      "metadata": {
        "colab": {
          "base_uri": "https://localhost:8080/"
        },
        "id": "uGESII4vbyO8",
        "outputId": "f4f3b52f-1bf5-4438-9ad4-780c940eac4b"
      },
      "outputs": [
        {
          "name": "stdout",
          "output_type": "stream",
          "text": [
            "highway-v0 with trained weight learning time:  66.73571458657582\n"
          ]
        }
      ],
      "source": [
        "print(\"highway-v0 with trained weight learning time: \", (end - start)/60)"
      ]
    },
    {
      "cell_type": "markdown",
      "id": "041ba3a0",
      "metadata": {
        "id": "041ba3a0"
      },
      "source": [
        "<a name='3-1'></a>\n",
        "## Result"
      ]
    },
    {
      "cell_type": "code",
      "source": [
        "window_size = 45\n",
        "cr4_ = np.convolve(np.mean(crs4, axis=0), np.ones(window_size)/window_size, mode='valid')\n",
        "cr5_ = np.convolve(np.mean(crs5, axis=0), np.ones(window_size)/window_size, mode='valid')\n",
        "ci4 = 1.96 * np.std(cr4_)/np.sqrt(len(cr4_))\n",
        "ci5 = 1.96 * np.std(cr5_)/np.sqrt(len(cr5_))\n",
        "\n",
        "plt.figure(figsize=(13, 10))\n",
        "plt.title(\"highway-v0 - Initial Weight Effect (window size:\"+str(window_size)+\")\")\n",
        "plt.plot(cr4_, label='random weight')\n",
        "plt.plot(cr5_, label='trained weight')\n",
        "plt.fill_between(range(len(cr4_)), (cr4_-ci4), (cr4_+ci4), alpha=.3)\n",
        "plt.fill_between(range(len(cr5_)), (cr5_-ci5), (cr5_+ci5), alpha=.3)\n",
        "plt.xlabel(\"Episode\")\n",
        "plt.ylabel('Cummulative Reward')\n",
        "plt.legend()\n",
        "plt.grid()\n",
        "plt.show()"
      ],
      "metadata": {
        "id": "wW5SX6gqGz1W",
        "colab": {
          "base_uri": "https://localhost:8080/",
          "height": 621
        },
        "outputId": "05aedd64-7576-4f3a-808a-f71168d925b8"
      },
      "id": "wW5SX6gqGz1W",
      "execution_count": null,
      "outputs": [
        {
          "output_type": "display_data",
          "data": {
            "text/plain": [
              "<Figure size 936x720 with 1 Axes>"
            ],
            "image/png": "[encoded data removed]"
          },
          "metadata": {
            "needs_background": "light"
          }
        }
      ]
    },
    {
      "cell_type": "code",
      "execution_count": null,
      "id": "1BWnQNyNb-pY",
      "metadata": {
        "colab": {
          "base_uri": "https://localhost:8080/",
          "height": 530
        },
        "id": "1BWnQNyNb-pY",
        "outputId": "1d2f6f76-35d7-48f6-eba4-267e20ae4220"
      },
      "outputs": [
        {
          "data": {
            "text/plain": [
              "<matplotlib.legend.Legend at 0x7fea61785430>"
            ]
          },
          "execution_count": 39,
          "metadata": {},
          "output_type": "execute_result"
        },
        {
          "data": {
            "image/png": "[encoded data removed]",
            "text/plain": [
              "<Figure size 720x576 with 1 Axes>"
            ]
          },
          "metadata": {
            "needs_background": "light"
          },
          "output_type": "display_data"
        }
      ],
      "source": [
        "window_size = 45\n",
        "cr4_ = np.convolve(np.mean(crs4, axis=0), np.ones(window_size)/window_size, mode='valid')\n",
        "cr5_ = np.convolve(np.mean(crs5, axis=0), np.ones(window_size)/window_size, mode='valid')\n",
        "ci4 = 1.96 * np.std(cr4_)/np.sqrt(len(cr4_))\n",
        "ci5 = 1.96 * np.std(cr5_)/np.sqrt(len(cr5_))\n",
        "\n",
        "plt.figure(figsize=(10, 8))\n",
        "plt.title(\"merge-v0 - Batch Size Effect (window size:\"+str(window_size)+\")\")\n",
        "plt.plot(cr4_, label='random weight')\n",
        "plt.plot(cr5_, label='trained weight')\n",
        "plt.fill_between(range(len(cr4_)), (cr4_-ci4), (cr4_+ci4), alpha=.3)\n",
        "plt.fill_between(range(len(cr5_)), (cr5_-ci5), (cr5_+ci5), alpha=.3)\n",
        "plt.xlabel(\"Episode\")\n",
        "plt.ylabel(\"Average Reward\")\n",
        "plt.legend()"
      ]
    },
    {
      "cell_type": "markdown",
      "id": "6ca05851",
      "metadata": {
        "id": "6ca05851"
      },
      "source": [
        "<a name='4'></a>\n",
        "# Part 4"
      ]
    },
    {
      "cell_type": "markdown",
      "id": "ff24b21e",
      "metadata": {
        "id": "ff24b21e"
      },
      "source": [
        "<a name='4-1'></a>\n",
        "## DQN with Prioritized Replay Buffer"
      ]
    },
    {
      "cell_type": "code",
      "execution_count": null,
      "id": "fb606373",
      "metadata": {
        "id": "fb606373"
      },
      "outputs": [],
      "source": [
        "class SumTree:\n",
        "    def __init__(self, size):\n",
        "        self.nodes = [0] * (2 * size - 1)\n",
        "        self.data = [None] * size\n",
        "        self.size = size\n",
        "        self.count = 0\n",
        "        self.real_size = 0\n",
        "\n",
        "    @property\n",
        "    def total(self):\n",
        "        return self.nodes[0]\n",
        "\n",
        "    def update(self, data_idx, value):\n",
        "        idx = data_idx + self.size - 1  \n",
        "        change = value - self.nodes[idx]\n",
        "        self.nodes[idx] = value\n",
        "        parent = (idx - 1) // 2\n",
        "        while parent >= 0:\n",
        "            self.nodes[parent] += change\n",
        "            parent = (parent - 1) // 2\n",
        "\n",
        "    def add(self, value, data):\n",
        "        self.data[self.count] = data\n",
        "        self.update(self.count, value)\n",
        "        self.count = (self.count + 1) % self.size\n",
        "        self.real_size = min(self.size, self.real_size + 1)\n",
        "\n",
        "    def get(self, cumsum):\n",
        "        assert cumsum <= self.total\n",
        "        idx = 0\n",
        "        while 2 * idx + 1 < len(self.nodes):\n",
        "            left, right = 2*idx + 1, 2*idx + 2\n",
        "            if cumsum <= self.nodes[left]:\n",
        "                idx = left\n",
        "            else:\n",
        "                idx = right\n",
        "                cumsum = cumsum - self.nodes[left]\n",
        "        data_idx = idx - self.size + 1\n",
        "        return data_idx, self.nodes[idx], self.data[data_idx]\n",
        "\n",
        "    def __repr__(self):\n",
        "        return f\"SumTree(nodes={self.nodes.__repr__()}, data={self.data.__repr__()})\""
      ]
    },
    {
      "cell_type": "code",
      "source": [
        "class PrioritizedReplayBuffer:\n",
        "    def __init__(self, state_size, action_size, buffer_size, eps=1e-2, alpha=0.1, beta=0.1):\n",
        "        self.tree = SumTree(size=buffer_size)\n",
        "        self.eps = eps  \n",
        "        self.alpha = alpha  \n",
        "        self.beta = beta  \n",
        "        self.max_priority = eps \n",
        "        self.state = torch.empty(buffer_size, state_size, action_size, dtype=torch.float)\n",
        "        self.action = torch.empty(buffer_size, action_size, dtype=torch.float)\n",
        "        self.reward = torch.empty(buffer_size, dtype=torch.float)\n",
        "        self.next_state = torch.empty(buffer_size, state_size, action_size, dtype=torch.float)\n",
        "        self.done = torch.empty(buffer_size, dtype=torch.int)\n",
        "        self.count = 0\n",
        "        self.real_size = 0\n",
        "        self.size = buffer_size\n",
        "\n",
        "    def add(self, transition):\n",
        "        state, action, reward, next_state, done = transition\n",
        "        self.tree.add(self.max_priority, self.count)\n",
        "        # print(len(self.state[self.count]), len(state), len(state[0]))\n",
        "        self.state[self.count] = torch.as_tensor(state).to(device)\n",
        "        self.action[self.count] = torch.as_tensor(action).to(device)\n",
        "        self.reward[self.count] = torch.as_tensor(reward).to(device)\n",
        "        self.next_state[self.count] = torch.as_tensor(next_state).to(device)\n",
        "        self.done[self.count] = torch.as_tensor(done).to(device)\n",
        "\n",
        "        # self.state[self.count] = torch.from_numpy(np.vstack(state)).float()\n",
        "        # self.action[self.count] = torch.tensor(np.vstack(action)).long()\n",
        "        # self.reward[self.count] = torch.tensor(np.vstack(reward)).float()\n",
        "        # self.next_state[self.count] = torch.from_numpy(np.vstack(next_state)).float()\n",
        "        # self.done[self.count] = torch.tensor(np.vstack(done))\n",
        "\n",
        "        self.count = (self.count + 1) % self.size\n",
        "        self.real_size = min(self.size, self.real_size + 1)\n",
        "\n",
        "    def sample(self, batch_size):\n",
        "        assert self.real_size >= batch_size, \"buffer contains less samples than batch size\"\n",
        "\n",
        "        sample_idxs, tree_idxs = [], []\n",
        "        priorities = torch.empty(batch_size, 1, dtype=torch.float)\n",
        "\n",
        "        segment = self.tree.total / batch_size\n",
        "        for i in range(batch_size):\n",
        "            a, b = segment * i, segment * (i + 1)\n",
        "\n",
        "            cumsum = random.uniform(a, b)\n",
        "\n",
        "            tree_idx, priority, sample_idx = self.tree.get(cumsum)\n",
        "\n",
        "            priorities[i] = priority\n",
        "            tree_idxs.append(tree_idx)\n",
        "            sample_idxs.append(sample_idx)\n",
        "\n",
        "        probs = priorities / self.tree.total\n",
        "\n",
        "        weights = (self.real_size * probs) ** -self.beta\n",
        "\n",
        "        weights = weights / weights.max()\n",
        "\n",
        "        batch = (\n",
        "            self.state[sample_idxs].to(device),\n",
        "            self.action[sample_idxs].to(device),\n",
        "            self.reward[sample_idxs].to(device),\n",
        "            self.next_state[sample_idxs].to(device),\n",
        "            self.done[sample_idxs].to(device)\n",
        "        )\n",
        "        return batch, weights, tree_idxs\n",
        "\n",
        "    def update_priorities(self, data_idxs, priorities):\n",
        "        if isinstance(priorities, torch.Tensor):\n",
        "            priorities = priorities.detach().cpu().numpy()\n",
        "\n",
        "        for data_idx, priority in zip(data_idxs, priorities):\n",
        "            priority = (priority + self.eps) ** self.alpha\n",
        "\n",
        "            self.tree.update(data_idx, priority)\n",
        "            self.max_priority = max(self.max_priority, priority)"
      ],
      "metadata": {
        "id": "bRR0tvpClVA_"
      },
      "id": "bRR0tvpClVA_",
      "execution_count": null,
      "outputs": []
    },
    {
      "cell_type": "code",
      "source": [
        "class DQN_PER:\n",
        "    def __init__(self, state_size, action_size, gamma, tau, lr):\n",
        "        # self.model = nn.Sequential(\n",
        "        #     nn.Linear(state_size, 512),\n",
        "        #     nn.ReLU(),\n",
        "        #     nn.Linear(512, 512),\n",
        "        #     nn.ReLU(),\n",
        "        #     nn.Linear(512, 512),\n",
        "        #     nn.ReLU(),\n",
        "        #     nn.Linear(512, action_size)\n",
        "        # ).to(device)\n",
        "        # self.target_model = deepcopy(self.model).to(device)\n",
        "        self.model = DQN(state_size, action_size).to(device)\n",
        "        self.target_model = DQN(state_size, action_size).to(device)\n",
        "        self.optimizer = optim.Adam(self.model.parameters(), lr=lr)\n",
        "        self.gamma = gamma\n",
        "        self.tau = tau\n",
        "        self.action_size = action_size\n",
        "\n",
        "    def soft_update(self, target, source):\n",
        "        for tp, sp in zip(target.parameters(), source.parameters()):\n",
        "            tp.data.copy_((1 - self.tau) * tp.data + self.tau * sp.data)\n",
        "\n",
        "    def act(self, state):\n",
        "        with torch.no_grad():\n",
        "            # state = torch.as_tensor(state, dtype=torch.float)\n",
        "            state = torch.from_numpy(state).float().to(device)\n",
        "            action = torch.argmax(self.model(state)).cpu().numpy().item() % action_size\n",
        "            # print(len(self.model(state)))\n",
        "            # action = torch.argmax(self.model(state)).view(1, 1)  % action_size\n",
        "        return action\n",
        "\n",
        "    def update(self, batch, _action, weights=None):\n",
        "        state, action, reward, next_state, done = batch\n",
        "        Q_next = self.target_model(next_state).max(dim=1).values\n",
        "        # print(len(done[0]), len(reward[0]), len(Q_next[0]))\n",
        "        # print(reward)\n",
        "        # print(done)\n",
        "        # print(Q_next)\n",
        "        Q_next = Q_next[:,_action]\n",
        "        Q_target = reward + self.gamma * (1 - done) * Q_next\n",
        "        # print(len(self.model(state)))        [torch.arange(len(action)), action.to(torch.long).flatten()]\n",
        "        Q = self.model(state)\n",
        "        # assert Q.shape == Q_target.shape, f\"{Q.shape}, {Q_target.shape}\"\n",
        "\n",
        "        if weights is None:\n",
        "            weights = torch.ones_like(Q)\n",
        "        # print(len(Q[0]))\n",
        "        Q = Q[:,_action][:,_action].to(device)\n",
        "        # Q = Q[:,0][:,0].to(device)\n",
        "        weights=weights.to(device)\n",
        "        Q_target = Q_target.to(device)\n",
        "        td_error = torch.abs(Q - Q_target).detach()\n",
        "        # loss = torch.mean((Q - Q_target)**2 * weights)\n",
        "\n",
        "        loss = F.mse_loss(Q, Q_target).squeeze() * weights\n",
        "        loss = loss.mean()\n",
        "        # loss = F.mse_loss((Q - Q_target)**2 * weights).to(device)\n",
        "        self.optimizer.zero_grad()\n",
        "        loss.backward()\n",
        "        self.optimizer.step()\n",
        "\n",
        "        with torch.no_grad():\n",
        "            self.soft_update(self.target_model, self.model)\n",
        "        return loss.item(), td_error\n",
        "\n",
        "    def save(self):\n",
        "        torch.save(self.model, \"agent.pkl\")"
      ],
      "metadata": {
        "id": "gX4RAqXulU2t"
      },
      "id": "gX4RAqXulU2t",
      "execution_count": null,
      "outputs": []
    },
    {
      "cell_type": "code",
      "source": [
        "def evaluate_policy(env_name, agent, episodes=5, seed=0):\n",
        "\n",
        "    returns = []\n",
        "    for _ in range(episodes):\n",
        "        state,_ = env.reset()\n",
        "        done = truncated = False\n",
        "        total_reward = 0\n",
        "        while not (done or truncated):\n",
        "            \n",
        "            next_state, reward, done, truncated, info = env.step(agent.act(state))\n",
        "            total_reward += reward\n",
        "            state = next_state\n",
        "        returns.append(total_reward)\n",
        "    return np.mean(returns), np.std(returns)"
      ],
      "metadata": {
        "id": "flCrwvu5lUuI"
      },
      "id": "flCrwvu5lUuI",
      "execution_count": null,
      "outputs": []
    },
    {
      "cell_type": "code",
      "source": [
        "def train(env_name, model, buffer, timesteps=200_000, batch_size=128,\n",
        "          eps_max=0.1, eps_min=0.0, test_every=5000, seed=0):\n",
        "\n",
        "    rewards_total, stds_total = [], []\n",
        "    loss_count, total_loss = 0, 0\n",
        "\n",
        "    episodes = 0\n",
        "    best_reward = -np.inf\n",
        "\n",
        "    state,_ = env.reset()\n",
        "    done = truncated = False\n",
        "\n",
        "    for step in range(1, timesteps + 1):\n",
        "        if done:\n",
        "            state,_ = env.reset()\n",
        "            done = truncated = False\n",
        "            episodes += 1\n",
        "\n",
        "        eps = eps_max - (eps_max - eps_min) * step / timesteps\n",
        "\n",
        "        if random.random() < eps:\n",
        "            action = env.action_space.sample()\n",
        "        else:\n",
        "            action = model.act(state)\n",
        "\n",
        "        next_state, reward, done, truncated, info = env.step(action)\n",
        "        buffer.add((state, action, reward, next_state, int(done)))\n",
        "\n",
        "        state = next_state\n",
        "\n",
        "        if step > batch_size:\n",
        "\n",
        "            batch, weights, tree_idxs = buffer.sample(batch_size)\n",
        "            loss, td_error = model.update(batch, action, weights=weights)\n",
        "\n",
        "            buffer.update_priorities(tree_idxs, td_error.cpu().numpy())\n",
        "\n",
        "            total_loss += loss\n",
        "            loss_count += 1\n",
        "\n",
        "            if step % test_every == 0:\n",
        "                mean, std = evaluate_policy(env_name, model, episodes=10, seed=seed)\n",
        "\n",
        "                print(f\"Episode: {episodes}, Step: {step}, Reward mean: {mean:.2f}, Reward std: {std:.2f}, Loss: {total_loss / loss_count:.4f}, Eps: {eps}\")\n",
        "\n",
        "                if mean > best_reward:\n",
        "                    best_reward = mean\n",
        "                    model.save()\n",
        "\n",
        "                rewards_total.append(mean)\n",
        "                stds_total.append(std)\n",
        "\n",
        "    return np.array(rewards_total), np.array(stds_total)"
      ],
      "metadata": {
        "id": "_PvBBr4LlUkQ"
      },
      "id": "_PvBBr4LlUkQ",
      "execution_count": null,
      "outputs": []
    },
    {
      "cell_type": "code",
      "execution_count": null,
      "id": "23c6c868",
      "metadata": {
        "id": "23c6c868"
      },
      "outputs": [],
      "source": [
        "def run_experiment(config, use_priority=False, n_seeds=10):\n",
        "    torch.manual_seed(0)\n",
        "    mean_rewards = []\n",
        "\n",
        "    for seed in range(n_seeds):\n",
        "        buffer = PrioritizedReplayBuffer(**config[\"buffer\"])\n",
        "\n",
        "        model = DQN_PER(**config[\"model\"])\n",
        "\n",
        "        seed_reward, seed_std = train(seed=seed, model=model, buffer=buffer, **config[\"train\"])\n",
        "        mean_rewards.append(seed_reward)\n",
        "\n",
        "    mean_rewards = np.array(mean_rewards)\n",
        "\n",
        "    return mean_rewards, mean_rewards.mean(axis=0), mean_rewards.std(axis=0)"
      ]
    },
    {
      "cell_type": "markdown",
      "source": [
        "<a name='4-2'></a>\n",
        "## Reward"
      ],
      "metadata": {
        "id": "2STrJjAp1kqt"
      },
      "id": "2STrJjAp1kqt"
    },
    {
      "cell_type": "code",
      "source": [
        "config = {\n",
        "    \n",
        "    \"buffer\": {\n",
        "        \"state_size\": 5,\n",
        "        \"action_size\": 5,  # action is discrete\n",
        "        \"buffer_size\": 50_000\n",
        "    },\n",
        "    \"model\": {\n",
        "        \"state_size\": 5,\n",
        "        \"action_size\": 5,\n",
        "        \"gamma\": 0.99,\n",
        "        \"lr\": 1e-4,\n",
        "        \"tau\": 0.01\n",
        "    },\n",
        "    \"train\": {\n",
        "        \"env_name\": \"merge-v0\",\n",
        "        \"timesteps\": 100,\n",
        "        \"batch_size\": 32,\n",
        "        \"test_every\": 5,\n",
        "        \"eps_max\": 0.99,\n",
        "        \"eps_min\": 0.01\n",
        "    }\n",
        "}\n",
        "\n",
        "\n",
        "priority_config = deepcopy(config)\n",
        "priority_config[\"buffer\"].update({\"alpha\": 0.7, \"beta\": 0.4})"
      ],
      "metadata": {
        "id": "A9R-dfsslUB5"
      },
      "id": "A9R-dfsslUB5",
      "execution_count": null,
      "outputs": []
    },
    {
      "cell_type": "code",
      "source": [
        "mpr, mean_priority_reward, std_priority_reward = run_experiment(priority_config)"
      ],
      "metadata": {
        "colab": {
          "base_uri": "https://localhost:8080/"
        },
        "id": "tFJ_MeZ7lItD",
        "outputId": "887efc09-d6f7-4bfe-ccf9-af906fe5b0a4"
      },
      "id": "tFJ_MeZ7lItD",
      "execution_count": null,
      "outputs": [
        {
          "output_type": "stream",
          "name": "stdout",
          "text": [
            "Episode: 2, Step: 35, Reward mean: 10.75, Reward std: 0.00, Loss: 0.4971, Eps: 0.647\n",
            "Episode: 3, Step: 40, Reward mean: 10.75, Reward std: 0.00, Loss: 0.3800, Eps: 0.598\n",
            "Episode: 4, Step: 45, Reward mean: 10.75, Reward std: 0.00, Loss: 0.3340, Eps: 0.5489999999999999\n",
            "Episode: 5, Step: 50, Reward mean: 10.75, Reward std: 0.00, Loss: 0.3190, Eps: 0.5\n",
            "Episode: 6, Step: 55, Reward mean: 10.75, Reward std: 0.00, Loss: 0.2609, Eps: 0.45099999999999996\n",
            "Episode: 7, Step: 60, Reward mean: 10.75, Reward std: 0.00, Loss: 0.2299, Eps: 0.402\n",
            "Episode: 8, Step: 65, Reward mean: 10.75, Reward std: 0.00, Loss: 0.2162, Eps: 0.353\n",
            "Episode: 9, Step: 70, Reward mean: 10.75, Reward std: 0.00, Loss: 0.1946, Eps: 0.30400000000000005\n",
            "Episode: 10, Step: 75, Reward mean: 10.75, Reward std: 0.00, Loss: 0.1873, Eps: 0.255\n",
            "Episode: 11, Step: 80, Reward mean: 10.75, Reward std: 0.00, Loss: 0.1770, Eps: 0.20599999999999996\n",
            "Episode: 12, Step: 85, Reward mean: 10.75, Reward std: 0.00, Loss: 0.1645, Eps: 0.15700000000000003\n",
            "Episode: 13, Step: 90, Reward mean: 10.75, Reward std: 0.00, Loss: 0.1514, Eps: 0.10799999999999998\n",
            "Episode: 14, Step: 95, Reward mean: 10.75, Reward std: 0.00, Loss: 0.1463, Eps: 0.05900000000000005\n",
            "Episode: 15, Step: 100, Reward mean: 10.75, Reward std: 0.00, Loss: 0.1363, Eps: 0.010000000000000009\n",
            "Episode: 2, Step: 35, Reward mean: 10.75, Reward std: 0.00, Loss: 0.6678, Eps: 0.647\n",
            "Episode: 3, Step: 40, Reward mean: 10.75, Reward std: 0.00, Loss: 0.6048, Eps: 0.598\n",
            "Episode: 4, Step: 45, Reward mean: 10.75, Reward std: 0.00, Loss: 0.5103, Eps: 0.5489999999999999\n",
            "Episode: 5, Step: 50, Reward mean: 10.75, Reward std: 0.00, Loss: 0.4249, Eps: 0.5\n",
            "Episode: 6, Step: 55, Reward mean: 10.75, Reward std: 0.00, Loss: 0.3825, Eps: 0.45099999999999996\n",
            "Episode: 7, Step: 60, Reward mean: 10.75, Reward std: 0.00, Loss: 0.3705, Eps: 0.402\n",
            "Episode: 8, Step: 65, Reward mean: 10.75, Reward std: 0.00, Loss: 0.3520, Eps: 0.353\n",
            "Episode: 9, Step: 70, Reward mean: 10.75, Reward std: 0.00, Loss: 0.3452, Eps: 0.30400000000000005\n",
            "Episode: 10, Step: 75, Reward mean: 10.75, Reward std: 0.00, Loss: 0.3060, Eps: 0.255\n",
            "Episode: 11, Step: 80, Reward mean: 10.75, Reward std: 0.00, Loss: 0.2751, Eps: 0.20599999999999996\n",
            "Episode: 12, Step: 85, Reward mean: 10.75, Reward std: 0.00, Loss: 0.2498, Eps: 0.15700000000000003\n",
            "Episode: 13, Step: 90, Reward mean: 10.75, Reward std: 0.00, Loss: 0.2287, Eps: 0.10799999999999998\n",
            "Episode: 14, Step: 95, Reward mean: 10.75, Reward std: 0.00, Loss: 0.2110, Eps: 0.05900000000000005\n",
            "Episode: 15, Step: 100, Reward mean: 10.75, Reward std: 0.00, Loss: 0.1959, Eps: 0.010000000000000009\n",
            "Episode: 2, Step: 35, Reward mean: 14.92, Reward std: 0.00, Loss: 0.8565, Eps: 0.647\n",
            "Episode: 3, Step: 40, Reward mean: 14.92, Reward std: 0.00, Loss: 0.7989, Eps: 0.598\n",
            "Episode: 4, Step: 45, Reward mean: 14.92, Reward std: 0.00, Loss: 0.7659, Eps: 0.5489999999999999\n",
            "Episode: 5, Step: 50, Reward mean: 14.92, Reward std: 0.00, Loss: 0.7293, Eps: 0.5\n",
            "Episode: 6, Step: 55, Reward mean: 14.92, Reward std: 0.00, Loss: 0.6815, Eps: 0.45099999999999996\n",
            "Episode: 7, Step: 60, Reward mean: 14.92, Reward std: 0.00, Loss: 0.6102, Eps: 0.402\n",
            "Episode: 8, Step: 65, Reward mean: 14.92, Reward std: 0.00, Loss: 0.5674, Eps: 0.353\n",
            "Episode: 9, Step: 70, Reward mean: 14.92, Reward std: 0.00, Loss: 0.5080, Eps: 0.30400000000000005\n",
            "Episode: 10, Step: 75, Reward mean: 14.92, Reward std: 0.00, Loss: 0.4623, Eps: 0.255\n",
            "Episode: 11, Step: 80, Reward mean: 14.92, Reward std: 0.00, Loss: 0.4202, Eps: 0.20599999999999996\n",
            "Episode: 12, Step: 85, Reward mean: 14.92, Reward std: 0.00, Loss: 0.3810, Eps: 0.15700000000000003\n",
            "Episode: 13, Step: 90, Reward mean: 14.92, Reward std: 0.00, Loss: 0.3489, Eps: 0.10799999999999998\n",
            "Episode: 14, Step: 95, Reward mean: 14.92, Reward std: 0.00, Loss: 0.3221, Eps: 0.05900000000000005\n",
            "Episode: 15, Step: 100, Reward mean: 14.92, Reward std: 0.00, Loss: 0.2990, Eps: 0.010000000000000009\n",
            "Episode: 2, Step: 35, Reward mean: 10.75, Reward std: 0.00, Loss: 0.4870, Eps: 0.647\n",
            "Episode: 3, Step: 40, Reward mean: 10.75, Reward std: 0.00, Loss: 0.5030, Eps: 0.598\n",
            "Episode: 4, Step: 45, Reward mean: 10.75, Reward std: 0.00, Loss: 0.5336, Eps: 0.5489999999999999\n",
            "Episode: 5, Step: 50, Reward mean: 10.75, Reward std: 0.00, Loss: 0.4879, Eps: 0.5\n",
            "Episode: 6, Step: 55, Reward mean: 10.75, Reward std: 0.00, Loss: 0.4172, Eps: 0.45099999999999996\n",
            "Episode: 7, Step: 60, Reward mean: 10.75, Reward std: 0.00, Loss: 0.3684, Eps: 0.402\n",
            "Episode: 8, Step: 65, Reward mean: 10.75, Reward std: 0.00, Loss: 0.3459, Eps: 0.353\n",
            "Episode: 9, Step: 70, Reward mean: 10.75, Reward std: 0.00, Loss: 0.3010, Eps: 0.30400000000000005\n",
            "Episode: 10, Step: 75, Reward mean: 10.75, Reward std: 0.00, Loss: 0.2675, Eps: 0.255\n",
            "Episode: 11, Step: 80, Reward mean: 10.75, Reward std: 0.00, Loss: 0.2492, Eps: 0.20599999999999996\n",
            "Episode: 12, Step: 85, Reward mean: 10.75, Reward std: 0.00, Loss: 0.2313, Eps: 0.15700000000000003\n",
            "Episode: 13, Step: 90, Reward mean: 10.75, Reward std: 0.00, Loss: 0.2149, Eps: 0.10799999999999998\n",
            "Episode: 14, Step: 95, Reward mean: 10.75, Reward std: 0.00, Loss: 0.1982, Eps: 0.05900000000000005\n",
            "Episode: 15, Step: 100, Reward mean: 10.75, Reward std: 0.00, Loss: 0.1840, Eps: 0.010000000000000009\n",
            "Episode: 2, Step: 35, Reward mean: 10.64, Reward std: 0.00, Loss: 0.7844, Eps: 0.647\n",
            "Episode: 3, Step: 40, Reward mean: 11.08, Reward std: 0.00, Loss: 0.7755, Eps: 0.598\n",
            "Episode: 4, Step: 45, Reward mean: 11.08, Reward std: 0.00, Loss: 0.6988, Eps: 0.5489999999999999\n",
            "Episode: 5, Step: 50, Reward mean: 11.08, Reward std: 0.00, Loss: 0.6661, Eps: 0.5\n",
            "Episode: 6, Step: 55, Reward mean: 11.08, Reward std: 0.00, Loss: 0.6319, Eps: 0.45099999999999996\n",
            "Episode: 7, Step: 60, Reward mean: 11.08, Reward std: 0.00, Loss: 0.6029, Eps: 0.402\n",
            "Episode: 8, Step: 65, Reward mean: 11.08, Reward std: 0.00, Loss: 0.5642, Eps: 0.353\n",
            "Episode: 9, Step: 70, Reward mean: 11.08, Reward std: 0.00, Loss: 0.5328, Eps: 0.30400000000000005\n",
            "Episode: 10, Step: 75, Reward mean: 11.08, Reward std: 0.00, Loss: 0.4787, Eps: 0.255\n",
            "Episode: 11, Step: 80, Reward mean: 11.08, Reward std: 0.00, Loss: 0.4307, Eps: 0.20599999999999996\n",
            "Episode: 12, Step: 85, Reward mean: 11.08, Reward std: 0.00, Loss: 0.3906, Eps: 0.15700000000000003\n",
            "Episode: 13, Step: 90, Reward mean: 11.08, Reward std: 0.00, Loss: 0.3582, Eps: 0.10799999999999998\n",
            "Episode: 14, Step: 95, Reward mean: 11.08, Reward std: 0.00, Loss: 0.3307, Eps: 0.05900000000000005\n",
            "Episode: 15, Step: 100, Reward mean: 11.08, Reward std: 0.00, Loss: 0.3069, Eps: 0.010000000000000009\n",
            "Episode: 2, Step: 35, Reward mean: 11.08, Reward std: 0.00, Loss: 0.8988, Eps: 0.647\n",
            "Episode: 3, Step: 40, Reward mean: 11.08, Reward std: 0.00, Loss: 0.7746, Eps: 0.598\n",
            "Episode: 4, Step: 45, Reward mean: 11.08, Reward std: 0.00, Loss: 0.7261, Eps: 0.5489999999999999\n",
            "Episode: 5, Step: 50, Reward mean: 11.08, Reward std: 0.00, Loss: 0.6298, Eps: 0.5\n",
            "Episode: 6, Step: 55, Reward mean: 11.08, Reward std: 0.00, Loss: 0.6046, Eps: 0.45099999999999996\n",
            "Episode: 7, Step: 60, Reward mean: 11.08, Reward std: 0.00, Loss: 0.5486, Eps: 0.402\n",
            "Episode: 8, Step: 65, Reward mean: 11.08, Reward std: 0.00, Loss: 0.5081, Eps: 0.353\n",
            "Episode: 9, Step: 70, Reward mean: 11.08, Reward std: 0.00, Loss: 0.4643, Eps: 0.30400000000000005\n",
            "Episode: 10, Step: 75, Reward mean: 11.08, Reward std: 0.00, Loss: 0.4193, Eps: 0.255\n",
            "Episode: 11, Step: 80, Reward mean: 11.08, Reward std: 0.00, Loss: 0.3768, Eps: 0.20599999999999996\n",
            "Episode: 12, Step: 85, Reward mean: 11.08, Reward std: 0.00, Loss: 0.3425, Eps: 0.15700000000000003\n",
            "Episode: 13, Step: 90, Reward mean: 11.08, Reward std: 0.00, Loss: 0.3140, Eps: 0.10799999999999998\n",
            "Episode: 14, Step: 95, Reward mean: 11.08, Reward std: 0.00, Loss: 0.2897, Eps: 0.05900000000000005\n",
            "Episode: 15, Step: 100, Reward mean: 11.08, Reward std: 0.00, Loss: 0.2689, Eps: 0.010000000000000009\n",
            "Episode: 2, Step: 35, Reward mean: 11.08, Reward std: 0.00, Loss: 0.7520, Eps: 0.647\n",
            "Episode: 3, Step: 40, Reward mean: 11.08, Reward std: 0.00, Loss: 0.6779, Eps: 0.598\n",
            "Episode: 4, Step: 45, Reward mean: 11.08, Reward std: 0.00, Loss: 0.5925, Eps: 0.5489999999999999\n",
            "Episode: 5, Step: 50, Reward mean: 11.08, Reward std: 0.00, Loss: 0.5551, Eps: 0.5\n",
            "Episode: 6, Step: 55, Reward mean: 11.08, Reward std: 0.00, Loss: 0.5311, Eps: 0.45099999999999996\n",
            "Episode: 7, Step: 60, Reward mean: 11.08, Reward std: 0.00, Loss: 0.4893, Eps: 0.402\n",
            "Episode: 8, Step: 65, Reward mean: 11.08, Reward std: 0.00, Loss: 0.4314, Eps: 0.353\n",
            "Episode: 9, Step: 70, Reward mean: 11.08, Reward std: 0.00, Loss: 0.3926, Eps: 0.30400000000000005\n",
            "Episode: 10, Step: 75, Reward mean: 11.08, Reward std: 0.00, Loss: 0.3660, Eps: 0.255\n",
            "Episode: 11, Step: 80, Reward mean: 11.08, Reward std: 0.00, Loss: 0.3382, Eps: 0.20599999999999996\n",
            "Episode: 12, Step: 85, Reward mean: 11.08, Reward std: 0.00, Loss: 0.3089, Eps: 0.15700000000000003\n",
            "Episode: 13, Step: 90, Reward mean: 11.08, Reward std: 0.00, Loss: 0.2922, Eps: 0.10799999999999998\n",
            "Episode: 14, Step: 95, Reward mean: 11.08, Reward std: 0.00, Loss: 0.2719, Eps: 0.05900000000000005\n",
            "Episode: 15, Step: 100, Reward mean: 11.08, Reward std: 0.00, Loss: 0.2543, Eps: 0.010000000000000009\n",
            "Episode: 2, Step: 35, Reward mean: 11.08, Reward std: 0.00, Loss: 0.8599, Eps: 0.647\n",
            "Episode: 3, Step: 40, Reward mean: 11.08, Reward std: 0.00, Loss: 0.8122, Eps: 0.598\n",
            "Episode: 4, Step: 45, Reward mean: 11.08, Reward std: 0.00, Loss: 0.7024, Eps: 0.5489999999999999\n",
            "Episode: 5, Step: 50, Reward mean: 11.08, Reward std: 0.00, Loss: 0.6404, Eps: 0.5\n",
            "Episode: 6, Step: 55, Reward mean: 11.08, Reward std: 0.00, Loss: 0.5925, Eps: 0.45099999999999996\n",
            "Episode: 7, Step: 60, Reward mean: 11.08, Reward std: 0.00, Loss: 0.5235, Eps: 0.402\n",
            "Episode: 8, Step: 65, Reward mean: 11.08, Reward std: 0.00, Loss: 0.4670, Eps: 0.353\n",
            "Episode: 9, Step: 70, Reward mean: 11.08, Reward std: 0.00, Loss: 0.4073, Eps: 0.30400000000000005\n",
            "Episode: 10, Step: 75, Reward mean: 11.08, Reward std: 0.00, Loss: 0.3603, Eps: 0.255\n",
            "Episode: 11, Step: 80, Reward mean: 11.08, Reward std: 0.00, Loss: 0.3237, Eps: 0.20599999999999996\n",
            "Episode: 12, Step: 85, Reward mean: 11.08, Reward std: 0.00, Loss: 0.2940, Eps: 0.15700000000000003\n",
            "Episode: 13, Step: 90, Reward mean: 11.08, Reward std: 0.00, Loss: 0.2822, Eps: 0.10799999999999998\n",
            "Episode: 14, Step: 95, Reward mean: 11.08, Reward std: 0.00, Loss: 0.2601, Eps: 0.05900000000000005\n",
            "Episode: 15, Step: 100, Reward mean: 11.08, Reward std: 0.00, Loss: 0.2412, Eps: 0.010000000000000009\n",
            "Episode: 3, Step: 35, Reward mean: 10.75, Reward std: 0.00, Loss: 0.7195, Eps: 0.647\n",
            "Episode: 4, Step: 40, Reward mean: 10.75, Reward std: 0.00, Loss: 0.6958, Eps: 0.598\n",
            "Episode: 5, Step: 45, Reward mean: 10.75, Reward std: 0.00, Loss: 0.6314, Eps: 0.5489999999999999\n",
            "Episode: 6, Step: 50, Reward mean: 10.75, Reward std: 0.00, Loss: 0.5472, Eps: 0.5\n",
            "Episode: 7, Step: 55, Reward mean: 10.75, Reward std: 0.00, Loss: 0.5004, Eps: 0.45099999999999996\n",
            "Episode: 8, Step: 60, Reward mean: 10.75, Reward std: 0.00, Loss: 0.4633, Eps: 0.402\n",
            "Episode: 9, Step: 65, Reward mean: 10.75, Reward std: 0.00, Loss: 0.4423, Eps: 0.353\n",
            "Episode: 10, Step: 70, Reward mean: 10.75, Reward std: 0.00, Loss: 0.3931, Eps: 0.30400000000000005\n",
            "Episode: 11, Step: 75, Reward mean: 10.75, Reward std: 0.00, Loss: 0.3499, Eps: 0.255\n",
            "Episode: 12, Step: 80, Reward mean: 10.75, Reward std: 0.00, Loss: 0.3252, Eps: 0.20599999999999996\n",
            "Episode: 13, Step: 85, Reward mean: 10.75, Reward std: 0.00, Loss: 0.2994, Eps: 0.15700000000000003\n",
            "Episode: 14, Step: 90, Reward mean: 10.75, Reward std: 0.00, Loss: 0.2762, Eps: 0.10799999999999998\n",
            "Episode: 15, Step: 95, Reward mean: 10.75, Reward std: 0.00, Loss: 0.2565, Eps: 0.05900000000000005\n",
            "Episode: 16, Step: 100, Reward mean: 10.75, Reward std: 0.00, Loss: 0.2394, Eps: 0.010000000000000009\n",
            "Episode: 2, Step: 35, Reward mean: 11.08, Reward std: 0.00, Loss: 0.7414, Eps: 0.647\n",
            "Episode: 3, Step: 40, Reward mean: 11.08, Reward std: 0.00, Loss: 0.6473, Eps: 0.598\n",
            "Episode: 4, Step: 45, Reward mean: 11.08, Reward std: 0.00, Loss: 0.5700, Eps: 0.5489999999999999\n",
            "Episode: 5, Step: 50, Reward mean: 11.08, Reward std: 0.00, Loss: 0.5363, Eps: 0.5\n",
            "Episode: 6, Step: 55, Reward mean: 11.08, Reward std: 0.00, Loss: 0.4921, Eps: 0.45099999999999996\n",
            "Episode: 7, Step: 60, Reward mean: 11.08, Reward std: 0.00, Loss: 0.4645, Eps: 0.402\n",
            "Episode: 8, Step: 65, Reward mean: 11.08, Reward std: 0.00, Loss: 0.4189, Eps: 0.353\n",
            "Episode: 9, Step: 70, Reward mean: 11.08, Reward std: 0.00, Loss: 0.3659, Eps: 0.30400000000000005\n",
            "Episode: 10, Step: 75, Reward mean: 11.08, Reward std: 0.00, Loss: 0.3277, Eps: 0.255\n",
            "Episode: 11, Step: 80, Reward mean: 11.08, Reward std: 0.00, Loss: 0.2949, Eps: 0.20599999999999996\n",
            "Episode: 12, Step: 85, Reward mean: 11.08, Reward std: 0.00, Loss: 0.2683, Eps: 0.15700000000000003\n",
            "Episode: 13, Step: 90, Reward mean: 11.08, Reward std: 0.00, Loss: 0.2460, Eps: 0.10799999999999998\n",
            "Episode: 14, Step: 95, Reward mean: 11.08, Reward std: 0.00, Loss: 0.2272, Eps: 0.05900000000000005\n",
            "Episode: 15, Step: 100, Reward mean: 11.08, Reward std: 0.00, Loss: 0.2111, Eps: 0.010000000000000009\n"
          ]
        }
      ]
    },
    {
      "cell_type": "code",
      "source": [
        "mean_priority_reward"
      ],
      "metadata": {
        "id": "RqvCaa_OoTnO",
        "outputId": "c5f165f0-b0f5-4541-8073-a172b7da9d10",
        "colab": {
          "base_uri": "https://localhost:8080/"
        }
      },
      "id": "RqvCaa_OoTnO",
      "execution_count": null,
      "outputs": [
        {
          "output_type": "execute_result",
          "data": {
            "text/plain": [
              "array([11.28700539, 11.33081553, 11.33081553, 11.33081553, 11.33081553,\n",
              "       11.33081553, 11.33081553, 11.33081553, 11.33081553, 11.33081553,\n",
              "       11.33081553, 11.33081553, 11.33081553, 11.33081553])"
            ]
          },
          "metadata": {},
          "execution_count": 40
        }
      ]
    },
    {
      "cell_type": "code",
      "source": [
        "mpr, mean_priority_reward, std_priority_reward = run_experiment(priority_config)"
      ],
      "metadata": {
        "colab": {
          "base_uri": "https://localhost:8080/"
        },
        "id": "8rtmdBzfV5Fc",
        "outputId": "cc6207ae-16f9-4d7b-855c-7cf965a1f50f"
      },
      "id": "8rtmdBzfV5Fc",
      "execution_count": null,
      "outputs": [
        {
          "output_type": "stream",
          "name": "stdout",
          "text": [
            "Episode: 2, Step: 33, Reward mean: 10.75, Reward std: 0.00, Loss: 0.9141, Eps: 0.6666000000000001\n",
            "Episode: 2, Step: 34, Reward mean: 10.75, Reward std: 0.00, Loss: 0.8443, Eps: 0.6568\n",
            "Episode: 3, Step: 35, Reward mean: 10.89, Reward std: 0.00, Loss: 0.7984, Eps: 0.647\n",
            "Episode: 3, Step: 36, Reward mean: 10.47, Reward std: 0.00, Loss: 0.7667, Eps: 0.6372\n",
            "Episode: 4, Step: 37, Reward mean: 10.58, Reward std: 0.00, Loss: 0.7405, Eps: 0.6274\n",
            "Episode: 4, Step: 38, Reward mean: 10.75, Reward std: 0.00, Loss: 0.7295, Eps: 0.6175999999999999\n",
            "Episode: 5, Step: 39, Reward mean: 10.58, Reward std: 0.00, Loss: 0.7152, Eps: 0.6078\n",
            "Episode: 5, Step: 40, Reward mean: 10.58, Reward std: 0.00, Loss: 0.7347, Eps: 0.598\n",
            "Episode: 6, Step: 41, Reward mean: 10.58, Reward std: 0.00, Loss: 0.7117, Eps: 0.5882000000000001\n",
            "Episode: 6, Step: 42, Reward mean: 10.75, Reward std: 0.00, Loss: 0.6946, Eps: 0.5784\n",
            "Episode: 7, Step: 43, Reward mean: 10.75, Reward std: 0.00, Loss: 0.6798, Eps: 0.5686\n",
            "Episode: 7, Step: 44, Reward mean: 10.75, Reward std: 0.00, Loss: 0.6616, Eps: 0.5588\n",
            "Episode: 8, Step: 45, Reward mean: 10.75, Reward std: 0.00, Loss: 0.6487, Eps: 0.5489999999999999\n",
            "Episode: 8, Step: 46, Reward mean: 10.75, Reward std: 0.00, Loss: 0.6567, Eps: 0.5392\n",
            "Episode: 9, Step: 47, Reward mean: 10.75, Reward std: 0.00, Loss: 0.6395, Eps: 0.5294\n",
            "Episode: 9, Step: 48, Reward mean: 10.75, Reward std: 0.00, Loss: 0.6234, Eps: 0.5196000000000001\n",
            "Episode: 10, Step: 49, Reward mean: 10.75, Reward std: 0.00, Loss: 0.6301, Eps: 0.5098\n",
            "Episode: 10, Step: 50, Reward mean: 10.75, Reward std: 0.00, Loss: 0.6402, Eps: 0.5\n",
            "Episode: 11, Step: 51, Reward mean: 10.75, Reward std: 0.00, Loss: 0.6225, Eps: 0.4902\n",
            "Episode: 11, Step: 52, Reward mean: 10.75, Reward std: 0.00, Loss: 0.6222, Eps: 0.48039999999999994\n",
            "Episode: 12, Step: 53, Reward mean: 10.75, Reward std: 0.00, Loss: 0.6308, Eps: 0.4706\n",
            "Episode: 12, Step: 54, Reward mean: 10.75, Reward std: 0.00, Loss: 0.6130, Eps: 0.4608\n",
            "Episode: 13, Step: 55, Reward mean: 10.75, Reward std: 0.00, Loss: 0.5959, Eps: 0.45099999999999996\n",
            "Episode: 13, Step: 56, Reward mean: 10.75, Reward std: 0.00, Loss: 0.5793, Eps: 0.44120000000000004\n",
            "Episode: 14, Step: 57, Reward mean: 10.75, Reward std: 0.00, Loss: 0.5793, Eps: 0.4314\n",
            "Episode: 14, Step: 58, Reward mean: 10.75, Reward std: 0.00, Loss: 0.5628, Eps: 0.4216\n",
            "Episode: 15, Step: 59, Reward mean: 10.75, Reward std: 0.00, Loss: 0.5530, Eps: 0.41179999999999994\n",
            "Episode: 15, Step: 60, Reward mean: 10.75, Reward std: 0.00, Loss: 0.5597, Eps: 0.402\n",
            "Episode: 16, Step: 61, Reward mean: 10.75, Reward std: 0.00, Loss: 0.5442, Eps: 0.3922\n",
            "Episode: 16, Step: 62, Reward mean: 10.75, Reward std: 0.00, Loss: 0.5291, Eps: 0.38239999999999996\n",
            "Episode: 17, Step: 63, Reward mean: 10.75, Reward std: 0.00, Loss: 0.5148, Eps: 0.37259999999999993\n",
            "Episode: 17, Step: 64, Reward mean: 10.75, Reward std: 0.00, Loss: 0.5116, Eps: 0.3628\n",
            "Episode: 18, Step: 65, Reward mean: 10.75, Reward std: 0.00, Loss: 0.4978, Eps: 0.353\n",
            "Episode: 18, Step: 66, Reward mean: 10.75, Reward std: 0.00, Loss: 0.4845, Eps: 0.34320000000000006\n",
            "Episode: 19, Step: 67, Reward mean: 10.75, Reward std: 0.00, Loss: 0.4717, Eps: 0.33340000000000003\n",
            "Episode: 19, Step: 68, Reward mean: 10.75, Reward std: 0.00, Loss: 0.4594, Eps: 0.3236\n",
            "Episode: 20, Step: 69, Reward mean: 10.75, Reward std: 0.00, Loss: 0.4475, Eps: 0.31379999999999997\n",
            "Episode: 20, Step: 70, Reward mean: 10.75, Reward std: 0.00, Loss: 0.4361, Eps: 0.30400000000000005\n",
            "Episode: 21, Step: 71, Reward mean: 10.75, Reward std: 0.00, Loss: 0.4251, Eps: 0.2942\n",
            "Episode: 21, Step: 72, Reward mean: 10.75, Reward std: 0.00, Loss: 0.4146, Eps: 0.2844\n",
            "Episode: 22, Step: 73, Reward mean: 10.75, Reward std: 0.00, Loss: 0.4123, Eps: 0.27460000000000007\n",
            "Episode: 22, Step: 74, Reward mean: 10.75, Reward std: 0.00, Loss: 0.4025, Eps: 0.26480000000000004\n",
            "Episode: 23, Step: 75, Reward mean: 10.75, Reward std: 0.00, Loss: 0.3932, Eps: 0.255\n",
            "Episode: 23, Step: 76, Reward mean: 10.75, Reward std: 0.00, Loss: 0.3843, Eps: 0.24519999999999997\n",
            "Episode: 24, Step: 77, Reward mean: 10.75, Reward std: 0.00, Loss: 0.3759, Eps: 0.23540000000000005\n",
            "Episode: 24, Step: 78, Reward mean: 10.75, Reward std: 0.00, Loss: 0.3679, Eps: 0.22560000000000002\n",
            "Episode: 25, Step: 79, Reward mean: 10.75, Reward std: 0.00, Loss: 0.3667, Eps: 0.2158\n",
            "Episode: 25, Step: 80, Reward mean: 10.75, Reward std: 0.00, Loss: 0.3591, Eps: 0.20599999999999996\n",
            "Episode: 26, Step: 81, Reward mean: 10.75, Reward std: 0.00, Loss: 0.3521, Eps: 0.19620000000000004\n",
            "Episode: 26, Step: 82, Reward mean: 10.75, Reward std: 0.00, Loss: 0.3453, Eps: 0.1864\n",
            "Episode: 27, Step: 83, Reward mean: 10.75, Reward std: 0.00, Loss: 0.3388, Eps: 0.17659999999999998\n",
            "Episode: 27, Step: 84, Reward mean: 10.75, Reward std: 0.00, Loss: 0.3326, Eps: 0.16680000000000006\n",
            "Episode: 28, Step: 85, Reward mean: 10.75, Reward std: 0.00, Loss: 0.3266, Eps: 0.15700000000000003\n",
            "Episode: 28, Step: 86, Reward mean: 10.75, Reward std: 0.00, Loss: 0.3208, Eps: 0.1472\n",
            "Episode: 29, Step: 87, Reward mean: 10.75, Reward std: 0.00, Loss: 0.3152, Eps: 0.13739999999999997\n",
            "Episode: 29, Step: 88, Reward mean: 10.75, Reward std: 0.00, Loss: 0.3097, Eps: 0.12760000000000005\n",
            "Episode: 30, Step: 89, Reward mean: 10.75, Reward std: 0.00, Loss: 0.3044, Eps: 0.11780000000000002\n",
            "Episode: 30, Step: 90, Reward mean: 10.75, Reward std: 0.00, Loss: 0.2993, Eps: 0.10799999999999998\n",
            "Episode: 31, Step: 91, Reward mean: 10.75, Reward std: 0.00, Loss: 0.2943, Eps: 0.09820000000000007\n",
            "Episode: 31, Step: 92, Reward mean: 10.75, Reward std: 0.00, Loss: 0.2895, Eps: 0.08840000000000003\n",
            "Episode: 32, Step: 93, Reward mean: 10.75, Reward std: 0.00, Loss: 0.2848, Eps: 0.0786\n",
            "Episode: 32, Step: 94, Reward mean: 10.75, Reward std: 0.00, Loss: 0.2802, Eps: 0.06879999999999997\n",
            "Episode: 33, Step: 95, Reward mean: 10.75, Reward std: 0.00, Loss: 0.2758, Eps: 0.05900000000000005\n",
            "Episode: 33, Step: 96, Reward mean: 10.75, Reward std: 0.00, Loss: 0.2716, Eps: 0.04920000000000002\n",
            "Episode: 34, Step: 97, Reward mean: 10.75, Reward std: 0.00, Loss: 0.2674, Eps: 0.03939999999999999\n",
            "Episode: 34, Step: 98, Reward mean: 10.75, Reward std: 0.00, Loss: 0.2634, Eps: 0.02960000000000007\n",
            "Episode: 35, Step: 99, Reward mean: 10.75, Reward std: 0.00, Loss: 0.2595, Eps: 0.01980000000000004\n",
            "Episode: 35, Step: 100, Reward mean: 10.75, Reward std: 0.00, Loss: 0.2558, Eps: 0.010000000000000009\n",
            "Episode: 2, Step: 33, Reward mean: 10.75, Reward std: 0.00, Loss: 0.8050, Eps: 0.6666000000000001\n",
            "Episode: 2, Step: 34, Reward mean: 10.75, Reward std: 0.00, Loss: 0.7204, Eps: 0.6568\n",
            "Episode: 3, Step: 35, Reward mean: 10.75, Reward std: 0.00, Loss: 0.7097, Eps: 0.647\n",
            "Episode: 3, Step: 36, Reward mean: 10.75, Reward std: 0.00, Loss: 0.6807, Eps: 0.6372\n",
            "Episode: 4, Step: 37, Reward mean: 10.75, Reward std: 0.00, Loss: 0.6530, Eps: 0.6274\n",
            "Episode: 4, Step: 38, Reward mean: 10.75, Reward std: 0.00, Loss: 0.6608, Eps: 0.6175999999999999\n",
            "Episode: 5, Step: 39, Reward mean: 10.75, Reward std: 0.00, Loss: 0.6659, Eps: 0.6078\n",
            "Episode: 5, Step: 40, Reward mean: 10.75, Reward std: 0.00, Loss: 0.6732, Eps: 0.598\n",
            "Episode: 6, Step: 41, Reward mean: 10.75, Reward std: 0.00, Loss: 0.6519, Eps: 0.5882000000000001\n",
            "Episode: 6, Step: 42, Reward mean: 10.75, Reward std: 0.00, Loss: 0.6335, Eps: 0.5784\n",
            "Episode: 7, Step: 43, Reward mean: 10.75, Reward std: 0.00, Loss: 0.6139, Eps: 0.5686\n",
            "Episode: 7, Step: 44, Reward mean: 10.75, Reward std: 0.00, Loss: 0.6168, Eps: 0.5588\n",
            "Episode: 8, Step: 45, Reward mean: 10.75, Reward std: 0.00, Loss: 0.6036, Eps: 0.5489999999999999\n",
            "Episode: 8, Step: 46, Reward mean: 10.75, Reward std: 0.00, Loss: 0.6038, Eps: 0.5392\n",
            "Episode: 9, Step: 47, Reward mean: 10.75, Reward std: 0.00, Loss: 0.6033, Eps: 0.5294\n",
            "Episode: 9, Step: 48, Reward mean: 10.75, Reward std: 0.00, Loss: 0.6023, Eps: 0.5196000000000001\n",
            "Episode: 10, Step: 49, Reward mean: 10.75, Reward std: 0.00, Loss: 0.6044, Eps: 0.5098\n",
            "Episode: 10, Step: 50, Reward mean: 10.75, Reward std: 0.00, Loss: 0.6050, Eps: 0.5\n",
            "Episode: 11, Step: 51, Reward mean: 10.75, Reward std: 0.00, Loss: 0.6108, Eps: 0.4902\n",
            "Episode: 11, Step: 52, Reward mean: 10.75, Reward std: 0.00, Loss: 0.5971, Eps: 0.48039999999999994\n",
            "Episode: 12, Step: 53, Reward mean: 10.75, Reward std: 0.00, Loss: 0.5832, Eps: 0.4706\n",
            "Episode: 12, Step: 54, Reward mean: 10.75, Reward std: 0.00, Loss: 0.5687, Eps: 0.4608\n",
            "Episode: 13, Step: 55, Reward mean: 10.75, Reward std: 0.00, Loss: 0.5661, Eps: 0.45099999999999996\n",
            "Episode: 13, Step: 56, Reward mean: 10.75, Reward std: 0.00, Loss: 0.5533, Eps: 0.44120000000000004\n",
            "Episode: 14, Step: 57, Reward mean: 10.75, Reward std: 0.00, Loss: 0.5397, Eps: 0.4314\n",
            "Episode: 14, Step: 58, Reward mean: 10.75, Reward std: 0.00, Loss: 0.5394, Eps: 0.4216\n",
            "Episode: 15, Step: 59, Reward mean: 10.75, Reward std: 0.00, Loss: 0.5272, Eps: 0.41179999999999994\n",
            "Episode: 15, Step: 60, Reward mean: 10.75, Reward std: 0.00, Loss: 0.5151, Eps: 0.402\n",
            "Episode: 16, Step: 61, Reward mean: 10.75, Reward std: 0.00, Loss: 0.5027, Eps: 0.3922\n",
            "Episode: 16, Step: 62, Reward mean: 10.75, Reward std: 0.00, Loss: 0.5005, Eps: 0.38239999999999996\n",
            "Episode: 17, Step: 63, Reward mean: 10.75, Reward std: 0.00, Loss: 0.4896, Eps: 0.37259999999999993\n",
            "Episode: 17, Step: 64, Reward mean: 10.75, Reward std: 0.00, Loss: 0.4785, Eps: 0.3628\n",
            "Episode: 18, Step: 65, Reward mean: 10.75, Reward std: 0.00, Loss: 0.4678, Eps: 0.353\n",
            "Episode: 18, Step: 66, Reward mean: 10.75, Reward std: 0.00, Loss: 0.4566, Eps: 0.34320000000000006\n",
            "Episode: 19, Step: 67, Reward mean: 10.75, Reward std: 0.00, Loss: 0.4459, Eps: 0.33340000000000003\n",
            "Episode: 19, Step: 68, Reward mean: 10.75, Reward std: 0.00, Loss: 0.4352, Eps: 0.3236\n",
            "Episode: 20, Step: 69, Reward mean: 10.75, Reward std: 0.00, Loss: 0.4250, Eps: 0.31379999999999997\n",
            "Episode: 20, Step: 70, Reward mean: 10.75, Reward std: 0.00, Loss: 0.4213, Eps: 0.30400000000000005\n",
            "Episode: 21, Step: 71, Reward mean: 10.75, Reward std: 0.00, Loss: 0.4114, Eps: 0.2942\n",
            "Episode: 21, Step: 72, Reward mean: 10.75, Reward std: 0.00, Loss: 0.4016, Eps: 0.2844\n",
            "Episode: 22, Step: 73, Reward mean: 10.75, Reward std: 0.00, Loss: 0.3922, Eps: 0.27460000000000007\n",
            "Episode: 22, Step: 74, Reward mean: 10.75, Reward std: 0.00, Loss: 0.3831, Eps: 0.26480000000000004\n",
            "Episode: 23, Step: 75, Reward mean: 10.75, Reward std: 0.00, Loss: 0.3744, Eps: 0.255\n",
            "Episode: 23, Step: 76, Reward mean: 10.75, Reward std: 0.00, Loss: 0.3661, Eps: 0.24519999999999997\n",
            "Episode: 24, Step: 77, Reward mean: 10.75, Reward std: 0.00, Loss: 0.3582, Eps: 0.23540000000000005\n",
            "Episode: 24, Step: 78, Reward mean: 10.75, Reward std: 0.00, Loss: 0.3506, Eps: 0.22560000000000002\n",
            "Episode: 25, Step: 79, Reward mean: 10.75, Reward std: 0.00, Loss: 0.3433, Eps: 0.2158\n",
            "Episode: 25, Step: 80, Reward mean: 10.75, Reward std: 0.00, Loss: 0.3365, Eps: 0.20599999999999996\n",
            "Episode: 26, Step: 81, Reward mean: 10.75, Reward std: 0.00, Loss: 0.3367, Eps: 0.19620000000000004\n",
            "Episode: 26, Step: 82, Reward mean: 10.75, Reward std: 0.00, Loss: 0.3301, Eps: 0.1864\n",
            "Episode: 27, Step: 83, Reward mean: 10.75, Reward std: 0.00, Loss: 0.3240, Eps: 0.17659999999999998\n",
            "Episode: 27, Step: 84, Reward mean: 10.75, Reward std: 0.00, Loss: 0.3183, Eps: 0.16680000000000006\n",
            "Episode: 28, Step: 85, Reward mean: 10.75, Reward std: 0.00, Loss: 0.3127, Eps: 0.15700000000000003\n",
            "Episode: 28, Step: 86, Reward mean: 10.75, Reward std: 0.00, Loss: 0.3073, Eps: 0.1472\n",
            "Episode: 29, Step: 87, Reward mean: 10.75, Reward std: 0.00, Loss: 0.3022, Eps: 0.13739999999999997\n",
            "Episode: 29, Step: 88, Reward mean: 10.75, Reward std: 0.00, Loss: 0.2969, Eps: 0.12760000000000005\n",
            "Episode: 30, Step: 89, Reward mean: 10.75, Reward std: 0.00, Loss: 0.2919, Eps: 0.11780000000000002\n",
            "Episode: 30, Step: 90, Reward mean: 10.75, Reward std: 0.00, Loss: 0.2870, Eps: 0.10799999999999998\n",
            "Episode: 31, Step: 91, Reward mean: 10.75, Reward std: 0.00, Loss: 0.2824, Eps: 0.09820000000000007\n",
            "Episode: 31, Step: 92, Reward mean: 10.75, Reward std: 0.00, Loss: 0.2779, Eps: 0.08840000000000003\n",
            "Episode: 32, Step: 93, Reward mean: 10.75, Reward std: 0.00, Loss: 0.2735, Eps: 0.0786\n",
            "Episode: 32, Step: 94, Reward mean: 10.75, Reward std: 0.00, Loss: 0.2693, Eps: 0.06879999999999997\n",
            "Episode: 33, Step: 95, Reward mean: 10.75, Reward std: 0.00, Loss: 0.2651, Eps: 0.05900000000000005\n",
            "Episode: 33, Step: 96, Reward mean: 10.75, Reward std: 0.00, Loss: 0.2611, Eps: 0.04920000000000002\n",
            "Episode: 34, Step: 97, Reward mean: 10.75, Reward std: 0.00, Loss: 0.2572, Eps: 0.03939999999999999\n",
            "Episode: 34, Step: 98, Reward mean: 10.75, Reward std: 0.00, Loss: 0.2534, Eps: 0.02960000000000007\n",
            "Episode: 35, Step: 99, Reward mean: 10.75, Reward std: 0.00, Loss: 0.2497, Eps: 0.01980000000000004\n",
            "Episode: 35, Step: 100, Reward mean: 10.75, Reward std: 0.00, Loss: 0.2462, Eps: 0.010000000000000009\n",
            "Episode: 2, Step: 33, Reward mean: 14.92, Reward std: 0.00, Loss: 0.9143, Eps: 0.6666000000000001\n",
            "Episode: 2, Step: 34, Reward mean: 14.92, Reward std: 0.00, Loss: 0.8804, Eps: 0.6568\n",
            "Episode: 3, Step: 35, Reward mean: 14.92, Reward std: 0.00, Loss: 0.8542, Eps: 0.647\n",
            "Episode: 3, Step: 36, Reward mean: 14.92, Reward std: 0.00, Loss: 0.8450, Eps: 0.6372\n",
            "Episode: 4, Step: 37, Reward mean: 14.92, Reward std: 0.00, Loss: 0.8484, Eps: 0.6274\n",
            "Episode: 4, Step: 38, Reward mean: 14.92, Reward std: 0.00, Loss: 0.8345, Eps: 0.6175999999999999\n",
            "Episode: 5, Step: 39, Reward mean: 14.92, Reward std: 0.00, Loss: 0.7367, Eps: 0.6078\n",
            "Episode: 5, Step: 40, Reward mean: 14.92, Reward std: 0.00, Loss: 0.7329, Eps: 0.598\n",
            "Episode: 6, Step: 41, Reward mean: 14.92, Reward std: 0.00, Loss: 0.7332, Eps: 0.5882000000000001\n",
            "Episode: 6, Step: 42, Reward mean: 14.92, Reward std: 0.00, Loss: 0.7274, Eps: 0.5784\n",
            "Episode: 7, Step: 43, Reward mean: 14.92, Reward std: 0.00, Loss: 0.7238, Eps: 0.5686\n",
            "Episode: 7, Step: 44, Reward mean: 14.92, Reward std: 0.00, Loss: 0.7211, Eps: 0.5588\n",
            "Episode: 8, Step: 45, Reward mean: 14.92, Reward std: 0.00, Loss: 0.7158, Eps: 0.5489999999999999\n",
            "Episode: 8, Step: 46, Reward mean: 14.92, Reward std: 0.00, Loss: 0.6735, Eps: 0.5392\n",
            "Episode: 9, Step: 47, Reward mean: 14.92, Reward std: 0.00, Loss: 0.6687, Eps: 0.5294\n",
            "Episode: 9, Step: 48, Reward mean: 14.92, Reward std: 0.00, Loss: 0.6611, Eps: 0.5196000000000001\n",
            "Episode: 10, Step: 49, Reward mean: 14.92, Reward std: 0.00, Loss: 0.6546, Eps: 0.5098\n",
            "Episode: 10, Step: 50, Reward mean: 14.92, Reward std: 0.00, Loss: 0.6468, Eps: 0.5\n",
            "Episode: 11, Step: 51, Reward mean: 14.92, Reward std: 0.00, Loss: 0.6382, Eps: 0.4902\n",
            "Episode: 11, Step: 52, Reward mean: 14.92, Reward std: 0.00, Loss: 0.6315, Eps: 0.48039999999999994\n",
            "Episode: 12, Step: 53, Reward mean: 14.92, Reward std: 0.00, Loss: 0.6223, Eps: 0.4706\n",
            "Episode: 12, Step: 54, Reward mean: 14.92, Reward std: 0.00, Loss: 0.6160, Eps: 0.4608\n",
            "Episode: 13, Step: 55, Reward mean: 14.92, Reward std: 0.00, Loss: 0.6066, Eps: 0.45099999999999996\n",
            "Episode: 13, Step: 56, Reward mean: 14.92, Reward std: 0.00, Loss: 0.6006, Eps: 0.44120000000000004\n",
            "Episode: 14, Step: 57, Reward mean: 14.92, Reward std: 0.00, Loss: 0.5931, Eps: 0.4314\n",
            "Episode: 14, Step: 58, Reward mean: 14.92, Reward std: 0.00, Loss: 0.5858, Eps: 0.4216\n",
            "Episode: 15, Step: 59, Reward mean: 14.92, Reward std: 0.00, Loss: 0.5762, Eps: 0.41179999999999994\n",
            "Episode: 15, Step: 60, Reward mean: 14.92, Reward std: 0.00, Loss: 0.5667, Eps: 0.402\n",
            "Episode: 16, Step: 61, Reward mean: 14.92, Reward std: 0.00, Loss: 0.5572, Eps: 0.3922\n",
            "Episode: 16, Step: 62, Reward mean: 14.92, Reward std: 0.00, Loss: 0.5503, Eps: 0.38239999999999996\n",
            "Episode: 17, Step: 63, Reward mean: 14.92, Reward std: 0.00, Loss: 0.5416, Eps: 0.37259999999999993\n",
            "Episode: 17, Step: 64, Reward mean: 14.92, Reward std: 0.00, Loss: 0.5315, Eps: 0.3628\n",
            "Episode: 18, Step: 65, Reward mean: 14.92, Reward std: 0.00, Loss: 0.5220, Eps: 0.353\n",
            "Episode: 18, Step: 66, Reward mean: 14.92, Reward std: 0.00, Loss: 0.5116, Eps: 0.34320000000000006\n",
            "Episode: 19, Step: 67, Reward mean: 14.92, Reward std: 0.00, Loss: 0.5014, Eps: 0.33340000000000003\n",
            "Episode: 19, Step: 68, Reward mean: 14.92, Reward std: 0.00, Loss: 0.4912, Eps: 0.3236\n",
            "Episode: 20, Step: 69, Reward mean: 14.92, Reward std: 0.00, Loss: 0.4814, Eps: 0.31379999999999997\n",
            "Episode: 20, Step: 70, Reward mean: 14.92, Reward std: 0.00, Loss: 0.4736, Eps: 0.30400000000000005\n",
            "Episode: 21, Step: 71, Reward mean: 14.92, Reward std: 0.00, Loss: 0.4640, Eps: 0.2942\n",
            "Episode: 21, Step: 72, Reward mean: 14.92, Reward std: 0.00, Loss: 0.4625, Eps: 0.2844\n",
            "Episode: 22, Step: 73, Reward mean: 14.92, Reward std: 0.00, Loss: 0.4527, Eps: 0.27460000000000007\n",
            "Episode: 22, Step: 74, Reward mean: 14.92, Reward std: 0.00, Loss: 0.4435, Eps: 0.26480000000000004\n",
            "Episode: 23, Step: 75, Reward mean: 14.92, Reward std: 0.00, Loss: 0.4338, Eps: 0.255\n",
            "Episode: 23, Step: 76, Reward mean: 14.92, Reward std: 0.00, Loss: 0.4246, Eps: 0.24519999999999997\n",
            "Episode: 24, Step: 77, Reward mean: 14.92, Reward std: 0.00, Loss: 0.4161, Eps: 0.23540000000000005\n",
            "Episode: 24, Step: 78, Reward mean: 14.92, Reward std: 0.00, Loss: 0.4076, Eps: 0.22560000000000002\n",
            "Episode: 25, Step: 79, Reward mean: 14.92, Reward std: 0.00, Loss: 0.3993, Eps: 0.2158\n",
            "Episode: 25, Step: 80, Reward mean: 14.92, Reward std: 0.00, Loss: 0.3914, Eps: 0.20599999999999996\n",
            "Episode: 26, Step: 81, Reward mean: 14.92, Reward std: 0.00, Loss: 0.3836, Eps: 0.19620000000000004\n",
            "Episode: 26, Step: 82, Reward mean: 14.92, Reward std: 0.00, Loss: 0.3761, Eps: 0.1864\n",
            "Episode: 27, Step: 83, Reward mean: 14.92, Reward std: 0.00, Loss: 0.3689, Eps: 0.17659999999999998\n",
            "Episode: 27, Step: 84, Reward mean: 14.92, Reward std: 0.00, Loss: 0.3623, Eps: 0.16680000000000006\n",
            "Episode: 28, Step: 85, Reward mean: 14.92, Reward std: 0.00, Loss: 0.3590, Eps: 0.15700000000000003\n",
            "Episode: 28, Step: 86, Reward mean: 14.92, Reward std: 0.00, Loss: 0.3525, Eps: 0.1472\n",
            "Episode: 29, Step: 87, Reward mean: 14.92, Reward std: 0.00, Loss: 0.3462, Eps: 0.13739999999999997\n",
            "Episode: 29, Step: 88, Reward mean: 14.92, Reward std: 0.00, Loss: 0.3432, Eps: 0.12760000000000005\n",
            "Episode: 30, Step: 89, Reward mean: 14.92, Reward std: 0.00, Loss: 0.3376, Eps: 0.11780000000000002\n",
            "Episode: 30, Step: 90, Reward mean: 14.92, Reward std: 0.00, Loss: 0.3323, Eps: 0.10799999999999998\n",
            "Episode: 31, Step: 91, Reward mean: 14.92, Reward std: 0.00, Loss: 0.3278, Eps: 0.09820000000000007\n",
            "Episode: 31, Step: 92, Reward mean: 14.92, Reward std: 0.00, Loss: 0.3229, Eps: 0.08840000000000003\n",
            "Episode: 32, Step: 93, Reward mean: 14.92, Reward std: 0.00, Loss: 0.3187, Eps: 0.0786\n",
            "Episode: 32, Step: 94, Reward mean: 14.92, Reward std: 0.00, Loss: 0.3144, Eps: 0.06879999999999997\n",
            "Episode: 33, Step: 95, Reward mean: 14.92, Reward std: 0.00, Loss: 0.3104, Eps: 0.05900000000000005\n",
            "Episode: 33, Step: 96, Reward mean: 14.92, Reward std: 0.00, Loss: 0.3064, Eps: 0.04920000000000002\n",
            "Episode: 34, Step: 97, Reward mean: 14.92, Reward std: 0.00, Loss: 0.3024, Eps: 0.03939999999999999\n",
            "Episode: 34, Step: 98, Reward mean: 14.92, Reward std: 0.00, Loss: 0.2987, Eps: 0.02960000000000007\n",
            "Episode: 35, Step: 99, Reward mean: 14.92, Reward std: 0.00, Loss: 0.2946, Eps: 0.01980000000000004\n",
            "Episode: 35, Step: 100, Reward mean: 14.92, Reward std: 0.00, Loss: 0.2909, Eps: 0.010000000000000009\n",
            "Episode: 2, Step: 33, Reward mean: 10.75, Reward std: 0.00, Loss: 0.6077, Eps: 0.6666000000000001\n",
            "Episode: 2, Step: 34, Reward mean: 10.75, Reward std: 0.00, Loss: 0.6903, Eps: 0.6568\n",
            "Episode: 3, Step: 35, Reward mean: 10.75, Reward std: 0.00, Loss: 0.7083, Eps: 0.647\n",
            "Episode: 3, Step: 36, Reward mean: 10.75, Reward std: 0.00, Loss: 0.6560, Eps: 0.6372\n",
            "Episode: 4, Step: 37, Reward mean: 10.75, Reward std: 0.00, Loss: 0.6646, Eps: 0.6274\n",
            "Episode: 4, Step: 38, Reward mean: 10.75, Reward std: 0.00, Loss: 0.6331, Eps: 0.6175999999999999\n",
            "Episode: 5, Step: 39, Reward mean: 10.75, Reward std: 0.00, Loss: 0.6568, Eps: 0.6078\n",
            "Episode: 5, Step: 40, Reward mean: 10.75, Reward std: 0.00, Loss: 0.6320, Eps: 0.598\n",
            "Episode: 6, Step: 41, Reward mean: 10.75, Reward std: 0.00, Loss: 0.6067, Eps: 0.5882000000000001\n",
            "Episode: 6, Step: 42, Reward mean: 10.75, Reward std: 0.00, Loss: 0.5851, Eps: 0.5784\n",
            "Episode: 7, Step: 43, Reward mean: 10.75, Reward std: 0.00, Loss: 0.5896, Eps: 0.5686\n",
            "Episode: 7, Step: 44, Reward mean: 10.75, Reward std: 0.00, Loss: 0.5693, Eps: 0.5588\n",
            "Episode: 8, Step: 45, Reward mean: 10.75, Reward std: 0.00, Loss: 0.5707, Eps: 0.5489999999999999\n",
            "Episode: 8, Step: 46, Reward mean: 10.75, Reward std: 0.00, Loss: 0.5505, Eps: 0.5392\n",
            "Episode: 9, Step: 47, Reward mean: 10.75, Reward std: 0.00, Loss: 0.5181, Eps: 0.5294\n",
            "Episode: 9, Step: 48, Reward mean: 10.75, Reward std: 0.00, Loss: 0.5305, Eps: 0.5196000000000001\n",
            "Episode: 10, Step: 49, Reward mean: 10.75, Reward std: 0.00, Loss: 0.5317, Eps: 0.5098\n",
            "Episode: 10, Step: 50, Reward mean: 10.75, Reward std: 0.00, Loss: 0.5370, Eps: 0.5\n",
            "Episode: 11, Step: 51, Reward mean: 10.75, Reward std: 0.00, Loss: 0.5393, Eps: 0.4902\n",
            "Episode: 11, Step: 52, Reward mean: 10.75, Reward std: 0.00, Loss: 0.5209, Eps: 0.48039999999999994\n",
            "Episode: 12, Step: 53, Reward mean: 10.75, Reward std: 0.00, Loss: 0.5046, Eps: 0.4706\n",
            "Episode: 12, Step: 54, Reward mean: 10.75, Reward std: 0.00, Loss: 0.4891, Eps: 0.4608\n",
            "Episode: 13, Step: 55, Reward mean: 10.75, Reward std: 0.00, Loss: 0.4739, Eps: 0.45099999999999996\n",
            "Episode: 13, Step: 56, Reward mean: 10.75, Reward std: 0.00, Loss: 0.4556, Eps: 0.44120000000000004\n",
            "Episode: 14, Step: 57, Reward mean: 10.75, Reward std: 0.00, Loss: 0.4420, Eps: 0.4314\n",
            "Episode: 14, Step: 58, Reward mean: 10.75, Reward std: 0.00, Loss: 0.4425, Eps: 0.4216\n",
            "Episode: 15, Step: 59, Reward mean: 10.75, Reward std: 0.00, Loss: 0.4461, Eps: 0.41179999999999994\n",
            "Episode: 15, Step: 60, Reward mean: 10.75, Reward std: 0.00, Loss: 0.4328, Eps: 0.402\n",
            "Episode: 16, Step: 61, Reward mean: 10.75, Reward std: 0.00, Loss: 0.4197, Eps: 0.3922\n",
            "Episode: 16, Step: 62, Reward mean: 10.75, Reward std: 0.00, Loss: 0.4076, Eps: 0.38239999999999996\n",
            "Episode: 17, Step: 63, Reward mean: 10.75, Reward std: 0.00, Loss: 0.4074, Eps: 0.37259999999999993\n",
            "Episode: 17, Step: 64, Reward mean: 10.75, Reward std: 0.00, Loss: 0.3957, Eps: 0.3628\n",
            "Episode: 18, Step: 65, Reward mean: 10.75, Reward std: 0.00, Loss: 0.3959, Eps: 0.353\n",
            "Episode: 18, Step: 66, Reward mean: 10.75, Reward std: 0.00, Loss: 0.3848, Eps: 0.34320000000000006\n",
            "Episode: 19, Step: 67, Reward mean: 10.75, Reward std: 0.00, Loss: 0.3844, Eps: 0.33340000000000003\n",
            "Episode: 19, Step: 68, Reward mean: 10.75, Reward std: 0.00, Loss: 0.3739, Eps: 0.3236\n",
            "Episode: 20, Step: 69, Reward mean: 10.75, Reward std: 0.00, Loss: 0.3639, Eps: 0.31379999999999997\n",
            "Episode: 20, Step: 70, Reward mean: 10.75, Reward std: 0.00, Loss: 0.3637, Eps: 0.30400000000000005\n",
            "Episode: 21, Step: 71, Reward mean: 10.75, Reward std: 0.00, Loss: 0.3544, Eps: 0.2942\n",
            "Episode: 21, Step: 72, Reward mean: 10.75, Reward std: 0.00, Loss: 0.3456, Eps: 0.2844\n",
            "Episode: 22, Step: 73, Reward mean: 10.75, Reward std: 0.00, Loss: 0.3372, Eps: 0.27460000000000007\n",
            "Episode: 22, Step: 74, Reward mean: 10.75, Reward std: 0.00, Loss: 0.3325, Eps: 0.26480000000000004\n",
            "Episode: 23, Step: 75, Reward mean: 10.75, Reward std: 0.00, Loss: 0.3297, Eps: 0.255\n",
            "Episode: 23, Step: 76, Reward mean: 10.75, Reward std: 0.00, Loss: 0.3222, Eps: 0.24519999999999997\n",
            "Episode: 24, Step: 77, Reward mean: 10.75, Reward std: 0.00, Loss: 0.3152, Eps: 0.23540000000000005\n",
            "Episode: 24, Step: 78, Reward mean: 10.75, Reward std: 0.00, Loss: 0.3085, Eps: 0.22560000000000002\n",
            "Episode: 25, Step: 79, Reward mean: 10.75, Reward std: 0.00, Loss: 0.3022, Eps: 0.2158\n",
            "Episode: 25, Step: 80, Reward mean: 10.75, Reward std: 0.00, Loss: 0.2994, Eps: 0.20599999999999996\n",
            "Episode: 26, Step: 81, Reward mean: 10.75, Reward std: 0.00, Loss: 0.2934, Eps: 0.19620000000000004\n",
            "Episode: 26, Step: 82, Reward mean: 10.75, Reward std: 0.00, Loss: 0.2877, Eps: 0.1864\n",
            "Episode: 27, Step: 83, Reward mean: 10.75, Reward std: 0.00, Loss: 0.2844, Eps: 0.17659999999999998\n",
            "Episode: 27, Step: 84, Reward mean: 10.75, Reward std: 0.00, Loss: 0.2791, Eps: 0.16680000000000006\n",
            "Episode: 28, Step: 85, Reward mean: 10.75, Reward std: 0.00, Loss: 0.2740, Eps: 0.15700000000000003\n",
            "Episode: 28, Step: 86, Reward mean: 10.75, Reward std: 0.00, Loss: 0.2691, Eps: 0.1472\n",
            "Episode: 29, Step: 87, Reward mean: 10.75, Reward std: 0.00, Loss: 0.2643, Eps: 0.13739999999999997\n",
            "Episode: 29, Step: 88, Reward mean: 10.75, Reward std: 0.00, Loss: 0.2597, Eps: 0.12760000000000005\n",
            "Episode: 30, Step: 89, Reward mean: 10.75, Reward std: 0.00, Loss: 0.2553, Eps: 0.11780000000000002\n",
            "Episode: 30, Step: 90, Reward mean: 10.75, Reward std: 0.00, Loss: 0.2509, Eps: 0.10799999999999998\n",
            "Episode: 31, Step: 91, Reward mean: 10.75, Reward std: 0.00, Loss: 0.2467, Eps: 0.09820000000000007\n",
            "Episode: 31, Step: 92, Reward mean: 10.75, Reward std: 0.00, Loss: 0.2427, Eps: 0.08840000000000003\n",
            "Episode: 32, Step: 93, Reward mean: 10.75, Reward std: 0.00, Loss: 0.2387, Eps: 0.0786\n",
            "Episode: 32, Step: 94, Reward mean: 10.75, Reward std: 0.00, Loss: 0.2349, Eps: 0.06879999999999997\n",
            "Episode: 33, Step: 95, Reward mean: 10.75, Reward std: 0.00, Loss: 0.2312, Eps: 0.05900000000000005\n",
            "Episode: 33, Step: 96, Reward mean: 10.75, Reward std: 0.00, Loss: 0.2276, Eps: 0.04920000000000002\n",
            "Episode: 34, Step: 97, Reward mean: 10.75, Reward std: 0.00, Loss: 0.2242, Eps: 0.03939999999999999\n",
            "Episode: 34, Step: 98, Reward mean: 10.75, Reward std: 0.00, Loss: 0.2208, Eps: 0.02960000000000007\n",
            "Episode: 35, Step: 99, Reward mean: 10.75, Reward std: 0.00, Loss: 0.2176, Eps: 0.01980000000000004\n",
            "Episode: 35, Step: 100, Reward mean: 10.75, Reward std: 0.00, Loss: 0.2144, Eps: 0.010000000000000009\n",
            "Episode: 2, Step: 33, Reward mean: 14.92, Reward std: 0.00, Loss: 0.6911, Eps: 0.6666000000000001\n",
            "Episode: 2, Step: 34, Reward mean: 14.92, Reward std: 0.00, Loss: 0.7644, Eps: 0.6568\n",
            "Episode: 3, Step: 35, Reward mean: 14.92, Reward std: 0.00, Loss: 0.7104, Eps: 0.647\n",
            "Episode: 3, Step: 36, Reward mean: 14.92, Reward std: 0.00, Loss: 0.6764, Eps: 0.6372\n",
            "Episode: 4, Step: 37, Reward mean: 14.92, Reward std: 0.00, Loss: 0.5640, Eps: 0.6274\n",
            "Episode: 4, Step: 38, Reward mean: 14.92, Reward std: 0.00, Loss: 0.5558, Eps: 0.6175999999999999\n",
            "Episode: 5, Step: 39, Reward mean: 14.92, Reward std: 0.00, Loss: 0.4915, Eps: 0.6078\n",
            "Episode: 5, Step: 40, Reward mean: 14.92, Reward std: 0.00, Loss: 0.4884, Eps: 0.598\n",
            "Episode: 6, Step: 41, Reward mean: 14.92, Reward std: 0.00, Loss: 0.5375, Eps: 0.5882000000000001\n",
            "Episode: 6, Step: 42, Reward mean: 14.92, Reward std: 0.00, Loss: 0.5685, Eps: 0.5784\n",
            "Episode: 7, Step: 43, Reward mean: 14.92, Reward std: 0.00, Loss: 0.5958, Eps: 0.5686\n",
            "Episode: 7, Step: 44, Reward mean: 14.92, Reward std: 0.00, Loss: 0.5802, Eps: 0.5588\n",
            "Episode: 8, Step: 45, Reward mean: 14.92, Reward std: 0.00, Loss: 0.5651, Eps: 0.5489999999999999\n",
            "Episode: 8, Step: 46, Reward mean: 14.92, Reward std: 0.00, Loss: 0.5514, Eps: 0.5392\n",
            "Episode: 9, Step: 47, Reward mean: 14.92, Reward std: 0.00, Loss: 0.5259, Eps: 0.5294\n",
            "Episode: 9, Step: 48, Reward mean: 14.92, Reward std: 0.00, Loss: 0.5413, Eps: 0.5196000000000001\n",
            "Episode: 10, Step: 49, Reward mean: 14.92, Reward std: 0.00, Loss: 0.5189, Eps: 0.5098\n",
            "Episode: 10, Step: 50, Reward mean: 14.92, Reward std: 0.00, Loss: 0.5076, Eps: 0.5\n",
            "Episode: 11, Step: 51, Reward mean: 14.92, Reward std: 0.00, Loss: 0.4974, Eps: 0.4902\n",
            "Episode: 11, Step: 52, Reward mean: 14.92, Reward std: 0.00, Loss: 0.4871, Eps: 0.48039999999999994\n",
            "Episode: 12, Step: 53, Reward mean: 14.92, Reward std: 0.00, Loss: 0.4999, Eps: 0.4706\n",
            "Episode: 12, Step: 54, Reward mean: 14.92, Reward std: 0.00, Loss: 0.4885, Eps: 0.4608\n",
            "Episode: 13, Step: 55, Reward mean: 14.92, Reward std: 0.00, Loss: 0.4789, Eps: 0.45099999999999996\n",
            "Episode: 13, Step: 56, Reward mean: 14.92, Reward std: 0.00, Loss: 0.4691, Eps: 0.44120000000000004\n",
            "Episode: 14, Step: 57, Reward mean: 14.92, Reward std: 0.00, Loss: 0.4600, Eps: 0.4314\n",
            "Episode: 14, Step: 58, Reward mean: 14.92, Reward std: 0.00, Loss: 0.4634, Eps: 0.4216\n",
            "Episode: 15, Step: 59, Reward mean: 14.92, Reward std: 0.00, Loss: 0.4691, Eps: 0.41179999999999994\n",
            "Episode: 15, Step: 60, Reward mean: 14.92, Reward std: 0.00, Loss: 0.4582, Eps: 0.402\n",
            "Episode: 16, Step: 61, Reward mean: 14.92, Reward std: 0.00, Loss: 0.4481, Eps: 0.3922\n",
            "Episode: 16, Step: 62, Reward mean: 14.92, Reward std: 0.00, Loss: 0.4540, Eps: 0.38239999999999996\n",
            "Episode: 17, Step: 63, Reward mean: 14.92, Reward std: 0.00, Loss: 0.4440, Eps: 0.37259999999999993\n",
            "Episode: 17, Step: 64, Reward mean: 14.92, Reward std: 0.00, Loss: 0.4483, Eps: 0.3628\n",
            "Episode: 18, Step: 65, Reward mean: 14.92, Reward std: 0.00, Loss: 0.4380, Eps: 0.353\n",
            "Episode: 18, Step: 66, Reward mean: 14.92, Reward std: 0.00, Loss: 0.4282, Eps: 0.34320000000000006\n",
            "Episode: 19, Step: 67, Reward mean: 14.92, Reward std: 0.00, Loss: 0.4184, Eps: 0.33340000000000003\n",
            "Episode: 19, Step: 68, Reward mean: 14.92, Reward std: 0.00, Loss: 0.4094, Eps: 0.3236\n",
            "Episode: 20, Step: 69, Reward mean: 14.92, Reward std: 0.00, Loss: 0.4007, Eps: 0.31379999999999997\n",
            "Episode: 20, Step: 70, Reward mean: 14.92, Reward std: 0.00, Loss: 0.3922, Eps: 0.30400000000000005\n",
            "Episode: 21, Step: 71, Reward mean: 14.92, Reward std: 0.00, Loss: 0.3836, Eps: 0.2942\n",
            "Episode: 21, Step: 72, Reward mean: 14.92, Reward std: 0.00, Loss: 0.3752, Eps: 0.2844\n",
            "Episode: 22, Step: 73, Reward mean: 14.92, Reward std: 0.00, Loss: 0.3670, Eps: 0.27460000000000007\n",
            "Episode: 22, Step: 74, Reward mean: 14.92, Reward std: 0.00, Loss: 0.3590, Eps: 0.26480000000000004\n",
            "Episode: 23, Step: 75, Reward mean: 14.92, Reward std: 0.00, Loss: 0.3511, Eps: 0.255\n",
            "Episode: 23, Step: 76, Reward mean: 14.92, Reward std: 0.00, Loss: 0.3434, Eps: 0.24519999999999997\n",
            "Episode: 24, Step: 77, Reward mean: 14.92, Reward std: 0.00, Loss: 0.3361, Eps: 0.23540000000000005\n",
            "Episode: 24, Step: 78, Reward mean: 14.92, Reward std: 0.00, Loss: 0.3290, Eps: 0.22560000000000002\n",
            "Episode: 25, Step: 79, Reward mean: 14.92, Reward std: 0.00, Loss: 0.3222, Eps: 0.2158\n",
            "Episode: 25, Step: 80, Reward mean: 14.92, Reward std: 0.00, Loss: 0.3239, Eps: 0.20599999999999996\n",
            "Episode: 26, Step: 81, Reward mean: 14.92, Reward std: 0.00, Loss: 0.3174, Eps: 0.19620000000000004\n",
            "Episode: 26, Step: 82, Reward mean: 14.92, Reward std: 0.00, Loss: 0.3111, Eps: 0.1864\n",
            "Episode: 27, Step: 83, Reward mean: 14.92, Reward std: 0.00, Loss: 0.3114, Eps: 0.17659999999999998\n",
            "Episode: 27, Step: 84, Reward mean: 14.92, Reward std: 0.00, Loss: 0.3055, Eps: 0.16680000000000006\n",
            "Episode: 28, Step: 85, Reward mean: 14.92, Reward std: 0.00, Loss: 0.2998, Eps: 0.15700000000000003\n",
            "Episode: 28, Step: 86, Reward mean: 14.92, Reward std: 0.00, Loss: 0.2987, Eps: 0.1472\n",
            "Episode: 29, Step: 87, Reward mean: 14.92, Reward std: 0.00, Loss: 0.2934, Eps: 0.13739999999999997\n",
            "Episode: 29, Step: 88, Reward mean: 14.92, Reward std: 0.00, Loss: 0.2883, Eps: 0.12760000000000005\n",
            "Episode: 30, Step: 89, Reward mean: 14.92, Reward std: 0.00, Loss: 0.2872, Eps: 0.11780000000000002\n",
            "Episode: 30, Step: 90, Reward mean: 14.92, Reward std: 0.00, Loss: 0.2825, Eps: 0.10799999999999998\n",
            "Episode: 31, Step: 91, Reward mean: 14.92, Reward std: 0.00, Loss: 0.2779, Eps: 0.09820000000000007\n",
            "Episode: 31, Step: 92, Reward mean: 14.92, Reward std: 0.00, Loss: 0.2735, Eps: 0.08840000000000003\n",
            "Episode: 32, Step: 93, Reward mean: 14.92, Reward std: 0.00, Loss: 0.2692, Eps: 0.0786\n",
            "Episode: 32, Step: 94, Reward mean: 14.92, Reward std: 0.00, Loss: 0.2651, Eps: 0.06879999999999997\n",
            "Episode: 33, Step: 95, Reward mean: 14.92, Reward std: 0.00, Loss: 0.2611, Eps: 0.05900000000000005\n",
            "Episode: 33, Step: 96, Reward mean: 14.92, Reward std: 0.00, Loss: 0.2572, Eps: 0.04920000000000002\n",
            "Episode: 34, Step: 97, Reward mean: 14.92, Reward std: 0.00, Loss: 0.2533, Eps: 0.03939999999999999\n",
            "Episode: 34, Step: 98, Reward mean: 14.92, Reward std: 0.00, Loss: 0.2496, Eps: 0.02960000000000007\n",
            "Episode: 35, Step: 99, Reward mean: 14.92, Reward std: 0.00, Loss: 0.2460, Eps: 0.01980000000000004\n",
            "Episode: 35, Step: 100, Reward mean: 14.92, Reward std: 0.00, Loss: 0.2425, Eps: 0.010000000000000009\n",
            "Episode: 2, Step: 33, Reward mean: 11.08, Reward std: 0.00, Loss: 0.9651, Eps: 0.6666000000000001\n",
            "Episode: 2, Step: 34, Reward mean: 11.08, Reward std: 0.00, Loss: 0.8243, Eps: 0.6568\n",
            "Episode: 3, Step: 35, Reward mean: 11.08, Reward std: 0.00, Loss: 0.7943, Eps: 0.647\n",
            "Episode: 3, Step: 36, Reward mean: 11.08, Reward std: 0.00, Loss: 0.7579, Eps: 0.6372\n",
            "Episode: 4, Step: 37, Reward mean: 11.08, Reward std: 0.00, Loss: 0.7330, Eps: 0.6274\n",
            "Episode: 4, Step: 38, Reward mean: 11.08, Reward std: 0.00, Loss: 0.7363, Eps: 0.6175999999999999\n",
            "Episode: 5, Step: 39, Reward mean: 11.08, Reward std: 0.00, Loss: 0.7385, Eps: 0.6078\n",
            "Episode: 5, Step: 40, Reward mean: 11.08, Reward std: 0.00, Loss: 0.7161, Eps: 0.598\n",
            "Episode: 6, Step: 41, Reward mean: 11.08, Reward std: 0.00, Loss: 0.6988, Eps: 0.5882000000000001\n",
            "Episode: 6, Step: 42, Reward mean: 11.08, Reward std: 0.00, Loss: 0.6401, Eps: 0.5784\n",
            "Episode: 7, Step: 43, Reward mean: 11.08, Reward std: 0.00, Loss: 0.6288, Eps: 0.5686\n",
            "Episode: 7, Step: 44, Reward mean: 11.08, Reward std: 0.00, Loss: 0.5855, Eps: 0.5588\n",
            "Episode: 8, Step: 45, Reward mean: 11.08, Reward std: 0.00, Loss: 0.5523, Eps: 0.5489999999999999\n",
            "Episode: 8, Step: 46, Reward mean: 11.08, Reward std: 0.00, Loss: 0.5236, Eps: 0.5392\n",
            "Episode: 9, Step: 47, Reward mean: 11.08, Reward std: 0.00, Loss: 0.5162, Eps: 0.5294\n",
            "Episode: 9, Step: 48, Reward mean: 11.08, Reward std: 0.00, Loss: 0.5075, Eps: 0.5196000000000001\n",
            "Episode: 10, Step: 49, Reward mean: 11.08, Reward std: 0.00, Loss: 0.5002, Eps: 0.5098\n",
            "Episode: 10, Step: 50, Reward mean: 11.08, Reward std: 0.00, Loss: 0.5222, Eps: 0.5\n",
            "Episode: 11, Step: 51, Reward mean: 11.08, Reward std: 0.00, Loss: 0.5404, Eps: 0.4902\n",
            "Episode: 11, Step: 52, Reward mean: 11.08, Reward std: 0.00, Loss: 0.5556, Eps: 0.48039999999999994\n",
            "Episode: 12, Step: 53, Reward mean: 11.08, Reward std: 0.00, Loss: 0.5662, Eps: 0.4706\n",
            "Episode: 12, Step: 54, Reward mean: 11.08, Reward std: 0.00, Loss: 0.5531, Eps: 0.4608\n",
            "Episode: 13, Step: 55, Reward mean: 11.08, Reward std: 0.00, Loss: 0.5529, Eps: 0.45099999999999996\n",
            "Episode: 13, Step: 56, Reward mean: 11.08, Reward std: 0.00, Loss: 0.5393, Eps: 0.44120000000000004\n",
            "Episode: 14, Step: 57, Reward mean: 11.08, Reward std: 0.00, Loss: 0.5279, Eps: 0.4314\n",
            "Episode: 14, Step: 58, Reward mean: 11.08, Reward std: 0.00, Loss: 0.5158, Eps: 0.4216\n",
            "Episode: 15, Step: 59, Reward mean: 11.08, Reward std: 0.00, Loss: 0.5044, Eps: 0.41179999999999994\n",
            "Episode: 15, Step: 60, Reward mean: 11.08, Reward std: 0.00, Loss: 0.4929, Eps: 0.402\n",
            "Episode: 16, Step: 61, Reward mean: 11.08, Reward std: 0.00, Loss: 0.4973, Eps: 0.3922\n",
            "Episode: 16, Step: 62, Reward mean: 11.08, Reward std: 0.00, Loss: 0.4994, Eps: 0.38239999999999996\n",
            "Episode: 17, Step: 63, Reward mean: 11.08, Reward std: 0.00, Loss: 0.4871, Eps: 0.37259999999999993\n",
            "Episode: 17, Step: 64, Reward mean: 11.08, Reward std: 0.00, Loss: 0.4758, Eps: 0.3628\n",
            "Episode: 18, Step: 65, Reward mean: 11.08, Reward std: 0.00, Loss: 0.4649, Eps: 0.353\n",
            "Episode: 18, Step: 66, Reward mean: 11.08, Reward std: 0.00, Loss: 0.4542, Eps: 0.34320000000000006\n",
            "Episode: 19, Step: 67, Reward mean: 11.08, Reward std: 0.00, Loss: 0.4434, Eps: 0.33340000000000003\n",
            "Episode: 19, Step: 68, Reward mean: 11.08, Reward std: 0.00, Loss: 0.4458, Eps: 0.3236\n",
            "Episode: 20, Step: 69, Reward mean: 11.08, Reward std: 0.00, Loss: 0.4351, Eps: 0.31379999999999997\n",
            "Episode: 20, Step: 70, Reward mean: 11.08, Reward std: 0.00, Loss: 0.4250, Eps: 0.30400000000000005\n",
            "Episode: 21, Step: 71, Reward mean: 11.08, Reward std: 0.00, Loss: 0.4150, Eps: 0.2942\n",
            "Episode: 21, Step: 72, Reward mean: 11.08, Reward std: 0.00, Loss: 0.4049, Eps: 0.2844\n",
            "Episode: 22, Step: 73, Reward mean: 11.08, Reward std: 0.00, Loss: 0.4058, Eps: 0.27460000000000007\n",
            "Episode: 22, Step: 74, Reward mean: 11.08, Reward std: 0.00, Loss: 0.4037, Eps: 0.26480000000000004\n",
            "Episode: 23, Step: 75, Reward mean: 11.08, Reward std: 0.00, Loss: 0.4053, Eps: 0.255\n",
            "Episode: 23, Step: 76, Reward mean: 11.08, Reward std: 0.00, Loss: 0.3962, Eps: 0.24519999999999997\n",
            "Episode: 24, Step: 77, Reward mean: 11.08, Reward std: 0.00, Loss: 0.3876, Eps: 0.23540000000000005\n",
            "Episode: 24, Step: 78, Reward mean: 11.08, Reward std: 0.00, Loss: 0.3793, Eps: 0.22560000000000002\n",
            "Episode: 25, Step: 79, Reward mean: 11.08, Reward std: 0.00, Loss: 0.3714, Eps: 0.2158\n",
            "Episode: 25, Step: 80, Reward mean: 11.08, Reward std: 0.00, Loss: 0.3696, Eps: 0.20599999999999996\n",
            "Episode: 26, Step: 81, Reward mean: 11.08, Reward std: 0.00, Loss: 0.3621, Eps: 0.19620000000000004\n",
            "Episode: 26, Step: 82, Reward mean: 11.08, Reward std: 0.00, Loss: 0.3551, Eps: 0.1864\n",
            "Episode: 27, Step: 83, Reward mean: 11.08, Reward std: 0.00, Loss: 0.3530, Eps: 0.17659999999999998\n",
            "Episode: 27, Step: 84, Reward mean: 11.08, Reward std: 0.00, Loss: 0.3462, Eps: 0.16680000000000006\n",
            "Episode: 28, Step: 85, Reward mean: 11.08, Reward std: 0.00, Loss: 0.3399, Eps: 0.15700000000000003\n",
            "Episode: 28, Step: 86, Reward mean: 11.08, Reward std: 0.00, Loss: 0.3339, Eps: 0.1472\n",
            "Episode: 29, Step: 87, Reward mean: 11.08, Reward std: 0.00, Loss: 0.3281, Eps: 0.13739999999999997\n",
            "Episode: 29, Step: 88, Reward mean: 11.08, Reward std: 0.00, Loss: 0.3226, Eps: 0.12760000000000005\n",
            "Episode: 30, Step: 89, Reward mean: 11.08, Reward std: 0.00, Loss: 0.3173, Eps: 0.11780000000000002\n",
            "Episode: 30, Step: 90, Reward mean: 11.08, Reward std: 0.00, Loss: 0.3120, Eps: 0.10799999999999998\n",
            "Episode: 31, Step: 91, Reward mean: 11.08, Reward std: 0.00, Loss: 0.3071, Eps: 0.09820000000000007\n",
            "Episode: 31, Step: 92, Reward mean: 11.08, Reward std: 0.00, Loss: 0.3022, Eps: 0.08840000000000003\n",
            "Episode: 32, Step: 93, Reward mean: 11.08, Reward std: 0.00, Loss: 0.2975, Eps: 0.0786\n",
            "Episode: 32, Step: 94, Reward mean: 11.08, Reward std: 0.00, Loss: 0.2929, Eps: 0.06879999999999997\n",
            "Episode: 33, Step: 95, Reward mean: 11.08, Reward std: 0.00, Loss: 0.2884, Eps: 0.05900000000000005\n",
            "Episode: 33, Step: 96, Reward mean: 11.08, Reward std: 0.00, Loss: 0.2840, Eps: 0.04920000000000002\n",
            "Episode: 34, Step: 97, Reward mean: 11.08, Reward std: 0.00, Loss: 0.2797, Eps: 0.03939999999999999\n",
            "Episode: 34, Step: 98, Reward mean: 11.08, Reward std: 0.00, Loss: 0.2757, Eps: 0.02960000000000007\n",
            "Episode: 35, Step: 99, Reward mean: 11.08, Reward std: 0.00, Loss: 0.2717, Eps: 0.01980000000000004\n",
            "Episode: 35, Step: 100, Reward mean: 11.08, Reward std: 0.00, Loss: 0.2678, Eps: 0.010000000000000009\n",
            "Episode: 3, Step: 33, Reward mean: 10.75, Reward std: 0.00, Loss: 0.8998, Eps: 0.6666000000000001\n",
            "Episode: 3, Step: 34, Reward mean: 11.89, Reward std: 0.00, Loss: 0.7541, Eps: 0.6568\n",
            "Episode: 4, Step: 35, Reward mean: 14.19, Reward std: 0.00, Loss: 0.7053, Eps: 0.647\n",
            "Episode: 4, Step: 36, Reward mean: 14.92, Reward std: 0.00, Loss: 0.7334, Eps: 0.6372\n",
            "Episode: 5, Step: 37, Reward mean: 14.92, Reward std: 0.00, Loss: 0.7433, Eps: 0.6274\n",
            "Episode: 5, Step: 38, Reward mean: 14.92, Reward std: 0.00, Loss: 0.7420, Eps: 0.6175999999999999\n",
            "Episode: 6, Step: 39, Reward mean: 14.92, Reward std: 0.00, Loss: 0.7400, Eps: 0.6078\n",
            "Episode: 6, Step: 40, Reward mean: 14.92, Reward std: 0.00, Loss: 0.7160, Eps: 0.598\n",
            "Episode: 7, Step: 41, Reward mean: 14.92, Reward std: 0.00, Loss: 0.7102, Eps: 0.5882000000000001\n",
            "Episode: 7, Step: 42, Reward mean: 14.92, Reward std: 0.00, Loss: 0.6966, Eps: 0.5784\n",
            "Episode: 8, Step: 43, Reward mean: 14.92, Reward std: 0.00, Loss: 0.6705, Eps: 0.5686\n",
            "Episode: 8, Step: 44, Reward mean: 14.92, Reward std: 0.00, Loss: 0.6833, Eps: 0.5588\n",
            "Episode: 9, Step: 45, Reward mean: 14.92, Reward std: 0.00, Loss: 0.6560, Eps: 0.5489999999999999\n",
            "Episode: 9, Step: 46, Reward mean: 14.92, Reward std: 0.00, Loss: 0.6312, Eps: 0.5392\n",
            "Episode: 10, Step: 47, Reward mean: 14.92, Reward std: 0.00, Loss: 0.6234, Eps: 0.5294\n",
            "Episode: 10, Step: 48, Reward mean: 14.92, Reward std: 0.00, Loss: 0.6347, Eps: 0.5196000000000001\n",
            "Episode: 11, Step: 49, Reward mean: 14.92, Reward std: 0.00, Loss: 0.6101, Eps: 0.5098\n",
            "Episode: 11, Step: 50, Reward mean: 14.92, Reward std: 0.00, Loss: 0.6027, Eps: 0.5\n",
            "Episode: 12, Step: 51, Reward mean: 14.92, Reward std: 0.00, Loss: 0.5945, Eps: 0.4902\n",
            "Episode: 12, Step: 52, Reward mean: 14.92, Reward std: 0.00, Loss: 0.5877, Eps: 0.48039999999999994\n",
            "Episode: 13, Step: 53, Reward mean: 14.92, Reward std: 0.00, Loss: 0.5796, Eps: 0.4706\n",
            "Episode: 13, Step: 54, Reward mean: 14.92, Reward std: 0.00, Loss: 0.5861, Eps: 0.4608\n",
            "Episode: 14, Step: 55, Reward mean: 14.92, Reward std: 0.00, Loss: 0.5766, Eps: 0.45099999999999996\n",
            "Episode: 14, Step: 56, Reward mean: 14.92, Reward std: 0.00, Loss: 0.5673, Eps: 0.44120000000000004\n",
            "Episode: 15, Step: 57, Reward mean: 14.92, Reward std: 0.00, Loss: 0.5571, Eps: 0.4314\n",
            "Episode: 15, Step: 58, Reward mean: 14.92, Reward std: 0.00, Loss: 0.5476, Eps: 0.4216\n",
            "Episode: 16, Step: 59, Reward mean: 14.92, Reward std: 0.00, Loss: 0.5383, Eps: 0.41179999999999994\n",
            "Episode: 16, Step: 60, Reward mean: 14.92, Reward std: 0.00, Loss: 0.5284, Eps: 0.402\n",
            "Episode: 17, Step: 61, Reward mean: 14.92, Reward std: 0.00, Loss: 0.5182, Eps: 0.3922\n",
            "Episode: 17, Step: 62, Reward mean: 14.92, Reward std: 0.00, Loss: 0.5133, Eps: 0.38239999999999996\n",
            "Episode: 18, Step: 63, Reward mean: 14.92, Reward std: 0.00, Loss: 0.5029, Eps: 0.37259999999999993\n",
            "Episode: 18, Step: 64, Reward mean: 14.92, Reward std: 0.00, Loss: 0.4924, Eps: 0.3628\n",
            "Episode: 19, Step: 65, Reward mean: 14.92, Reward std: 0.00, Loss: 0.4962, Eps: 0.353\n",
            "Episode: 19, Step: 66, Reward mean: 14.92, Reward std: 0.00, Loss: 0.4851, Eps: 0.34320000000000006\n",
            "Episode: 20, Step: 67, Reward mean: 14.92, Reward std: 0.00, Loss: 0.4911, Eps: 0.33340000000000003\n",
            "Episode: 20, Step: 68, Reward mean: 14.92, Reward std: 0.00, Loss: 0.4782, Eps: 0.3236\n",
            "Episode: 21, Step: 69, Reward mean: 14.92, Reward std: 0.00, Loss: 0.4659, Eps: 0.31379999999999997\n",
            "Episode: 21, Step: 70, Reward mean: 14.92, Reward std: 0.00, Loss: 0.4664, Eps: 0.30400000000000005\n",
            "Episode: 22, Step: 71, Reward mean: 14.92, Reward std: 0.00, Loss: 0.4562, Eps: 0.2942\n",
            "Episode: 22, Step: 72, Reward mean: 14.92, Reward std: 0.00, Loss: 0.4595, Eps: 0.2844\n",
            "Episode: 23, Step: 73, Reward mean: 14.92, Reward std: 0.00, Loss: 0.4495, Eps: 0.27460000000000007\n",
            "Episode: 23, Step: 74, Reward mean: 14.92, Reward std: 0.00, Loss: 0.4437, Eps: 0.26480000000000004\n",
            "Episode: 24, Step: 75, Reward mean: 14.92, Reward std: 0.00, Loss: 0.4344, Eps: 0.255\n",
            "Episode: 24, Step: 76, Reward mean: 14.92, Reward std: 0.00, Loss: 0.4253, Eps: 0.24519999999999997\n",
            "Episode: 25, Step: 77, Reward mean: 14.92, Reward std: 0.00, Loss: 0.4165, Eps: 0.23540000000000005\n",
            "Episode: 25, Step: 78, Reward mean: 14.92, Reward std: 0.00, Loss: 0.4080, Eps: 0.22560000000000002\n",
            "Episode: 26, Step: 79, Reward mean: 14.92, Reward std: 0.00, Loss: 0.3998, Eps: 0.2158\n",
            "Episode: 26, Step: 80, Reward mean: 14.92, Reward std: 0.00, Loss: 0.3918, Eps: 0.20599999999999996\n",
            "Episode: 27, Step: 81, Reward mean: 14.92, Reward std: 0.00, Loss: 0.3840, Eps: 0.19620000000000004\n",
            "Episode: 27, Step: 82, Reward mean: 14.92, Reward std: 0.00, Loss: 0.3765, Eps: 0.1864\n",
            "Episode: 28, Step: 83, Reward mean: 14.92, Reward std: 0.00, Loss: 0.3696, Eps: 0.17659999999999998\n",
            "Episode: 28, Step: 84, Reward mean: 14.92, Reward std: 0.00, Loss: 0.3630, Eps: 0.16680000000000006\n",
            "Episode: 29, Step: 85, Reward mean: 14.92, Reward std: 0.00, Loss: 0.3564, Eps: 0.15700000000000003\n",
            "Episode: 29, Step: 86, Reward mean: 14.92, Reward std: 0.00, Loss: 0.3502, Eps: 0.1472\n",
            "Episode: 30, Step: 87, Reward mean: 14.92, Reward std: 0.00, Loss: 0.3440, Eps: 0.13739999999999997\n",
            "Episode: 30, Step: 88, Reward mean: 14.92, Reward std: 0.00, Loss: 0.3383, Eps: 0.12760000000000005\n",
            "Episode: 31, Step: 89, Reward mean: 14.92, Reward std: 0.00, Loss: 0.3328, Eps: 0.11780000000000002\n",
            "Episode: 31, Step: 90, Reward mean: 14.92, Reward std: 0.00, Loss: 0.3276, Eps: 0.10799999999999998\n",
            "Episode: 32, Step: 91, Reward mean: 14.92, Reward std: 0.00, Loss: 0.3224, Eps: 0.09820000000000007\n",
            "Episode: 32, Step: 92, Reward mean: 14.92, Reward std: 0.00, Loss: 0.3173, Eps: 0.08840000000000003\n",
            "Episode: 33, Step: 93, Reward mean: 14.92, Reward std: 0.00, Loss: 0.3127, Eps: 0.0786\n",
            "Episode: 33, Step: 94, Reward mean: 14.92, Reward std: 0.00, Loss: 0.3079, Eps: 0.06879999999999997\n",
            "Episode: 34, Step: 95, Reward mean: 14.92, Reward std: 0.00, Loss: 0.3032, Eps: 0.05900000000000005\n",
            "Episode: 34, Step: 96, Reward mean: 14.92, Reward std: 0.00, Loss: 0.2987, Eps: 0.04920000000000002\n",
            "Episode: 35, Step: 97, Reward mean: 14.92, Reward std: 0.00, Loss: 0.2945, Eps: 0.03939999999999999\n",
            "Episode: 35, Step: 98, Reward mean: 14.92, Reward std: 0.00, Loss: 0.2904, Eps: 0.02960000000000007\n",
            "Episode: 36, Step: 99, Reward mean: 14.92, Reward std: 0.00, Loss: 0.2864, Eps: 0.01980000000000004\n",
            "Episode: 36, Step: 100, Reward mean: 14.92, Reward std: 0.00, Loss: 0.2825, Eps: 0.010000000000000009\n",
            "Episode: 2, Step: 33, Reward mean: 11.08, Reward std: 0.00, Loss: 0.8465, Eps: 0.6666000000000001\n",
            "Episode: 2, Step: 34, Reward mean: 11.08, Reward std: 0.00, Loss: 0.8313, Eps: 0.6568\n",
            "Episode: 3, Step: 35, Reward mean: 11.08, Reward std: 0.00, Loss: 0.7891, Eps: 0.647\n",
            "Episode: 3, Step: 36, Reward mean: 11.08, Reward std: 0.00, Loss: 0.7736, Eps: 0.6372\n",
            "Episode: 4, Step: 37, Reward mean: 11.08, Reward std: 0.00, Loss: 0.7908, Eps: 0.6274\n",
            "Episode: 4, Step: 38, Reward mean: 11.08, Reward std: 0.00, Loss: 0.7606, Eps: 0.6175999999999999\n",
            "Episode: 5, Step: 39, Reward mean: 11.08, Reward std: 0.00, Loss: 0.7335, Eps: 0.6078\n",
            "Episode: 5, Step: 40, Reward mean: 11.08, Reward std: 0.00, Loss: 0.7251, Eps: 0.598\n",
            "Episode: 6, Step: 41, Reward mean: 11.08, Reward std: 0.00, Loss: 0.7023, Eps: 0.5882000000000001\n",
            "Episode: 6, Step: 42, Reward mean: 11.08, Reward std: 0.00, Loss: 0.6814, Eps: 0.5784\n",
            "Episode: 7, Step: 43, Reward mean: 11.08, Reward std: 0.00, Loss: 0.6607, Eps: 0.5686\n",
            "Episode: 7, Step: 44, Reward mean: 11.08, Reward std: 0.00, Loss: 0.6672, Eps: 0.5588\n",
            "Episode: 8, Step: 45, Reward mean: 11.08, Reward std: 0.00, Loss: 0.6830, Eps: 0.5489999999999999\n",
            "Episode: 8, Step: 46, Reward mean: 11.08, Reward std: 0.00, Loss: 0.6868, Eps: 0.5392\n",
            "Episode: 9, Step: 47, Reward mean: 11.08, Reward std: 0.00, Loss: 0.6632, Eps: 0.5294\n",
            "Episode: 9, Step: 48, Reward mean: 11.08, Reward std: 0.00, Loss: 0.6422, Eps: 0.5196000000000001\n",
            "Episode: 10, Step: 49, Reward mean: 11.08, Reward std: 0.00, Loss: 0.6224, Eps: 0.5098\n",
            "Episode: 10, Step: 50, Reward mean: 11.08, Reward std: 0.00, Loss: 0.6036, Eps: 0.5\n",
            "Episode: 11, Step: 51, Reward mean: 11.08, Reward std: 0.00, Loss: 0.6062, Eps: 0.4902\n",
            "Episode: 11, Step: 52, Reward mean: 11.08, Reward std: 0.00, Loss: 0.5865, Eps: 0.48039999999999994\n",
            "Episode: 12, Step: 53, Reward mean: 11.08, Reward std: 0.00, Loss: 0.5676, Eps: 0.4706\n",
            "Episode: 12, Step: 54, Reward mean: 11.08, Reward std: 0.00, Loss: 0.5501, Eps: 0.4608\n",
            "Episode: 13, Step: 55, Reward mean: 11.08, Reward std: 0.00, Loss: 0.5317, Eps: 0.45099999999999996\n",
            "Episode: 13, Step: 56, Reward mean: 11.08, Reward std: 0.00, Loss: 0.5157, Eps: 0.44120000000000004\n",
            "Episode: 14, Step: 57, Reward mean: 11.08, Reward std: 0.00, Loss: 0.5256, Eps: 0.4314\n",
            "Episode: 14, Step: 58, Reward mean: 11.08, Reward std: 0.00, Loss: 0.5091, Eps: 0.4216\n",
            "Episode: 15, Step: 59, Reward mean: 11.08, Reward std: 0.00, Loss: 0.5178, Eps: 0.41179999999999994\n",
            "Episode: 15, Step: 60, Reward mean: 11.08, Reward std: 0.00, Loss: 0.5207, Eps: 0.402\n",
            "Episode: 16, Step: 61, Reward mean: 11.08, Reward std: 0.00, Loss: 0.5178, Eps: 0.3922\n",
            "Episode: 16, Step: 62, Reward mean: 11.08, Reward std: 0.00, Loss: 0.5022, Eps: 0.38239999999999996\n",
            "Episode: 17, Step: 63, Reward mean: 11.08, Reward std: 0.00, Loss: 0.4871, Eps: 0.37259999999999993\n",
            "Episode: 17, Step: 64, Reward mean: 11.08, Reward std: 0.00, Loss: 0.4723, Eps: 0.3628\n",
            "Episode: 18, Step: 65, Reward mean: 11.08, Reward std: 0.00, Loss: 0.4590, Eps: 0.353\n",
            "Episode: 18, Step: 66, Reward mean: 11.08, Reward std: 0.00, Loss: 0.4463, Eps: 0.34320000000000006\n",
            "Episode: 19, Step: 67, Reward mean: 11.08, Reward std: 0.00, Loss: 0.4341, Eps: 0.33340000000000003\n",
            "Episode: 19, Step: 68, Reward mean: 11.08, Reward std: 0.00, Loss: 0.4226, Eps: 0.3236\n",
            "Episode: 20, Step: 69, Reward mean: 11.08, Reward std: 0.00, Loss: 0.4206, Eps: 0.31379999999999997\n",
            "Episode: 20, Step: 70, Reward mean: 11.08, Reward std: 0.00, Loss: 0.4098, Eps: 0.30400000000000005\n",
            "Episode: 21, Step: 71, Reward mean: 11.08, Reward std: 0.00, Loss: 0.3995, Eps: 0.2942\n",
            "Episode: 21, Step: 72, Reward mean: 11.08, Reward std: 0.00, Loss: 0.3897, Eps: 0.2844\n",
            "Episode: 22, Step: 73, Reward mean: 11.08, Reward std: 0.00, Loss: 0.3803, Eps: 0.27460000000000007\n",
            "Episode: 22, Step: 74, Reward mean: 11.08, Reward std: 0.00, Loss: 0.3714, Eps: 0.26480000000000004\n",
            "Episode: 23, Step: 75, Reward mean: 11.08, Reward std: 0.00, Loss: 0.3683, Eps: 0.255\n",
            "Episode: 23, Step: 76, Reward mean: 11.08, Reward std: 0.00, Loss: 0.3600, Eps: 0.24519999999999997\n",
            "Episode: 24, Step: 77, Reward mean: 11.08, Reward std: 0.00, Loss: 0.3521, Eps: 0.23540000000000005\n",
            "Episode: 24, Step: 78, Reward mean: 11.08, Reward std: 0.00, Loss: 0.3446, Eps: 0.22560000000000002\n",
            "Episode: 25, Step: 79, Reward mean: 11.08, Reward std: 0.00, Loss: 0.3375, Eps: 0.2158\n",
            "Episode: 25, Step: 80, Reward mean: 11.08, Reward std: 0.00, Loss: 0.3307, Eps: 0.20599999999999996\n",
            "Episode: 26, Step: 81, Reward mean: 11.08, Reward std: 0.00, Loss: 0.3241, Eps: 0.19620000000000004\n",
            "Episode: 26, Step: 82, Reward mean: 11.08, Reward std: 0.00, Loss: 0.3179, Eps: 0.1864\n",
            "Episode: 27, Step: 83, Reward mean: 11.08, Reward std: 0.00, Loss: 0.3118, Eps: 0.17659999999999998\n",
            "Episode: 27, Step: 84, Reward mean: 11.08, Reward std: 0.00, Loss: 0.3061, Eps: 0.16680000000000006\n",
            "Episode: 28, Step: 85, Reward mean: 11.08, Reward std: 0.00, Loss: 0.3005, Eps: 0.15700000000000003\n",
            "Episode: 28, Step: 86, Reward mean: 11.08, Reward std: 0.00, Loss: 0.3024, Eps: 0.1472\n",
            "Episode: 29, Step: 87, Reward mean: 11.08, Reward std: 0.00, Loss: 0.2970, Eps: 0.13739999999999997\n",
            "Episode: 29, Step: 88, Reward mean: 11.08, Reward std: 0.00, Loss: 0.2918, Eps: 0.12760000000000005\n",
            "Episode: 30, Step: 89, Reward mean: 11.08, Reward std: 0.00, Loss: 0.2868, Eps: 0.11780000000000002\n",
            "Episode: 30, Step: 90, Reward mean: 11.08, Reward std: 0.00, Loss: 0.2820, Eps: 0.10799999999999998\n",
            "Episode: 31, Step: 91, Reward mean: 11.08, Reward std: 0.00, Loss: 0.2773, Eps: 0.09820000000000007\n",
            "Episode: 31, Step: 92, Reward mean: 11.08, Reward std: 0.00, Loss: 0.2727, Eps: 0.08840000000000003\n",
            "Episode: 32, Step: 93, Reward mean: 11.08, Reward std: 0.00, Loss: 0.2683, Eps: 0.0786\n",
            "Episode: 32, Step: 94, Reward mean: 11.08, Reward std: 0.00, Loss: 0.2641, Eps: 0.06879999999999997\n",
            "Episode: 33, Step: 95, Reward mean: 11.08, Reward std: 0.00, Loss: 0.2600, Eps: 0.05900000000000005\n",
            "Episode: 33, Step: 96, Reward mean: 11.08, Reward std: 0.00, Loss: 0.2560, Eps: 0.04920000000000002\n",
            "Episode: 34, Step: 97, Reward mean: 11.08, Reward std: 0.00, Loss: 0.2521, Eps: 0.03939999999999999\n",
            "Episode: 34, Step: 98, Reward mean: 11.08, Reward std: 0.00, Loss: 0.2484, Eps: 0.02960000000000007\n",
            "Episode: 35, Step: 99, Reward mean: 11.08, Reward std: 0.00, Loss: 0.2448, Eps: 0.01980000000000004\n",
            "Episode: 35, Step: 100, Reward mean: 11.08, Reward std: 0.00, Loss: 0.2413, Eps: 0.010000000000000009\n",
            "Episode: 2, Step: 33, Reward mean: 11.08, Reward std: 0.00, Loss: 0.8271, Eps: 0.6666000000000001\n",
            "Episode: 2, Step: 34, Reward mean: 11.08, Reward std: 0.00, Loss: 0.7760, Eps: 0.6568\n",
            "Episode: 3, Step: 35, Reward mean: 11.08, Reward std: 0.00, Loss: 0.7697, Eps: 0.647\n",
            "Episode: 3, Step: 36, Reward mean: 11.08, Reward std: 0.00, Loss: 0.7330, Eps: 0.6372\n",
            "Episode: 4, Step: 37, Reward mean: 11.08, Reward std: 0.00, Loss: 0.7020, Eps: 0.6274\n",
            "Episode: 4, Step: 38, Reward mean: 11.08, Reward std: 0.00, Loss: 0.7227, Eps: 0.6175999999999999\n",
            "Episode: 5, Step: 39, Reward mean: 11.08, Reward std: 0.00, Loss: 0.7157, Eps: 0.6078\n",
            "Episode: 5, Step: 40, Reward mean: 11.08, Reward std: 0.00, Loss: 0.6879, Eps: 0.598\n",
            "Episode: 6, Step: 41, Reward mean: 11.08, Reward std: 0.00, Loss: 0.6629, Eps: 0.5882000000000001\n",
            "Episode: 6, Step: 42, Reward mean: 11.08, Reward std: 0.00, Loss: 0.6602, Eps: 0.5784\n",
            "Episode: 7, Step: 43, Reward mean: 11.08, Reward std: 0.00, Loss: 0.6680, Eps: 0.5686\n",
            "Episode: 7, Step: 44, Reward mean: 11.08, Reward std: 0.00, Loss: 0.6441, Eps: 0.5588\n",
            "Episode: 8, Step: 45, Reward mean: 11.08, Reward std: 0.00, Loss: 0.6419, Eps: 0.5489999999999999\n",
            "Episode: 8, Step: 46, Reward mean: 11.08, Reward std: 0.00, Loss: 0.6463, Eps: 0.5392\n",
            "Episode: 9, Step: 47, Reward mean: 11.08, Reward std: 0.00, Loss: 0.6108, Eps: 0.5294\n",
            "Episode: 9, Step: 48, Reward mean: 11.08, Reward std: 0.00, Loss: 0.5908, Eps: 0.5196000000000001\n",
            "Episode: 10, Step: 49, Reward mean: 11.08, Reward std: 0.00, Loss: 0.5714, Eps: 0.5098\n",
            "Episode: 10, Step: 50, Reward mean: 11.08, Reward std: 0.00, Loss: 0.5823, Eps: 0.5\n",
            "Episode: 11, Step: 51, Reward mean: 11.08, Reward std: 0.00, Loss: 0.5632, Eps: 0.4902\n",
            "Episode: 11, Step: 52, Reward mean: 11.08, Reward std: 0.00, Loss: 0.5697, Eps: 0.48039999999999994\n",
            "Episode: 12, Step: 53, Reward mean: 11.08, Reward std: 0.00, Loss: 0.5508, Eps: 0.4706\n",
            "Episode: 12, Step: 54, Reward mean: 11.08, Reward std: 0.00, Loss: 0.5329, Eps: 0.4608\n",
            "Episode: 13, Step: 55, Reward mean: 11.08, Reward std: 0.00, Loss: 0.5410, Eps: 0.45099999999999996\n",
            "Episode: 13, Step: 56, Reward mean: 11.08, Reward std: 0.00, Loss: 0.5352, Eps: 0.44120000000000004\n",
            "Episode: 14, Step: 57, Reward mean: 11.08, Reward std: 0.00, Loss: 0.5182, Eps: 0.4314\n",
            "Episode: 14, Step: 58, Reward mean: 11.08, Reward std: 0.00, Loss: 0.5204, Eps: 0.4216\n",
            "Episode: 15, Step: 59, Reward mean: 11.08, Reward std: 0.00, Loss: 0.5050, Eps: 0.41179999999999994\n",
            "Episode: 15, Step: 60, Reward mean: 11.08, Reward std: 0.00, Loss: 0.5023, Eps: 0.402\n",
            "Episode: 16, Step: 61, Reward mean: 11.08, Reward std: 0.00, Loss: 0.5013, Eps: 0.3922\n",
            "Episode: 16, Step: 62, Reward mean: 11.08, Reward std: 0.00, Loss: 0.5022, Eps: 0.38239999999999996\n",
            "Episode: 17, Step: 63, Reward mean: 11.08, Reward std: 0.00, Loss: 0.4881, Eps: 0.37259999999999993\n",
            "Episode: 17, Step: 64, Reward mean: 11.08, Reward std: 0.00, Loss: 0.4907, Eps: 0.3628\n",
            "Episode: 18, Step: 65, Reward mean: 11.08, Reward std: 0.00, Loss: 0.4845, Eps: 0.353\n",
            "Episode: 18, Step: 66, Reward mean: 11.08, Reward std: 0.00, Loss: 0.4715, Eps: 0.34320000000000006\n",
            "Episode: 19, Step: 67, Reward mean: 11.08, Reward std: 0.00, Loss: 0.4592, Eps: 0.33340000000000003\n",
            "Episode: 19, Step: 68, Reward mean: 11.08, Reward std: 0.00, Loss: 0.4474, Eps: 0.3236\n",
            "Episode: 20, Step: 69, Reward mean: 11.08, Reward std: 0.00, Loss: 0.4362, Eps: 0.31379999999999997\n",
            "Episode: 20, Step: 70, Reward mean: 11.08, Reward std: 0.00, Loss: 0.4254, Eps: 0.30400000000000005\n",
            "Episode: 21, Step: 71, Reward mean: 11.08, Reward std: 0.00, Loss: 0.4223, Eps: 0.2942\n",
            "Episode: 21, Step: 72, Reward mean: 11.08, Reward std: 0.00, Loss: 0.4121, Eps: 0.2844\n",
            "Episode: 22, Step: 73, Reward mean: 11.08, Reward std: 0.00, Loss: 0.4023, Eps: 0.27460000000000007\n",
            "Episode: 22, Step: 74, Reward mean: 11.08, Reward std: 0.00, Loss: 0.3929, Eps: 0.26480000000000004\n",
            "Episode: 23, Step: 75, Reward mean: 11.08, Reward std: 0.00, Loss: 0.3840, Eps: 0.255\n",
            "Episode: 23, Step: 76, Reward mean: 11.08, Reward std: 0.00, Loss: 0.3754, Eps: 0.24519999999999997\n",
            "Episode: 24, Step: 77, Reward mean: 11.08, Reward std: 0.00, Loss: 0.3672, Eps: 0.23540000000000005\n",
            "Episode: 24, Step: 78, Reward mean: 11.08, Reward std: 0.00, Loss: 0.3593, Eps: 0.22560000000000002\n",
            "Episode: 25, Step: 79, Reward mean: 11.08, Reward std: 0.00, Loss: 0.3518, Eps: 0.2158\n",
            "Episode: 25, Step: 80, Reward mean: 11.08, Reward std: 0.00, Loss: 0.3446, Eps: 0.20599999999999996\n",
            "Episode: 26, Step: 81, Reward mean: 11.08, Reward std: 0.00, Loss: 0.3377, Eps: 0.19620000000000004\n",
            "Episode: 26, Step: 82, Reward mean: 11.08, Reward std: 0.00, Loss: 0.3312, Eps: 0.1864\n",
            "Episode: 27, Step: 83, Reward mean: 11.08, Reward std: 0.00, Loss: 0.3250, Eps: 0.17659999999999998\n",
            "Episode: 27, Step: 84, Reward mean: 11.08, Reward std: 0.00, Loss: 0.3190, Eps: 0.16680000000000006\n",
            "Episode: 28, Step: 85, Reward mean: 11.08, Reward std: 0.00, Loss: 0.3132, Eps: 0.15700000000000003\n",
            "Episode: 28, Step: 86, Reward mean: 11.08, Reward std: 0.00, Loss: 0.3129, Eps: 0.1472\n",
            "Episode: 29, Step: 87, Reward mean: 11.08, Reward std: 0.00, Loss: 0.3073, Eps: 0.13739999999999997\n",
            "Episode: 29, Step: 88, Reward mean: 11.08, Reward std: 0.00, Loss: 0.3020, Eps: 0.12760000000000005\n",
            "Episode: 30, Step: 89, Reward mean: 11.08, Reward std: 0.00, Loss: 0.2969, Eps: 0.11780000000000002\n",
            "Episode: 30, Step: 90, Reward mean: 11.08, Reward std: 0.00, Loss: 0.2920, Eps: 0.10799999999999998\n",
            "Episode: 31, Step: 91, Reward mean: 11.08, Reward std: 0.00, Loss: 0.2872, Eps: 0.09820000000000007\n",
            "Episode: 31, Step: 92, Reward mean: 11.08, Reward std: 0.00, Loss: 0.2826, Eps: 0.08840000000000003\n",
            "Episode: 32, Step: 93, Reward mean: 11.08, Reward std: 0.00, Loss: 0.2782, Eps: 0.0786\n",
            "Episode: 32, Step: 94, Reward mean: 11.08, Reward std: 0.00, Loss: 0.2738, Eps: 0.06879999999999997\n",
            "Episode: 33, Step: 95, Reward mean: 11.08, Reward std: 0.00, Loss: 0.2695, Eps: 0.05900000000000005\n",
            "Episode: 33, Step: 96, Reward mean: 11.08, Reward std: 0.00, Loss: 0.2654, Eps: 0.04920000000000002\n",
            "Episode: 34, Step: 97, Reward mean: 11.08, Reward std: 0.00, Loss: 0.2614, Eps: 0.03939999999999999\n",
            "Episode: 34, Step: 98, Reward mean: 11.08, Reward std: 0.00, Loss: 0.2575, Eps: 0.02960000000000007\n",
            "Episode: 35, Step: 99, Reward mean: 11.08, Reward std: 0.00, Loss: 0.2538, Eps: 0.01980000000000004\n",
            "Episode: 35, Step: 100, Reward mean: 11.08, Reward std: 0.00, Loss: 0.2502, Eps: 0.010000000000000009\n",
            "Episode: 2, Step: 33, Reward mean: 10.97, Reward std: 0.00, Loss: 0.7474, Eps: 0.6666000000000001\n",
            "Episode: 2, Step: 34, Reward mean: 11.08, Reward std: 0.00, Loss: 0.7245, Eps: 0.6568\n",
            "Episode: 3, Step: 35, Reward mean: 11.08, Reward std: 0.00, Loss: 0.7341, Eps: 0.647\n",
            "Episode: 3, Step: 36, Reward mean: 11.08, Reward std: 0.00, Loss: 0.7069, Eps: 0.6372\n",
            "Episode: 4, Step: 37, Reward mean: 11.08, Reward std: 0.00, Loss: 0.7380, Eps: 0.6274\n",
            "Episode: 4, Step: 38, Reward mean: 11.08, Reward std: 0.00, Loss: 0.7410, Eps: 0.6175999999999999\n",
            "Episode: 5, Step: 39, Reward mean: 11.08, Reward std: 0.00, Loss: 0.7158, Eps: 0.6078\n",
            "Episode: 5, Step: 40, Reward mean: 11.08, Reward std: 0.00, Loss: 0.7189, Eps: 0.598\n",
            "Episode: 6, Step: 41, Reward mean: 11.08, Reward std: 0.00, Loss: 0.7152, Eps: 0.5882000000000001\n",
            "Episode: 6, Step: 42, Reward mean: 11.08, Reward std: 0.00, Loss: 0.6927, Eps: 0.5784\n",
            "Episode: 7, Step: 43, Reward mean: 11.08, Reward std: 0.00, Loss: 0.6900, Eps: 0.5686\n",
            "Episode: 7, Step: 44, Reward mean: 11.08, Reward std: 0.00, Loss: 0.6712, Eps: 0.5588\n",
            "Episode: 8, Step: 45, Reward mean: 11.08, Reward std: 0.00, Loss: 0.6527, Eps: 0.5489999999999999\n",
            "Episode: 8, Step: 46, Reward mean: 11.08, Reward std: 0.00, Loss: 0.6348, Eps: 0.5392\n",
            "Episode: 9, Step: 47, Reward mean: 11.08, Reward std: 0.00, Loss: 0.6278, Eps: 0.5294\n",
            "Episode: 9, Step: 48, Reward mean: 11.08, Reward std: 0.00, Loss: 0.6206, Eps: 0.5196000000000001\n",
            "Episode: 10, Step: 49, Reward mean: 11.08, Reward std: 0.00, Loss: 0.6283, Eps: 0.5098\n",
            "Episode: 10, Step: 50, Reward mean: 11.08, Reward std: 0.00, Loss: 0.6092, Eps: 0.5\n",
            "Episode: 11, Step: 51, Reward mean: 11.08, Reward std: 0.00, Loss: 0.6079, Eps: 0.4902\n",
            "Episode: 11, Step: 52, Reward mean: 11.08, Reward std: 0.00, Loss: 0.5904, Eps: 0.48039999999999994\n",
            "Episode: 12, Step: 53, Reward mean: 11.08, Reward std: 0.00, Loss: 0.5738, Eps: 0.4706\n",
            "Episode: 12, Step: 54, Reward mean: 11.08, Reward std: 0.00, Loss: 0.5571, Eps: 0.4608\n",
            "Episode: 13, Step: 55, Reward mean: 11.08, Reward std: 0.00, Loss: 0.5417, Eps: 0.45099999999999996\n",
            "Episode: 13, Step: 56, Reward mean: 11.08, Reward std: 0.00, Loss: 0.5484, Eps: 0.44120000000000004\n",
            "Episode: 14, Step: 57, Reward mean: 11.08, Reward std: 0.00, Loss: 0.5317, Eps: 0.4314\n",
            "Episode: 14, Step: 58, Reward mean: 11.08, Reward std: 0.00, Loss: 0.5323, Eps: 0.4216\n",
            "Episode: 15, Step: 59, Reward mean: 11.08, Reward std: 0.00, Loss: 0.5247, Eps: 0.41179999999999994\n",
            "Episode: 15, Step: 60, Reward mean: 11.08, Reward std: 0.00, Loss: 0.5095, Eps: 0.402\n",
            "Episode: 16, Step: 61, Reward mean: 11.08, Reward std: 0.00, Loss: 0.4946, Eps: 0.3922\n",
            "Episode: 16, Step: 62, Reward mean: 11.08, Reward std: 0.00, Loss: 0.4803, Eps: 0.38239999999999996\n",
            "Episode: 17, Step: 63, Reward mean: 11.08, Reward std: 0.00, Loss: 0.4665, Eps: 0.37259999999999993\n",
            "Episode: 17, Step: 64, Reward mean: 11.08, Reward std: 0.00, Loss: 0.4534, Eps: 0.3628\n",
            "Episode: 18, Step: 65, Reward mean: 11.08, Reward std: 0.00, Loss: 0.4535, Eps: 0.353\n",
            "Episode: 18, Step: 66, Reward mean: 11.08, Reward std: 0.00, Loss: 0.4443, Eps: 0.34320000000000006\n",
            "Episode: 19, Step: 67, Reward mean: 11.08, Reward std: 0.00, Loss: 0.4320, Eps: 0.33340000000000003\n",
            "Episode: 19, Step: 68, Reward mean: 11.08, Reward std: 0.00, Loss: 0.4202, Eps: 0.3236\n",
            "Episode: 20, Step: 69, Reward mean: 11.08, Reward std: 0.00, Loss: 0.4091, Eps: 0.31379999999999997\n",
            "Episode: 20, Step: 70, Reward mean: 11.08, Reward std: 0.00, Loss: 0.3987, Eps: 0.30400000000000005\n",
            "Episode: 21, Step: 71, Reward mean: 11.08, Reward std: 0.00, Loss: 0.3973, Eps: 0.2942\n",
            "Episode: 21, Step: 72, Reward mean: 11.08, Reward std: 0.00, Loss: 0.3875, Eps: 0.2844\n",
            "Episode: 22, Step: 73, Reward mean: 11.08, Reward std: 0.00, Loss: 0.3781, Eps: 0.27460000000000007\n",
            "Episode: 22, Step: 74, Reward mean: 11.08, Reward std: 0.00, Loss: 0.3761, Eps: 0.26480000000000004\n",
            "Episode: 23, Step: 75, Reward mean: 11.08, Reward std: 0.00, Loss: 0.3675, Eps: 0.255\n",
            "Episode: 23, Step: 76, Reward mean: 11.08, Reward std: 0.00, Loss: 0.3652, Eps: 0.24519999999999997\n",
            "Episode: 24, Step: 77, Reward mean: 11.08, Reward std: 0.00, Loss: 0.3574, Eps: 0.23540000000000005\n",
            "Episode: 24, Step: 78, Reward mean: 11.08, Reward std: 0.00, Loss: 0.3499, Eps: 0.22560000000000002\n",
            "Episode: 25, Step: 79, Reward mean: 11.08, Reward std: 0.00, Loss: 0.3427, Eps: 0.2158\n",
            "Episode: 25, Step: 80, Reward mean: 11.08, Reward std: 0.00, Loss: 0.3358, Eps: 0.20599999999999996\n",
            "Episode: 26, Step: 81, Reward mean: 11.08, Reward std: 0.00, Loss: 0.3293, Eps: 0.19620000000000004\n",
            "Episode: 26, Step: 82, Reward mean: 11.08, Reward std: 0.00, Loss: 0.3232, Eps: 0.1864\n",
            "Episode: 27, Step: 83, Reward mean: 11.08, Reward std: 0.00, Loss: 0.3172, Eps: 0.17659999999999998\n",
            "Episode: 27, Step: 84, Reward mean: 11.08, Reward std: 0.00, Loss: 0.3113, Eps: 0.16680000000000006\n",
            "Episode: 28, Step: 85, Reward mean: 11.08, Reward std: 0.00, Loss: 0.3056, Eps: 0.15700000000000003\n",
            "Episode: 28, Step: 86, Reward mean: 11.08, Reward std: 0.00, Loss: 0.3038, Eps: 0.1472\n",
            "Episode: 29, Step: 87, Reward mean: 11.08, Reward std: 0.00, Loss: 0.2985, Eps: 0.13739999999999997\n",
            "Episode: 29, Step: 88, Reward mean: 11.08, Reward std: 0.00, Loss: 0.2933, Eps: 0.12760000000000005\n",
            "Episode: 30, Step: 89, Reward mean: 11.08, Reward std: 0.00, Loss: 0.2883, Eps: 0.11780000000000002\n",
            "Episode: 30, Step: 90, Reward mean: 11.08, Reward std: 0.00, Loss: 0.2879, Eps: 0.10799999999999998\n",
            "Episode: 31, Step: 91, Reward mean: 11.08, Reward std: 0.00, Loss: 0.2831, Eps: 0.09820000000000007\n",
            "Episode: 31, Step: 92, Reward mean: 11.08, Reward std: 0.00, Loss: 0.2784, Eps: 0.08840000000000003\n",
            "Episode: 32, Step: 93, Reward mean: 11.08, Reward std: 0.00, Loss: 0.2740, Eps: 0.0786\n",
            "Episode: 32, Step: 94, Reward mean: 11.08, Reward std: 0.00, Loss: 0.2696, Eps: 0.06879999999999997\n",
            "Episode: 33, Step: 95, Reward mean: 11.08, Reward std: 0.00, Loss: 0.2654, Eps: 0.05900000000000005\n",
            "Episode: 33, Step: 96, Reward mean: 11.08, Reward std: 0.00, Loss: 0.2613, Eps: 0.04920000000000002\n",
            "Episode: 34, Step: 97, Reward mean: 11.08, Reward std: 0.00, Loss: 0.2574, Eps: 0.03939999999999999\n",
            "Episode: 34, Step: 98, Reward mean: 11.08, Reward std: 0.00, Loss: 0.2536, Eps: 0.02960000000000007\n",
            "Episode: 35, Step: 99, Reward mean: 11.08, Reward std: 0.00, Loss: 0.2498, Eps: 0.01980000000000004\n",
            "Episode: 35, Step: 100, Reward mean: 11.08, Reward std: 0.00, Loss: 0.2463, Eps: 0.010000000000000009\n"
          ]
        }
      ]
    },
    {
      "cell_type": "code",
      "source": [],
      "metadata": {
        "colab": {
          "base_uri": "https://localhost:8080/"
        },
        "id": "uxzdDfRFko48",
        "outputId": "bd1663e8-fe20-4052-a502-abea06c12fa2"
      },
      "id": "uxzdDfRFko48",
      "execution_count": null,
      "outputs": [
        {
          "output_type": "execute_result",
          "data": {
            "text/plain": [
              "array([[10.74707855, 10.74707855, 10.89309312, 10.46930077, 10.58041188,\n",
              "        10.74707855, 10.58041188, 10.58041188, 10.58041188, 10.74707855,\n",
              "        10.74707855, 10.74707855, 10.74707855, 10.74707855, 10.74707855,\n",
              "        10.74707855, 10.74707855, 10.74707855, 10.74707855, 10.74707855,\n",
              "        10.74707855, 10.74707855, 10.74707855, 10.74707855, 10.74707855,\n",
              "        10.74707855, 10.74707855, 10.74707855, 10.74707855, 10.74707855,\n",
              "        10.74707855, 10.74707855, 10.74707855, 10.74707855, 10.74707855,\n",
              "        10.74707855, 10.74707855, 10.74707855, 10.74707855, 10.74707855,\n",
              "        10.74707855, 10.74707855, 10.74707855, 10.74707855, 10.74707855,\n",
              "        10.74707855, 10.74707855, 10.74707855, 10.74707855, 10.74707855,\n",
              "        10.74707855, 10.74707855, 10.74707855, 10.74707855, 10.74707855,\n",
              "        10.74707855, 10.74707855, 10.74707855, 10.74707855, 10.74707855,\n",
              "        10.74707855, 10.74707855, 10.74707855, 10.74707855, 10.74707855,\n",
              "        10.74707855, 10.74707855, 10.74707855],\n",
              "       [10.74707855, 10.74707855, 10.74707855, 10.74707855, 10.74707855,\n",
              "        10.74707855, 10.74707855, 10.74707855, 10.74707855, 10.74707855,\n",
              "        10.74707855, 10.74707855, 10.74707855, 10.74707855, 10.74707855,\n",
              "        10.74707855, 10.74707855, 10.74707855, 10.74707855, 10.74707855,\n",
              "        10.74707855, 10.74707855, 10.74707855, 10.74707855, 10.74707855,\n",
              "        10.74707855, 10.74707855, 10.74707855, 10.74707855, 10.74707855,\n",
              "        10.74707855, 10.74707855, 10.74707855, 10.74707855, 10.74707855,\n",
              "        10.74707855, 10.74707855, 10.74707855, 10.74707855, 10.74707855,\n",
              "        10.74707855, 10.74707855, 10.74707855, 10.74707855, 10.74707855,\n",
              "        10.74707855, 10.74707855, 10.74707855, 10.74707855, 10.74707855,\n",
              "        10.74707855, 10.74707855, 10.74707855, 10.74707855, 10.74707855,\n",
              "        10.74707855, 10.74707855, 10.74707855, 10.74707855, 10.74707855,\n",
              "        10.74707855, 10.74707855, 10.74707855, 10.74707855, 10.74707855,\n",
              "        10.74707855, 10.74707855, 10.74707855],\n",
              "       [14.91576349, 14.91576349, 14.91576349, 14.91576349, 14.91576349,\n",
              "        14.91576349, 14.91576349, 14.91576349, 14.91576349, 14.91576349,\n",
              "        14.91576349, 14.91576349, 14.91576349, 14.91576349, 14.91576349,\n",
              "        14.91576349, 14.91576349, 14.91576349, 14.91576349, 14.91576349,\n",
              "        14.91576349, 14.91576349, 14.91576349, 14.91576349, 14.91576349,\n",
              "        14.91576349, 14.91576349, 14.91576349, 14.91576349, 14.91576349,\n",
              "        14.91576349, 14.91576349, 14.91576349, 14.91576349, 14.91576349,\n",
              "        14.91576349, 14.91576349, 14.91576349, 14.91576349, 14.91576349,\n",
              "        14.91576349, 14.91576349, 14.91576349, 14.91576349, 14.91576349,\n",
              "        14.91576349, 14.91576349, 14.91576349, 14.91576349, 14.91576349,\n",
              "        14.91576349, 14.91576349, 14.91576349, 14.91576349, 14.91576349,\n",
              "        14.91576349, 14.91576349, 14.91576349, 14.91576349, 14.91576349,\n",
              "        14.91576349, 14.91576349, 14.91576349, 14.91576349, 14.91576349,\n",
              "        14.91576349, 14.91576349, 14.91576349],\n",
              "       [10.74707855, 10.74707855, 10.74707855, 10.74707855, 10.74707855,\n",
              "        10.74707855, 10.74707855, 10.74707855, 10.74707855, 10.74707855,\n",
              "        10.74707855, 10.74707855, 10.74707855, 10.74707855, 10.74707855,\n",
              "        10.74707855, 10.74707855, 10.74707855, 10.74707855, 10.74707855,\n",
              "        10.74707855, 10.74707855, 10.74707855, 10.74707855, 10.74707855,\n",
              "        10.74707855, 10.74707855, 10.74707855, 10.74707855, 10.74707855,\n",
              "        10.74707855, 10.74707855, 10.74707855, 10.74707855, 10.74707855,\n",
              "        10.74707855, 10.74707855, 10.74707855, 10.74707855, 10.74707855,\n",
              "        10.74707855, 10.74707855, 10.74707855, 10.74707855, 10.74707855,\n",
              "        10.74707855, 10.74707855, 10.74707855, 10.74707855, 10.74707855,\n",
              "        10.74707855, 10.74707855, 10.74707855, 10.74707855, 10.74707855,\n",
              "        10.74707855, 10.74707855, 10.74707855, 10.74707855, 10.74707855,\n",
              "        10.74707855, 10.74707855, 10.74707855, 10.74707855, 10.74707855,\n",
              "        10.74707855, 10.74707855, 10.74707855],\n",
              "       [14.91576349, 14.91576349, 14.91576349, 14.91576349, 14.91576349,\n",
              "        14.91576349, 14.91576349, 14.91576349, 14.91576349, 14.91576349,\n",
              "        14.91576349, 14.91576349, 14.91576349, 14.91576349, 14.91576349,\n",
              "        14.91576349, 14.91576349, 14.91576349, 14.91576349, 14.91576349,\n",
              "        14.91576349, 14.91576349, 14.91576349, 14.91576349, 14.91576349,\n",
              "        14.91576349, 14.91576349, 14.91576349, 14.91576349, 14.91576349,\n",
              "        14.91576349, 14.91576349, 14.91576349, 14.91576349, 14.91576349,\n",
              "        14.91576349, 14.91576349, 14.91576349, 14.91576349, 14.91576349,\n",
              "        14.91576349, 14.91576349, 14.91576349, 14.91576349, 14.91576349,\n",
              "        14.91576349, 14.91576349, 14.91576349, 14.91576349, 14.91576349,\n",
              "        14.91576349, 14.91576349, 14.91576349, 14.91576349, 14.91576349,\n",
              "        14.91576349, 14.91576349, 14.91576349, 14.91576349, 14.91576349,\n",
              "        14.91576349, 14.91576349, 14.91576349, 14.91576349, 14.91576349,\n",
              "        14.91576349, 14.91576349, 14.91576349],\n",
              "       [11.08041188, 11.08041188, 11.08041188, 11.08041188, 11.08041188,\n",
              "        11.08041188, 11.08041188, 11.08041188, 11.08041188, 11.08041188,\n",
              "        11.08041188, 11.08041188, 11.08041188, 11.08041188, 11.08041188,\n",
              "        11.08041188, 11.08041188, 11.08041188, 11.08041188, 11.08041188,\n",
              "        11.08041188, 11.08041188, 11.08041188, 11.08041188, 11.08041188,\n",
              "        11.08041188, 11.08041188, 11.08041188, 11.08041188, 11.08041188,\n",
              "        11.08041188, 11.08041188, 11.08041188, 11.08041188, 11.08041188,\n",
              "        11.08041188, 11.08041188, 11.08041188, 11.08041188, 11.08041188,\n",
              "        11.08041188, 11.08041188, 11.08041188, 11.08041188, 11.08041188,\n",
              "        11.08041188, 11.08041188, 11.08041188, 11.08041188, 11.08041188,\n",
              "        11.08041188, 11.08041188, 11.08041188, 11.08041188, 11.08041188,\n",
              "        11.08041188, 11.08041188, 11.08041188, 11.08041188, 11.08041188,\n",
              "        11.08041188, 11.08041188, 11.08041188, 11.08041188, 11.08041188,\n",
              "        11.08041188, 11.08041188, 11.08041188],\n",
              "       [10.74909682, 11.88798571, 14.19354127, 14.91576349, 14.91576349,\n",
              "        14.91576349, 14.91576349, 14.91576349, 14.91576349, 14.91576349,\n",
              "        14.91576349, 14.91576349, 14.91576349, 14.91576349, 14.91576349,\n",
              "        14.91576349, 14.91576349, 14.91576349, 14.91576349, 14.91576349,\n",
              "        14.91576349, 14.91576349, 14.91576349, 14.91576349, 14.91576349,\n",
              "        14.91576349, 14.91576349, 14.91576349, 14.91576349, 14.91576349,\n",
              "        14.91576349, 14.91576349, 14.91576349, 14.91576349, 14.91576349,\n",
              "        14.91576349, 14.91576349, 14.91576349, 14.91576349, 14.91576349,\n",
              "        14.91576349, 14.91576349, 14.91576349, 14.91576349, 14.91576349,\n",
              "        14.91576349, 14.91576349, 14.91576349, 14.91576349, 14.91576349,\n",
              "        14.91576349, 14.91576349, 14.91576349, 14.91576349, 14.91576349,\n",
              "        14.91576349, 14.91576349, 14.91576349, 14.91576349, 14.91576349,\n",
              "        14.91576349, 14.91576349, 14.91576349, 14.91576349, 14.91576349,\n",
              "        14.91576349, 14.91576349, 14.91576349],\n",
              "       [11.08041188, 11.08041188, 11.08041188, 11.08041188, 11.08041188,\n",
              "        11.08041188, 11.08041188, 11.08041188, 11.08041188, 11.08041188,\n",
              "        11.08041188, 11.08041188, 11.08041188, 11.08041188, 11.08041188,\n",
              "        11.08041188, 11.08041188, 11.08041188, 11.08041188, 11.08041188,\n",
              "        11.08041188, 11.08041188, 11.08041188, 11.08041188, 11.08041188,\n",
              "        11.08041188, 11.08041188, 11.08041188, 11.08041188, 11.08041188,\n",
              "        11.08041188, 11.08041188, 11.08041188, 11.08041188, 11.08041188,\n",
              "        11.08041188, 11.08041188, 11.08041188, 11.08041188, 11.08041188,\n",
              "        11.08041188, 11.08041188, 11.08041188, 11.08041188, 11.08041188,\n",
              "        11.08041188, 11.08041188, 11.08041188, 11.08041188, 11.08041188,\n",
              "        11.08041188, 11.08041188, 11.08041188, 11.08041188, 11.08041188,\n",
              "        11.08041188, 11.08041188, 11.08041188, 11.08041188, 11.08041188,\n",
              "        11.08041188, 11.08041188, 11.08041188, 11.08041188, 11.08041188,\n",
              "        11.08041188, 11.08041188, 11.08041188],\n",
              "       [11.08041188, 11.08041188, 11.08041188, 11.08041188, 11.08041188,\n",
              "        11.08041188, 11.08041188, 11.08041188, 11.08041188, 11.08041188,\n",
              "        11.08041188, 11.08041188, 11.08041188, 11.08041188, 11.08041188,\n",
              "        11.08041188, 11.08041188, 11.08041188, 11.08041188, 11.08041188,\n",
              "        11.08041188, 11.08041188, 11.08041188, 11.08041188, 11.08041188,\n",
              "        11.08041188, 11.08041188, 11.08041188, 11.08041188, 11.08041188,\n",
              "        11.08041188, 11.08041188, 11.08041188, 11.08041188, 11.08041188,\n",
              "        11.08041188, 11.08041188, 11.08041188, 11.08041188, 11.08041188,\n",
              "        11.08041188, 11.08041188, 11.08041188, 11.08041188, 11.08041188,\n",
              "        11.08041188, 11.08041188, 11.08041188, 11.08041188, 11.08041188,\n",
              "        11.08041188, 11.08041188, 11.08041188, 11.08041188, 11.08041188,\n",
              "        11.08041188, 11.08041188, 11.08041188, 11.08041188, 11.08041188,\n",
              "        11.08041188, 11.08041188, 11.08041188, 11.08041188, 11.08041188,\n",
              "        11.08041188, 11.08041188, 11.08041188],\n",
              "       [10.96930077, 11.08041188, 11.08041188, 11.08041188, 11.08041188,\n",
              "        11.08041188, 11.08041188, 11.08041188, 11.08041188, 11.08041188,\n",
              "        11.08041188, 11.08041188, 11.08041188, 11.08041188, 11.08041188,\n",
              "        11.08041188, 11.08041188, 11.08041188, 11.08041188, 11.08041188,\n",
              "        11.08041188, 11.08041188, 11.08041188, 11.08041188, 11.08041188,\n",
              "        11.08041188, 11.08041188, 11.08041188, 11.08041188, 11.08041188,\n",
              "        11.08041188, 11.08041188, 11.08041188, 11.08041188, 11.08041188,\n",
              "        11.08041188, 11.08041188, 11.08041188, 11.08041188, 11.08041188,\n",
              "        11.08041188, 11.08041188, 11.08041188, 11.08041188, 11.08041188,\n",
              "        11.08041188, 11.08041188, 11.08041188, 11.08041188, 11.08041188,\n",
              "        11.08041188, 11.08041188, 11.08041188, 11.08041188, 11.08041188,\n",
              "        11.08041188, 11.08041188, 11.08041188, 11.08041188, 11.08041188,\n",
              "        11.08041188, 11.08041188, 11.08041188, 11.08041188, 11.08041188,\n",
              "        11.08041188, 11.08041188, 11.08041188]])"
            ]
          },
          "metadata": {},
          "execution_count": 35
        }
      ]
    },
    {
      "cell_type": "code",
      "source": [
        "mpr, mean_priority_reward, std_priority_reward = run_experiment(priority_config)"
      ],
      "metadata": {
        "colab": {
          "base_uri": "https://localhost:8080/"
        },
        "id": "UdEU1lL6sssg",
        "outputId": "bbcae3cb-1c59-47fc-f67c-13f75a361e78"
      },
      "id": "UdEU1lL6sssg",
      "execution_count": null,
      "outputs": [
        {
          "output_type": "stream",
          "name": "stdout",
          "text": [
            "Episode: 2, Step: 35, Reward mean: 10.75, Reward std: 0.00, Loss: 0.7092, Eps: 0.8528\n",
            "Episode: 3, Step: 40, Reward mean: 10.75, Reward std: 0.00, Loss: 0.6637, Eps: 0.8331999999999999\n",
            "Episode: 4, Step: 45, Reward mean: 10.75, Reward std: 0.00, Loss: 0.6140, Eps: 0.8136\n",
            "Episode: 5, Step: 50, Reward mean: 10.75, Reward std: 0.00, Loss: 0.5955, Eps: 0.794\n",
            "Episode: 6, Step: 55, Reward mean: 10.75, Reward std: 0.00, Loss: 0.5527, Eps: 0.7744\n",
            "Episode: 7, Step: 60, Reward mean: 10.75, Reward std: 0.00, Loss: 0.4744, Eps: 0.7548\n",
            "Episode: 8, Step: 65, Reward mean: 10.75, Reward std: 0.00, Loss: 0.4989, Eps: 0.7352000000000001\n",
            "Episode: 9, Step: 70, Reward mean: 10.75, Reward std: 0.00, Loss: 0.4786, Eps: 0.7156\n",
            "Episode: 10, Step: 75, Reward mean: 10.75, Reward std: 0.00, Loss: 0.4466, Eps: 0.696\n",
            "Episode: 11, Step: 80, Reward mean: 10.75, Reward std: 0.00, Loss: 0.4170, Eps: 0.6763999999999999\n",
            "Episode: 12, Step: 85, Reward mean: 10.75, Reward std: 0.00, Loss: 0.3924, Eps: 0.6568\n",
            "Episode: 13, Step: 90, Reward mean: 10.75, Reward std: 0.00, Loss: 0.3686, Eps: 0.6372\n",
            "Episode: 14, Step: 95, Reward mean: 10.75, Reward std: 0.00, Loss: 0.3436, Eps: 0.6176\n",
            "Episode: 15, Step: 100, Reward mean: 10.75, Reward std: 0.00, Loss: 0.3202, Eps: 0.598\n",
            "Episode: 16, Step: 105, Reward mean: 10.75, Reward std: 0.00, Loss: 0.3020, Eps: 0.5784\n",
            "Episode: 17, Step: 110, Reward mean: 10.75, Reward std: 0.00, Loss: 0.2849, Eps: 0.5588\n",
            "Episode: 18, Step: 115, Reward mean: 10.75, Reward std: 0.00, Loss: 0.2699, Eps: 0.5391999999999999\n",
            "Episode: 19, Step: 120, Reward mean: 10.75, Reward std: 0.00, Loss: 0.2556, Eps: 0.5196000000000001\n",
            "Episode: 20, Step: 125, Reward mean: 10.77, Reward std: 0.00, Loss: 0.2438, Eps: 0.5\n",
            "Episode: 21, Step: 130, Reward mean: 11.05, Reward std: 0.00, Loss: 0.2316, Eps: 0.48040000000000005\n",
            "Episode: 22, Step: 135, Reward mean: 11.08, Reward std: 0.00, Loss: 0.2217, Eps: 0.4608\n",
            "Episode: 23, Step: 140, Reward mean: 11.08, Reward std: 0.00, Loss: 0.2120, Eps: 0.44120000000000004\n",
            "Episode: 24, Step: 145, Reward mean: 10.97, Reward std: 0.00, Loss: 0.2029, Eps: 0.4216\n",
            "Episode: 25, Step: 150, Reward mean: 10.75, Reward std: 0.00, Loss: 0.1947, Eps: 0.402\n",
            "Episode: 26, Step: 155, Reward mean: 10.75, Reward std: 0.00, Loss: 0.1871, Eps: 0.38239999999999996\n",
            "Episode: 27, Step: 160, Reward mean: 10.75, Reward std: 0.00, Loss: 0.1803, Eps: 0.3627999999999999\n",
            "Episode: 28, Step: 165, Reward mean: 10.75, Reward std: 0.00, Loss: 0.1737, Eps: 0.34320000000000006\n",
            "Episode: 29, Step: 170, Reward mean: 10.80, Reward std: 0.00, Loss: 0.1677, Eps: 0.3236\n",
            "Episode: 30, Step: 175, Reward mean: 10.80, Reward std: 0.00, Loss: 0.1625, Eps: 0.30399999999999994\n",
            "Episode: 31, Step: 180, Reward mean: 10.77, Reward std: 0.00, Loss: 0.1578, Eps: 0.2844\n",
            "Episode: 32, Step: 185, Reward mean: 14.92, Reward std: 0.00, Loss: 0.1534, Eps: 0.26480000000000004\n",
            "Episode: 33, Step: 190, Reward mean: 14.92, Reward std: 0.00, Loss: 0.1493, Eps: 0.24520000000000008\n",
            "Episode: 34, Step: 195, Reward mean: 14.92, Reward std: 0.00, Loss: 0.1457, Eps: 0.22560000000000002\n",
            "Episode: 35, Step: 200, Reward mean: 14.92, Reward std: 0.00, Loss: 0.1424, Eps: 0.20599999999999996\n",
            "Episode: 36, Step: 205, Reward mean: 14.92, Reward std: 0.00, Loss: 0.1396, Eps: 0.1864\n",
            "Episode: 37, Step: 210, Reward mean: 14.92, Reward std: 0.00, Loss: 0.1369, Eps: 0.16680000000000006\n",
            "Episode: 38, Step: 215, Reward mean: 14.92, Reward std: 0.00, Loss: 0.1345, Eps: 0.1472\n",
            "Episode: 39, Step: 220, Reward mean: 10.86, Reward std: 0.00, Loss: 0.1324, Eps: 0.12760000000000005\n",
            "Episode: 40, Step: 225, Reward mean: 10.75, Reward std: 0.00, Loss: 0.1297, Eps: 0.10799999999999998\n",
            "Episode: 41, Step: 230, Reward mean: 10.75, Reward std: 0.00, Loss: 0.1274, Eps: 0.08839999999999992\n",
            "Episode: 42, Step: 235, Reward mean: 10.75, Reward std: 0.00, Loss: 0.1255, Eps: 0.06880000000000008\n",
            "Episode: 43, Step: 240, Reward mean: 10.75, Reward std: 0.00, Loss: 0.1235, Eps: 0.04920000000000002\n",
            "Episode: 44, Step: 245, Reward mean: 10.75, Reward std: 0.00, Loss: 0.1215, Eps: 0.02959999999999996\n",
            "Episode: 45, Step: 250, Reward mean: 10.75, Reward std: 0.00, Loss: 0.1200, Eps: 0.010000000000000009\n",
            "Episode: 2, Step: 35, Reward mean: 11.08, Reward std: 0.00, Loss: 0.7191, Eps: 0.8528\n",
            "Episode: 3, Step: 40, Reward mean: 11.05, Reward std: 0.00, Loss: 0.6370, Eps: 0.8331999999999999\n",
            "Episode: 4, Step: 45, Reward mean: 10.75, Reward std: 0.00, Loss: 0.6021, Eps: 0.8136\n",
            "Episode: 5, Step: 50, Reward mean: 10.75, Reward std: 0.00, Loss: 0.6055, Eps: 0.794\n",
            "Episode: 6, Step: 55, Reward mean: 10.75, Reward std: 0.00, Loss: 0.5933, Eps: 0.7744\n",
            "Episode: 7, Step: 60, Reward mean: 10.75, Reward std: 0.00, Loss: 0.5861, Eps: 0.7548\n",
            "Episode: 8, Step: 65, Reward mean: 10.75, Reward std: 0.00, Loss: 0.5543, Eps: 0.7352000000000001\n",
            "Episode: 9, Step: 70, Reward mean: 10.75, Reward std: 0.00, Loss: 0.5360, Eps: 0.7156\n",
            "Episode: 10, Step: 75, Reward mean: 10.75, Reward std: 0.00, Loss: 0.5053, Eps: 0.696\n",
            "Episode: 11, Step: 80, Reward mean: 10.75, Reward std: 0.00, Loss: 0.4701, Eps: 0.6763999999999999\n",
            "Episode: 12, Step: 85, Reward mean: 10.75, Reward std: 0.00, Loss: 0.4443, Eps: 0.6568\n",
            "Episode: 13, Step: 90, Reward mean: 10.75, Reward std: 0.00, Loss: 0.4120, Eps: 0.6372\n",
            "Episode: 14, Step: 95, Reward mean: 10.75, Reward std: 0.00, Loss: 0.3867, Eps: 0.6176\n",
            "Episode: 15, Step: 100, Reward mean: 10.75, Reward std: 0.00, Loss: 0.3599, Eps: 0.598\n",
            "Episode: 16, Step: 105, Reward mean: 10.75, Reward std: 0.00, Loss: 0.3389, Eps: 0.5784\n",
            "Episode: 17, Step: 110, Reward mean: 10.86, Reward std: 0.00, Loss: 0.3218, Eps: 0.5588\n",
            "Episode: 18, Step: 115, Reward mean: 10.86, Reward std: 0.00, Loss: 0.3050, Eps: 0.5391999999999999\n",
            "Episode: 19, Step: 120, Reward mean: 10.86, Reward std: 0.00, Loss: 0.2892, Eps: 0.5196000000000001\n",
            "Episode: 20, Step: 125, Reward mean: 10.86, Reward std: 0.00, Loss: 0.2749, Eps: 0.5\n",
            "Episode: 21, Step: 130, Reward mean: 11.08, Reward std: 0.00, Loss: 0.2619, Eps: 0.48040000000000005\n",
            "Episode: 22, Step: 135, Reward mean: 11.08, Reward std: 0.00, Loss: 0.2499, Eps: 0.4608\n",
            "Episode: 23, Step: 140, Reward mean: 11.08, Reward std: 0.00, Loss: 0.2390, Eps: 0.44120000000000004\n",
            "Episode: 24, Step: 145, Reward mean: 11.08, Reward std: 0.00, Loss: 0.2291, Eps: 0.4216\n",
            "Episode: 25, Step: 150, Reward mean: 11.08, Reward std: 0.00, Loss: 0.2200, Eps: 0.402\n",
            "Episode: 26, Step: 155, Reward mean: 11.08, Reward std: 0.00, Loss: 0.2117, Eps: 0.38239999999999996\n",
            "Episode: 27, Step: 160, Reward mean: 11.08, Reward std: 0.00, Loss: 0.2040, Eps: 0.3627999999999999\n",
            "Episode: 28, Step: 165, Reward mean: 11.08, Reward std: 0.00, Loss: 0.1972, Eps: 0.34320000000000006\n",
            "Episode: 29, Step: 170, Reward mean: 11.08, Reward std: 0.00, Loss: 0.1909, Eps: 0.3236\n",
            "Episode: 30, Step: 175, Reward mean: 11.08, Reward std: 0.00, Loss: 0.1849, Eps: 0.30399999999999994\n",
            "Episode: 31, Step: 180, Reward mean: 11.08, Reward std: 0.00, Loss: 0.1793, Eps: 0.2844\n",
            "Episode: 32, Step: 185, Reward mean: 11.08, Reward std: 0.00, Loss: 0.1744, Eps: 0.26480000000000004\n",
            "Episode: 33, Step: 190, Reward mean: 11.08, Reward std: 0.00, Loss: 0.1699, Eps: 0.24520000000000008\n",
            "Episode: 34, Step: 195, Reward mean: 11.08, Reward std: 0.00, Loss: 0.1656, Eps: 0.22560000000000002\n",
            "Episode: 35, Step: 200, Reward mean: 11.08, Reward std: 0.00, Loss: 0.1617, Eps: 0.20599999999999996\n",
            "Episode: 36, Step: 205, Reward mean: 11.08, Reward std: 0.00, Loss: 0.1579, Eps: 0.1864\n",
            "Episode: 37, Step: 210, Reward mean: 11.08, Reward std: 0.00, Loss: 0.1546, Eps: 0.16680000000000006\n",
            "Episode: 38, Step: 215, Reward mean: 11.08, Reward std: 0.00, Loss: 0.1518, Eps: 0.1472\n",
            "Episode: 39, Step: 220, Reward mean: 11.08, Reward std: 0.00, Loss: 0.1485, Eps: 0.12760000000000005\n",
            "Episode: 40, Step: 225, Reward mean: 11.08, Reward std: 0.00, Loss: 0.1459, Eps: 0.10799999999999998\n",
            "Episode: 41, Step: 230, Reward mean: 11.08, Reward std: 0.00, Loss: 0.1436, Eps: 0.08839999999999992\n",
            "Episode: 42, Step: 235, Reward mean: 11.08, Reward std: 0.00, Loss: 0.1418, Eps: 0.06880000000000008\n",
            "Episode: 43, Step: 240, Reward mean: 11.08, Reward std: 0.00, Loss: 0.1403, Eps: 0.04920000000000002\n",
            "Episode: 44, Step: 245, Reward mean: 11.08, Reward std: 0.00, Loss: 0.1388, Eps: 0.02959999999999996\n",
            "Episode: 45, Step: 250, Reward mean: 11.08, Reward std: 0.00, Loss: 0.1376, Eps: 0.010000000000000009\n",
            "Episode: 2, Step: 35, Reward mean: 10.75, Reward std: 0.00, Loss: 0.8359, Eps: 0.8528\n",
            "Episode: 3, Step: 40, Reward mean: 2.97, Reward std: 0.00, Loss: 0.7752, Eps: 0.8331999999999999\n",
            "Episode: 4, Step: 45, Reward mean: 14.92, Reward std: 0.00, Loss: 0.7480, Eps: 0.8136\n",
            "Episode: 5, Step: 50, Reward mean: 14.92, Reward std: 0.00, Loss: 0.6937, Eps: 0.794\n",
            "Episode: 6, Step: 55, Reward mean: 14.55, Reward std: 0.00, Loss: 0.6549, Eps: 0.7744\n",
            "Episode: 7, Step: 60, Reward mean: 10.75, Reward std: 0.00, Loss: 0.6136, Eps: 0.7548\n",
            "Episode: 8, Step: 65, Reward mean: 10.75, Reward std: 0.00, Loss: 0.5789, Eps: 0.7352000000000001\n",
            "Episode: 9, Step: 70, Reward mean: 10.75, Reward std: 0.00, Loss: 0.5587, Eps: 0.7156\n",
            "Episode: 10, Step: 75, Reward mean: 10.75, Reward std: 0.00, Loss: 0.5324, Eps: 0.696\n",
            "Episode: 11, Step: 80, Reward mean: 10.75, Reward std: 0.00, Loss: 0.5023, Eps: 0.6763999999999999\n",
            "Episode: 12, Step: 85, Reward mean: 10.75, Reward std: 0.00, Loss: 0.4644, Eps: 0.6568\n",
            "Episode: 13, Step: 90, Reward mean: 10.75, Reward std: 0.00, Loss: 0.4271, Eps: 0.6372\n",
            "Episode: 14, Step: 95, Reward mean: 10.75, Reward std: 0.00, Loss: 0.3954, Eps: 0.6176\n",
            "Episode: 15, Step: 100, Reward mean: 10.75, Reward std: 0.00, Loss: 0.3744, Eps: 0.598\n",
            "Episode: 16, Step: 105, Reward mean: 11.05, Reward std: 0.00, Loss: 0.3516, Eps: 0.5784\n",
            "Episode: 17, Step: 110, Reward mean: 11.08, Reward std: 0.00, Loss: 0.3321, Eps: 0.5588\n",
            "Episode: 18, Step: 115, Reward mean: 11.08, Reward std: 0.00, Loss: 0.3152, Eps: 0.5391999999999999\n",
            "Episode: 19, Step: 120, Reward mean: 11.08, Reward std: 0.00, Loss: 0.2989, Eps: 0.5196000000000001\n",
            "Episode: 20, Step: 125, Reward mean: 11.08, Reward std: 0.00, Loss: 0.2838, Eps: 0.5\n",
            "Episode: 21, Step: 130, Reward mean: 11.52, Reward std: 0.00, Loss: 0.2701, Eps: 0.48040000000000005\n",
            "Episode: 22, Step: 135, Reward mean: 14.92, Reward std: 0.00, Loss: 0.2580, Eps: 0.4608\n",
            "Episode: 23, Step: 140, Reward mean: 14.92, Reward std: 0.00, Loss: 0.2468, Eps: 0.44120000000000004\n",
            "Episode: 24, Step: 145, Reward mean: 14.92, Reward std: 0.00, Loss: 0.2366, Eps: 0.4216\n",
            "Episode: 25, Step: 150, Reward mean: 14.92, Reward std: 0.00, Loss: 0.2276, Eps: 0.402\n",
            "Episode: 26, Step: 155, Reward mean: 14.92, Reward std: 0.00, Loss: 0.2190, Eps: 0.38239999999999996\n",
            "Episode: 27, Step: 160, Reward mean: 14.92, Reward std: 0.00, Loss: 0.2112, Eps: 0.3627999999999999\n",
            "Episode: 28, Step: 165, Reward mean: 14.92, Reward std: 0.00, Loss: 0.2041, Eps: 0.34320000000000006\n",
            "Episode: 29, Step: 170, Reward mean: 14.92, Reward std: 0.00, Loss: 0.1980, Eps: 0.3236\n",
            "Episode: 30, Step: 175, Reward mean: 14.92, Reward std: 0.00, Loss: 0.1919, Eps: 0.30399999999999994\n",
            "Episode: 31, Step: 180, Reward mean: 14.92, Reward std: 0.00, Loss: 0.1865, Eps: 0.2844\n",
            "Episode: 32, Step: 185, Reward mean: 14.72, Reward std: 0.00, Loss: 0.1819, Eps: 0.26480000000000004\n",
            "Episode: 33, Step: 190, Reward mean: 10.83, Reward std: 0.00, Loss: 0.1773, Eps: 0.24520000000000008\n",
            "Episode: 34, Step: 195, Reward mean: 10.75, Reward std: 0.00, Loss: 0.1728, Eps: 0.22560000000000002\n",
            "Episode: 35, Step: 200, Reward mean: 10.75, Reward std: 0.00, Loss: 0.1689, Eps: 0.20599999999999996\n",
            "Episode: 36, Step: 205, Reward mean: 10.75, Reward std: 0.00, Loss: 0.1652, Eps: 0.1864\n",
            "Episode: 37, Step: 210, Reward mean: 10.75, Reward std: 0.00, Loss: 0.1618, Eps: 0.16680000000000006\n",
            "Episode: 38, Step: 215, Reward mean: 10.75, Reward std: 0.00, Loss: 0.1582, Eps: 0.1472\n",
            "Episode: 39, Step: 220, Reward mean: 10.75, Reward std: 0.00, Loss: 0.1548, Eps: 0.12760000000000005\n",
            "Episode: 40, Step: 225, Reward mean: 10.75, Reward std: 0.00, Loss: 0.1517, Eps: 0.10799999999999998\n",
            "Episode: 41, Step: 230, Reward mean: 10.75, Reward std: 0.00, Loss: 0.1495, Eps: 0.08839999999999992\n",
            "Episode: 42, Step: 235, Reward mean: 10.75, Reward std: 0.00, Loss: 0.1471, Eps: 0.06880000000000008\n",
            "Episode: 43, Step: 240, Reward mean: 10.75, Reward std: 0.00, Loss: 0.1443, Eps: 0.04920000000000002\n",
            "Episode: 44, Step: 245, Reward mean: 10.75, Reward std: 0.00, Loss: 0.1420, Eps: 0.02959999999999996\n",
            "Episode: 45, Step: 250, Reward mean: 10.75, Reward std: 0.00, Loss: 0.1398, Eps: 0.010000000000000009\n",
            "Episode: 2, Step: 35, Reward mean: 11.08, Reward std: 0.00, Loss: 0.7368, Eps: 0.8528\n",
            "Episode: 3, Step: 40, Reward mean: 10.86, Reward std: 0.00, Loss: 0.7040, Eps: 0.8331999999999999\n",
            "Episode: 4, Step: 45, Reward mean: 10.75, Reward std: 0.00, Loss: 0.6257, Eps: 0.8136\n",
            "Episode: 5, Step: 50, Reward mean: 10.75, Reward std: 0.00, Loss: 0.5926, Eps: 0.794\n",
            "Episode: 6, Step: 55, Reward mean: 10.75, Reward std: 0.00, Loss: 0.5654, Eps: 0.7744\n",
            "Episode: 7, Step: 60, Reward mean: 10.75, Reward std: 0.00, Loss: 0.5382, Eps: 0.7548\n",
            "Episode: 8, Step: 65, Reward mean: 10.75, Reward std: 0.00, Loss: 0.5366, Eps: 0.7352000000000001\n",
            "Episode: 9, Step: 70, Reward mean: 10.75, Reward std: 0.00, Loss: 0.5047, Eps: 0.7156\n",
            "Episode: 10, Step: 75, Reward mean: 10.75, Reward std: 0.00, Loss: 0.4600, Eps: 0.696\n",
            "Episode: 11, Step: 80, Reward mean: 10.75, Reward std: 0.00, Loss: 0.4298, Eps: 0.6763999999999999\n",
            "Episode: 12, Step: 85, Reward mean: 10.75, Reward std: 0.00, Loss: 0.3939, Eps: 0.6568\n",
            "Episode: 13, Step: 90, Reward mean: 10.75, Reward std: 0.00, Loss: 0.3663, Eps: 0.6372\n",
            "Episode: 14, Step: 95, Reward mean: 10.75, Reward std: 0.00, Loss: 0.3432, Eps: 0.6176\n",
            "Episode: 15, Step: 100, Reward mean: 10.75, Reward std: 0.00, Loss: 0.3191, Eps: 0.598\n",
            "Episode: 16, Step: 105, Reward mean: 9.97, Reward std: 0.00, Loss: 0.3006, Eps: 0.5784\n",
            "Episode: 17, Step: 110, Reward mean: 10.75, Reward std: 0.00, Loss: 0.2827, Eps: 0.5588\n",
            "Episode: 18, Step: 115, Reward mean: 10.75, Reward std: 0.00, Loss: 0.2680, Eps: 0.5391999999999999\n",
            "Episode: 19, Step: 120, Reward mean: 11.28, Reward std: 0.00, Loss: 0.2547, Eps: 0.5196000000000001\n",
            "Episode: 20, Step: 125, Reward mean: 11.33, Reward std: 0.00, Loss: 0.2414, Eps: 0.5\n",
            "Episode: 21, Step: 130, Reward mean: 11.08, Reward std: 0.00, Loss: 0.2295, Eps: 0.48040000000000005\n",
            "Episode: 22, Step: 135, Reward mean: 11.08, Reward std: 0.00, Loss: 0.2194, Eps: 0.4608\n",
            "Episode: 23, Step: 140, Reward mean: 11.08, Reward std: 0.00, Loss: 0.2096, Eps: 0.44120000000000004\n",
            "Episode: 24, Step: 145, Reward mean: 11.08, Reward std: 0.00, Loss: 0.2007, Eps: 0.4216\n",
            "Episode: 25, Step: 150, Reward mean: 11.33, Reward std: 0.00, Loss: 0.1936, Eps: 0.402\n",
            "Episode: 26, Step: 155, Reward mean: 11.39, Reward std: 0.00, Loss: 0.1861, Eps: 0.38239999999999996\n",
            "Episode: 27, Step: 160, Reward mean: 11.08, Reward std: 0.00, Loss: 0.1793, Eps: 0.3627999999999999\n",
            "Episode: 28, Step: 165, Reward mean: 11.08, Reward std: 0.00, Loss: 0.1731, Eps: 0.34320000000000006\n",
            "Episode: 29, Step: 170, Reward mean: 11.08, Reward std: 0.00, Loss: 0.1675, Eps: 0.3236\n",
            "Episode: 30, Step: 175, Reward mean: 14.92, Reward std: 0.00, Loss: 0.1623, Eps: 0.30399999999999994\n",
            "Episode: 31, Step: 180, Reward mean: 14.92, Reward std: 0.00, Loss: 0.1573, Eps: 0.2844\n",
            "Episode: 32, Step: 185, Reward mean: 14.92, Reward std: 0.00, Loss: 0.1528, Eps: 0.26480000000000004\n",
            "Episode: 33, Step: 190, Reward mean: 14.92, Reward std: 0.00, Loss: 0.1485, Eps: 0.24520000000000008\n",
            "Episode: 34, Step: 195, Reward mean: 14.92, Reward std: 0.00, Loss: 0.1447, Eps: 0.22560000000000002\n",
            "Episode: 35, Step: 200, Reward mean: 14.92, Reward std: 0.00, Loss: 0.1412, Eps: 0.20599999999999996\n",
            "Episode: 36, Step: 205, Reward mean: 14.92, Reward std: 0.00, Loss: 0.1380, Eps: 0.1864\n",
            "Episode: 37, Step: 210, Reward mean: 14.92, Reward std: 0.00, Loss: 0.1353, Eps: 0.16680000000000006\n",
            "Episode: 38, Step: 215, Reward mean: 14.92, Reward std: 0.00, Loss: 0.1328, Eps: 0.1472\n",
            "Episode: 39, Step: 220, Reward mean: 14.92, Reward std: 0.00, Loss: 0.1306, Eps: 0.12760000000000005\n",
            "Episode: 40, Step: 225, Reward mean: 2.97, Reward std: 0.00, Loss: 0.1287, Eps: 0.10799999999999998\n",
            "Episode: 41, Step: 230, Reward mean: 10.75, Reward std: 0.00, Loss: 0.1274, Eps: 0.08839999999999992\n",
            "Episode: 42, Step: 235, Reward mean: 10.75, Reward std: 0.00, Loss: 0.1265, Eps: 0.06880000000000008\n",
            "Episode: 43, Step: 240, Reward mean: 10.75, Reward std: 0.00, Loss: 0.1255, Eps: 0.04920000000000002\n",
            "Episode: 44, Step: 245, Reward mean: 10.75, Reward std: 0.00, Loss: 0.1247, Eps: 0.02959999999999996\n",
            "Episode: 45, Step: 250, Reward mean: 10.75, Reward std: 0.00, Loss: 0.1241, Eps: 0.010000000000000009\n",
            "Episode: 2, Step: 35, Reward mean: 10.75, Reward std: 0.00, Loss: 0.7623, Eps: 0.8528\n",
            "Episode: 3, Step: 40, Reward mean: 10.75, Reward std: 0.00, Loss: 0.7643, Eps: 0.8331999999999999\n",
            "Episode: 4, Step: 45, Reward mean: 10.75, Reward std: 0.00, Loss: 0.7667, Eps: 0.8136\n",
            "Episode: 5, Step: 50, Reward mean: 10.75, Reward std: 0.00, Loss: 0.7425, Eps: 0.794\n",
            "Episode: 6, Step: 55, Reward mean: 10.75, Reward std: 0.00, Loss: 0.7194, Eps: 0.7744\n",
            "Episode: 7, Step: 60, Reward mean: 10.75, Reward std: 0.00, Loss: 0.6842, Eps: 0.7548\n",
            "Episode: 8, Step: 65, Reward mean: 10.75, Reward std: 0.00, Loss: 0.6438, Eps: 0.7352000000000001\n",
            "Episode: 9, Step: 70, Reward mean: 10.75, Reward std: 0.00, Loss: 0.6041, Eps: 0.7156\n",
            "Episode: 10, Step: 75, Reward mean: 10.75, Reward std: 0.00, Loss: 0.5773, Eps: 0.696\n",
            "Episode: 11, Step: 80, Reward mean: 10.75, Reward std: 0.00, Loss: 0.5407, Eps: 0.6763999999999999\n",
            "Episode: 12, Step: 85, Reward mean: 10.75, Reward std: 0.00, Loss: 0.5022, Eps: 0.6568\n",
            "Episode: 13, Step: 90, Reward mean: 10.75, Reward std: 0.00, Loss: 0.4650, Eps: 0.6372\n",
            "Episode: 14, Step: 95, Reward mean: 10.75, Reward std: 0.00, Loss: 0.4368, Eps: 0.6176\n",
            "Episode: 15, Step: 100, Reward mean: 10.75, Reward std: 0.00, Loss: 0.4136, Eps: 0.598\n",
            "Episode: 16, Step: 105, Reward mean: 10.75, Reward std: 0.00, Loss: 0.3910, Eps: 0.5784\n",
            "Episode: 17, Step: 110, Reward mean: 10.75, Reward std: 0.00, Loss: 0.3719, Eps: 0.5588\n",
            "Episode: 18, Step: 115, Reward mean: 10.75, Reward std: 0.00, Loss: 0.3527, Eps: 0.5391999999999999\n",
            "Episode: 19, Step: 120, Reward mean: 10.75, Reward std: 0.00, Loss: 0.3343, Eps: 0.5196000000000001\n",
            "Episode: 20, Step: 125, Reward mean: 10.64, Reward std: 0.00, Loss: 0.3169, Eps: 0.5\n",
            "Episode: 21, Step: 130, Reward mean: 10.97, Reward std: 0.00, Loss: 0.3015, Eps: 0.48040000000000005\n",
            "Episode: 22, Step: 135, Reward mean: 14.39, Reward std: 0.00, Loss: 0.2873, Eps: 0.4608\n",
            "Episode: 23, Step: 140, Reward mean: 14.92, Reward std: 0.00, Loss: 0.2744, Eps: 0.44120000000000004\n",
            "Episode: 24, Step: 145, Reward mean: 14.92, Reward std: 0.00, Loss: 0.2626, Eps: 0.4216\n",
            "Episode: 25, Step: 150, Reward mean: 14.92, Reward std: 0.00, Loss: 0.2519, Eps: 0.402\n",
            "Episode: 26, Step: 155, Reward mean: 14.92, Reward std: 0.00, Loss: 0.2420, Eps: 0.38239999999999996\n",
            "Episode: 27, Step: 160, Reward mean: 14.92, Reward std: 0.00, Loss: 0.2330, Eps: 0.3627999999999999\n",
            "Episode: 28, Step: 165, Reward mean: 14.39, Reward std: 0.00, Loss: 0.2246, Eps: 0.34320000000000006\n",
            "Episode: 29, Step: 170, Reward mean: 14.39, Reward std: 0.00, Loss: 0.2169, Eps: 0.3236\n",
            "Episode: 30, Step: 175, Reward mean: 14.39, Reward std: 0.00, Loss: 0.2098, Eps: 0.30399999999999994\n",
            "Episode: 31, Step: 180, Reward mean: 14.39, Reward std: 0.00, Loss: 0.2031, Eps: 0.2844\n",
            "Episode: 32, Step: 185, Reward mean: 14.39, Reward std: 0.00, Loss: 0.1970, Eps: 0.26480000000000004\n",
            "Episode: 33, Step: 190, Reward mean: 14.39, Reward std: 0.00, Loss: 0.1914, Eps: 0.24520000000000008\n",
            "Episode: 34, Step: 195, Reward mean: 11.08, Reward std: 0.00, Loss: 0.1862, Eps: 0.22560000000000002\n",
            "Episode: 35, Step: 200, Reward mean: 11.08, Reward std: 0.00, Loss: 0.1815, Eps: 0.20599999999999996\n",
            "Episode: 36, Step: 205, Reward mean: 11.28, Reward std: 0.00, Loss: 0.1773, Eps: 0.1864\n",
            "Episode: 37, Step: 210, Reward mean: 11.08, Reward std: 0.00, Loss: 0.1735, Eps: 0.16680000000000006\n",
            "Episode: 38, Step: 215, Reward mean: 11.28, Reward std: 0.00, Loss: 0.1696, Eps: 0.1472\n",
            "Episode: 39, Step: 220, Reward mean: 11.28, Reward std: 0.00, Loss: 0.1661, Eps: 0.12760000000000005\n",
            "Episode: 40, Step: 225, Reward mean: 11.08, Reward std: 0.00, Loss: 0.1630, Eps: 0.10799999999999998\n",
            "Episode: 41, Step: 230, Reward mean: 11.28, Reward std: 0.00, Loss: 0.1603, Eps: 0.08839999999999992\n",
            "Episode: 42, Step: 235, Reward mean: 11.28, Reward std: 0.00, Loss: 0.1578, Eps: 0.06880000000000008\n",
            "Episode: 43, Step: 240, Reward mean: 11.08, Reward std: 0.00, Loss: 0.1556, Eps: 0.04920000000000002\n",
            "Episode: 44, Step: 245, Reward mean: 11.08, Reward std: 0.00, Loss: 0.1535, Eps: 0.02959999999999996\n",
            "Episode: 45, Step: 250, Reward mean: 11.08, Reward std: 0.00, Loss: 0.1513, Eps: 0.010000000000000009\n",
            "Episode: 2, Step: 35, Reward mean: 11.08, Reward std: 0.00, Loss: 0.7991, Eps: 0.8528\n",
            "Episode: 3, Step: 40, Reward mean: 11.08, Reward std: 0.00, Loss: 0.8409, Eps: 0.8331999999999999\n",
            "Episode: 4, Step: 45, Reward mean: 11.08, Reward std: 0.00, Loss: 0.8248, Eps: 0.8136\n",
            "Episode: 5, Step: 50, Reward mean: 11.08, Reward std: 0.00, Loss: 0.8055, Eps: 0.794\n",
            "Episode: 6, Step: 55, Reward mean: 11.08, Reward std: 0.00, Loss: 0.7799, Eps: 0.7744\n",
            "Episode: 7, Step: 60, Reward mean: 11.08, Reward std: 0.00, Loss: 0.7298, Eps: 0.7548\n",
            "Episode: 8, Step: 65, Reward mean: 11.08, Reward std: 0.00, Loss: 0.6798, Eps: 0.7352000000000001\n",
            "Episode: 9, Step: 70, Reward mean: 11.08, Reward std: 0.00, Loss: 0.6326, Eps: 0.7156\n",
            "Episode: 10, Step: 75, Reward mean: 11.08, Reward std: 0.00, Loss: 0.6127, Eps: 0.696\n",
            "Episode: 11, Step: 80, Reward mean: 11.08, Reward std: 0.00, Loss: 0.5726, Eps: 0.6763999999999999\n",
            "Episode: 12, Step: 85, Reward mean: 11.08, Reward std: 0.00, Loss: 0.5466, Eps: 0.6568\n",
            "Episode: 13, Step: 90, Reward mean: 11.08, Reward std: 0.00, Loss: 0.5200, Eps: 0.6372\n",
            "Episode: 14, Step: 95, Reward mean: 11.08, Reward std: 0.00, Loss: 0.4833, Eps: 0.6176\n",
            "Episode: 15, Step: 100, Reward mean: 11.08, Reward std: 0.00, Loss: 0.4555, Eps: 0.598\n",
            "Episode: 16, Step: 105, Reward mean: 11.08, Reward std: 0.00, Loss: 0.4249, Eps: 0.5784\n",
            "Episode: 17, Step: 110, Reward mean: 11.08, Reward std: 0.00, Loss: 0.4027, Eps: 0.5588\n",
            "Episode: 18, Step: 115, Reward mean: 11.08, Reward std: 0.00, Loss: 0.3788, Eps: 0.5391999999999999\n",
            "Episode: 19, Step: 120, Reward mean: 11.08, Reward std: 0.00, Loss: 0.3578, Eps: 0.5196000000000001\n",
            "Episode: 20, Step: 125, Reward mean: 11.08, Reward std: 0.00, Loss: 0.3408, Eps: 0.5\n",
            "Episode: 21, Step: 130, Reward mean: 11.08, Reward std: 0.00, Loss: 0.3252, Eps: 0.48040000000000005\n",
            "Episode: 22, Step: 135, Reward mean: 11.08, Reward std: 0.00, Loss: 0.3097, Eps: 0.4608\n",
            "Episode: 23, Step: 140, Reward mean: 14.92, Reward std: 0.00, Loss: 0.2957, Eps: 0.44120000000000004\n",
            "Episode: 24, Step: 145, Reward mean: 14.92, Reward std: 0.00, Loss: 0.2834, Eps: 0.4216\n",
            "Episode: 25, Step: 150, Reward mean: 14.92, Reward std: 0.00, Loss: 0.2720, Eps: 0.402\n",
            "Episode: 26, Step: 155, Reward mean: 14.92, Reward std: 0.00, Loss: 0.2615, Eps: 0.38239999999999996\n",
            "Episode: 27, Step: 160, Reward mean: 14.92, Reward std: 0.00, Loss: 0.2520, Eps: 0.3627999999999999\n",
            "Episode: 28, Step: 165, Reward mean: 14.92, Reward std: 0.00, Loss: 0.2429, Eps: 0.34320000000000006\n",
            "Episode: 29, Step: 170, Reward mean: 11.08, Reward std: 0.00, Loss: 0.2354, Eps: 0.3236\n",
            "Episode: 30, Step: 175, Reward mean: 11.08, Reward std: 0.00, Loss: 0.2282, Eps: 0.30399999999999994\n",
            "Episode: 31, Step: 180, Reward mean: 11.08, Reward std: 0.00, Loss: 0.2216, Eps: 0.2844\n",
            "Episode: 32, Step: 185, Reward mean: 11.08, Reward std: 0.00, Loss: 0.2152, Eps: 0.26480000000000004\n",
            "Episode: 33, Step: 190, Reward mean: 11.08, Reward std: 0.00, Loss: 0.2096, Eps: 0.24520000000000008\n",
            "Episode: 34, Step: 195, Reward mean: 11.08, Reward std: 0.00, Loss: 0.2042, Eps: 0.22560000000000002\n",
            "Episode: 35, Step: 200, Reward mean: 11.08, Reward std: 0.00, Loss: 0.1994, Eps: 0.20599999999999996\n",
            "Episode: 36, Step: 205, Reward mean: 11.08, Reward std: 0.00, Loss: 0.1951, Eps: 0.1864\n",
            "Episode: 37, Step: 210, Reward mean: 11.08, Reward std: 0.00, Loss: 0.1909, Eps: 0.16680000000000006\n",
            "Episode: 38, Step: 215, Reward mean: 11.08, Reward std: 0.00, Loss: 0.1867, Eps: 0.1472\n",
            "Episode: 39, Step: 220, Reward mean: 11.08, Reward std: 0.00, Loss: 0.1832, Eps: 0.12760000000000005\n",
            "Episode: 40, Step: 225, Reward mean: 11.08, Reward std: 0.00, Loss: 0.1798, Eps: 0.10799999999999998\n",
            "Episode: 41, Step: 230, Reward mean: 11.08, Reward std: 0.00, Loss: 0.1770, Eps: 0.08839999999999992\n",
            "Episode: 42, Step: 235, Reward mean: 11.08, Reward std: 0.00, Loss: 0.1746, Eps: 0.06880000000000008\n",
            "Episode: 43, Step: 240, Reward mean: 11.08, Reward std: 0.00, Loss: 0.1723, Eps: 0.04920000000000002\n",
            "Episode: 44, Step: 245, Reward mean: 11.08, Reward std: 0.00, Loss: 0.1701, Eps: 0.02959999999999996\n",
            "Episode: 45, Step: 250, Reward mean: 11.08, Reward std: 0.00, Loss: 0.1689, Eps: 0.010000000000000009\n",
            "Episode: 3, Step: 35, Reward mean: 10.75, Reward std: 0.00, Loss: 0.6890, Eps: 0.8528\n",
            "Episode: 4, Step: 40, Reward mean: 10.75, Reward std: 0.00, Loss: 0.7174, Eps: 0.8331999999999999\n",
            "Episode: 5, Step: 45, Reward mean: 10.75, Reward std: 0.00, Loss: 0.7053, Eps: 0.8136\n",
            "Episode: 6, Step: 50, Reward mean: 10.75, Reward std: 0.00, Loss: 0.6538, Eps: 0.794\n",
            "Episode: 7, Step: 55, Reward mean: 10.75, Reward std: 0.00, Loss: 0.6084, Eps: 0.7744\n",
            "Episode: 8, Step: 60, Reward mean: 10.75, Reward std: 0.00, Loss: 0.5735, Eps: 0.7548\n",
            "Episode: 9, Step: 65, Reward mean: 10.75, Reward std: 0.00, Loss: 0.5692, Eps: 0.7352000000000001\n",
            "Episode: 10, Step: 70, Reward mean: 10.75, Reward std: 0.00, Loss: 0.5333, Eps: 0.7156\n",
            "Episode: 11, Step: 75, Reward mean: 10.75, Reward std: 0.00, Loss: 0.5090, Eps: 0.696\n",
            "Episode: 12, Step: 80, Reward mean: 10.75, Reward std: 0.00, Loss: 0.4800, Eps: 0.6763999999999999\n",
            "Episode: 13, Step: 85, Reward mean: 10.75, Reward std: 0.00, Loss: 0.4554, Eps: 0.6568\n",
            "Episode: 14, Step: 90, Reward mean: 10.75, Reward std: 0.00, Loss: 0.4231, Eps: 0.6372\n",
            "Episode: 15, Step: 95, Reward mean: 10.75, Reward std: 0.00, Loss: 0.3942, Eps: 0.6176\n",
            "Episode: 16, Step: 100, Reward mean: 10.75, Reward std: 0.00, Loss: 0.3714, Eps: 0.598\n",
            "Episode: 17, Step: 105, Reward mean: 10.75, Reward std: 0.00, Loss: 0.3484, Eps: 0.5784\n",
            "Episode: 18, Step: 110, Reward mean: 10.75, Reward std: 0.00, Loss: 0.3275, Eps: 0.5588\n",
            "Episode: 19, Step: 115, Reward mean: 11.08, Reward std: 0.00, Loss: 0.3091, Eps: 0.5391999999999999\n",
            "Episode: 20, Step: 120, Reward mean: 14.53, Reward std: 0.00, Loss: 0.2925, Eps: 0.5196000000000001\n",
            "Episode: 21, Step: 125, Reward mean: 14.69, Reward std: 0.00, Loss: 0.2776, Eps: 0.5\n",
            "Episode: 22, Step: 130, Reward mean: 14.92, Reward std: 0.00, Loss: 0.2648, Eps: 0.48040000000000005\n",
            "Episode: 23, Step: 135, Reward mean: 14.92, Reward std: 0.00, Loss: 0.2527, Eps: 0.4608\n",
            "Episode: 24, Step: 140, Reward mean: 14.92, Reward std: 0.00, Loss: 0.2414, Eps: 0.44120000000000004\n",
            "Episode: 25, Step: 145, Reward mean: 14.92, Reward std: 0.00, Loss: 0.2313, Eps: 0.4216\n",
            "Episode: 26, Step: 150, Reward mean: 14.92, Reward std: 0.00, Loss: 0.2222, Eps: 0.402\n",
            "Episode: 27, Step: 155, Reward mean: 14.92, Reward std: 0.00, Loss: 0.2136, Eps: 0.38239999999999996\n",
            "Episode: 28, Step: 160, Reward mean: 14.92, Reward std: 0.00, Loss: 0.2057, Eps: 0.3627999999999999\n",
            "Episode: 29, Step: 165, Reward mean: 11.52, Reward std: 0.00, Loss: 0.1988, Eps: 0.34320000000000006\n",
            "Episode: 30, Step: 170, Reward mean: 11.52, Reward std: 0.00, Loss: 0.1924, Eps: 0.3236\n",
            "Episode: 31, Step: 175, Reward mean: 11.52, Reward std: 0.00, Loss: 0.1866, Eps: 0.30399999999999994\n",
            "Episode: 32, Step: 180, Reward mean: 11.02, Reward std: 0.00, Loss: 0.1810, Eps: 0.2844\n",
            "Episode: 33, Step: 185, Reward mean: 11.08, Reward std: 0.00, Loss: 0.1766, Eps: 0.26480000000000004\n",
            "Episode: 34, Step: 190, Reward mean: 11.52, Reward std: 0.00, Loss: 0.1719, Eps: 0.24520000000000008\n",
            "Episode: 35, Step: 195, Reward mean: 11.52, Reward std: 0.00, Loss: 0.1677, Eps: 0.22560000000000002\n",
            "Episode: 36, Step: 200, Reward mean: 11.02, Reward std: 0.00, Loss: 0.1641, Eps: 0.20599999999999996\n",
            "Episode: 37, Step: 205, Reward mean: 11.52, Reward std: 0.00, Loss: 0.1610, Eps: 0.1864\n",
            "Episode: 38, Step: 210, Reward mean: 11.08, Reward std: 0.00, Loss: 0.1578, Eps: 0.16680000000000006\n",
            "Episode: 39, Step: 215, Reward mean: 11.08, Reward std: 0.00, Loss: 0.1550, Eps: 0.1472\n",
            "Episode: 40, Step: 220, Reward mean: 11.52, Reward std: 0.00, Loss: 0.1531, Eps: 0.12760000000000005\n",
            "Episode: 41, Step: 225, Reward mean: 14.92, Reward std: 0.00, Loss: 0.1515, Eps: 0.10799999999999998\n",
            "Episode: 42, Step: 230, Reward mean: 14.92, Reward std: 0.00, Loss: 0.1498, Eps: 0.08839999999999992\n",
            "Episode: 43, Step: 235, Reward mean: 14.92, Reward std: 0.00, Loss: 0.1479, Eps: 0.06880000000000008\n",
            "Episode: 44, Step: 240, Reward mean: 14.92, Reward std: 0.00, Loss: 0.1466, Eps: 0.04920000000000002\n",
            "Episode: 45, Step: 245, Reward mean: 14.92, Reward std: 0.00, Loss: 0.1454, Eps: 0.02959999999999996\n",
            "Episode: 46, Step: 250, Reward mean: 14.92, Reward std: 0.00, Loss: 0.1441, Eps: 0.010000000000000009\n",
            "Episode: 2, Step: 35, Reward mean: 14.92, Reward std: 0.00, Loss: 0.8098, Eps: 0.8528\n",
            "Episode: 3, Step: 40, Reward mean: 11.02, Reward std: 0.00, Loss: 0.7387, Eps: 0.8331999999999999\n",
            "Episode: 4, Step: 45, Reward mean: 11.08, Reward std: 0.00, Loss: 0.7008, Eps: 0.8136\n",
            "Episode: 5, Step: 50, Reward mean: 11.08, Reward std: 0.00, Loss: 0.6814, Eps: 0.794\n",
            "Episode: 6, Step: 55, Reward mean: 11.08, Reward std: 0.00, Loss: 0.6614, Eps: 0.7744\n",
            "Episode: 7, Step: 60, Reward mean: 11.08, Reward std: 0.00, Loss: 0.6147, Eps: 0.7548\n",
            "Episode: 8, Step: 65, Reward mean: 11.08, Reward std: 0.00, Loss: 0.5822, Eps: 0.7352000000000001\n",
            "Episode: 9, Step: 70, Reward mean: 11.08, Reward std: 0.00, Loss: 0.5478, Eps: 0.7156\n",
            "Episode: 10, Step: 75, Reward mean: 11.08, Reward std: 0.00, Loss: 0.5043, Eps: 0.696\n",
            "Episode: 11, Step: 80, Reward mean: 11.08, Reward std: 0.00, Loss: 0.4718, Eps: 0.6763999999999999\n",
            "Episode: 12, Step: 85, Reward mean: 11.08, Reward std: 0.00, Loss: 0.4458, Eps: 0.6568\n",
            "Episode: 13, Step: 90, Reward mean: 11.08, Reward std: 0.00, Loss: 0.4176, Eps: 0.6372\n",
            "Episode: 14, Step: 95, Reward mean: 11.08, Reward std: 0.00, Loss: 0.3889, Eps: 0.6176\n",
            "Episode: 15, Step: 100, Reward mean: 11.08, Reward std: 0.00, Loss: 0.3634, Eps: 0.598\n",
            "Episode: 16, Step: 105, Reward mean: 14.92, Reward std: 0.00, Loss: 0.3408, Eps: 0.5784\n",
            "Episode: 17, Step: 110, Reward mean: 14.92, Reward std: 0.00, Loss: 0.3206, Eps: 0.5588\n",
            "Episode: 18, Step: 115, Reward mean: 14.92, Reward std: 0.00, Loss: 0.3024, Eps: 0.5391999999999999\n",
            "Episode: 19, Step: 120, Reward mean: 14.92, Reward std: 0.00, Loss: 0.2860, Eps: 0.5196000000000001\n",
            "Episode: 20, Step: 125, Reward mean: 14.92, Reward std: 0.00, Loss: 0.2716, Eps: 0.5\n",
            "Episode: 21, Step: 130, Reward mean: 14.92, Reward std: 0.00, Loss: 0.2587, Eps: 0.48040000000000005\n",
            "Episode: 22, Step: 135, Reward mean: 14.92, Reward std: 0.00, Loss: 0.2469, Eps: 0.4608\n",
            "Episode: 23, Step: 140, Reward mean: 14.92, Reward std: 0.00, Loss: 0.2365, Eps: 0.44120000000000004\n",
            "Episode: 24, Step: 145, Reward mean: 14.92, Reward std: 0.00, Loss: 0.2266, Eps: 0.4216\n",
            "Episode: 25, Step: 150, Reward mean: 14.92, Reward std: 0.00, Loss: 0.2177, Eps: 0.402\n",
            "Episode: 26, Step: 155, Reward mean: 14.92, Reward std: 0.00, Loss: 0.2098, Eps: 0.38239999999999996\n",
            "Episode: 27, Step: 160, Reward mean: 10.75, Reward std: 0.00, Loss: 0.2022, Eps: 0.3627999999999999\n",
            "Episode: 28, Step: 165, Reward mean: 11.08, Reward std: 0.00, Loss: 0.1954, Eps: 0.34320000000000006\n",
            "Episode: 29, Step: 170, Reward mean: 11.08, Reward std: 0.00, Loss: 0.1894, Eps: 0.3236\n",
            "Episode: 30, Step: 175, Reward mean: 11.08, Reward std: 0.00, Loss: 0.1836, Eps: 0.30399999999999994\n",
            "Episode: 31, Step: 180, Reward mean: 11.08, Reward std: 0.00, Loss: 0.1781, Eps: 0.2844\n",
            "Episode: 32, Step: 185, Reward mean: 11.08, Reward std: 0.00, Loss: 0.1733, Eps: 0.26480000000000004\n",
            "Episode: 33, Step: 190, Reward mean: 11.08, Reward std: 0.00, Loss: 0.1692, Eps: 0.24520000000000008\n",
            "Episode: 34, Step: 195, Reward mean: 11.08, Reward std: 0.00, Loss: 0.1655, Eps: 0.22560000000000002\n",
            "Episode: 35, Step: 200, Reward mean: 11.08, Reward std: 0.00, Loss: 0.1617, Eps: 0.20599999999999996\n",
            "Episode: 36, Step: 205, Reward mean: 11.08, Reward std: 0.00, Loss: 0.1583, Eps: 0.1864\n",
            "Episode: 37, Step: 210, Reward mean: 11.08, Reward std: 0.00, Loss: 0.1557, Eps: 0.16680000000000006\n",
            "Episode: 38, Step: 215, Reward mean: 11.08, Reward std: 0.00, Loss: 0.1531, Eps: 0.1472\n",
            "Episode: 39, Step: 220, Reward mean: 11.08, Reward std: 0.00, Loss: 0.1505, Eps: 0.12760000000000005\n",
            "Episode: 40, Step: 225, Reward mean: 11.08, Reward std: 0.00, Loss: 0.1482, Eps: 0.10799999999999998\n",
            "Episode: 41, Step: 230, Reward mean: 11.08, Reward std: 0.00, Loss: 0.1461, Eps: 0.08839999999999992\n",
            "Episode: 42, Step: 235, Reward mean: 11.08, Reward std: 0.00, Loss: 0.1447, Eps: 0.06880000000000008\n",
            "Episode: 43, Step: 240, Reward mean: 11.08, Reward std: 0.00, Loss: 0.1437, Eps: 0.04920000000000002\n",
            "Episode: 44, Step: 245, Reward mean: 11.08, Reward std: 0.00, Loss: 0.1429, Eps: 0.02959999999999996\n",
            "Episode: 45, Step: 250, Reward mean: 11.08, Reward std: 0.00, Loss: 0.1419, Eps: 0.010000000000000009\n",
            "Episode: 2, Step: 35, Reward mean: 11.08, Reward std: 0.00, Loss: 0.7058, Eps: 0.8528\n",
            "Episode: 3, Step: 40, Reward mean: 11.08, Reward std: 0.00, Loss: 0.7022, Eps: 0.8331999999999999\n",
            "Episode: 4, Step: 45, Reward mean: 11.08, Reward std: 0.00, Loss: 0.6639, Eps: 0.8136\n",
            "Episode: 5, Step: 50, Reward mean: 11.08, Reward std: 0.00, Loss: 0.6345, Eps: 0.794\n",
            "Episode: 6, Step: 55, Reward mean: 11.08, Reward std: 0.00, Loss: 0.6083, Eps: 0.7744\n",
            "Episode: 7, Step: 60, Reward mean: 11.08, Reward std: 0.00, Loss: 0.6001, Eps: 0.7548\n",
            "Episode: 8, Step: 65, Reward mean: 11.08, Reward std: 0.00, Loss: 0.5495, Eps: 0.7352000000000001\n",
            "Episode: 9, Step: 70, Reward mean: 11.08, Reward std: 0.00, Loss: 0.4930, Eps: 0.7156\n",
            "Episode: 10, Step: 75, Reward mean: 11.08, Reward std: 0.00, Loss: 0.4516, Eps: 0.696\n",
            "Episode: 11, Step: 80, Reward mean: 11.08, Reward std: 0.00, Loss: 0.4261, Eps: 0.6763999999999999\n",
            "Episode: 12, Step: 85, Reward mean: 11.08, Reward std: 0.00, Loss: 0.3952, Eps: 0.6568\n",
            "Episode: 13, Step: 90, Reward mean: 11.08, Reward std: 0.00, Loss: 0.3723, Eps: 0.6372\n",
            "Episode: 14, Step: 95, Reward mean: 11.08, Reward std: 0.00, Loss: 0.3545, Eps: 0.6176\n",
            "Episode: 15, Step: 100, Reward mean: 11.08, Reward std: 0.00, Loss: 0.3311, Eps: 0.598\n",
            "Episode: 16, Step: 105, Reward mean: 11.08, Reward std: 0.00, Loss: 0.3130, Eps: 0.5784\n",
            "Episode: 17, Step: 110, Reward mean: 11.08, Reward std: 0.00, Loss: 0.2936, Eps: 0.5588\n",
            "Episode: 18, Step: 115, Reward mean: 11.25, Reward std: 0.00, Loss: 0.2780, Eps: 0.5391999999999999\n",
            "Episode: 19, Step: 120, Reward mean: 11.17, Reward std: 0.00, Loss: 0.2628, Eps: 0.5196000000000001\n",
            "Episode: 20, Step: 125, Reward mean: 11.25, Reward std: 0.00, Loss: 0.2491, Eps: 0.5\n",
            "Episode: 21, Step: 130, Reward mean: 11.08, Reward std: 0.00, Loss: 0.2367, Eps: 0.48040000000000005\n",
            "Episode: 22, Step: 135, Reward mean: 11.08, Reward std: 0.00, Loss: 0.2261, Eps: 0.4608\n",
            "Episode: 23, Step: 140, Reward mean: 11.08, Reward std: 0.00, Loss: 0.2169, Eps: 0.44120000000000004\n",
            "Episode: 24, Step: 145, Reward mean: 11.08, Reward std: 0.00, Loss: 0.2078, Eps: 0.4216\n",
            "Episode: 25, Step: 150, Reward mean: 11.08, Reward std: 0.00, Loss: 0.1994, Eps: 0.402\n",
            "Episode: 26, Step: 155, Reward mean: 11.08, Reward std: 0.00, Loss: 0.1917, Eps: 0.38239999999999996\n",
            "Episode: 27, Step: 160, Reward mean: 11.08, Reward std: 0.00, Loss: 0.1848, Eps: 0.3627999999999999\n",
            "Episode: 28, Step: 165, Reward mean: 11.08, Reward std: 0.00, Loss: 0.1785, Eps: 0.34320000000000006\n",
            "Episode: 29, Step: 170, Reward mean: 11.08, Reward std: 0.00, Loss: 0.1724, Eps: 0.3236\n",
            "Episode: 30, Step: 175, Reward mean: 11.08, Reward std: 0.00, Loss: 0.1670, Eps: 0.30399999999999994\n",
            "Episode: 31, Step: 180, Reward mean: 11.08, Reward std: 0.00, Loss: 0.1620, Eps: 0.2844\n",
            "Episode: 32, Step: 185, Reward mean: 11.08, Reward std: 0.00, Loss: 0.1576, Eps: 0.26480000000000004\n",
            "Episode: 33, Step: 190, Reward mean: 11.08, Reward std: 0.00, Loss: 0.1536, Eps: 0.24520000000000008\n",
            "Episode: 34, Step: 195, Reward mean: 11.08, Reward std: 0.00, Loss: 0.1500, Eps: 0.22560000000000002\n",
            "Episode: 35, Step: 200, Reward mean: 11.08, Reward std: 0.00, Loss: 0.1465, Eps: 0.20599999999999996\n",
            "Episode: 36, Step: 205, Reward mean: 11.08, Reward std: 0.00, Loss: 0.1433, Eps: 0.1864\n",
            "Episode: 37, Step: 210, Reward mean: 11.08, Reward std: 0.00, Loss: 0.1403, Eps: 0.16680000000000006\n",
            "Episode: 38, Step: 215, Reward mean: 14.92, Reward std: 0.00, Loss: 0.1378, Eps: 0.1472\n",
            "Episode: 39, Step: 220, Reward mean: 14.92, Reward std: 0.00, Loss: 0.1352, Eps: 0.12760000000000005\n",
            "Episode: 40, Step: 225, Reward mean: 14.92, Reward std: 0.00, Loss: 0.1330, Eps: 0.10799999999999998\n",
            "Episode: 41, Step: 230, Reward mean: 14.92, Reward std: 0.00, Loss: 0.1313, Eps: 0.08839999999999992\n",
            "Episode: 42, Step: 235, Reward mean: 14.92, Reward std: 0.00, Loss: 0.1294, Eps: 0.06880000000000008\n",
            "Episode: 43, Step: 240, Reward mean: 11.08, Reward std: 0.00, Loss: 0.1279, Eps: 0.04920000000000002\n",
            "Episode: 44, Step: 245, Reward mean: 11.08, Reward std: 0.00, Loss: 0.1268, Eps: 0.02959999999999996\n",
            "Episode: 45, Step: 250, Reward mean: 11.08, Reward std: 0.00, Loss: 0.1261, Eps: 0.010000000000000009\n",
            "Episode: 2, Step: 35, Reward mean: 11.08, Reward std: 0.00, Loss: 0.8172, Eps: 0.8528\n",
            "Episode: 3, Step: 40, Reward mean: 11.08, Reward std: 0.00, Loss: 0.8288, Eps: 0.8331999999999999\n",
            "Episode: 4, Step: 45, Reward mean: 11.08, Reward std: 0.00, Loss: 0.7479, Eps: 0.8136\n",
            "Episode: 5, Step: 50, Reward mean: 11.08, Reward std: 0.00, Loss: 0.6639, Eps: 0.794\n",
            "Episode: 6, Step: 55, Reward mean: 11.08, Reward std: 0.00, Loss: 0.6150, Eps: 0.7744\n",
            "Episode: 7, Step: 60, Reward mean: 11.08, Reward std: 0.00, Loss: 0.6100, Eps: 0.7548\n",
            "Episode: 8, Step: 65, Reward mean: 11.08, Reward std: 0.00, Loss: 0.5662, Eps: 0.7352000000000001\n",
            "Episode: 9, Step: 70, Reward mean: 11.08, Reward std: 0.00, Loss: 0.5291, Eps: 0.7156\n",
            "Episode: 10, Step: 75, Reward mean: 11.08, Reward std: 0.00, Loss: 0.4900, Eps: 0.696\n",
            "Episode: 11, Step: 80, Reward mean: 11.08, Reward std: 0.00, Loss: 0.4464, Eps: 0.6763999999999999\n",
            "Episode: 12, Step: 85, Reward mean: 11.08, Reward std: 0.00, Loss: 0.4129, Eps: 0.6568\n",
            "Episode: 13, Step: 90, Reward mean: 11.08, Reward std: 0.00, Loss: 0.3825, Eps: 0.6372\n",
            "Episode: 14, Step: 95, Reward mean: 11.08, Reward std: 0.00, Loss: 0.3603, Eps: 0.6176\n",
            "Episode: 15, Step: 100, Reward mean: 11.08, Reward std: 0.00, Loss: 0.3395, Eps: 0.598\n",
            "Episode: 16, Step: 105, Reward mean: 11.08, Reward std: 0.00, Loss: 0.3191, Eps: 0.5784\n",
            "Episode: 17, Step: 110, Reward mean: 11.08, Reward std: 0.00, Loss: 0.3001, Eps: 0.5588\n",
            "Episode: 18, Step: 115, Reward mean: 11.08, Reward std: 0.00, Loss: 0.2844, Eps: 0.5391999999999999\n",
            "Episode: 19, Step: 120, Reward mean: 11.08, Reward std: 0.00, Loss: 0.2697, Eps: 0.5196000000000001\n",
            "Episode: 20, Step: 125, Reward mean: 11.08, Reward std: 0.00, Loss: 0.2562, Eps: 0.5\n",
            "Episode: 21, Step: 130, Reward mean: 11.08, Reward std: 0.00, Loss: 0.2444, Eps: 0.48040000000000005\n",
            "Episode: 22, Step: 135, Reward mean: 11.08, Reward std: 0.00, Loss: 0.2335, Eps: 0.4608\n",
            "Episode: 23, Step: 140, Reward mean: 11.08, Reward std: 0.00, Loss: 0.2231, Eps: 0.44120000000000004\n",
            "Episode: 24, Step: 145, Reward mean: 11.08, Reward std: 0.00, Loss: 0.2140, Eps: 0.4216\n",
            "Episode: 25, Step: 150, Reward mean: 11.08, Reward std: 0.00, Loss: 0.2054, Eps: 0.402\n",
            "Episode: 26, Step: 155, Reward mean: 11.08, Reward std: 0.00, Loss: 0.1976, Eps: 0.38239999999999996\n",
            "Episode: 27, Step: 160, Reward mean: 11.08, Reward std: 0.00, Loss: 0.1904, Eps: 0.3627999999999999\n",
            "Episode: 28, Step: 165, Reward mean: 11.08, Reward std: 0.00, Loss: 0.1837, Eps: 0.34320000000000006\n",
            "Episode: 29, Step: 170, Reward mean: 11.08, Reward std: 0.00, Loss: 0.1776, Eps: 0.3236\n",
            "Episode: 30, Step: 175, Reward mean: 11.08, Reward std: 0.00, Loss: 0.1719, Eps: 0.30399999999999994\n",
            "Episode: 31, Step: 180, Reward mean: 11.08, Reward std: 0.00, Loss: 0.1664, Eps: 0.2844\n",
            "Episode: 32, Step: 185, Reward mean: 11.08, Reward std: 0.00, Loss: 0.1614, Eps: 0.26480000000000004\n",
            "Episode: 33, Step: 190, Reward mean: 11.08, Reward std: 0.00, Loss: 0.1567, Eps: 0.24520000000000008\n",
            "Episode: 34, Step: 195, Reward mean: 11.08, Reward std: 0.00, Loss: 0.1524, Eps: 0.22560000000000002\n",
            "Episode: 35, Step: 200, Reward mean: 11.08, Reward std: 0.00, Loss: 0.1487, Eps: 0.20599999999999996\n",
            "Episode: 36, Step: 205, Reward mean: 11.08, Reward std: 0.00, Loss: 0.1451, Eps: 0.1864\n",
            "Episode: 37, Step: 210, Reward mean: 7.97, Reward std: 0.00, Loss: 0.1419, Eps: 0.16680000000000006\n",
            "Episode: 38, Step: 215, Reward mean: 7.92, Reward std: 0.00, Loss: 0.1388, Eps: 0.1472\n",
            "Episode: 39, Step: 220, Reward mean: 11.08, Reward std: 0.00, Loss: 0.1359, Eps: 0.12760000000000005\n",
            "Episode: 40, Step: 225, Reward mean: 11.08, Reward std: 0.00, Loss: 0.1331, Eps: 0.10799999999999998\n",
            "Episode: 41, Step: 230, Reward mean: 11.08, Reward std: 0.00, Loss: 0.1304, Eps: 0.08839999999999992\n",
            "Episode: 42, Step: 235, Reward mean: 11.08, Reward std: 0.00, Loss: 0.1278, Eps: 0.06880000000000008\n",
            "Episode: 43, Step: 240, Reward mean: 11.08, Reward std: 0.00, Loss: 0.1259, Eps: 0.04920000000000002\n",
            "Episode: 44, Step: 245, Reward mean: 11.08, Reward std: 0.00, Loss: 0.1238, Eps: 0.02959999999999996\n",
            "Episode: 45, Step: 250, Reward mean: 11.08, Reward std: 0.00, Loss: 0.1217, Eps: 0.010000000000000009\n"
          ]
        }
      ]
    },
    {
      "cell_type": "code",
      "source": [
        "mean_reward, agent1 = run_DeepQLearning_agent(_batch_size=32, reps = 1)"
      ],
      "metadata": {
        "colab": {
          "base_uri": "https://localhost:8080/"
        },
        "id": "EpL2gGnHG-2a",
        "outputId": "48f5d23f-3b32-4fc7-9bb9-ec1e7ce8de1e"
      },
      "id": "EpL2gGnHG-2a",
      "execution_count": null,
      "outputs": [
        {
          "output_type": "stream",
          "name": "stdout",
          "text": [
            "Episode 25\tAverage Reward: 11.00\tEpsilon: 0.47\n",
            "Episode 50\tAverage Reward: 13.72\tEpsilon: 0.22\n",
            "Episode 75\tAverage Reward: 13.53\tEpsilon: 0.10\n",
            "Episode 100\tAverage Reward: 13.25\tEpsilon: 0.05\n",
            "Episode 125\tAverage Reward: 14.97\tEpsilon: 0.02\n",
            "Episode 150\tAverage Reward: 14.33\tEpsilon: 0.01\n",
            "Episode 175\tAverage Reward: 10.75\tEpsilon: 0.01\n",
            "Episode 200\tAverage Reward: 14.92\tEpsilon: 0.01\n",
            "Episode 225\tAverage Reward: 11.08\tEpsilon: 0.01\n",
            "Episode 250\tAverage Reward: 14.92\tEpsilon: 0.01\n"
          ]
        }
      ]
    },
    {
      "cell_type": "code",
      "source": [
        "mean_priority_reward"
      ],
      "metadata": {
        "colab": {
          "base_uri": "https://localhost:8080/"
        },
        "id": "YRHo_U0cIDiB",
        "outputId": "3d0117ac-9ec6-4567-c1ef-637e7155576a"
      },
      "id": "YRHo_U0cIDiB",
      "execution_count": null,
      "outputs": [
        {
          "output_type": "execute_result",
          "data": {
            "text/plain": [
              "array([11.33081553, 10.13909417, 11.2974822 , 11.2974822 , 11.26137109,\n",
              "       10.88061371, 10.88061371, 10.88061371, 10.88061371, 10.88061371,\n",
              "       10.88061371, 10.88061371, 10.88061371, 10.88061371, 11.2174606 ,\n",
              "       11.30879514, 11.35899697, 11.74788586, 11.77010808, 11.8778844 ,\n",
              "       12.56177475, 12.99808768, 12.98697657, 12.98995618, 12.99551173,\n",
              "       12.54831833, 12.18899551, 11.81117232, 12.19470748, 12.14183845,\n",
              "       12.5423303 , 12.19718383, 11.85823813, 11.8084483 , 11.8778844 ,\n",
              "       11.50344141, 11.90086546, 11.85581859, 10.96999657, 11.7673303 ,\n",
              "       11.7673303 , 11.36414887, 11.36414887, 11.36414887])"
            ]
          },
          "metadata": {},
          "execution_count": 43
        }
      ]
    },
    {
      "cell_type": "code",
      "source": [
        "steps = np.arange(mean_priority_reward.shape[0]) * config[\"train\"][\"test_every\"]\n",
        "\n",
        "# mean_reward_ = np.convolve(np.mean(mean_reward, axis=0), np.ones(window_size)/window_size, mode='valid')\n",
        "# mean_reward_ = np.mean(mean_reward, axis=0)\n",
        "# ci1 = 1.96 * np.std(mean_reward_)/np.sqrt(len(mean_reward_))\n",
        "\n",
        "# plt.plot(steps, mean_reward_, label=\"Normal\")\n",
        "# plt.fill_between(steps, mean_reward - std_reward, mean_reward + std_reward, alpha=0.3)\n",
        "plt.plot(steps, mean_priority_reward, label=\"Prioritized\")\n",
        "# plt.fill_between(steps, mean_priority_reward - std_priority_reward, mean_priority_reward + std_priority_reward, alpha=0.3)\n",
        "\n",
        "plt.legend()\n",
        "plt.title(config[\"train\"][\"env_name\"])\n",
        "plt.xlabel(\"Transitions\")\n",
        "plt.ylabel(\"Reward\")\n",
        "plt.savefig(f\"{config['train']['env_name']}.jpg\", dpi=200, bbox_inches='tight')"
      ],
      "metadata": {
        "colab": {
          "base_uri": "https://localhost:8080/",
          "height": 295
        },
        "id": "6nPQKClrZWi-",
        "outputId": "db0a654f-9a0f-49b9-fa4d-a336112a1175"
      },
      "id": "6nPQKClrZWi-",
      "execution_count": null,
      "outputs": [
        {
          "output_type": "display_data",
          "data": {
            "text/plain": [
              "<Figure size 432x288 with 1 Axes>"
            ],
            "image/png": "[encoded data removed]"
          },
          "metadata": {
            "needs_background": "light"
          }
        }
      ]
    },
    {
      "cell_type": "code",
      "source": [],
      "metadata": {
        "id": "7R86ueAcz1QS"
      },
      "id": "7R86ueAcz1QS",
      "execution_count": null,
      "outputs": []
    }
  ],
  "metadata": {
    "accelerator": "GPU",
    "colab": {
      "provenance": [],
      "toc_visible": true
    },
    "gpuClass": "standard",
    "kernelspec": {
      "display_name": "Python 3",
      "language": "python",
      "name": "python3"
    },
    "language_info": {
      "codemirror_mode": {
        "name": "ipython",
        "version": 3
      },
      "file_extension": ".py",
      "mimetype": "text/x-python",
      "name": "python",
      "nbconvert_exporter": "python",
      "pygments_lexer": "ipython3",
      "version": "3.8.8"
    }
  },
  "nbformat": 4,
  "nbformat_minor": 5
}