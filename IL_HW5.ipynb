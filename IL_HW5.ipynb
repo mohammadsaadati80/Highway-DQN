{
 "cells": [
  {
   "cell_type": "markdown",
   "id": "ac1cb838",
   "metadata": {
    "id": "ac1cb838"
   },
   "source": [
    "<br><br>\n",
    "\n",
    "<font color=#191347 ><font>\n",
    "<p style = \"font-family:times;\">\n",
    "    <font size=\"7\">\n",
    "        Interactive Learning \n",
    "    </font>    \n",
    "</p>\n",
    "\n",
    "<br>\n",
    "    \n",
    "<font color=#ed1c24><font>\n",
    "<p style = \"font-family:optima;\">\n",
    "    <font size=\"6\">\n",
    "        Homework #5\n",
    "    </font>    \n",
    "<font color=#000000> <font>\n",
    "</p>\n",
    "\n",
    "> $\\textit{Mohammad Saadati - 810198410}$"
   ]
  },
  {
   "cell_type": "markdown",
   "id": "2ff047b5",
   "metadata": {
    "id": "2ff047b5"
   },
   "source": [
    "# Table of Contents\n",
    "\n",
    "- [Packages](#0)\n",
    "- [Part 1](#1)\n",
    "    - [States, Actions, Reward](#1-1)\n",
    "    - [Continuous & Discrete](#1-2)\n",
    "- [Part 2](#2)\n",
    "    - [Deep Q-Learning](#2-1)\n",
    "    - [Reward](#2-2)\n",
    "    - [Render](#2-3)\n",
    "    - [Hyperparameters](#2-4)\n",
    "- [Part 3](#3)\n",
    "    - [Result](#3-1)\n",
    "- [Part 4](#4)\n",
    "    - [Subsection 1](#4-1)\n",
    "    - [Subsection 2](#4-2)"
   ]
  },
  {
   "cell_type": "markdown",
   "id": "01beeea4",
   "metadata": {
    "id": "01beeea4"
   },
   "source": [
    "<a name='0'></a>\n",
    "## Packages\n",
    "\n",
    "Run the following cell to load the packages you'll need."
   ]
  },
  {
   "cell_type": "code",
   "execution_count": null,
   "id": "c241c39b",
   "metadata": {
    "colab": {
     "base_uri": "https://localhost:8080/"
    },
    "id": "c241c39b",
    "outputId": "feeb944e-55e0-4210-a11e-7be8626a60b0"
   },
   "outputs": [
    {
     "name": "stdout",
     "output_type": "stream",
     "text": [
      "Looking in indexes: https://pypi.org/simple, https://us-python.pkg.dev/colab-wheels/public/simple/\n",
      "Requirement already satisfied: gym in /usr/local/lib/python3.8/dist-packages (0.25.2)\n",
      "Requirement already satisfied: importlib-metadata>=4.8.0 in /usr/local/lib/python3.8/dist-packages (from gym) (6.0.0)\n",
      "Requirement already satisfied: numpy>=1.18.0 in /usr/local/lib/python3.8/dist-packages (from gym) (1.21.6)\n",
      "Requirement already satisfied: gym-notices>=0.0.4 in /usr/local/lib/python3.8/dist-packages (from gym) (0.0.8)\n",
      "Requirement already satisfied: cloudpickle>=1.2.0 in /usr/local/lib/python3.8/dist-packages (from gym) (2.2.0)\n",
      "Requirement already satisfied: zipp>=0.5 in /usr/local/lib/python3.8/dist-packages (from importlib-metadata>=4.8.0->gym) (3.11.0)\n",
      "Looking in indexes: https://pypi.org/simple, https://us-python.pkg.dev/colab-wheels/public/simple/\n",
      "Collecting highway-env\n",
      "  Downloading highway_env-1.7.1-py3-none-any.whl (103 kB)\n",
      "\u001b[2K     \u001b[90m━━━━━━━━━━━━━━━━━━━━━━━━━━━━━━━━━━━━━━━\u001b[0m \u001b[32m103.3/103.3 KB\u001b[0m \u001b[31m2.9 MB/s\u001b[0m eta \u001b[36m0:00:00\u001b[0m\n",
      "\u001b[?25hCollecting pygame>=2.0.2\n",
      "  Downloading pygame-2.1.2-cp38-cp38-manylinux_2_17_x86_64.manylinux2014_x86_64.whl (21.8 MB)\n",
      "\u001b[2K     \u001b[90m━━━━━━━━━━━━━━━━━━━━━━━━━━━━━━━━━━━━━━━━\u001b[0m \u001b[32m21.8/21.8 MB\u001b[0m \u001b[31m23.4 MB/s\u001b[0m eta \u001b[36m0:00:00\u001b[0m\n",
      "\u001b[?25hCollecting gym>=0.26\n",
      "  Downloading gym-0.26.2.tar.gz (721 kB)\n",
      "\u001b[2K     \u001b[90m━━━━━━━━━━━━━━━━━━━━━━━━━━━━━━━━━━━━━━\u001b[0m \u001b[32m721.7/721.7 KB\u001b[0m \u001b[31m33.0 MB/s\u001b[0m eta \u001b[36m0:00:00\u001b[0m\n",
      "\u001b[?25h  Installing build dependencies ... \u001b[?25l\u001b[?25hdone\n",
      "  Getting requirements to build wheel ... \u001b[?25l\u001b[?25hdone\n",
      "  Preparing metadata (pyproject.toml) ... \u001b[?25l\u001b[?25hdone\n",
      "Requirement already satisfied: numpy in /usr/local/lib/python3.8/dist-packages (from highway-env) (1.21.6)\n",
      "Requirement already satisfied: scipy in /usr/local/lib/python3.8/dist-packages (from highway-env) (1.7.3)\n",
      "Requirement already satisfied: matplotlib in /usr/local/lib/python3.8/dist-packages (from highway-env) (3.2.2)\n",
      "Requirement already satisfied: pandas in /usr/local/lib/python3.8/dist-packages (from highway-env) (1.3.5)\n",
      "Requirement already satisfied: gym-notices>=0.0.4 in /usr/local/lib/python3.8/dist-packages (from gym>=0.26->highway-env) (0.0.8)\n",
      "Requirement already satisfied: importlib-metadata>=4.8.0 in /usr/local/lib/python3.8/dist-packages (from gym>=0.26->highway-env) (6.0.0)\n",
      "Requirement already satisfied: cloudpickle>=1.2.0 in /usr/local/lib/python3.8/dist-packages (from gym>=0.26->highway-env) (2.2.0)\n",
      "Requirement already satisfied: pyparsing!=2.0.4,!=2.1.2,!=2.1.6,>=2.0.1 in /usr/local/lib/python3.8/dist-packages (from matplotlib->highway-env) (3.0.9)\n",
      "Requirement already satisfied: kiwisolver>=1.0.1 in /usr/local/lib/python3.8/dist-packages (from matplotlib->highway-env) (1.4.4)\n",
      "Requirement already satisfied: cycler>=0.10 in /usr/local/lib/python3.8/dist-packages (from matplotlib->highway-env) (0.11.0)\n",
      "Requirement already satisfied: python-dateutil>=2.1 in /usr/local/lib/python3.8/dist-packages (from matplotlib->highway-env) (2.8.2)\n",
      "Requirement already satisfied: pytz>=2017.3 in /usr/local/lib/python3.8/dist-packages (from pandas->highway-env) (2022.7)\n",
      "Requirement already satisfied: zipp>=0.5 in /usr/local/lib/python3.8/dist-packages (from importlib-metadata>=4.8.0->gym>=0.26->highway-env) (3.11.0)\n",
      "Requirement already satisfied: six>=1.5 in /usr/local/lib/python3.8/dist-packages (from python-dateutil>=2.1->matplotlib->highway-env) (1.15.0)\n",
      "Building wheels for collected packages: gym\n",
      "  Building wheel for gym (pyproject.toml) ... \u001b[?25l\u001b[?25hdone\n",
      "  Created wheel for gym: filename=gym-0.26.2-py3-none-any.whl size=827651 sha256=5c28bbd1e8a8f1ebfd7776a55720404eeb2d9b1bdb9a2f1f838ad29c8bf54741\n",
      "  Stored in directory: /root/.cache/pip/wheels/17/79/65/7afedc162d858b02708a3b8f7a6dd5b1000dcd5b0f894f7cc1\n",
      "Successfully built gym\n",
      "Installing collected packages: pygame, gym, highway-env\n",
      "  Attempting uninstall: gym\n",
      "    Found existing installation: gym 0.25.2\n",
      "    Uninstalling gym-0.25.2:\n",
      "      Successfully uninstalled gym-0.25.2\n",
      "Successfully installed gym-0.26.2 highway-env-1.7.1 pygame-2.1.2\n"
     ]
    }
   ],
   "source": [
    "! pip install gym\n",
    "! pip install highway-env\n",
    "import gym\n",
    "import highway_env\n",
    "\n",
    "import time\n",
    "import random\n",
    "from collections import namedtuple, deque\n",
    "import torch.nn as nn\n",
    "import torch.nn.functional as F\n",
    "import numpy as np\n",
    "import torch\n",
    "import torch.optim as optim"
   ]
  },
  {
   "cell_type": "code",
   "execution_count": null,
   "id": "IhtGxYu_0eOE",
   "metadata": {
    "id": "IhtGxYu_0eOE"
   },
   "outputs": [],
   "source": [
    "# !pip install pygame \n",
    "\n",
    "# import os\n",
    "# os.environ['SDL_VIDEODRIVER']='dummy'\n",
    "# import pygame\n",
    "# pygame.display.set_mode((640,480))"
   ]
  },
  {
   "cell_type": "markdown",
   "id": "d446a86e",
   "metadata": {
    "id": "d446a86e"
   },
   "source": [
    "<a name='1'></a>\n",
    "# Part 1"
   ]
  },
  {
   "cell_type": "code",
   "execution_count": null,
   "id": "39-12Gfp43ML",
   "metadata": {
    "colab": {
     "base_uri": "https://localhost:8080/"
    },
    "id": "39-12Gfp43ML",
    "outputId": "b66a1509-df97-4022-bb5b-231003a24726"
   },
   "outputs": [
    {
     "name": "stderr",
     "output_type": "stream",
     "text": [
      "/usr/local/lib/python3.8/dist-packages/gym/utils/passive_env_checker.py:31: UserWarning: \u001b[33mWARN: A Box observation space has an unconventional shape (neither an image, nor a 1D vector). We recommend flattening the observation to have only a 1D vector or use a custom policy to properly process the data. Actual observation shape: (5, 5)\u001b[0m\n",
      "  logger.warn(\n"
     ]
    },
    {
     "data": {
      "text/plain": [
       "(5, 5)"
      ]
     },
     "execution_count": 3,
     "metadata": {},
     "output_type": "execute_result"
    }
   ],
   "source": [
    "env = gym.make(\"highway-v0\")\n",
    "state_size = env.observation_space.shape[0]\n",
    "action_size = env.action_space.n\n",
    "state_size, action_size "
   ]
  },
  {
   "cell_type": "markdown",
   "id": "634e18a7",
   "metadata": {
    "id": "634e18a7"
   },
   "source": [
    "<a name='1-1'></a>\n",
    "## States, Actions, Reward"
   ]
  },
  {
   "cell_type": "code",
   "execution_count": null,
   "id": "a4b3b3d1",
   "metadata": {
    "colab": {
     "base_uri": "https://localhost:8080/"
    },
    "id": "a4b3b3d1",
    "outputId": "55193aac-7767-4180-ed0a-59d9c527c154"
   },
   "outputs": [
    {
     "data": {
      "text/plain": [
       "(array([[ 1.        ,  0.91715866,  0.        ,  0.3125    ,  0.        ],\n",
       "        [ 1.        ,  0.09712796,  0.        , -0.02975602,  0.        ],\n",
       "        [ 1.        ,  0.19952334,  0.5       , -0.03954718,  0.        ],\n",
       "        [ 1.        ,  0.31263483,  0.75      , -0.02641258,  0.        ],\n",
       "        [ 1.        ,  0.4187949 ,  0.75      , -0.04170297,  0.        ]],\n",
       "       dtype=float32),\n",
       " {'speed': 25,\n",
       "  'crashed': False,\n",
       "  'action': 1,\n",
       "  'rewards': {'collision_reward': 0.0,\n",
       "   'right_lane_reward': 0.0,\n",
       "   'high_speed_reward': 0.5,\n",
       "   'on_road_reward': 1.0}})"
      ]
     },
     "execution_count": 4,
     "metadata": {},
     "output_type": "execute_result"
    }
   ],
   "source": [
    "env.reset()"
   ]
  },
  {
   "cell_type": "code",
   "execution_count": null,
   "id": "nRvwFOWt_PZx",
   "metadata": {
    "id": "nRvwFOWt_PZx"
   },
   "outputs": [],
   "source": [
    "action = env.action_type.actions_indexes[\"IDLE\"]\n",
    "obs, reward, done, truncated, info = env.step(action)"
   ]
  },
  {
   "cell_type": "code",
   "execution_count": null,
   "id": "e3RWMAvb2pL5",
   "metadata": {
    "colab": {
     "base_uri": "https://localhost:8080/"
    },
    "id": "e3RWMAvb2pL5",
    "outputId": "afcc775a-81e9-40c6-d8d4-6d295b771385"
   },
   "outputs": [
    {
     "data": {
      "text/plain": [
       "array([[ 1.        ,  1.        ,  0.        ,  0.3125    ,  0.        ],\n",
       "       [ 1.        ,  0.08364468,  0.        , -0.03738364,  0.        ],\n",
       "       [ 1.        ,  0.18099219,  0.31924406, -0.04737249, -0.03517846],\n",
       "       [ 1.        ,  0.28822935,  0.75      , -0.0960104 ,  0.        ],\n",
       "       [ 1.        ,  0.3990892 ,  0.75      , -0.05733439,  0.        ]],\n",
       "      dtype=float32)"
      ]
     },
     "execution_count": 6,
     "metadata": {},
     "output_type": "execute_result"
    }
   ],
   "source": [
    "obs "
   ]
  },
  {
   "cell_type": "code",
   "execution_count": null,
   "id": "x6xSIHZlArjt",
   "metadata": {
    "colab": {
     "base_uri": "https://localhost:8080/"
    },
    "id": "x6xSIHZlArjt",
    "outputId": "b0f1aff4-af24-464c-e3ce-e9e06c16e81b"
   },
   "outputs": [
    {
     "data": {
      "text/plain": [
       "0.7999999999999999"
      ]
     },
     "execution_count": 7,
     "metadata": {},
     "output_type": "execute_result"
    }
   ],
   "source": [
    "reward"
   ]
  },
  {
   "cell_type": "code",
   "execution_count": null,
   "id": "hobor0AtAsuU",
   "metadata": {
    "colab": {
     "base_uri": "https://localhost:8080/"
    },
    "id": "hobor0AtAsuU",
    "outputId": "c2d3b471-d450-45df-8dff-e12af9d83e1b"
   },
   "outputs": [
    {
     "data": {
      "text/plain": [
       "False"
      ]
     },
     "execution_count": 8,
     "metadata": {},
     "output_type": "execute_result"
    }
   ],
   "source": [
    "done"
   ]
  },
  {
   "cell_type": "code",
   "execution_count": null,
   "id": "iPPcwIUAAtbc",
   "metadata": {
    "colab": {
     "base_uri": "https://localhost:8080/"
    },
    "id": "iPPcwIUAAtbc",
    "outputId": "d207c181-a8de-4583-835b-048bbae9ea7d"
   },
   "outputs": [
    {
     "data": {
      "text/plain": [
       "False"
      ]
     },
     "execution_count": 9,
     "metadata": {},
     "output_type": "execute_result"
    }
   ],
   "source": [
    "truncated"
   ]
  },
  {
   "cell_type": "code",
   "execution_count": null,
   "id": "cisnVh_gAzTJ",
   "metadata": {
    "colab": {
     "base_uri": "https://localhost:8080/"
    },
    "id": "cisnVh_gAzTJ",
    "outputId": "23ce1792-9acf-4f00-ac9c-9f1df293c665"
   },
   "outputs": [
    {
     "data": {
      "text/plain": [
       "{'speed': 25.0,\n",
       " 'crashed': False,\n",
       " 'action': 1,\n",
       " 'rewards': {'collision_reward': 0.0,\n",
       "  'right_lane_reward': 0.0,\n",
       "  'high_speed_reward': 0.5,\n",
       "  'on_road_reward': 1.0}}"
      ]
     },
     "execution_count": 10,
     "metadata": {},
     "output_type": "execute_result"
    }
   ],
   "source": [
    "info"
   ]
  },
  {
   "cell_type": "markdown",
   "id": "6b222752",
   "metadata": {
    "id": "6b222752"
   },
   "source": [
    "<a name='1-2'></a>\n",
    "## Continuous & Discrete"
   ]
  },
  {
   "cell_type": "code",
   "execution_count": null,
   "id": "a9dfb915",
   "metadata": {
    "colab": {
     "base_uri": "https://localhost:8080/"
    },
    "id": "a9dfb915",
    "outputId": "0fca491b-49dc-4b21-f932-b67fe6c51a21"
   },
   "outputs": [
    {
     "data": {
      "text/plain": [
       "Discrete(5)"
      ]
     },
     "execution_count": 11,
     "metadata": {},
     "output_type": "execute_result"
    }
   ],
   "source": [
    "env.action_space"
   ]
  },
  {
   "cell_type": "code",
   "execution_count": null,
   "id": "aP8bYKAb6W2H",
   "metadata": {
    "colab": {
     "base_uri": "https://localhost:8080/"
    },
    "id": "aP8bYKAb6W2H",
    "outputId": "1b91d10a-dc0d-46d7-f7a6-c5f22a44b46e"
   },
   "outputs": [
    {
     "data": {
      "text/plain": [
       "Box(-inf, inf, (5, 5), float32)"
      ]
     },
     "execution_count": 12,
     "metadata": {},
     "output_type": "execute_result"
    }
   ],
   "source": [
    "env.observation_space"
   ]
  },
  {
   "cell_type": "code",
   "execution_count": null,
   "id": "o_K0rUbi6fii",
   "metadata": {
    "colab": {
     "base_uri": "https://localhost:8080/"
    },
    "id": "o_K0rUbi6fii",
    "outputId": "de887adf-c828-497f-bd89-6aca779bcc17"
   },
   "outputs": [
    {
     "data": {
      "text/plain": [
       "5"
      ]
     },
     "execution_count": 13,
     "metadata": {},
     "output_type": "execute_result"
    }
   ],
   "source": [
    "env.observation_space.shape[0]"
   ]
  },
  {
   "cell_type": "markdown",
   "id": "47fefa1f",
   "metadata": {
    "id": "47fefa1f"
   },
   "source": [
    "<a name='2'></a>\n",
    "# Part 2"
   ]
  },
  {
   "cell_type": "code",
   "execution_count": null,
   "id": "11cb9225",
   "metadata": {
    "colab": {
     "base_uri": "https://localhost:8080/"
    },
    "id": "11cb9225",
    "outputId": "a59c152d-d9d1-4d92-e796-2322185412b5"
   },
   "outputs": [
    {
     "data": {
      "text/plain": [
       "device(type='cuda')"
      ]
     },
     "execution_count": 14,
     "metadata": {},
     "output_type": "execute_result"
    }
   ],
   "source": [
    "device = torch.device(\"cuda\" if torch.cuda.is_available() else \"cpu\")\n",
    "device"
   ]
  },
  {
   "cell_type": "code",
   "execution_count": null,
   "id": "HyqpEEa45feU",
   "metadata": {
    "colab": {
     "base_uri": "https://localhost:8080/"
    },
    "id": "HyqpEEa45feU",
    "outputId": "7e077ddc-d4e2-4a79-d2b7-e5c405dd43b7",
    "scrolled": true
   },
   "outputs": [
    {
     "name": "stdout",
     "output_type": "stream",
     "text": [
      "Mon Jan 16 15:31:18 2023       \n",
      "+-----------------------------------------------------------------------------+\n",
      "| NVIDIA-SMI 460.32.03    Driver Version: 460.32.03    CUDA Version: 11.2     |\n",
      "|-------------------------------+----------------------+----------------------+\n",
      "| GPU  Name        Persistence-M| Bus-Id        Disp.A | Volatile Uncorr. ECC |\n",
      "| Fan  Temp  Perf  Pwr:Usage/Cap|         Memory-Usage | GPU-Util  Compute M. |\n",
      "|                               |                      |               MIG M. |\n",
      "|===============================+======================+======================|\n",
      "|   0  Tesla T4            Off  | 00000000:00:04.0 Off |                    0 |\n",
      "| N/A   60C    P8    11W /  70W |      3MiB / 15109MiB |      0%      Default |\n",
      "|                               |                      |                  N/A |\n",
      "+-------------------------------+----------------------+----------------------+\n",
      "                                                                               \n",
      "+-----------------------------------------------------------------------------+\n",
      "| Processes:                                                                  |\n",
      "|  GPU   GI   CI        PID   Type   Process name                  GPU Memory |\n",
      "|        ID   ID                                                   Usage      |\n",
      "|=============================================================================|\n",
      "|  No running processes found                                                 |\n",
      "+-----------------------------------------------------------------------------+\n"
     ]
    }
   ],
   "source": [
    "!nvidia-smi"
   ]
  },
  {
   "cell_type": "markdown",
   "id": "1be50a22",
   "metadata": {
    "id": "1be50a22"
   },
   "source": [
    "<a name='2-1'></a>\n",
    "## Deep Q-Learning"
   ]
  },
  {
   "cell_type": "code",
   "execution_count": null,
   "id": "7a7e4427",
   "metadata": {
    "colab": {
     "base_uri": "https://localhost:8080/"
    },
    "id": "7a7e4427",
    "outputId": "d38930c7-059c-45aa-cd92-8500ad15f733"
   },
   "outputs": [
    {
     "data": {
      "text/plain": [
       "(5, 5)"
      ]
     },
     "execution_count": 23,
     "metadata": {},
     "output_type": "execute_result"
    }
   ],
   "source": [
    "env = gym.make(\"merge-v0\")\n",
    "state_size = env.observation_space.shape[0]\n",
    "action_size = env.action_space.n\n",
    "state_size, action_size "
   ]
  },
  {
   "cell_type": "code",
   "execution_count": null,
   "id": "nw8brpV17I4P",
   "metadata": {
    "id": "nw8brpV17I4P"
   },
   "outputs": [],
   "source": [
    "Transition = namedtuple('Transition', ('state', 'action', 'next_state', 'reward', 'done'))\n",
    "\n",
    "class ExperienceBuffer():\n",
    "    def __init__(self, capacity) -> None:\n",
    "        self.memory = deque([], maxlen=capacity)\n",
    "        \n",
    "    def __len__(self):\n",
    "        return len(self.memory)\n",
    "    \n",
    "    def store_transition(self, state, action, next_state, reward, done):\n",
    "        self.memory.append(Transition(state, action, next_state, reward, done))\n",
    "\n",
    "    def get_sample(self, batch_size):\n",
    "        return random.sample(self.memory, batch_size)  "
   ]
  },
  {
   "cell_type": "code",
   "execution_count": null,
   "id": "MLLrSFB37JG_",
   "metadata": {
    "id": "MLLrSFB37JG_"
   },
   "outputs": [],
   "source": [
    "class DQN(nn.Module):\n",
    "    def __init__(self, state_size, action_size) -> None:\n",
    "        super(DQN, self).__init__()\n",
    "        self.fc1 = nn.Linear(state_size, 512)\n",
    "        self.fc2 = nn.Linear(512, 512)\n",
    "        self.fc3 = nn.Linear(512, 512)\n",
    "        self.fc4 = nn.Linear(512, action_size)\n",
    "\n",
    "    def forward(self, x):\n",
    "        x = F.relu(self.fc1(x))\n",
    "        x = F.relu(self.fc2(x))\n",
    "        x = F.relu(self.fc3(x))\n",
    "        return self.fc4(x)"
   ]
  },
  {
   "cell_type": "code",
   "execution_count": null,
   "id": "f3MIqiyL7JUE",
   "metadata": {
    "id": "f3MIqiyL7JUE"
   },
   "outputs": [],
   "source": [
    "class DeepQLearning():\n",
    "    def __init__(self, state_size, action_size, batch_size, gamma=0.99, buffer_size=25000, alpha=1e-4):\n",
    "        self.state_size = state_size\n",
    "        self.action_size = action_size\n",
    "        self.batch_size = batch_size\n",
    "        self.gamma = gamma\n",
    "        self.experience_buffer = ExperienceBuffer(buffer_size)\n",
    "        self.value_network = DQN(state_size, action_size).to(device)\n",
    "        self.optimizer = optim.Adam(self.value_network.parameters(), lr=alpha)\n",
    "\n",
    "    def choose_action(self, state, epsilon=0.0):\n",
    "        state = torch.from_numpy(state).float().to(device)\n",
    "        if np.random.rand()<epsilon:\n",
    "            return torch.tensor([[np.random.randint(self.action_size)]])\n",
    "        else:\n",
    "            with torch.no_grad():\n",
    "                q_value = self.value_network(state)\n",
    "                return torch.argmax(q_value).view(1, 1) % self.action_size\n",
    "            \n",
    "    def get_sample_experiences(self):\n",
    "        batch = Transition(*zip(*self.experience_buffer.get_sample(self.batch_size)))\n",
    "        batch_state = torch.from_numpy(np.vstack(batch.state)).float().to(device)\n",
    "        batch_action = torch.tensor(np.vstack(batch.action)).long().to(device)\n",
    "        batch_next_state = torch.from_numpy(np.vstack(batch.next_state)).float().to(device)\n",
    "        batch_reward = torch.tensor(np.vstack(batch.reward)).float().to(device)\n",
    "        batch_done = torch.tensor(np.vstack(batch.done)).to(device)\n",
    "        return batch_state, batch_action, batch_next_state, batch_reward, batch_done\n",
    "    \n",
    "    def calculate_q_values(self, batch_state, batch_action, batch_next_state, batch_reward, batch_done):\n",
    "        q_values = self.value_network(batch_state).gather(1, batch_action)\n",
    "        next_q_values = self.value_network(batch_next_state).detach().max(1)[0].unsqueeze(1)\n",
    "        next_q_values = next_q_values[0:len(batch_done)]\n",
    "        next_q_values[batch_done] = 0.0\n",
    "        expected_q_values = batch_reward + (self.gamma * next_q_values)\n",
    "        return q_values, expected_q_values\n",
    "        \n",
    "    def compute_loss(self, q_values, expected_q_values):\n",
    "        loss = F.mse_loss(q_values, expected_q_values)\n",
    "        self.optimizer.zero_grad()\n",
    "        loss.backward()\n",
    "        self.optimizer.step()\n",
    "    \n",
    "    def learn(self):\n",
    "        if len(self.experience_buffer) < self.batch_size:\n",
    "            return\n",
    "        batch_state, batch_action, batch_next_state, batch_reward, batch_done = self.get_sample_experiences()\n",
    "        q_values, expected_q_values = self.calculate_q_values(batch_state, batch_action, batch_next_state, batch_reward, batch_done)\n",
    "        self.compute_loss(q_values, expected_q_values)    \n",
    "\n",
    "    def load(self, fname, device):\n",
    "        self.value_network.load_state_dict(torch.load(fname, map_location=torch.device(device)))"
   ]
  },
  {
   "cell_type": "code",
   "execution_count": null,
   "id": "eYjy7J7r7Jga",
   "metadata": {
    "id": "eYjy7J7r7Jga"
   },
   "outputs": [],
   "source": [
    "def run_DeepQLearning_agent(_batch_size, _agent=None, number_of_episodes=250, epsilon_decay_rate=0.97, reps=10):\n",
    "    epsilon_end = 0.01\n",
    "    optimal_agent = None\n",
    "    state_dict = None\n",
    "    cpp = None\n",
    "\n",
    "    cumulative_rewards = np.zeros((reps,number_of_episodes))\n",
    "    for rep in range(reps):\n",
    "        agent = _agent\n",
    "        if _agent == None:\n",
    "            agent = DeepQLearning(state_size, action_size, batch_size=_batch_size)\n",
    "        epsilon = 1.0\n",
    "        \n",
    "        for episode in range(number_of_episodes):\n",
    "            recent_cumulative_rewards = deque(maxlen=25)\n",
    "            # obs, info = S = env.reset()\n",
    "            state,_ = env.reset()\n",
    "            done = truncated = False\n",
    "            cumulative_reward = 0\n",
    "            while not (done or truncated):\n",
    "                action = agent.choose_action(state, epsilon).item()\n",
    "                obs, reward, done, truncated, info = env.step(action)\n",
    "                next_state, reward = obs, reward\n",
    "                agent.experience_buffer.store_transition(state, action, next_state, reward, done)\n",
    "                agent.learn()\n",
    "                state = next_state\n",
    "                cumulative_reward += reward\n",
    "            \n",
    "            cumulative_rewards[rep][episode]=cumulative_reward\n",
    "            recent_cumulative_rewards.append(cumulative_reward)\n",
    "            epsilon = max(epsilon_end, epsilon_decay_rate*epsilon)\n",
    "            print('\\rEpisode {}\\tAverage Reward: {:.2f}\\tEpsilon: {:.2f}'.format(episode+1, np.mean(recent_cumulative_rewards), epsilon), end=\"\")\n",
    "            if (episode+1) % 25 == 0:\n",
    "                print('\\rEpisode {}\\tAverage Reward: {:.2f}\\tEpsilon: {:.2f}'.format(episode+1, np.mean(recent_cumulative_rewards), epsilon))\n",
    "\n",
    "        cpp = 'dqn'+str(_batch_size) +'-checkpoint.pth'\n",
    "        state_dict = agent.value_network.state_dict()\n",
    "        torch.save(agent.value_network.state_dict(), cpp)\n",
    "        optimal_agent = agent\n",
    "\n",
    "    return cumulative_rewards, agent, state_dict, cpp"
   ]
  },
  {
   "cell_type": "markdown",
   "id": "ef9f603e",
   "metadata": {
    "id": "ef9f603e"
   },
   "source": [
    "<a name='2-2'></a>\n",
    "## Reward"
   ]
  },
  {
   "cell_type": "code",
   "execution_count": null,
   "id": "wEX8pFVy5Se3",
   "metadata": {
    "colab": {
     "base_uri": "https://localhost:8080/"
    },
    "id": "wEX8pFVy5Se3",
    "outputId": "96690a4c-8c6f-43cc-d033-756d515377a1"
   },
   "outputs": [
    {
     "name": "stdout",
     "output_type": "stream",
     "text": [
      "Episode 25\tAverage Reward: 14.17\tEpsilon: 0.47\n",
      "Episode 50\tAverage Reward: 14.22\tEpsilon: 0.22\n",
      "Episode 75\tAverage Reward: 11.08\tEpsilon: 0.10\n",
      "Episode 100\tAverage Reward: 9.72\tEpsilon: 0.05\n",
      "Episode 125\tAverage Reward: 11.08\tEpsilon: 0.02\n",
      "Episode 150\tAverage Reward: 14.92\tEpsilon: 0.01\n",
      "Episode 175\tAverage Reward: 12.05\tEpsilon: 0.01\n",
      "Episode 200\tAverage Reward: 14.11\tEpsilon: 0.01\n",
      "Episode 225\tAverage Reward: 14.92\tEpsilon: 0.01\n",
      "Episode 250\tAverage Reward: 14.92\tEpsilon: 0.01\n",
      "Episode 25\tAverage Reward: 10.94\tEpsilon: 0.47\n",
      "Episode 50\tAverage Reward: 10.86\tEpsilon: 0.22\n",
      "Episode 75\tAverage Reward: 11.11\tEpsilon: 0.10\n",
      "Episode 100\tAverage Reward: 11.08\tEpsilon: 0.05\n",
      "Episode 125\tAverage Reward: 11.08\tEpsilon: 0.02\n",
      "Episode 150\tAverage Reward: 14.92\tEpsilon: 0.01\n",
      "Episode 175\tAverage Reward: 14.42\tEpsilon: 0.01\n",
      "Episode 200\tAverage Reward: 14.92\tEpsilon: 0.01\n",
      "Episode 225\tAverage Reward: 11.08\tEpsilon: 0.01\n",
      "Episode 250\tAverage Reward: 12.61\tEpsilon: 0.01\n",
      "Episode 25\tAverage Reward: 9.33\tEpsilon: 0.47\n",
      "Episode 50\tAverage Reward: 14.61\tEpsilon: 0.22\n",
      "Episode 75\tAverage Reward: 14.11\tEpsilon: 0.10\n",
      "Episode 100\tAverage Reward: 11.08\tEpsilon: 0.05\n",
      "Episode 125\tAverage Reward: 14.92\tEpsilon: 0.02\n",
      "Episode 150\tAverage Reward: 10.75\tEpsilon: 0.01\n",
      "Episode 175\tAverage Reward: 14.92\tEpsilon: 0.01\n",
      "Episode 200\tAverage Reward: 14.14\tEpsilon: 0.01\n",
      "Episode 225\tAverage Reward: 14.58\tEpsilon: 0.01\n",
      "Episode 250\tAverage Reward: 14.92\tEpsilon: 0.01\n",
      "Episode 25\tAverage Reward: 10.56\tEpsilon: 0.47\n",
      "Episode 50\tAverage Reward: 10.09\tEpsilon: 0.22\n",
      "Episode 75\tAverage Reward: 11.02\tEpsilon: 0.10\n",
      "Episode 100\tAverage Reward: 11.02\tEpsilon: 0.05\n",
      "Episode 125\tAverage Reward: 10.77\tEpsilon: 0.02\n",
      "Episode 150\tAverage Reward: 10.80\tEpsilon: 0.01\n",
      "Episode 175\tAverage Reward: 11.08\tEpsilon: 0.01\n",
      "Episode 200\tAverage Reward: 11.08\tEpsilon: 0.01\n",
      "Episode 225\tAverage Reward: 10.75\tEpsilon: 0.01\n",
      "Episode 250\tAverage Reward: 11.08\tEpsilon: 0.01\n",
      "Episode 25\tAverage Reward: 8.80\tEpsilon: 0.47\n",
      "Episode 50\tAverage Reward: 8.03\tEpsilon: 0.22\n",
      "Episode 75\tAverage Reward: 10.80\tEpsilon: 0.10\n",
      "Episode 100\tAverage Reward: 14.19\tEpsilon: 0.05\n",
      "Episode 125\tAverage Reward: 14.97\tEpsilon: 0.02\n",
      "Episode 150\tAverage Reward: 14.92\tEpsilon: 0.01\n",
      "Episode 175\tAverage Reward: 11.08\tEpsilon: 0.01\n",
      "Episode 200\tAverage Reward: 11.02\tEpsilon: 0.01\n",
      "Episode 225\tAverage Reward: 14.92\tEpsilon: 0.01\n",
      "Episode 250\tAverage Reward: 14.92\tEpsilon: 0.01\n",
      "Episode 25\tAverage Reward: 12.19\tEpsilon: 0.47\n",
      "Episode 50\tAverage Reward: 10.23\tEpsilon: 0.22\n",
      "Episode 75\tAverage Reward: 11.00\tEpsilon: 0.10\n",
      "Episode 100\tAverage Reward: 11.33\tEpsilon: 0.05\n",
      "Episode 125\tAverage Reward: 10.75\tEpsilon: 0.02\n",
      "Episode 150\tAverage Reward: 10.75\tEpsilon: 0.01\n",
      "Episode 175\tAverage Reward: 11.08\tEpsilon: 0.01\n",
      "Episode 200\tAverage Reward: 10.89\tEpsilon: 0.01\n",
      "Episode 225\tAverage Reward: 10.75\tEpsilon: 0.01\n",
      "Episode 250\tAverage Reward: 10.75\tEpsilon: 0.01\n",
      "Episode 25\tAverage Reward: 5.64\tEpsilon: 0.47\n",
      "Episode 50\tAverage Reward: 12.22\tEpsilon: 0.22\n",
      "Episode 75\tAverage Reward: 11.30\tEpsilon: 0.10\n",
      "Episode 100\tAverage Reward: 11.08\tEpsilon: 0.05\n",
      "Episode 125\tAverage Reward: 14.78\tEpsilon: 0.02\n",
      "Episode 150\tAverage Reward: 14.92\tEpsilon: 0.01\n",
      "Episode 175\tAverage Reward: 10.91\tEpsilon: 0.01\n",
      "Episode 200\tAverage Reward: 10.86\tEpsilon: 0.01\n",
      "Episode 225\tAverage Reward: 11.08\tEpsilon: 0.01\n",
      "Episode 250\tAverage Reward: 10.91\tEpsilon: 0.01\n",
      "Episode 25\tAverage Reward: 11.17\tEpsilon: 0.47\n",
      "Episode 50\tAverage Reward: 14.97\tEpsilon: 0.22\n",
      "Episode 75\tAverage Reward: 11.02\tEpsilon: 0.10\n",
      "Episode 100\tAverage Reward: 11.02\tEpsilon: 0.05\n",
      "Episode 125\tAverage Reward: 11.02\tEpsilon: 0.02\n",
      "Episode 150\tAverage Reward: 10.97\tEpsilon: 0.01\n",
      "Episode 175\tAverage Reward: 14.11\tEpsilon: 0.01\n",
      "Episode 200\tAverage Reward: 10.77\tEpsilon: 0.01\n",
      "Episode 225\tAverage Reward: 14.25\tEpsilon: 0.01\n",
      "Episode 250\tAverage Reward: 10.69\tEpsilon: 0.01\n",
      "Episode 25\tAverage Reward: 3.03\tEpsilon: 0.47\n",
      "Episode 50\tAverage Reward: 10.86\tEpsilon: 0.22\n",
      "Episode 75\tAverage Reward: 13.78\tEpsilon: 0.10\n",
      "Episode 100\tAverage Reward: 10.83\tEpsilon: 0.05\n",
      "Episode 125\tAverage Reward: 14.92\tEpsilon: 0.02\n",
      "Episode 150\tAverage Reward: 14.78\tEpsilon: 0.01\n",
      "Episode 175\tAverage Reward: 14.97\tEpsilon: 0.01\n",
      "Episode 200\tAverage Reward: 14.89\tEpsilon: 0.01\n",
      "Episode 225\tAverage Reward: 10.83\tEpsilon: 0.01\n",
      "Episode 250\tAverage Reward: 10.55\tEpsilon: 0.01\n",
      "Episode 25\tAverage Reward: 14.30\tEpsilon: 0.47\n",
      "Episode 50\tAverage Reward: 13.17\tEpsilon: 0.22\n",
      "Episode 75\tAverage Reward: 14.94\tEpsilon: 0.10\n",
      "Episode 100\tAverage Reward: 14.92\tEpsilon: 0.05\n",
      "Episode 125\tAverage Reward: 14.19\tEpsilon: 0.02\n",
      "Episode 150\tAverage Reward: 14.92\tEpsilon: 0.01\n",
      "Episode 175\tAverage Reward: 14.92\tEpsilon: 0.01\n",
      "Episode 200\tAverage Reward: 11.08\tEpsilon: 0.01\n",
      "Episode 225\tAverage Reward: 14.92\tEpsilon: 0.01\n",
      "Episode 250\tAverage Reward: 14.92\tEpsilon: 0.01\n"
     ]
    }
   ],
   "source": [
    "crs1, agent1 = run_DeepQLearning_agent(_batch_size=32)"
   ]
  },
  {
   "cell_type": "code",
   "execution_count": null,
   "id": "sSDBuhf77U1H",
   "metadata": {
    "colab": {
     "base_uri": "https://localhost:8080/"
    },
    "id": "sSDBuhf77U1H",
    "outputId": "bacf2908-2938-4bb6-f61c-141f2324a67d"
   },
   "outputs": [
    {
     "name": "stdout",
     "output_type": "stream",
     "text": [
      "Episode 25\tAverage Reward: 12.03\tEpsilon: 0.47\n",
      "Episode 50\tAverage Reward: 7.83\tEpsilon: 0.22\n",
      "Episode 75\tAverage Reward: 10.64\tEpsilon: 0.10\n",
      "Episode 100\tAverage Reward: 14.72\tEpsilon: 0.05\n",
      "Episode 125\tAverage Reward: 10.86\tEpsilon: 0.02\n",
      "Episode 150\tAverage Reward: 13.53\tEpsilon: 0.01\n",
      "Episode 175\tAverage Reward: 11.08\tEpsilon: 0.01\n",
      "Episode 200\tAverage Reward: 11.08\tEpsilon: 0.01\n",
      "Episode 225\tAverage Reward: 14.92\tEpsilon: 0.01\n",
      "Episode 250\tAverage Reward: 11.27\tEpsilon: 0.01\n",
      "Episode 25\tAverage Reward: 10.97\tEpsilon: 0.47\n",
      "Episode 50\tAverage Reward: 11.02\tEpsilon: 0.22\n",
      "Episode 75\tAverage Reward: 14.78\tEpsilon: 0.10\n",
      "Episode 100\tAverage Reward: 13.39\tEpsilon: 0.05\n",
      "Episode 125\tAverage Reward: 14.92\tEpsilon: 0.02\n",
      "Episode 150\tAverage Reward: 14.92\tEpsilon: 0.01\n",
      "Episode 175\tAverage Reward: 14.92\tEpsilon: 0.01\n",
      "Episode 200\tAverage Reward: 11.08\tEpsilon: 0.01\n",
      "Episode 225\tAverage Reward: 14.92\tEpsilon: 0.01\n",
      "Episode 250\tAverage Reward: 14.92\tEpsilon: 0.01\n",
      "Episode 25\tAverage Reward: 3.00\tEpsilon: 0.47\n",
      "Episode 50\tAverage Reward: 11.05\tEpsilon: 0.22\n",
      "Episode 75\tAverage Reward: 14.25\tEpsilon: 0.10\n",
      "Episode 100\tAverage Reward: 14.67\tEpsilon: 0.05\n",
      "Episode 125\tAverage Reward: 10.64\tEpsilon: 0.02\n",
      "Episode 150\tAverage Reward: 11.08\tEpsilon: 0.01\n",
      "Episode 175\tAverage Reward: 14.92\tEpsilon: 0.01\n",
      "Episode 200\tAverage Reward: 10.88\tEpsilon: 0.01\n",
      "Episode 225\tAverage Reward: 14.92\tEpsilon: 0.01\n",
      "Episode 250\tAverage Reward: 13.22\tEpsilon: 0.01\n",
      "Episode 25\tAverage Reward: 11.00\tEpsilon: 0.47\n",
      "Episode 50\tAverage Reward: 14.86\tEpsilon: 0.22\n",
      "Episode 75\tAverage Reward: 10.92\tEpsilon: 0.10\n",
      "Episode 100\tAverage Reward: 10.64\tEpsilon: 0.05\n",
      "Episode 125\tAverage Reward: 10.80\tEpsilon: 0.02\n",
      "Episode 150\tAverage Reward: 10.75\tEpsilon: 0.01\n",
      "Episode 175\tAverage Reward: 14.92\tEpsilon: 0.01\n",
      "Episode 200\tAverage Reward: 14.92\tEpsilon: 0.01\n",
      "Episode 225\tAverage Reward: 11.08\tEpsilon: 0.01\n",
      "Episode 250\tAverage Reward: 14.92\tEpsilon: 0.01\n",
      "Episode 25\tAverage Reward: 11.00\tEpsilon: 0.47\n",
      "Episode 50\tAverage Reward: 9.95\tEpsilon: 0.22\n",
      "Episode 75\tAverage Reward: 11.08\tEpsilon: 0.10\n",
      "Episode 100\tAverage Reward: 10.75\tEpsilon: 0.05\n",
      "Episode 125\tAverage Reward: 11.08\tEpsilon: 0.02\n",
      "Episode 150\tAverage Reward: 9.83\tEpsilon: 0.01\n",
      "Episode 175\tAverage Reward: 11.08\tEpsilon: 0.01\n",
      "Episode 200\tAverage Reward: 10.83\tEpsilon: 0.01\n",
      "Episode 225\tAverage Reward: 11.08\tEpsilon: 0.01\n",
      "Episode 250\tAverage Reward: 11.05\tEpsilon: 0.01\n",
      "Episode 25\tAverage Reward: 11.25\tEpsilon: 0.47\n",
      "Episode 50\tAverage Reward: 5.19\tEpsilon: 0.22\n",
      "Episode 75\tAverage Reward: 14.94\tEpsilon: 0.10\n",
      "Episode 100\tAverage Reward: 11.52\tEpsilon: 0.05\n",
      "Episode 125\tAverage Reward: 12.86\tEpsilon: 0.02\n",
      "Episode 150\tAverage Reward: 14.89\tEpsilon: 0.01\n",
      "Episode 175\tAverage Reward: 14.92\tEpsilon: 0.01\n",
      "Episode 200\tAverage Reward: 10.64\tEpsilon: 0.01\n",
      "Episode 225\tAverage Reward: 10.80\tEpsilon: 0.01\n",
      "Episode 250\tAverage Reward: 9.86\tEpsilon: 0.01\n",
      "Episode 25\tAverage Reward: 10.80\tEpsilon: 0.47\n",
      "Episode 50\tAverage Reward: 12.53\tEpsilon: 0.22\n",
      "Episode 75\tAverage Reward: 10.69\tEpsilon: 0.10\n",
      "Episode 100\tAverage Reward: 10.77\tEpsilon: 0.05\n",
      "Episode 125\tAverage Reward: 11.58\tEpsilon: 0.02\n",
      "Episode 150\tAverage Reward: 14.92\tEpsilon: 0.01\n",
      "Episode 175\tAverage Reward: 10.75\tEpsilon: 0.01\n",
      "Episode 200\tAverage Reward: 14.92\tEpsilon: 0.01\n",
      "Episode 225\tAverage Reward: 10.97\tEpsilon: 0.01\n",
      "Episode 250\tAverage Reward: 14.50\tEpsilon: 0.01\n",
      "Episode 25\tAverage Reward: 9.70\tEpsilon: 0.47\n",
      "Episode 50\tAverage Reward: 13.86\tEpsilon: 0.22\n",
      "Episode 75\tAverage Reward: 12.67\tEpsilon: 0.10\n",
      "Episode 100\tAverage Reward: 6.61\tEpsilon: 0.05\n",
      "Episode 125\tAverage Reward: 11.14\tEpsilon: 0.02\n",
      "Episode 150\tAverage Reward: 13.08\tEpsilon: 0.01\n",
      "Episode 175\tAverage Reward: 10.97\tEpsilon: 0.01\n",
      "Episode 200\tAverage Reward: 11.08\tEpsilon: 0.01\n",
      "Episode 225\tAverage Reward: 11.44\tEpsilon: 0.01\n",
      "Episode 250\tAverage Reward: 14.25\tEpsilon: 0.01\n",
      "Episode 25\tAverage Reward: 10.56\tEpsilon: 0.47\n",
      "Episode 50\tAverage Reward: 14.97\tEpsilon: 0.22\n",
      "Episode 75\tAverage Reward: 11.02\tEpsilon: 0.10\n",
      "Episode 100\tAverage Reward: 11.08\tEpsilon: 0.05\n",
      "Episode 125\tAverage Reward: 11.08\tEpsilon: 0.02\n",
      "Episode 150\tAverage Reward: 12.86\tEpsilon: 0.01\n",
      "Episode 175\tAverage Reward: 10.72\tEpsilon: 0.01\n",
      "Episode 200\tAverage Reward: 11.58\tEpsilon: 0.01\n",
      "Episode 225\tAverage Reward: 14.92\tEpsilon: 0.01\n",
      "Episode 250\tAverage Reward: 14.92\tEpsilon: 0.01\n",
      "Episode 25\tAverage Reward: 11.53\tEpsilon: 0.47\n",
      "Episode 50\tAverage Reward: 10.97\tEpsilon: 0.22\n",
      "Episode 75\tAverage Reward: 11.00\tEpsilon: 0.10\n",
      "Episode 100\tAverage Reward: 10.83\tEpsilon: 0.05\n",
      "Episode 125\tAverage Reward: 10.75\tEpsilon: 0.02\n",
      "Episode 150\tAverage Reward: 11.08\tEpsilon: 0.01\n",
      "Episode 175\tAverage Reward: 9.86\tEpsilon: 0.01\n",
      "Episode 200\tAverage Reward: 13.67\tEpsilon: 0.01\n",
      "Episode 225\tAverage Reward: 4.86\tEpsilon: 0.01\n",
      "Episode 250\tAverage Reward: 10.77\tEpsilon: 0.01\n"
     ]
    }
   ],
   "source": [
    "crs2, agent2 = run_DeepQLearning_agent(_batch_size=64)"
   ]
  },
  {
   "cell_type": "code",
   "execution_count": null,
   "id": "X6WbtDmk7VDe",
   "metadata": {
    "colab": {
     "base_uri": "https://localhost:8080/"
    },
    "id": "X6WbtDmk7VDe",
    "outputId": "87410268-2958-40af-a4bf-28a4a9a53b88"
   },
   "outputs": [
    {
     "name": "stdout",
     "output_type": "stream",
     "text": [
      "Episode 25\tAverage Reward: 12.80\tEpsilon: 0.47\n",
      "Episode 50\tAverage Reward: 14.30\tEpsilon: 0.22\n",
      "Episode 75\tAverage Reward: 12.92\tEpsilon: 0.10\n",
      "Episode 100\tAverage Reward: 10.83\tEpsilon: 0.05\n",
      "Episode 125\tAverage Reward: 9.86\tEpsilon: 0.02\n",
      "Episode 150\tAverage Reward: 14.92\tEpsilon: 0.01\n",
      "Episode 175\tAverage Reward: 11.52\tEpsilon: 0.01\n",
      "Episode 200\tAverage Reward: 11.41\tEpsilon: 0.01\n",
      "Episode 225\tAverage Reward: 11.52\tEpsilon: 0.01\n",
      "Episode 250\tAverage Reward: 10.66\tEpsilon: 0.01\n",
      "Episode 25\tAverage Reward: 11.47\tEpsilon: 0.47\n",
      "Episode 50\tAverage Reward: 10.89\tEpsilon: 0.22\n",
      "Episode 75\tAverage Reward: 12.36\tEpsilon: 0.10\n",
      "Episode 100\tAverage Reward: 11.08\tEpsilon: 0.05\n",
      "Episode 125\tAverage Reward: 11.08\tEpsilon: 0.02\n",
      "Episode 150\tAverage Reward: 11.08\tEpsilon: 0.01\n",
      "Episode 175\tAverage Reward: 11.00\tEpsilon: 0.01\n",
      "Episode 200\tAverage Reward: 11.08\tEpsilon: 0.01\n",
      "Episode 225\tAverage Reward: 14.92\tEpsilon: 0.01\n",
      "Episode 250\tAverage Reward: 11.08\tEpsilon: 0.01\n",
      "Episode 25\tAverage Reward: 10.97\tEpsilon: 0.47\n",
      "Episode 50\tAverage Reward: 13.75\tEpsilon: 0.22\n",
      "Episode 75\tAverage Reward: 13.47\tEpsilon: 0.10\n",
      "Episode 100\tAverage Reward: 10.83\tEpsilon: 0.05\n",
      "Episode 125\tAverage Reward: 11.08\tEpsilon: 0.02\n",
      "Episode 150\tAverage Reward: 11.08\tEpsilon: 0.01\n",
      "Episode 175\tAverage Reward: 14.92\tEpsilon: 0.01\n",
      "Episode 200\tAverage Reward: 13.14\tEpsilon: 0.01\n",
      "Episode 225\tAverage Reward: 14.92\tEpsilon: 0.01\n",
      "Episode 250\tAverage Reward: 11.08\tEpsilon: 0.01\n",
      "Episode 25\tAverage Reward: 10.83\tEpsilon: 0.47\n",
      "Episode 50\tAverage Reward: 11.72\tEpsilon: 0.22\n",
      "Episode 75\tAverage Reward: 10.89\tEpsilon: 0.10\n",
      "Episode 100\tAverage Reward: 11.08\tEpsilon: 0.05\n",
      "Episode 125\tAverage Reward: 10.75\tEpsilon: 0.02\n",
      "Episode 150\tAverage Reward: 11.08\tEpsilon: 0.01\n",
      "Episode 175\tAverage Reward: 10.75\tEpsilon: 0.01\n",
      "Episode 200\tAverage Reward: 11.08\tEpsilon: 0.01\n",
      "Episode 225\tAverage Reward: 11.08\tEpsilon: 0.01\n",
      "Episode 250\tAverage Reward: 11.17\tEpsilon: 0.01\n",
      "Episode 25\tAverage Reward: 11.14\tEpsilon: 0.47\n",
      "Episode 50\tAverage Reward: 11.08\tEpsilon: 0.22\n",
      "Episode 75\tAverage Reward: 10.89\tEpsilon: 0.10\n",
      "Episode 100\tAverage Reward: 10.83\tEpsilon: 0.05\n",
      "Episode 125\tAverage Reward: 10.09\tEpsilon: 0.02\n",
      "Episode 150\tAverage Reward: 14.00\tEpsilon: 0.01\n",
      "Episode 175\tAverage Reward: 11.08\tEpsilon: 0.01\n",
      "Episode 200\tAverage Reward: 10.11\tEpsilon: 0.01\n",
      "Episode 225\tAverage Reward: 10.20\tEpsilon: 0.01\n",
      "Episode 250\tAverage Reward: 10.92\tEpsilon: 0.01\n",
      "Episode 25\tAverage Reward: 10.80\tEpsilon: 0.47\n",
      "Episode 50\tAverage Reward: 10.69\tEpsilon: 0.22\n",
      "Episode 75\tAverage Reward: 10.06\tEpsilon: 0.10\n",
      "Episode 100\tAverage Reward: 14.42\tEpsilon: 0.05\n",
      "Episode 125\tAverage Reward: 11.00\tEpsilon: 0.02\n",
      "Episode 150\tAverage Reward: 11.08\tEpsilon: 0.01\n",
      "Episode 175\tAverage Reward: 11.08\tEpsilon: 0.01\n",
      "Episode 200\tAverage Reward: 14.67\tEpsilon: 0.01\n",
      "Episode 225\tAverage Reward: 11.08\tEpsilon: 0.01\n",
      "Episode 250\tAverage Reward: 11.08\tEpsilon: 0.01\n",
      "Episode 25\tAverage Reward: 10.14\tEpsilon: 0.47\n",
      "Episode 50\tAverage Reward: 11.11\tEpsilon: 0.22\n",
      "Episode 75\tAverage Reward: 14.92\tEpsilon: 0.10\n",
      "Episode 100\tAverage Reward: 10.61\tEpsilon: 0.05\n",
      "Episode 125\tAverage Reward: 11.08\tEpsilon: 0.02\n",
      "Episode 150\tAverage Reward: 14.14\tEpsilon: 0.01\n",
      "Episode 175\tAverage Reward: 14.30\tEpsilon: 0.01\n",
      "Episode 200\tAverage Reward: 13.64\tEpsilon: 0.01\n",
      "Episode 225\tAverage Reward: 14.92\tEpsilon: 0.01\n",
      "Episode 250\tAverage Reward: 14.55\tEpsilon: 0.01\n",
      "Episode 25\tAverage Reward: 11.17\tEpsilon: 0.47\n",
      "Episode 50\tAverage Reward: 13.14\tEpsilon: 0.22\n",
      "Episode 75\tAverage Reward: 10.97\tEpsilon: 0.10\n",
      "Episode 100\tAverage Reward: 11.05\tEpsilon: 0.05\n",
      "Episode 125\tAverage Reward: 11.08\tEpsilon: 0.02\n",
      "Episode 150\tAverage Reward: 14.42\tEpsilon: 0.01\n",
      "Episode 175\tAverage Reward: 11.08\tEpsilon: 0.01\n",
      "Episode 200\tAverage Reward: 11.02\tEpsilon: 0.01\n",
      "Episode 225\tAverage Reward: 11.14\tEpsilon: 0.01\n",
      "Episode 250\tAverage Reward: 10.94\tEpsilon: 0.01\n",
      "Episode 25\tAverage Reward: 11.05\tEpsilon: 0.47\n",
      "Episode 50\tAverage Reward: 11.14\tEpsilon: 0.22\n",
      "Episode 75\tAverage Reward: 11.00\tEpsilon: 0.10\n",
      "Episode 100\tAverage Reward: 10.66\tEpsilon: 0.05\n",
      "Episode 125\tAverage Reward: 10.91\tEpsilon: 0.02\n",
      "Episode 150\tAverage Reward: 14.80\tEpsilon: 0.01\n",
      "Episode 175\tAverage Reward: 11.02\tEpsilon: 0.01\n",
      "Episode 200\tAverage Reward: 10.80\tEpsilon: 0.01\n",
      "Episode 225\tAverage Reward: 11.02\tEpsilon: 0.01\n",
      "Episode 250\tAverage Reward: 14.78\tEpsilon: 0.01\n",
      "Episode 25\tAverage Reward: 12.89\tEpsilon: 0.47\n",
      "Episode 50\tAverage Reward: 11.55\tEpsilon: 0.22\n",
      "Episode 75\tAverage Reward: 10.75\tEpsilon: 0.10\n",
      "Episode 100\tAverage Reward: 11.05\tEpsilon: 0.05\n",
      "Episode 125\tAverage Reward: 11.02\tEpsilon: 0.02\n",
      "Episode 150\tAverage Reward: 11.08\tEpsilon: 0.01\n",
      "Episode 175\tAverage Reward: 14.92\tEpsilon: 0.01\n",
      "Episode 200\tAverage Reward: 10.80\tEpsilon: 0.01\n",
      "Episode 225\tAverage Reward: 14.92\tEpsilon: 0.01\n",
      "Episode 250\tAverage Reward: 14.25\tEpsilon: 0.01\n"
     ]
    }
   ],
   "source": [
    " crs3, agent3 = run_DeepQLearning_agent(_batch_size=128)"
   ]
  },
  {
   "cell_type": "code",
   "execution_count": null,
   "id": "m1zsfku14Xrl",
   "metadata": {
    "colab": {
     "base_uri": "https://localhost:8080/",
     "height": 530
    },
    "id": "m1zsfku14Xrl",
    "outputId": "3bb5ea68-8565-491e-af32-411c8d81427d"
   },
   "outputs": [
    {
     "data": {
      "text/plain": [
       "<matplotlib.legend.Legend at 0x7fea60672340>"
      ]
     },
     "execution_count": 29,
     "metadata": {},
     "output_type": "execute_result"
    },
    {
     "data": {
      "image/png": "[encoded data removed]",
      "text/plain": [
       "<Figure size 720x576 with 1 Axes>"
      ]
     },
     "metadata": {
      "needs_background": "light"
     },
     "output_type": "display_data"
    }
   ],
   "source": [
    "import matplotlib.pyplot as plt\n",
    "import numpy as np\n",
    "import seaborn as sns\n",
    "\n",
    "window_size = 45\n",
    "cr1_ = np.convolve(np.mean(crs1, axis=0), np.ones(window_size)/window_size, mode='valid')\n",
    "cr2_ = np.convolve(np.mean(crs2, axis=0), np.ones(window_size)/window_size, mode='valid')\n",
    "cr3_ = np.convolve(np.mean(crs3, axis=0), np.ones(window_size)/window_size, mode='valid')\n",
    "ci1 = 1.96 * np.std(cr1_)/np.sqrt(len(cr1_))\n",
    "ci2 = 1.96 * np.std(cr2_)/np.sqrt(len(cr2_))\n",
    "ci3 = 1.96 * np.std(cr3_)/np.sqrt(len(cr3_))\n",
    "\n",
    "plt.figure(figsize=(10, 8))\n",
    "plt.title(\"merge-v0 - Batch Size Effect (window size:\"+str(window_size)+\")\")\n",
    "plt.plot(cr1_, label='batch size = 32')\n",
    "plt.plot(cr2_, label='batch size = 64')\n",
    "plt.plot(cr3_, label='batch size = 128')\n",
    "plt.fill_between(range(len(cr1_)), (cr1_-ci1), (cr1_+ci1), alpha=.3)\n",
    "plt.fill_between(range(len(cr2_)), (cr2_-ci2), (cr2_+ci2), alpha=.3)\n",
    "plt.fill_between(range(len(cr3_)), (cr3_-ci3), (cr3_+ci3), alpha=.3)\n",
    "plt.xlabel(\"Episode\")\n",
    "plt.ylabel(\"Average Reward\")\n",
    "plt.legend()"
   ]
  },
  {
   "cell_type": "markdown",
   "id": "4b8ec34e",
   "metadata": {
    "id": "4b8ec34e"
   },
   "source": [
    "<a name='2-3'></a>\n",
    "## Render"
   ]
  },
  {
   "cell_type": "code",
   "execution_count": null,
   "id": "ISkFJ7_-8x4t",
   "metadata": {
    "colab": {
     "base_uri": "https://localhost:8080/"
    },
    "id": "ISkFJ7_-8x4t",
    "outputId": "78036a92-b444-451a-d04a-c57798815f13"
   },
   "outputs": [
    {
     "name": "stdout",
     "output_type": "stream",
     "text": [
      "Episode 25\tAverage Reward: 10.44\tEpsilon: 0.47\n",
      "Episode 50\tAverage Reward: 11.02\tEpsilon: 0.22\n",
      "Episode 75\tAverage Reward: 11.02\tEpsilon: 0.10\n",
      "Episode 100\tAverage Reward: 14.30\tEpsilon: 0.05\n",
      "Episode 125\tAverage Reward: 14.92\tEpsilon: 0.02\n",
      "Episode 150\tAverage Reward: 14.92\tEpsilon: 0.01\n",
      "Episode 175\tAverage Reward: 14.89\tEpsilon: 0.01\n",
      "Episode 200\tAverage Reward: 11.08\tEpsilon: 0.01\n",
      "Episode 225\tAverage Reward: 14.92\tEpsilon: 0.01\n",
      "Episode 250\tAverage Reward: 14.92\tEpsilon: 0.01\n"
     ]
    }
   ],
   "source": [
    "crs6, agent6, state_dict6, cpp6  = run_DeepQLearning_agent(_batch_size=32, reps=1)"
   ]
  },
  {
   "cell_type": "code",
   "execution_count": null,
   "id": "m4rQF26dFuL5",
   "metadata": {
    "colab": {
     "base_uri": "https://localhost:8080/"
    },
    "id": "m4rQF26dFuL5",
    "outputId": "d1bd5dfc-f243-428f-9544-6a9a9faa36e4"
   },
   "outputs": [
    {
     "name": "stdout",
     "output_type": "stream",
     "text": [
      "Looking in indexes: https://pypi.org/simple, https://us-python.pkg.dev/colab-wheels/public/simple/\n",
      "Requirement already satisfied: pygame in /usr/local/lib/python3.8/dist-packages (2.1.2)\n"
     ]
    },
    {
     "data": {
      "text/plain": [
       "[(1024, 768)]"
      ]
     },
     "execution_count": 27,
     "metadata": {},
     "output_type": "execute_result"
    }
   ],
   "source": [
    "!pip install pygame \n",
    "\n",
    "import os\n",
    "os.environ['SDL_VIDEODRIVER']='dummy'\n",
    "import pygame\n",
    "pygame.display.set_mode((640,480))"
   ]
  },
  {
   "cell_type": "code",
   "execution_count": null,
   "id": "iaho7HIAODhy",
   "metadata": {
    "colab": {
     "base_uri": "https://localhost:8080/",
     "height": 235
    },
    "id": "iaho7HIAODhy",
    "outputId": "e7653c0c-6fca-44fe-d872-24467e136584"
   },
   "outputs": [
    {
     "ename": "NameError",
     "evalue": "ignored",
     "output_type": "error",
     "traceback": [
      "\u001b[0;31m---------------------------------------------------------------------------\u001b[0m",
      "\u001b[0;31mNameError\u001b[0m                                 Traceback (most recent call last)",
      "\u001b[0;32m<ipython-input-30-66d7eea6740c>\u001b[0m in \u001b[0;36m<module>\u001b[0;34m\u001b[0m\n\u001b[1;32m      1\u001b[0m \u001b[0;31m# from gym.wrappers.monitoring import video_recorder\u001b[0m\u001b[0;34m\u001b[0m\u001b[0;34m\u001b[0m\u001b[0;34m\u001b[0m\u001b[0m\n\u001b[1;32m      2\u001b[0m \u001b[0;31m# vid = video_recorder.VideoRecorder(env,path=\"./recording/vid.mp4\")\u001b[0m\u001b[0;34m\u001b[0m\u001b[0;34m\u001b[0m\u001b[0;34m\u001b[0m\u001b[0m\n\u001b[0;32m----> 3\u001b[0;31m env = RecordVideo(env, video_folder=\"run\",\n\u001b[0m\u001b[1;32m      4\u001b[0m               episode_trigger=lambda e: True)  # record all episodes\n\u001b[1;32m      5\u001b[0m \u001b[0;34m\u001b[0m\u001b[0m\n",
      "\u001b[0;31mNameError\u001b[0m: name 'RecordVideo' is not defined"
     ]
    }
   ],
   "source": [
    "# from gym.wrappers.monitoring import video_recorder\n",
    "# vid = video_recorder.VideoRecorder(env,path=\"./recording/vid.mp4\")\n",
    "env = RecordVideo(env, video_folder=\"run\",\n",
    "              episode_trigger=lambda e: True)  # record all episodes\n",
    "\n",
    "# Provide the video recorder to the wrapped environment\n",
    "# so it can send it intermediate simulation frames.\n",
    "env.unwrapped.set_record_video_wrapper(env)\n",
    "done = truncated = False\n",
    "S, info = env.reset()\n",
    "while not (done or truncated):\n",
    "  env.render()\n",
    "  A = agent6.choose_action(S, 0.2).item()\n",
    "  obs, reward, done, truncated, info = env.step(A)\n",
    "  S = obs\n",
    "env.close()\n",
    "\n"
   ]
  },
  {
   "cell_type": "code",
   "execution_count": null,
   "id": "2vhC4BcPJDyT",
   "metadata": {
    "colab": {
     "base_uri": "https://localhost:8080/"
    },
    "id": "2vhC4BcPJDyT",
    "outputId": "0d9a1292-af3f-4621-f195-6f106e4135c4"
   },
   "outputs": [
    {
     "name": "stdout",
     "output_type": "stream",
     "text": [
      "Looking in indexes: https://pypi.org/simple, https://us-python.pkg.dev/colab-wheels/public/simple/\n",
      "Collecting tensorboardx\n",
      "  Downloading tensorboardX-2.5.1-py2.py3-none-any.whl (125 kB)\n",
      "\u001b[2K     \u001b[90m━━━━━━━━━━━━━━━━━━━━━━━━━━━━━━━━━━━━━━━\u001b[0m \u001b[32m125.4/125.4 KB\u001b[0m \u001b[31m9.6 MB/s\u001b[0m eta \u001b[36m0:00:00\u001b[0m\n",
      "\u001b[?25hRequirement already satisfied: gym in /usr/local/lib/python3.8/dist-packages (0.26.2)\n",
      "Requirement already satisfied: pyvirtualdisplay in /usr/local/lib/python3.8/dist-packages (3.0)\n",
      "Requirement already satisfied: numpy in /usr/local/lib/python3.8/dist-packages (from tensorboardx) (1.21.6)\n",
      "Requirement already satisfied: protobuf<=3.20.1,>=3.8.0 in /usr/local/lib/python3.8/dist-packages (from tensorboardx) (3.19.6)\n",
      "Requirement already satisfied: importlib-metadata>=4.8.0 in /usr/local/lib/python3.8/dist-packages (from gym) (6.0.0)\n",
      "Requirement already satisfied: cloudpickle>=1.2.0 in /usr/local/lib/python3.8/dist-packages (from gym) (2.2.0)\n",
      "Requirement already satisfied: gym-notices>=0.0.4 in /usr/local/lib/python3.8/dist-packages (from gym) (0.0.8)\n",
      "Requirement already satisfied: zipp>=0.5 in /usr/local/lib/python3.8/dist-packages (from importlib-metadata>=4.8.0->gym) (3.11.0)\n",
      "Installing collected packages: tensorboardx\n",
      "Successfully installed tensorboardx-2.5.1\n",
      "Reading package lists... Done\n",
      "Building dependency tree       \n",
      "Reading state information... Done\n",
      "python-opengl is already the newest version (3.1.0+dfsg-1).\n",
      "ffmpeg is already the newest version (7:3.4.11-0ubuntu0.1).\n",
      "xvfb is already the newest version (2:1.19.6-1ubuntu4.13).\n",
      "The following package was automatically installed and is no longer required:\n",
      "  libnvidia-common-460\n",
      "Use 'apt autoremove' to remove it.\n",
      "0 upgraded, 0 newly installed, 0 to remove and 21 not upgraded.\n"
     ]
    }
   ],
   "source": [
    "%load_ext tensorboard\n",
    "import sys\n",
    "from tqdm.notebook import trange\n",
    "!pip install tensorboardx gym pyvirtualdisplay\n",
    "!apt-get install -y xvfb python-opengl ffmpeg\n",
    "!git clone https://github.com/eleurent/highway-env.git 2> /dev/null\n",
    "sys.path.insert(0, '/content/highway-env/scripts/')\n",
    "from utils import record_videos, show_videos"
   ]
  },
  {
   "cell_type": "code",
   "execution_count": null,
   "id": "q6mv3FChIh7P",
   "metadata": {
    "colab": {
     "base_uri": "https://localhost:8080/",
     "height": 106
    },
    "id": "q6mv3FChIh7P",
    "outputId": "41f4f97c-f7f3-409c-ef7b-ca83d79646b3"
   },
   "outputs": [
    {
     "name": "stderr",
     "output_type": "stream",
     "text": [
      "/usr/local/lib/python3.8/dist-packages/gym/wrappers/record_video.py:75: UserWarning: \u001b[33mWARN: Overwriting existing videos at /content/videos folder (try specifying a different `video_folder` for the `RecordVideo` wrapper if this is not desired)\u001b[0m\n",
      "  logger.warn(\n",
      "/usr/local/lib/python3.8/dist-packages/gym/wrappers/monitoring/video_recorder.py:59: UserWarning: \u001b[33mWARN: Disabling video recorder because environment <RecordVideo<OrderEnforcing<PassiveEnvChecker<MergeEnv<merge-v0>>>>> was not initialized with any compatible video mode between `rgb_array` and `rgb_array_list`\u001b[0m\n",
      "  logger.warn(\n"
     ]
    },
    {
     "data": {
      "text/html": [],
      "text/plain": [
       "<IPython.core.display.HTML object>"
      ]
     },
     "metadata": {},
     "output_type": "display_data"
    }
   ],
   "source": [
    "done = truncated = False\n",
    "S, info = env.reset()\n",
    "env = record_videos(env)\n",
    "\n",
    "while not (done or truncated):\n",
    "  A = agent6.choose_action(S, 0.2).item()\n",
    "  obs, reward, done, truncated, info = env.step(A)\n",
    "  S = obs\n",
    "  env.render(mode='rgb_array')\n",
    "\n",
    "env.close()\n",
    "show_videos()"
   ]
  },
  {
   "cell_type": "code",
   "execution_count": null,
   "id": "i9BwOQk8JuTQ",
   "metadata": {
    "colab": {
     "base_uri": "https://localhost:8080/"
    },
    "id": "i9BwOQk8JuTQ",
    "outputId": "5d2b0efa-8685-43ea-aa88-c5922c213311"
   },
   "outputs": [
    {
     "name": "stdout",
     "output_type": "stream",
     "text": [
      "Looking in indexes: https://pypi.org/simple, https://us-python.pkg.dev/colab-wheels/public/simple/\n",
      "Requirement already satisfied: gym in /usr/local/lib/python3.8/dist-packages (0.26.2)\n",
      "Requirement already satisfied: pyvirtualdisplay in /usr/local/lib/python3.8/dist-packages (3.0)\n",
      "Requirement already satisfied: numpy>=1.18.0 in /usr/local/lib/python3.8/dist-packages (from gym) (1.21.6)\n",
      "Requirement already satisfied: cloudpickle>=1.2.0 in /usr/local/lib/python3.8/dist-packages (from gym) (2.2.0)\n",
      "Requirement already satisfied: importlib-metadata>=4.8.0 in /usr/local/lib/python3.8/dist-packages (from gym) (6.0.0)\n",
      "Requirement already satisfied: gym-notices>=0.0.4 in /usr/local/lib/python3.8/dist-packages (from gym) (0.0.8)\n",
      "Requirement already satisfied: zipp>=0.5 in /usr/local/lib/python3.8/dist-packages (from importlib-metadata>=4.8.0->gym) (3.11.0)\n",
      "Reading package lists... Done\n",
      "Building dependency tree       \n",
      "Reading state information... Done\n",
      "python-opengl is already the newest version (3.1.0+dfsg-1).\n",
      "ffmpeg is already the newest version (7:3.4.11-0ubuntu0.1).\n",
      "xvfb is already the newest version (2:1.19.6-1ubuntu4.13).\n",
      "The following package was automatically installed and is no longer required:\n",
      "  libnvidia-common-460\n",
      "Use 'apt autoremove' to remove it.\n",
      "0 upgraded, 0 newly installed, 0 to remove and 21 not upgraded.\n"
     ]
    }
   ],
   "source": [
    "!pip install gym pyvirtualdisplay\n",
    "!apt-get install -y xvfb python-opengl ffmpeg\n",
    "\n",
    "from IPython import display as ipythondisplay\n",
    "from pyvirtualdisplay import Display\n",
    "from gym.wrappers import RecordVideo\n",
    "from pathlib import Path\n",
    "import base64\n",
    "from tqdm.notebook import trange\n",
    "\n",
    "display = Display(visible=0, size=(1400, 900))\n",
    "display.start()\n",
    "\n",
    "def show_video():\n",
    "    html = []\n",
    "    for mp4 in Path(\"video\").glob(\"*.mp4\"):\n",
    "        video_b64 = base64.b64encode(mp4.read_bytes())\n",
    "        html.append('''<video alt=\"{}\" autoplay \n",
    "                      loop controls style=\"height: 400px;\">\n",
    "                      <source src=\"data:video/mp4;base64,{}\" type=\"video/mp4\" />\n",
    "                 </video>'''.format(mp4, video_b64.decode('ascii')))\n",
    "    ipythondisplay.display(ipythondisplay.HTML(data=\"<br>\".join(html)))"
   ]
  },
  {
   "cell_type": "code",
   "execution_count": null,
   "id": "VWcC3sl9JteR",
   "metadata": {
    "colab": {
     "base_uri": "https://localhost:8080/",
     "height": 72
    },
    "id": "VWcC3sl9JteR",
    "outputId": "58a827c1-2e22-4a9c-ff5f-0e0fc6127177"
   },
   "outputs": [
    {
     "name": "stderr",
     "output_type": "stream",
     "text": [
      "/usr/local/lib/python3.8/dist-packages/gym/wrappers/monitoring/video_recorder.py:59: UserWarning: \u001b[33mWARN: Disabling video recorder because environment <RecordVideo<RecordVideo<RecordVideo<OrderEnforcing<PassiveEnvChecker<MergeEnv<merge-v0>>>>>>> was not initialized with any compatible video mode between `rgb_array` and `rgb_array_list`\u001b[0m\n",
      "  logger.warn(\n"
     ]
    },
    {
     "data": {
      "text/html": [],
      "text/plain": [
       "<IPython.core.display.HTML object>"
      ]
     },
     "metadata": {},
     "output_type": "display_data"
    }
   ],
   "source": [
    "done = truncated = False\n",
    "S, info = env.reset()\n",
    "env = RecordVideo(env, video_folder='./videos', episode_trigger=lambda e: True)\n",
    "env.unwrapped.set_record_video_wrapper(env)\n",
    "\n",
    "while not (done or truncated):\n",
    "  A = agent6.choose_action(S, 0.2).item()\n",
    "  obs, reward, done, truncated, info = env.step(A)\n",
    "  S = obs\n",
    "  \n",
    "\n",
    "env.close()\n",
    "show_videos()\n",
    "\n"
   ]
  },
  {
   "cell_type": "code",
   "execution_count": null,
   "id": "41hrf1BeHz_e",
   "metadata": {
    "colab": {
     "base_uri": "https://localhost:8080/"
    },
    "id": "41hrf1BeHz_e",
    "outputId": "21a803cb-4861-4c89-e71b-773a23f4ed55"
   },
   "outputs": [
    {
     "data": {
      "text/plain": [
       "<pyvirtualdisplay.display.Display at 0x7f11cc976880>"
      ]
     },
     "execution_count": 44,
     "metadata": {},
     "output_type": "execute_result"
    }
   ],
   "source": [
    "!apt-get install x11-utils > /dev/null 2>&1 \n",
    "!pip install pyglet > /dev/null 2>&1 \n",
    "!apt-get install -y xvfb python-opengl > /dev/null 2>&1\n",
    "!pip install gym pyvirtualdisplay > /dev/null 2>&1\n",
    "import gym\n",
    "import numpy as np\n",
    "import matplotlib.pyplot as plt\n",
    "from IPython import display as ipythondisplay\n",
    "from pyvirtualdisplay import Display\n",
    "display = Display(visible=0, size=(400, 300))\n",
    "display.start()"
   ]
  },
  {
   "cell_type": "code",
   "execution_count": null,
   "id": "FMSiTp0R9Lbc",
   "metadata": {
    "colab": {
     "base_uri": "https://localhost:8080/",
     "height": 135
    },
    "id": "FMSiTp0R9Lbc",
    "outputId": "57d6dd01-560a-40c7-d9ce-5de0f59c242c"
   },
   "outputs": [
    {
     "data": {
      "image/png": "[encoded data removed]",
      "text/plain": [
       "<Figure size 432x288 with 1 Axes>"
      ]
     },
     "metadata": {
      "needs_background": "light"
     },
     "output_type": "display_data"
    }
   ],
   "source": [
    "done = truncated = False\n",
    "S, info = env.reset()\n",
    "prev_screen = env.render(mode='rgb_array')\n",
    "plt.imshow(prev_screen)\n",
    "while not (done or truncated):\n",
    "  A = agent6.choose_action(S, 0.2).item()\n",
    "  obs, reward, done, truncated, info = env.step(A)\n",
    "  S = obs\n",
    "  screen = env.render(mode='rgb_array')\n",
    "  plt.imshow(screen)\n",
    "  ipythondisplay.clear_output(wait=True)\n",
    "  ipythondisplay.display(plt.gcf())\n",
    "ipythondisplay.clear_output(wait=True)\n",
    "env.close()"
   ]
  },
  {
   "cell_type": "markdown",
   "id": "286e484c",
   "metadata": {
    "id": "286e484c"
   },
   "source": [
    "<a name='2-4'></a>\n",
    "## Hyperparameters"
   ]
  },
  {
   "cell_type": "code",
   "execution_count": null,
   "id": "91c9ca77",
   "metadata": {
    "id": "91c9ca77"
   },
   "outputs": [],
   "source": [
    "import keras\n",
    "from tensorflow.keras import *\n",
    "from tensorflow.keras.utils import *\n",
    "input = keras.layers.Input(shape=(5))\n",
    "output = keras.layers.Flatten()(input)\n",
    "output = keras.layers.Dense(512, activation='relu')(output)\n",
    "output = keras.layers.Dense(512, activation='relu')(output)\n",
    "output = keras.layers.Dense(512, activation='relu')(output)\n",
    "output = keras.layers.Dense(5, activation='relu')(output)\n",
    "model = keras.models.Model(inputs=input, outputs=output)\n",
    "model.compile(optimizer=optimizers.Adam(learning_rate=1e-4), loss='categorical_crossentropy', metrics=['accuracy'])"
   ]
  },
  {
   "cell_type": "code",
   "execution_count": null,
   "id": "Ga1ngmeFAaR5",
   "metadata": {
    "colab": {
     "base_uri": "https://localhost:8080/"
    },
    "id": "Ga1ngmeFAaR5",
    "outputId": "469be7b4-c589-4ca3-a84b-e8b4ce2d46b6"
   },
   "outputs": [
    {
     "name": "stdout",
     "output_type": "stream",
     "text": [
      "Model: \"model_1\"\n",
      "_________________________________________________________________\n",
      " Layer (type)                Output Shape              Param #   \n",
      "=================================================================\n",
      " input_2 (InputLayer)        [(None, 5)]               0         \n",
      "                                                                 \n",
      " flatten_1 (Flatten)         (None, 5)                 0         \n",
      "                                                                 \n",
      " dense_4 (Dense)             (None, 512)               3072      \n",
      "                                                                 \n",
      " dense_5 (Dense)             (None, 512)               262656    \n",
      "                                                                 \n",
      " dense_6 (Dense)             (None, 512)               262656    \n",
      "                                                                 \n",
      " dense_7 (Dense)             (None, 5)                 2565      \n",
      "                                                                 \n",
      "=================================================================\n",
      "Total params: 530,949\n",
      "Trainable params: 530,949\n",
      "Non-trainable params: 0\n",
      "_________________________________________________________________\n"
     ]
    }
   ],
   "source": [
    "model.summary()"
   ]
  },
  {
   "cell_type": "code",
   "execution_count": null,
   "id": "4z_n2PdlAZvd",
   "metadata": {
    "colab": {
     "base_uri": "https://localhost:8080/",
     "height": 644
    },
    "id": "4z_n2PdlAZvd",
    "outputId": "ba2fc97c-0e6c-46b9-b957-0dbabf50d7da"
   },
   "outputs": [
    {
     "data": {
      "image/png": "[encoded data removed]",
      "text/plain": [
       "<IPython.core.display.Image object>"
      ]
     },
     "execution_count": 36,
     "metadata": {},
     "output_type": "execute_result"
    }
   ],
   "source": [
    "utils.plot_model(model, show_shapes=True, expand_nested=True)"
   ]
  },
  {
   "cell_type": "markdown",
   "id": "77a90d50",
   "metadata": {
    "id": "77a90d50"
   },
   "source": [
    "<a name='3'></a>\n",
    "# Part 3"
   ]
  },
  {
   "cell_type": "code",
   "execution_count": null,
   "id": "b57ee3e7",
   "metadata": {
    "colab": {
     "base_uri": "https://localhost:8080/"
    },
    "id": "b57ee3e7",
    "outputId": "8851597b-182f-4a3c-fe72-9526cf89588f"
   },
   "outputs": [
    {
     "name": "stderr",
     "output_type": "stream",
     "text": [
      "/usr/local/lib/python3.8/dist-packages/gym/utils/passive_env_checker.py:31: UserWarning: \u001b[33mWARN: A Box observation space has an unconventional shape (neither an image, nor a 1D vector). We recommend flattening the observation to have only a 1D vector or use a custom policy to properly process the data. Actual observation shape: (5, 5)\u001b[0m\n",
      "  logger.warn(\n"
     ]
    },
    {
     "data": {
      "text/plain": [
       "(5, 5)"
      ]
     },
     "execution_count": 31,
     "metadata": {},
     "output_type": "execute_result"
    }
   ],
   "source": [
    "env = gym.make(\"highway-v0\")\n",
    "state_size = env.observation_space.shape[0]\n",
    "action_size = env.action_space.n\n",
    "state_size, action_size "
   ]
  },
  {
   "cell_type": "code",
   "execution_count": null,
   "id": "WXifen5-LvkO",
   "metadata": {
    "colab": {
     "base_uri": "https://localhost:8080/"
    },
    "id": "WXifen5-LvkO",
    "outputId": "c9d46782-e44d-4706-f9d2-b3b8523228d3"
   },
   "outputs": [
    {
     "name": "stdout",
     "output_type": "stream",
     "text": [
      "Episode 25\tAverage Reward: 28.07\tEpsilon: 0.28\n",
      "Episode 50\tAverage Reward: 29.36\tEpsilon: 0.08\n",
      "Episode 75\tAverage Reward: 27.98\tEpsilon: 0.02\n",
      "Episode 100\tAverage Reward: 28.46\tEpsilon: 0.01\n",
      "Episode 25\tAverage Reward: 5.85\tEpsilon: 0.28\n",
      "Episode 50\tAverage Reward: 28.21\tEpsilon: 0.08\n",
      "Episode 75\tAverage Reward: 28.47\tEpsilon: 0.02\n",
      "Episode 100\tAverage Reward: 29.05\tEpsilon: 0.01\n",
      "Episode 25\tAverage Reward: 1.07\tEpsilon: 0.28\n",
      "Episode 50\tAverage Reward: 9.07\tEpsilon: 0.08\n",
      "Episode 75\tAverage Reward: 27.23\tEpsilon: 0.02\n",
      "Episode 100\tAverage Reward: 9.04\tEpsilon: 0.01\n"
     ]
    }
   ],
   "source": [
    "start = time.time()\n",
    "crs4, agent4 = run_DeepQLearning_agent(_batch_size=32, number_of_episodes=100, epsilon_decay_rate=0.95, reps=3)\n",
    "end = time.time()"
   ]
  },
  {
   "cell_type": "code",
   "execution_count": null,
   "id": "dl078NwnaKn_",
   "metadata": {
    "colab": {
     "base_uri": "https://localhost:8080/"
    },
    "id": "dl078NwnaKn_",
    "outputId": "fa267e0f-f5d3-46a9-90b2-b49679ff0652"
   },
   "outputs": [
    {
     "name": "stdout",
     "output_type": "stream",
     "text": [
      "highway-v0 with random weight learning time:  68.41666666666667\n"
     ]
    }
   ],
   "source": [
    "print(\"highway-v0 with random weight learning time: \", (end - start))"
   ]
  },
  {
   "cell_type": "code",
   "execution_count": null,
   "id": "d6a5b2be",
   "metadata": {
    "colab": {
     "base_uri": "https://localhost:8080/"
    },
    "id": "d6a5b2be",
    "outputId": "1f5bf3fb-305d-4d4f-fd69-43e77c72b885"
   },
   "outputs": [
    {
     "name": "stdout",
     "output_type": "stream",
     "text": [
      "Episode 25\tAverage Reward: 27.74\tEpsilon: 0.28\n",
      "Episode 50\tAverage Reward: 8.25\tEpsilon: 0.08\n",
      "Episode 75\tAverage Reward: 31.96\tEpsilon: 0.02\n",
      "Episode 100\tAverage Reward: 10.41\tEpsilon: 0.01\n",
      "Episode 25\tAverage Reward: 29.20\tEpsilon: 0.28\n",
      "Episode 50\tAverage Reward: 28.58\tEpsilon: 0.08\n",
      "Episode 75\tAverage Reward: 24.05\tEpsilon: 0.02\n",
      "Episode 100\tAverage Reward: 28.47\tEpsilon: 0.01\n",
      "Episode 25\tAverage Reward: 23.33\tEpsilon: 0.28\n",
      "Episode 50\tAverage Reward: 30.03\tEpsilon: 0.08\n",
      "Episode 75\tAverage Reward: 17.44\tEpsilon: 0.02\n",
      "Episode 100\tAverage Reward: 22.11\tEpsilon: 0.01\n"
     ]
    }
   ],
   "source": [
    "start = time.time()\n",
    "crs5, agent5 = run_DeepQLearning_agent(_batch_size=32, _agent=agent1, number_of_episodes=100, epsilon_decay_rate=0.95, reps=3)\n",
    "end = time.time()"
   ]
  },
  {
   "cell_type": "code",
   "execution_count": null,
   "id": "uGESII4vbyO8",
   "metadata": {
    "colab": {
     "base_uri": "https://localhost:8080/"
    },
    "id": "uGESII4vbyO8",
    "outputId": "f4f3b52f-1bf5-4438-9ad4-780c940eac4b"
   },
   "outputs": [
    {
     "name": "stdout",
     "output_type": "stream",
     "text": [
      "highway-v0 with trained weight learning time:  66.73571458657582\n"
     ]
    }
   ],
   "source": [
    "print(\"highway-v0 with trained weight learning time: \", (end - start)/60)"
   ]
  },
  {
   "cell_type": "markdown",
   "id": "041ba3a0",
   "metadata": {
    "id": "041ba3a0"
   },
   "source": [
    "<a name='3-1'></a>\n",
    "## Result"
   ]
  },
  {
   "cell_type": "code",
   "execution_count": null,
   "id": "1BWnQNyNb-pY",
   "metadata": {
    "colab": {
     "base_uri": "https://localhost:8080/",
     "height": 530
    },
    "id": "1BWnQNyNb-pY",
    "outputId": "1d2f6f76-35d7-48f6-eba4-267e20ae4220"
   },
   "outputs": [
    {
     "data": {
      "text/plain": [
       "<matplotlib.legend.Legend at 0x7fea61785430>"
      ]
     },
     "execution_count": 39,
     "metadata": {},
     "output_type": "execute_result"
    },
    {
     "data": {
      "image/png": "[encoded data removed]",
      "text/plain": [
       "<Figure size 720x576 with 1 Axes>"
      ]
     },
     "metadata": {
      "needs_background": "light"
     },
     "output_type": "display_data"
    }
   ],
   "source": [
    "import matplotlib.pyplot as plt\n",
    "import numpy as np\n",
    "import seaborn as sns\n",
    "\n",
    "window_size = 45\n",
    "cr4_ = np.convolve(np.mean(crs4, axis=0), np.ones(window_size)/window_size, mode='valid')\n",
    "cr5_ = np.convolve(np.mean(crs5, axis=0), np.ones(window_size)/window_size, mode='valid')\n",
    "ci4 = 1.96 * np.std(cr4_)/np.sqrt(len(cr4_))\n",
    "ci5 = 1.96 * np.std(cr5_)/np.sqrt(len(cr5_))\n",
    "\n",
    "plt.figure(figsize=(10, 8))\n",
    "plt.title(\"merge-v0 - Batch Size Effect (window size:\"+str(window_size)+\")\")\n",
    "plt.plot(cr4_, label='random weight')\n",
    "plt.plot(cr5_, label='trained weight')\n",
    "plt.fill_between(range(len(cr4_)), (cr4_-ci4), (cr4_+ci4), alpha=.3)\n",
    "plt.fill_between(range(len(cr5_)), (cr5_-ci5), (cr5_+ci5), alpha=.3)\n",
    "plt.xlabel(\"Episode\")\n",
    "plt.ylabel(\"Average Reward\")\n",
    "plt.legend()"
   ]
  },
  {
   "cell_type": "markdown",
   "id": "6ca05851",
   "metadata": {
    "id": "6ca05851"
   },
   "source": [
    "<a name='4'></a>\n",
    "# Part 4"
   ]
  },
  {
   "cell_type": "code",
   "execution_count": null,
   "id": "52e37d96",
   "metadata": {
    "id": "52e37d96"
   },
   "outputs": [],
   "source": []
  },
  {
   "cell_type": "markdown",
   "id": "ff24b21e",
   "metadata": {
    "id": "ff24b21e"
   },
   "source": [
    "<a name='4-1'></a>\n",
    "## Subsection 1"
   ]
  },
  {
   "cell_type": "code",
   "execution_count": null,
   "id": "fb606373",
   "metadata": {
    "id": "fb606373"
   },
   "outputs": [],
   "source": []
  },
  {
   "cell_type": "markdown",
   "id": "a782a50e",
   "metadata": {
    "id": "a782a50e"
   },
   "source": [
    "<a name='4-2'></a>\n",
    "## Subsection 2"
   ]
  },
  {
   "cell_type": "code",
   "execution_count": null,
   "id": "23c6c868",
   "metadata": {
    "id": "23c6c868"
   },
   "outputs": [],
   "source": []
  }
 ],
 "metadata": {
  "accelerator": "GPU",
  "colab": {
   "provenance": [],
   "toc_visible": true
  },
  "gpuClass": "standard",
  "kernelspec": {
   "display_name": "Python 3",
   "language": "python",
   "name": "python3"
  },
  "language_info": {
   "codemirror_mode": {
    "name": "ipython",
    "version": 3
   },
   "file_extension": ".py",
   "mimetype": "text/x-python",
   "name": "python",
   "nbconvert_exporter": "python",
   "pygments_lexer": "ipython3",
   "version": "3.8.8"
  }
 },
 "nbformat": 4,
 "nbformat_minor": 5
}
